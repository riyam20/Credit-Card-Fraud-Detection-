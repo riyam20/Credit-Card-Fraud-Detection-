{
  "cells": [
    {
      "cell_type": "code",
      "execution_count": 1,
      "metadata": {
        "id": "53iZLs5kCViE"
      },
      "outputs": [
        {
          "name": "stderr",
          "output_type": "stream",
          "text": [
            "2025-04-10 12:42:57.556751: I tensorflow/core/platform/cpu_feature_guard.cc:182] This TensorFlow binary is optimized to use available CPU instructions in performance-critical operations.\n",
            "To enable the following instructions: AVX2 FMA, in other operations, rebuild TensorFlow with the appropriate compiler flags.\n"
          ]
        }
      ],
      "source": [
        "from tensorflow.keras import Model\n",
        "from tensorflow.keras.layers import Input, Dense, Embedding, Flatten, Concatenate, LeakyReLU\n",
        "import tensorflow.keras.backend as K\n",
        "\n",
        "def build_conditional_discriminator():\n",
        "    data = Input(shape=(30,))\n",
        "    label = Input(shape=(1,), dtype='int32')\n",
        "    label_embedding = Embedding(2, 30)(label)\n",
        "    label_embedding = Flatten()(label_embedding)\n",
        "    merged_input = Concatenate(axis=-1)([data, label_embedding])\n",
        "    x = Dense(128)(merged_input)\n",
        "    x = LeakyReLU(alpha=0.2)(x)\n",
        "    out = Dense(1)(x)\n",
        "    return Model([data, label], out)"
      ]
    },
    {
      "cell_type": "code",
      "execution_count": 2,
      "metadata": {
        "id": "81RRATunCVm3"
      },
      "outputs": [],
      "source": [
        "from tensorflow.keras import Model\n",
        "from tensorflow.keras.layers import Input, Dense, Embedding, Flatten, Concatenate, LeakyReLU\n",
        "import tensorflow.keras.backend as K\n",
        "\n",
        "def build_conditional_generator(latent_dim):\n",
        "    noise = Input(shape=(latent_dim,))\n",
        "    label = Input(shape=(1,), dtype='int32')\n",
        "    label_embedding = Embedding(2, latent_dim)(label)\n",
        "    label_embedding = Flatten()(label_embedding)\n",
        "    merged_input = Concatenate(axis=-1)([noise, label_embedding])\n",
        "    x = Dense(128)(merged_input)\n",
        "    x = LeakyReLU(alpha=0.2)(x)\n",
        "    out = Dense(30, activation='tanh')(x)\n",
        "    return Model([noise, label], out)"
      ]
    },
    {
      "cell_type": "code",
      "execution_count": 3,
      "metadata": {
        "id": "Cmy-Wd0fLb7G"
      },
      "outputs": [],
      "source": [
        "import numpy as np\n",
        "import tensorflow as tf\n",
        "from scipy.linalg import sqrtm\n",
        "\n",
        "def compute_fid(act1, act2):\n",
        "\n",
        "    if isinstance(act1, tf.Tensor):\n",
        "        act1 = act1.numpy()\n",
        "    if isinstance(act2, tf.Tensor):\n",
        "        act2 = act2.numpy()\n",
        "\n",
        "    mu1, sigma1 = act1.mean(axis=0), np.cov(act1, rowvar=False)\n",
        "    mu2, sigma2 = act2.mean(axis=0), np.cov(act2, rowvar=False)\n",
        "    ssdiff = np.sum((mu1 - mu2)**2.0)\n",
        "    covmean = sqrtm(sigma1.dot(sigma2))\n",
        "    if np.iscomplexobj(covmean):\n",
        "        covmean = covmean.real\n",
        "    fid = ssdiff + np.trace(sigma1 + sigma2 - 2.0 * covmean)\n",
        "    return fid"
      ]
    },
    {
      "cell_type": "code",
      "execution_count": 4,
      "metadata": {
        "id": "cb8HeAMbLdqU"
      },
      "outputs": [],
      "source": [
        "import tensorflow.keras.backend as K\n",
        "\n",
        "def wasserstein_loss(y_true, y_pred):\n",
        "    return K.mean(y_true * y_pred)"
      ]
    },
    {
      "cell_type": "code",
      "execution_count": 5,
      "metadata": {},
      "outputs": [
        {
          "name": "stdout",
          "output_type": "stream",
          "text": [
            "Defaulting to user installation because normal site-packages is not writeable\n",
            "Requirement already satisfied: imblearn in /Users/riyamathur/Library/Python/3.9/lib/python/site-packages (0.0)\n",
            "Requirement already satisfied: imbalanced-learn in /Users/riyamathur/Library/Python/3.9/lib/python/site-packages (from imblearn) (0.12.4)\n",
            "Requirement already satisfied: numpy>=1.17.3 in /Users/riyamathur/Library/Python/3.9/lib/python/site-packages (from imbalanced-learn->imblearn) (1.22.0)\n",
            "Requirement already satisfied: scipy>=1.5.0 in /Users/riyamathur/Library/Python/3.9/lib/python/site-packages (from imbalanced-learn->imblearn) (1.11.4)\n",
            "Requirement already satisfied: scikit-learn>=1.0.2 in /Users/riyamathur/Library/Python/3.9/lib/python/site-packages (from imbalanced-learn->imblearn) (1.5.1)\n",
            "Requirement already satisfied: joblib>=1.1.1 in /Users/riyamathur/Library/Python/3.9/lib/python/site-packages (from imbalanced-learn->imblearn) (1.2.0)\n",
            "Requirement already satisfied: threadpoolctl>=2.0.0 in /Users/riyamathur/Library/Python/3.9/lib/python/site-packages (from imbalanced-learn->imblearn) (3.5.0)\n"
          ]
        }
      ],
      "source": [
        "!pip install imblearn"
      ]
    },
    {
      "cell_type": "code",
      "execution_count": 6,
      "metadata": {
        "id": "1PT2bSDnLmVx"
      },
      "outputs": [],
      "source": [
        "import pandas as pd\n",
        "from sklearn.preprocessing import StandardScaler, RobustScaler\n",
        "from imblearn.over_sampling import SMOTE\n",
        "\n",
        "def load_and_preprocess_data():\n",
        "    data = pd.read_csv('/Users/riyamathur/Downloads/creditcard.csv')\n",
        "\n",
        "    # Drop rows with NaN values in 'Class' column\n",
        "    data.dropna(subset=['Class'], inplace=True)\n",
        "\n",
        "    std_scaler = StandardScaler()\n",
        "    robust_scaler = RobustScaler()\n",
        "    data.loc[:, 'V1':'V28'] = std_scaler.fit_transform(data.loc[:, 'V1':'V28'])\n",
        "    data[['Time', 'Amount']] = robust_scaler.fit_transform(data[['Time', 'Amount']])\n",
        "    X = data.drop('Class', axis=1)\n",
        "    y = data['Class']\n",
        "    smote = SMOTE(sampling_strategy='auto', random_state=42)\n",
        "    X_resampled, y_resampled = smote.fit_resample(X, y)\n",
        "    return X_resampled, y_resampled"
      ]
    },
    {
      "cell_type": "code",
      "execution_count": 7,
      "metadata": {
        "colab": {
          "base_uri": "https://localhost:8080/"
        },
        "id": "2UC7MAFwMcMR",
        "outputId": "4382af1c-e4a4-48e3-d9bc-c15d5ad98911"
      },
      "outputs": [
        {
          "name": "stdout",
          "output_type": "stream",
          "text": [
            "Defaulting to user installation because normal site-packages is not writeable\n",
            "Requirement already satisfied: optuna in /Users/riyamathur/Library/Python/3.9/lib/python/site-packages (4.2.1)\n",
            "Requirement already satisfied: alembic>=1.5.0 in /Users/riyamathur/Library/Python/3.9/lib/python/site-packages (from optuna) (1.15.2)\n",
            "Requirement already satisfied: colorlog in /Users/riyamathur/Library/Python/3.9/lib/python/site-packages (from optuna) (6.9.0)\n",
            "Requirement already satisfied: numpy in /Users/riyamathur/Library/Python/3.9/lib/python/site-packages (from optuna) (1.22.0)\n",
            "Requirement already satisfied: packaging>=20.0 in /Users/riyamathur/Library/Python/3.9/lib/python/site-packages (from optuna) (24.1)\n",
            "Requirement already satisfied: sqlalchemy>=1.4.2 in /Users/riyamathur/Library/Python/3.9/lib/python/site-packages (from optuna) (1.4.52)\n",
            "Requirement already satisfied: tqdm in /Users/riyamathur/Library/Python/3.9/lib/python/site-packages (from optuna) (4.66.4)\n",
            "Requirement already satisfied: PyYAML in /Users/riyamathur/Library/Python/3.9/lib/python/site-packages (from optuna) (6.0.1)\n",
            "Requirement already satisfied: Mako in /Users/riyamathur/Library/Python/3.9/lib/python/site-packages (from alembic>=1.5.0->optuna) (1.3.9)\n",
            "Requirement already satisfied: typing-extensions>=4.12 in /Users/riyamathur/Library/Python/3.9/lib/python/site-packages (from alembic>=1.5.0->optuna) (4.12.2)\n",
            "Requirement already satisfied: greenlet!=0.4.17 in /Users/riyamathur/Library/Python/3.9/lib/python/site-packages (from sqlalchemy>=1.4.2->optuna) (3.0.3)\n",
            "Requirement already satisfied: MarkupSafe>=0.9.2 in /Users/riyamathur/Library/Python/3.9/lib/python/site-packages (from Mako->alembic>=1.5.0->optuna) (2.1.5)\n"
          ]
        }
      ],
      "source": [
        "!pip install optuna"
      ]
    },
    {
      "cell_type": "code",
      "execution_count": 8,
      "metadata": {
        "id": "W2yJ4gv_3iUN"
      },
      "outputs": [],
      "source": [
        "from tensorflow.keras import Model\n",
        "from tensorflow.keras.layers import Input, Dense, Embedding, Flatten, Concatenate, LeakyReLU\n",
        "import tensorflow.keras.backend as K\n",
        "from tensorflow.keras.optimizers import Adam\n",
        "\n",
        "def build_conditional_gan(latent_dim, learning_rate):\n",
        "    # Input layers\n",
        "    noise = Input(shape=(latent_dim,))\n",
        "    label = Input(shape=(1,), dtype='int32')\n",
        "\n",
        "    # Generator\n",
        "    generator = build_conditional_generator(latent_dim)\n",
        "    generated_data = generator([noise, label])\n",
        "\n",
        "    # Discriminator\n",
        "    discriminator = build_conditional_discriminator()\n",
        "    discriminator.trainable = False  # Freeze discriminator during GAN training\n",
        "    validity = discriminator([generated_data, label])\n",
        "\n",
        "    # GAN model\n",
        "    conditional_gan = Model([noise, label], validity)\n",
        "    conditional_gan.compile(optimizer=Adam(learning_rate, 0.5), loss=wasserstein_loss)\n",
        "\n",
        "    return conditional_gan"
      ]
    },
    {
      "cell_type": "code",
      "execution_count": 9,
      "metadata": {
        "colab": {
          "base_uri": "https://localhost:8080/",
          "height": 381
        },
        "id": "ex5OlUp1lO1W",
        "outputId": "964c0edc-6d0e-4823-9844-3378d9eb8fae"
      },
      "outputs": [
        {
          "name": "stdout",
          "output_type": "stream",
          "text": [
            "Model: \"model_2\"\n",
            "__________________________________________________________________________________________________\n",
            " Layer (type)                   Output Shape         Param #     Connected to                     \n",
            "==================================================================================================\n",
            " input_1 (InputLayer)           [(None, 100)]        0           []                               \n",
            "                                                                                                  \n",
            " input_2 (InputLayer)           [(None, 1)]          0           []                               \n",
            "                                                                                                  \n",
            " model (Functional)             (None, 30)           29798       ['input_1[0][0]',                \n",
            "                                                                  'input_2[0][0]']                \n",
            "                                                                                                  \n",
            " model_1 (Functional)           (None, 1)            7997        ['model[0][0]',                  \n",
            "                                                                  'input_2[0][0]']                \n",
            "                                                                                                  \n",
            "==================================================================================================\n",
            "Total params: 37,795\n",
            "Trainable params: 29,798\n",
            "Non-trainable params: 7,997\n",
            "__________________________________________________________________________________________________\n",
            "Total number of layers in Conditional GAN: 4\n"
          ]
        }
      ],
      "source": [
        "# Assuming `conditional_gan`, `generator`, and `discriminator` are already built\n",
        "conditional_gan = build_conditional_gan(latent_dim=100, learning_rate=0.0002)\n",
        "\n",
        "# Print the summary of the conditional GAN model\n",
        "conditional_gan.summary()\n",
        "\n",
        "# Total number of layers in the GAN\n",
        "total_layers = len(conditional_gan.layers)\n",
        "print(f\"Total number of layers in Conditional GAN: {total_layers}\")\n",
        "\n",
        "# # You can also check the generator and discriminator layers separately\n",
        "# print(f\"Number of layers in Generator: {len(conditional_gan.layers)}\")\n",
        "# print(f\"Number of layers in Discriminator: {len(build_conditional_discriminator.layers)}\")\n"
      ]
    },
    {
      "cell_type": "code",
      "execution_count": 10,
      "metadata": {
        "id": "gjaI0JxeCV1X"
      },
      "outputs": [],
      "source": [
        "import optuna\n",
        "import numpy as np\n",
        "import pandas as pd\n",
        "import tensorflow as tf\n",
        "from tensorflow.keras.optimizers import Adam\n",
        "from tensorflow.keras.layers import Input\n",
        "from tensorflow.keras import Model\n",
        "\n",
        "def train_conditional_gan(X_resampled, best_params):\n",
        "    conditional_generator = build_conditional_generator(best_params['latent_dim'])\n",
        "    conditional_discriminator = build_conditional_discriminator()\n",
        "    conditional_discriminator.compile(optimizer=Adam(best_params['learning_rate'], 0.5), loss=wasserstein_loss)\n",
        "\n",
        "    noise = Input(shape=(best_params['latent_dim'],))\n",
        "    label = Input(shape=(1,), dtype='int32')\n",
        "\n",
        "    conditional_gan = build_conditional_gan(best_params['latent_dim'], best_params['learning_rate'])\n",
        "\n",
        "    epochs = 100\n",
        "    batch_size = best_params['batch_size']\n",
        "    n_critic = best_params['n_critic']\n",
        "\n",
        "    best_fid = float('inf')  # Initialize best_fid\n",
        "\n",
        "    for epoch in range(epochs):\n",
        "        for _ in range(n_critic):\n",
        "            idx = np.random.randint(0, X_resampled.shape[0], batch_size)\n",
        "            real_samples = X_resampled.iloc[idx]\n",
        "            real_labels = np.ones((batch_size, 1))\n",
        "\n",
        "            noise = np.random.normal(0, 1, (batch_size, best_params['latent_dim']))\n",
        "            synthetic_labels = np.random.randint(0, 2, batch_size)\n",
        "            synthetic_samples = conditional_generator.predict([noise, synthetic_labels])\n",
        "            fake_labels = -np.ones((batch_size, 1))\n",
        "\n",
        "            d_loss_real = conditional_discriminator.train_on_batch([real_samples, real_labels], real_labels)\n",
        "            d_loss_fake = conditional_discriminator.train_on_batch([synthetic_samples, synthetic_labels], fake_labels)\n",
        "            d_loss = 0.5 * np.add(d_loss_real, d_loss_fake)\n",
        "\n",
        "        noise = np.random.normal(0, 1, (batch_size, best_params['latent_dim']))\n",
        "        valid_y = np.ones((batch_size, 1))\n",
        "        synthetic_labels = np.random.randint(0, 2, batch_size)\n",
        "        g_loss = conditional_gan.train_on_batch([noise, synthetic_labels], valid_y)\n",
        "\n",
        "        noise = np.random.normal(0, 1, (1000, best_params['latent_dim']))\n",
        "        synthetic_labels = np.random.randint(0, 2, 1000)\n",
        "        synthetic_samples = conditional_generator.predict([noise, synthetic_labels])\n",
        "        real_samples = X_resampled.sample(n=1000)\n",
        "        real_samples_tensor = tf.convert_to_tensor(real_samples.values, dtype=tf.float32)\n",
        "        current_fid = compute_fid(real_samples_tensor, synthetic_samples)\n",
        "\n",
        "        if current_fid < best_fid:\n",
        "            best_fid = current_fid\n",
        "            conditional_generator.save('best_generator.h5')\n",
        "\n",
        "    num_samples = 1000\n",
        "    noise = np.random.normal(0, 1, (num_samples, best_params['latent_dim']))\n",
        "    synthetic_labels = np.random.randint(0, 2, num_samples)\n",
        "    synthetic_samples = conditional_generator.predict([noise, synthetic_labels])\n",
        "\n",
        "    synthetic_df = pd.DataFrame(synthetic_samples, columns=X_resampled.columns)\n",
        "\n",
        "    # Save synthetic data to CSV\n",
        "    synthetic_df.to_csv('synthetic_data.csv', index=False)\n",
        "\n",
        "    print(\"Synthetic data saved to 'synthetic_data.csv'\")\n",
        "\n",
        "    print(\"Statistics of Original Data:\")\n",
        "    print(X_resampled.describe())\n",
        "    print(\"\\nStatistics of Synthetic Data:\")\n",
        "    print(synthetic_df.describe())\n",
        "\n",
        "    return best_fid\n"
      ]
    },
    {
      "cell_type": "code",
      "execution_count": 11,
      "metadata": {
        "id": "s1kwNwWRCV5w"
      },
      "outputs": [],
      "source": [
        "def objective(trial):\n",
        "    X_resampled, y_resampled = load_and_preprocess_data()\n",
        "\n",
        "    best_params = {\n",
        "        'latent_dim': trial.suggest_int('latent_dim', 10, 50),\n",
        "        'learning_rate': trial.suggest_float('learning_rate', 1e-5, 1e-1, log=True),\n",
        "        'n_critic': trial.suggest_int('n_critic', 1, 10),\n",
        "        'batch_size': trial.suggest_int('batch_size', 16, 128)\n",
        "    }\n",
        "\n",
        "    best_fid = train_conditional_gan(X_resampled, best_params)\n",
        "\n",
        "    return -best_fid"
      ]
    },
    {
      "cell_type": "code",
      "execution_count": 12,
      "metadata": {
        "colab": {
          "base_uri": "https://localhost:8080/"
        },
        "id": "6UneajNuCV_y",
        "outputId": "4edb3f25-d72b-4726-9ba5-9271d084422e"
      },
      "outputs": [
        {
          "name": "stderr",
          "output_type": "stream",
          "text": [
            "[I 2025-04-10 12:44:29,525] A new study created in memory with name: no-name-fa331d55-2730-4964-a763-99d119494ff1\n"
          ]
        },
        {
          "name": "stdout",
          "output_type": "stream",
          "text": [
            "3/3 [==============================] - 0s 6ms/step\n"
          ]
        },
        {
          "name": "stderr",
          "output_type": "stream",
          "text": [
            "2025-04-10 12:44:37.379821: I tensorflow/core/common_runtime/executor.cc:1197] [/device:CPU:0] (DEBUG INFO) Executor start aborting (this does not indicate an error and you can ignore this message): INVALID_ARGUMENT: You must feed a value for placeholder tensor 'Placeholder/_2' with dtype float and shape [66,1]\n",
            "\t [[{{node Placeholder/_2}}]]\n",
            "2025-04-10 12:44:38.427793: I tensorflow/core/common_runtime/executor.cc:1197] [/device:CPU:0] (DEBUG INFO) Executor start aborting (this does not indicate an error and you can ignore this message): INVALID_ARGUMENT: You must feed a value for placeholder tensor 'Placeholder/_2' with dtype float and shape [66,1]\n",
            "\t [[{{node Placeholder/_2}}]]\n",
            "2025-04-10 12:44:38.907592: I tensorflow/core/common_runtime/executor.cc:1197] [/device:CPU:0] (DEBUG INFO) Executor start aborting (this does not indicate an error and you can ignore this message): INVALID_ARGUMENT: You must feed a value for placeholder tensor 'Placeholder/_2' with dtype float and shape [66,1]\n",
            "\t [[{{node Placeholder/_2}}]]\n"
          ]
        },
        {
          "name": "stdout",
          "output_type": "stream",
          "text": [
            "32/32 [==============================] - 0s 3ms/step\n",
            "WARNING:tensorflow:Compiled the loaded model, but the compiled metrics have yet to be built. `model.compile_metrics` will be empty until you train or evaluate the model.\n",
            "3/3 [==============================] - 0s 11ms/step\n",
            " 1/32 [..............................] - ETA: 0s"
          ]
        },
        {
          "name": "stderr",
          "output_type": "stream",
          "text": [
            "2025-04-10 12:44:40.833266: I tensorflow/core/common_runtime/executor.cc:1197] [/device:CPU:0] (DEBUG INFO) Executor start aborting (this does not indicate an error and you can ignore this message): INVALID_ARGUMENT: You must feed a value for placeholder tensor 'Placeholder/_2' with dtype float and shape [66,1]\n",
            "\t [[{{node Placeholder/_2}}]]\n",
            "2025-04-10 12:44:40.849107: I tensorflow/core/common_runtime/executor.cc:1197] [/device:CPU:0] (DEBUG INFO) Executor start aborting (this does not indicate an error and you can ignore this message): INVALID_ARGUMENT: You must feed a value for placeholder tensor 'Placeholder/_2' with dtype float and shape [66,1]\n",
            "\t [[{{node Placeholder/_2}}]]\n",
            "2025-04-10 12:44:40.884429: I tensorflow/core/common_runtime/executor.cc:1197] [/device:CPU:0] (DEBUG INFO) Executor start aborting (this does not indicate an error and you can ignore this message): INVALID_ARGUMENT: You must feed a value for placeholder tensor 'Placeholder/_2' with dtype float and shape [66,1]\n",
            "\t [[{{node Placeholder/_2}}]]\n"
          ]
        },
        {
          "name": "stdout",
          "output_type": "stream",
          "text": [
            "32/32 [==============================] - 0s 4ms/step\n",
            "3/3 [==============================] - 0s 3ms/step\n",
            " 1/32 [..............................] - ETA: 2s"
          ]
        },
        {
          "name": "stderr",
          "output_type": "stream",
          "text": [
            "2025-04-10 12:44:41.482367: I tensorflow/core/common_runtime/executor.cc:1197] [/device:CPU:0] (DEBUG INFO) Executor start aborting (this does not indicate an error and you can ignore this message): INVALID_ARGUMENT: You must feed a value for placeholder tensor 'Placeholder/_2' with dtype float and shape [66,1]\n",
            "\t [[{{node Placeholder/_2}}]]\n",
            "2025-04-10 12:44:41.516973: I tensorflow/core/common_runtime/executor.cc:1197] [/device:CPU:0] (DEBUG INFO) Executor start aborting (this does not indicate an error and you can ignore this message): INVALID_ARGUMENT: You must feed a value for placeholder tensor 'Placeholder/_2' with dtype float and shape [66,1]\n",
            "\t [[{{node Placeholder/_2}}]]\n",
            "2025-04-10 12:44:41.530498: I tensorflow/core/common_runtime/executor.cc:1197] [/device:CPU:0] (DEBUG INFO) Executor start aborting (this does not indicate an error and you can ignore this message): INVALID_ARGUMENT: You must feed a value for placeholder tensor 'Placeholder/_2' with dtype float and shape [66,1]\n",
            "\t [[{{node Placeholder/_2}}]]\n"
          ]
        },
        {
          "name": "stdout",
          "output_type": "stream",
          "text": [
            "32/32 [==============================] - 0s 6ms/step\n",
            "3/3 [==============================] - 0s 4ms/step\n",
            "20/32 [=================>............] - ETA: 0s"
          ]
        },
        {
          "name": "stderr",
          "output_type": "stream",
          "text": [
            "2025-04-10 12:44:42.281581: I tensorflow/core/common_runtime/executor.cc:1197] [/device:CPU:0] (DEBUG INFO) Executor start aborting (this does not indicate an error and you can ignore this message): INVALID_ARGUMENT: You must feed a value for placeholder tensor 'Placeholder/_2' with dtype float and shape [66,1]\n",
            "\t [[{{node Placeholder/_2}}]]\n",
            "2025-04-10 12:44:42.294285: I tensorflow/core/common_runtime/executor.cc:1197] [/device:CPU:0] (DEBUG INFO) Executor start aborting (this does not indicate an error and you can ignore this message): INVALID_ARGUMENT: You must feed a value for placeholder tensor 'Placeholder/_2' with dtype float and shape [66,1]\n",
            "\t [[{{node Placeholder/_2}}]]\n",
            "2025-04-10 12:44:42.306509: I tensorflow/core/common_runtime/executor.cc:1197] [/device:CPU:0] (DEBUG INFO) Executor start aborting (this does not indicate an error and you can ignore this message): INVALID_ARGUMENT: You must feed a value for placeholder tensor 'Placeholder/_2' with dtype float and shape [66,1]\n",
            "\t [[{{node Placeholder/_2}}]]\n"
          ]
        },
        {
          "name": "stdout",
          "output_type": "stream",
          "text": [
            "32/32 [==============================] - 0s 4ms/step\n",
            "3/3 [==============================] - 0s 5ms/step\n",
            "32/32 [==============================] - 0s 3ms/step\n"
          ]
        },
        {
          "name": "stderr",
          "output_type": "stream",
          "text": [
            "2025-04-10 12:44:42.854754: I tensorflow/core/common_runtime/executor.cc:1197] [/device:CPU:0] (DEBUG INFO) Executor start aborting (this does not indicate an error and you can ignore this message): INVALID_ARGUMENT: You must feed a value for placeholder tensor 'Placeholder/_2' with dtype float and shape [66,1]\n",
            "\t [[{{node Placeholder/_2}}]]\n",
            "2025-04-10 12:44:42.865334: I tensorflow/core/common_runtime/executor.cc:1197] [/device:CPU:0] (DEBUG INFO) Executor start aborting (this does not indicate an error and you can ignore this message): INVALID_ARGUMENT: You must feed a value for placeholder tensor 'Placeholder/_2' with dtype float and shape [66,1]\n",
            "\t [[{{node Placeholder/_2}}]]\n",
            "2025-04-10 12:44:42.875146: I tensorflow/core/common_runtime/executor.cc:1197] [/device:CPU:0] (DEBUG INFO) Executor start aborting (this does not indicate an error and you can ignore this message): INVALID_ARGUMENT: You must feed a value for placeholder tensor 'Placeholder/_2' with dtype float and shape [66,1]\n",
            "\t [[{{node Placeholder/_2}}]]\n"
          ]
        },
        {
          "name": "stdout",
          "output_type": "stream",
          "text": [
            "3/3 [==============================] - 0s 4ms/step\n",
            "32/32 [==============================] - 0s 3ms/step\n"
          ]
        },
        {
          "name": "stderr",
          "output_type": "stream",
          "text": [
            "2025-04-10 12:44:43.304834: I tensorflow/core/common_runtime/executor.cc:1197] [/device:CPU:0] (DEBUG INFO) Executor start aborting (this does not indicate an error and you can ignore this message): INVALID_ARGUMENT: You must feed a value for placeholder tensor 'Placeholder/_2' with dtype float and shape [66,1]\n",
            "\t [[{{node Placeholder/_2}}]]\n",
            "2025-04-10 12:44:43.316939: I tensorflow/core/common_runtime/executor.cc:1197] [/device:CPU:0] (DEBUG INFO) Executor start aborting (this does not indicate an error and you can ignore this message): INVALID_ARGUMENT: You must feed a value for placeholder tensor 'Placeholder/_2' with dtype float and shape [66,1]\n",
            "\t [[{{node Placeholder/_2}}]]\n",
            "2025-04-10 12:44:43.326887: I tensorflow/core/common_runtime/executor.cc:1197] [/device:CPU:0] (DEBUG INFO) Executor start aborting (this does not indicate an error and you can ignore this message): INVALID_ARGUMENT: You must feed a value for placeholder tensor 'Placeholder/_2' with dtype float and shape [66,1]\n",
            "\t [[{{node Placeholder/_2}}]]\n"
          ]
        },
        {
          "name": "stdout",
          "output_type": "stream",
          "text": [
            "3/3 [==============================] - 0s 3ms/step\n",
            " 1/32 [..............................] - ETA: 0s"
          ]
        },
        {
          "name": "stderr",
          "output_type": "stream",
          "text": [
            "2025-04-10 12:44:43.738142: I tensorflow/core/common_runtime/executor.cc:1197] [/device:CPU:0] (DEBUG INFO) Executor start aborting (this does not indicate an error and you can ignore this message): INVALID_ARGUMENT: You must feed a value for placeholder tensor 'Placeholder/_2' with dtype float and shape [66,1]\n",
            "\t [[{{node Placeholder/_2}}]]\n",
            "2025-04-10 12:44:43.784048: I tensorflow/core/common_runtime/executor.cc:1197] [/device:CPU:0] (DEBUG INFO) Executor start aborting (this does not indicate an error and you can ignore this message): INVALID_ARGUMENT: You must feed a value for placeholder tensor 'Placeholder/_2' with dtype float and shape [66,1]\n",
            "\t [[{{node Placeholder/_2}}]]\n",
            "2025-04-10 12:44:43.817901: I tensorflow/core/common_runtime/executor.cc:1197] [/device:CPU:0] (DEBUG INFO) Executor start aborting (this does not indicate an error and you can ignore this message): INVALID_ARGUMENT: You must feed a value for placeholder tensor 'Placeholder/_2' with dtype float and shape [66,1]\n",
            "\t [[{{node Placeholder/_2}}]]\n"
          ]
        },
        {
          "name": "stdout",
          "output_type": "stream",
          "text": [
            "32/32 [==============================] - 0s 6ms/step\n",
            "WARNING:tensorflow:Compiled the loaded model, but the compiled metrics have yet to be built. `model.compile_metrics` will be empty until you train or evaluate the model.\n",
            "3/3 [==============================] - 0s 3ms/step\n",
            "20/32 [=================>............] - ETA: 0s"
          ]
        },
        {
          "name": "stderr",
          "output_type": "stream",
          "text": [
            "2025-04-10 12:44:44.422855: I tensorflow/core/common_runtime/executor.cc:1197] [/device:CPU:0] (DEBUG INFO) Executor start aborting (this does not indicate an error and you can ignore this message): INVALID_ARGUMENT: You must feed a value for placeholder tensor 'Placeholder/_2' with dtype float and shape [66,1]\n",
            "\t [[{{node Placeholder/_2}}]]\n",
            "2025-04-10 12:44:44.436342: I tensorflow/core/common_runtime/executor.cc:1197] [/device:CPU:0] (DEBUG INFO) Executor start aborting (this does not indicate an error and you can ignore this message): INVALID_ARGUMENT: You must feed a value for placeholder tensor 'Placeholder/_2' with dtype float and shape [66,1]\n",
            "\t [[{{node Placeholder/_2}}]]\n",
            "2025-04-10 12:44:44.448746: I tensorflow/core/common_runtime/executor.cc:1197] [/device:CPU:0] (DEBUG INFO) Executor start aborting (this does not indicate an error and you can ignore this message): INVALID_ARGUMENT: You must feed a value for placeholder tensor 'Placeholder/_2' with dtype float and shape [66,1]\n",
            "\t [[{{node Placeholder/_2}}]]\n"
          ]
        },
        {
          "name": "stdout",
          "output_type": "stream",
          "text": [
            "32/32 [==============================] - 0s 3ms/step\n",
            "3/3 [==============================] - 0s 3ms/step\n",
            "32/32 [==============================] - 0s 2ms/step\n"
          ]
        },
        {
          "name": "stderr",
          "output_type": "stream",
          "text": [
            "2025-04-10 12:44:44.847407: I tensorflow/core/common_runtime/executor.cc:1197] [/device:CPU:0] (DEBUG INFO) Executor start aborting (this does not indicate an error and you can ignore this message): INVALID_ARGUMENT: You must feed a value for placeholder tensor 'Placeholder/_2' with dtype float and shape [66,1]\n",
            "\t [[{{node Placeholder/_2}}]]\n",
            "2025-04-10 12:44:44.857557: I tensorflow/core/common_runtime/executor.cc:1197] [/device:CPU:0] (DEBUG INFO) Executor start aborting (this does not indicate an error and you can ignore this message): INVALID_ARGUMENT: You must feed a value for placeholder tensor 'Placeholder/_2' with dtype float and shape [66,1]\n",
            "\t [[{{node Placeholder/_2}}]]\n",
            "2025-04-10 12:44:44.869532: I tensorflow/core/common_runtime/executor.cc:1197] [/device:CPU:0] (DEBUG INFO) Executor start aborting (this does not indicate an error and you can ignore this message): INVALID_ARGUMENT: You must feed a value for placeholder tensor 'Placeholder/_2' with dtype float and shape [66,1]\n",
            "\t [[{{node Placeholder/_2}}]]\n"
          ]
        },
        {
          "name": "stdout",
          "output_type": "stream",
          "text": [
            "3/3 [==============================] - 0s 6ms/step\n",
            "32/32 [==============================] - 0s 2ms/step\n"
          ]
        },
        {
          "name": "stderr",
          "output_type": "stream",
          "text": [
            "2025-04-10 12:44:45.370800: I tensorflow/core/common_runtime/executor.cc:1197] [/device:CPU:0] (DEBUG INFO) Executor start aborting (this does not indicate an error and you can ignore this message): INVALID_ARGUMENT: You must feed a value for placeholder tensor 'Placeholder/_2' with dtype float and shape [66,1]\n",
            "\t [[{{node Placeholder/_2}}]]\n",
            "2025-04-10 12:44:45.384949: I tensorflow/core/common_runtime/executor.cc:1197] [/device:CPU:0] (DEBUG INFO) Executor start aborting (this does not indicate an error and you can ignore this message): INVALID_ARGUMENT: You must feed a value for placeholder tensor 'Placeholder/_2' with dtype float and shape [66,1]\n",
            "\t [[{{node Placeholder/_2}}]]\n",
            "2025-04-10 12:44:45.392373: I tensorflow/core/common_runtime/executor.cc:1197] [/device:CPU:0] (DEBUG INFO) Executor start aborting (this does not indicate an error and you can ignore this message): INVALID_ARGUMENT: You must feed a value for placeholder tensor 'Placeholder/_2' with dtype float and shape [66,1]\n",
            "\t [[{{node Placeholder/_2}}]]\n"
          ]
        },
        {
          "name": "stdout",
          "output_type": "stream",
          "text": [
            "3/3 [==============================] - 0s 3ms/step\n",
            "32/32 [==============================] - 0s 2ms/step\n"
          ]
        },
        {
          "name": "stderr",
          "output_type": "stream",
          "text": [
            "2025-04-10 12:44:45.759327: I tensorflow/core/common_runtime/executor.cc:1197] [/device:CPU:0] (DEBUG INFO) Executor start aborting (this does not indicate an error and you can ignore this message): INVALID_ARGUMENT: You must feed a value for placeholder tensor 'Placeholder/_2' with dtype float and shape [66,1]\n",
            "\t [[{{node Placeholder/_2}}]]\n",
            "2025-04-10 12:44:45.773587: I tensorflow/core/common_runtime/executor.cc:1197] [/device:CPU:0] (DEBUG INFO) Executor start aborting (this does not indicate an error and you can ignore this message): INVALID_ARGUMENT: You must feed a value for placeholder tensor 'Placeholder/_2' with dtype float and shape [66,1]\n",
            "\t [[{{node Placeholder/_2}}]]\n",
            "2025-04-10 12:44:45.790353: I tensorflow/core/common_runtime/executor.cc:1197] [/device:CPU:0] (DEBUG INFO) Executor start aborting (this does not indicate an error and you can ignore this message): INVALID_ARGUMENT: You must feed a value for placeholder tensor 'Placeholder/_2' with dtype float and shape [66,1]\n",
            "\t [[{{node Placeholder/_2}}]]\n"
          ]
        },
        {
          "name": "stdout",
          "output_type": "stream",
          "text": [
            "3/3 [==============================] - 0s 6ms/step\n",
            " 1/32 [..............................] - ETA: 1s"
          ]
        },
        {
          "name": "stderr",
          "output_type": "stream",
          "text": [
            "2025-04-10 12:44:46.295699: I tensorflow/core/common_runtime/executor.cc:1197] [/device:CPU:0] (DEBUG INFO) Executor start aborting (this does not indicate an error and you can ignore this message): INVALID_ARGUMENT: You must feed a value for placeholder tensor 'Placeholder/_2' with dtype float and shape [66,1]\n",
            "\t [[{{node Placeholder/_2}}]]\n",
            "2025-04-10 12:44:46.325662: I tensorflow/core/common_runtime/executor.cc:1197] [/device:CPU:0] (DEBUG INFO) Executor start aborting (this does not indicate an error and you can ignore this message): INVALID_ARGUMENT: You must feed a value for placeholder tensor 'Placeholder/_2' with dtype float and shape [66,1]\n",
            "\t [[{{node Placeholder/_2}}]]\n",
            "2025-04-10 12:44:46.342884: I tensorflow/core/common_runtime/executor.cc:1197] [/device:CPU:0] (DEBUG INFO) Executor start aborting (this does not indicate an error and you can ignore this message): INVALID_ARGUMENT: You must feed a value for placeholder tensor 'Placeholder/_2' with dtype float and shape [66,1]\n",
            "\t [[{{node Placeholder/_2}}]]\n"
          ]
        },
        {
          "name": "stdout",
          "output_type": "stream",
          "text": [
            "32/32 [==============================] - 0s 6ms/step\n",
            "3/3 [==============================] - 0s 4ms/step\n",
            "32/32 [==============================] - 0s 2ms/step\n"
          ]
        },
        {
          "name": "stderr",
          "output_type": "stream",
          "text": [
            "2025-04-10 12:44:47.028267: I tensorflow/core/common_runtime/executor.cc:1197] [/device:CPU:0] (DEBUG INFO) Executor start aborting (this does not indicate an error and you can ignore this message): INVALID_ARGUMENT: You must feed a value for placeholder tensor 'Placeholder/_2' with dtype float and shape [66,1]\n",
            "\t [[{{node Placeholder/_2}}]]\n",
            "2025-04-10 12:44:47.039532: I tensorflow/core/common_runtime/executor.cc:1197] [/device:CPU:0] (DEBUG INFO) Executor start aborting (this does not indicate an error and you can ignore this message): INVALID_ARGUMENT: You must feed a value for placeholder tensor 'Placeholder/_2' with dtype float and shape [66,1]\n",
            "\t [[{{node Placeholder/_2}}]]\n",
            "2025-04-10 12:44:47.047176: I tensorflow/core/common_runtime/executor.cc:1197] [/device:CPU:0] (DEBUG INFO) Executor start aborting (this does not indicate an error and you can ignore this message): INVALID_ARGUMENT: You must feed a value for placeholder tensor 'Placeholder/_2' with dtype float and shape [66,1]\n",
            "\t [[{{node Placeholder/_2}}]]\n"
          ]
        },
        {
          "name": "stdout",
          "output_type": "stream",
          "text": [
            "3/3 [==============================] - 0s 6ms/step\n",
            " 1/32 [..............................] - ETA: 1s"
          ]
        },
        {
          "name": "stderr",
          "output_type": "stream",
          "text": [
            "2025-04-10 12:44:47.664553: I tensorflow/core/common_runtime/executor.cc:1197] [/device:CPU:0] (DEBUG INFO) Executor start aborting (this does not indicate an error and you can ignore this message): INVALID_ARGUMENT: You must feed a value for placeholder tensor 'Placeholder/_2' with dtype float and shape [66,1]\n",
            "\t [[{{node Placeholder/_2}}]]\n",
            "2025-04-10 12:44:47.677479: I tensorflow/core/common_runtime/executor.cc:1197] [/device:CPU:0] (DEBUG INFO) Executor start aborting (this does not indicate an error and you can ignore this message): INVALID_ARGUMENT: You must feed a value for placeholder tensor 'Placeholder/_2' with dtype float and shape [66,1]\n",
            "\t [[{{node Placeholder/_2}}]]\n",
            "2025-04-10 12:44:47.695166: I tensorflow/core/common_runtime/executor.cc:1197] [/device:CPU:0] (DEBUG INFO) Executor start aborting (this does not indicate an error and you can ignore this message): INVALID_ARGUMENT: You must feed a value for placeholder tensor 'Placeholder/_2' with dtype float and shape [66,1]\n",
            "\t [[{{node Placeholder/_2}}]]\n"
          ]
        },
        {
          "name": "stdout",
          "output_type": "stream",
          "text": [
            "32/32 [==============================] - 0s 6ms/step\n",
            "3/3 [==============================] - 0s 5ms/step\n",
            "17/32 [==============>...............] - ETA: 0s"
          ]
        },
        {
          "name": "stderr",
          "output_type": "stream",
          "text": [
            "2025-04-10 12:44:48.344736: I tensorflow/core/common_runtime/executor.cc:1197] [/device:CPU:0] (DEBUG INFO) Executor start aborting (this does not indicate an error and you can ignore this message): INVALID_ARGUMENT: You must feed a value for placeholder tensor 'Placeholder/_2' with dtype float and shape [66,1]\n",
            "\t [[{{node Placeholder/_2}}]]\n",
            "2025-04-10 12:44:48.360622: I tensorflow/core/common_runtime/executor.cc:1197] [/device:CPU:0] (DEBUG INFO) Executor start aborting (this does not indicate an error and you can ignore this message): INVALID_ARGUMENT: You must feed a value for placeholder tensor 'Placeholder/_2' with dtype float and shape [66,1]\n",
            "\t [[{{node Placeholder/_2}}]]\n",
            "2025-04-10 12:44:48.371666: I tensorflow/core/common_runtime/executor.cc:1197] [/device:CPU:0] (DEBUG INFO) Executor start aborting (this does not indicate an error and you can ignore this message): INVALID_ARGUMENT: You must feed a value for placeholder tensor 'Placeholder/_2' with dtype float and shape [66,1]\n",
            "\t [[{{node Placeholder/_2}}]]\n"
          ]
        },
        {
          "name": "stdout",
          "output_type": "stream",
          "text": [
            "32/32 [==============================] - 0s 3ms/step\n",
            "3/3 [==============================] - 0s 7ms/step\n"
          ]
        },
        {
          "name": "stderr",
          "output_type": "stream",
          "text": [
            "2025-04-10 12:44:48.968563: I tensorflow/core/common_runtime/executor.cc:1197] [/device:CPU:0] (DEBUG INFO) Executor start aborting (this does not indicate an error and you can ignore this message): INVALID_ARGUMENT: You must feed a value for placeholder tensor 'Placeholder/_2' with dtype float and shape [66,1]\n",
            "\t [[{{node Placeholder/_2}}]]\n",
            "2025-04-10 12:44:48.983619: I tensorflow/core/common_runtime/executor.cc:1197] [/device:CPU:0] (DEBUG INFO) Executor start aborting (this does not indicate an error and you can ignore this message): INVALID_ARGUMENT: You must feed a value for placeholder tensor 'Placeholder/_2' with dtype float and shape [66,1]\n",
            "\t [[{{node Placeholder/_2}}]]\n",
            "2025-04-10 12:44:48.999631: I tensorflow/core/common_runtime/executor.cc:1197] [/device:CPU:0] (DEBUG INFO) Executor start aborting (this does not indicate an error and you can ignore this message): INVALID_ARGUMENT: You must feed a value for placeholder tensor 'Placeholder/_2' with dtype float and shape [66,1]\n",
            "\t [[{{node Placeholder/_2}}]]\n"
          ]
        },
        {
          "name": "stdout",
          "output_type": "stream",
          "text": [
            "32/32 [==============================] - 0s 4ms/step\n",
            "3/3 [==============================] - 0s 4ms/step\n",
            "14/32 [============>.................] - ETA: 0s"
          ]
        },
        {
          "name": "stderr",
          "output_type": "stream",
          "text": [
            "2025-04-10 12:44:49.629400: I tensorflow/core/common_runtime/executor.cc:1197] [/device:CPU:0] (DEBUG INFO) Executor start aborting (this does not indicate an error and you can ignore this message): INVALID_ARGUMENT: You must feed a value for placeholder tensor 'Placeholder/_2' with dtype float and shape [66,1]\n",
            "\t [[{{node Placeholder/_2}}]]\n",
            "2025-04-10 12:44:49.648803: I tensorflow/core/common_runtime/executor.cc:1197] [/device:CPU:0] (DEBUG INFO) Executor start aborting (this does not indicate an error and you can ignore this message): INVALID_ARGUMENT: You must feed a value for placeholder tensor 'Placeholder/_2' with dtype float and shape [66,1]\n",
            "\t [[{{node Placeholder/_2}}]]\n",
            "2025-04-10 12:44:49.657303: I tensorflow/core/common_runtime/executor.cc:1197] [/device:CPU:0] (DEBUG INFO) Executor start aborting (this does not indicate an error and you can ignore this message): INVALID_ARGUMENT: You must feed a value for placeholder tensor 'Placeholder/_2' with dtype float and shape [66,1]\n",
            "\t [[{{node Placeholder/_2}}]]\n"
          ]
        },
        {
          "name": "stdout",
          "output_type": "stream",
          "text": [
            "32/32 [==============================] - 0s 5ms/step\n",
            "3/3 [==============================] - 0s 7ms/step\n"
          ]
        },
        {
          "name": "stderr",
          "output_type": "stream",
          "text": [
            "2025-04-10 12:44:50.208244: I tensorflow/core/common_runtime/executor.cc:1197] [/device:CPU:0] (DEBUG INFO) Executor start aborting (this does not indicate an error and you can ignore this message): INVALID_ARGUMENT: You must feed a value for placeholder tensor 'Placeholder/_2' with dtype float and shape [66,1]\n",
            "\t [[{{node Placeholder/_2}}]]\n",
            "2025-04-10 12:44:50.298723: I tensorflow/core/common_runtime/executor.cc:1197] [/device:CPU:0] (DEBUG INFO) Executor start aborting (this does not indicate an error and you can ignore this message): INVALID_ARGUMENT: You must feed a value for placeholder tensor 'Placeholder/_2' with dtype float and shape [66,1]\n",
            "\t [[{{node Placeholder/_2}}]]\n",
            "2025-04-10 12:44:50.335632: I tensorflow/core/common_runtime/executor.cc:1197] [/device:CPU:0] (DEBUG INFO) Executor start aborting (this does not indicate an error and you can ignore this message): INVALID_ARGUMENT: You must feed a value for placeholder tensor 'Placeholder/_2' with dtype float and shape [66,1]\n",
            "\t [[{{node Placeholder/_2}}]]\n"
          ]
        },
        {
          "name": "stdout",
          "output_type": "stream",
          "text": [
            "32/32 [==============================] - 0s 4ms/step\n",
            "3/3 [==============================] - 0s 4ms/step\n"
          ]
        },
        {
          "name": "stderr",
          "output_type": "stream",
          "text": [
            "2025-04-10 12:44:50.803515: I tensorflow/core/common_runtime/executor.cc:1197] [/device:CPU:0] (DEBUG INFO) Executor start aborting (this does not indicate an error and you can ignore this message): INVALID_ARGUMENT: You must feed a value for placeholder tensor 'Placeholder/_2' with dtype float and shape [66,1]\n",
            "\t [[{{node Placeholder/_2}}]]\n",
            "2025-04-10 12:44:50.826506: I tensorflow/core/common_runtime/executor.cc:1197] [/device:CPU:0] (DEBUG INFO) Executor start aborting (this does not indicate an error and you can ignore this message): INVALID_ARGUMENT: You must feed a value for placeholder tensor 'Placeholder/_2' with dtype float and shape [66,1]\n",
            "\t [[{{node Placeholder/_2}}]]\n",
            "2025-04-10 12:44:50.869314: I tensorflow/core/common_runtime/executor.cc:1197] [/device:CPU:0] (DEBUG INFO) Executor start aborting (this does not indicate an error and you can ignore this message): INVALID_ARGUMENT: You must feed a value for placeholder tensor 'Placeholder/_2' with dtype float and shape [66,1]\n",
            "\t [[{{node Placeholder/_2}}]]\n"
          ]
        },
        {
          "name": "stdout",
          "output_type": "stream",
          "text": [
            "32/32 [==============================] - 0s 5ms/step\n",
            "3/3 [==============================] - 0s 10ms/step\n",
            " 1/32 [..............................] - ETA: 0s"
          ]
        },
        {
          "name": "stderr",
          "output_type": "stream",
          "text": [
            "2025-04-10 12:44:51.746878: I tensorflow/core/common_runtime/executor.cc:1197] [/device:CPU:0] (DEBUG INFO) Executor start aborting (this does not indicate an error and you can ignore this message): INVALID_ARGUMENT: You must feed a value for placeholder tensor 'Placeholder/_2' with dtype float and shape [66,1]\n",
            "\t [[{{node Placeholder/_2}}]]\n",
            "2025-04-10 12:44:51.762502: I tensorflow/core/common_runtime/executor.cc:1197] [/device:CPU:0] (DEBUG INFO) Executor start aborting (this does not indicate an error and you can ignore this message): INVALID_ARGUMENT: You must feed a value for placeholder tensor 'Placeholder/_2' with dtype float and shape [66,1]\n",
            "\t [[{{node Placeholder/_2}}]]\n",
            "2025-04-10 12:44:51.783563: I tensorflow/core/common_runtime/executor.cc:1197] [/device:CPU:0] (DEBUG INFO) Executor start aborting (this does not indicate an error and you can ignore this message): INVALID_ARGUMENT: You must feed a value for placeholder tensor 'Placeholder/_2' with dtype float and shape [66,1]\n",
            "\t [[{{node Placeholder/_2}}]]\n"
          ]
        },
        {
          "name": "stdout",
          "output_type": "stream",
          "text": [
            "32/32 [==============================] - 0s 3ms/step\n",
            "3/3 [==============================] - 0s 3ms/step\n",
            "18/32 [===============>..............] - ETA: 0s"
          ]
        },
        {
          "name": "stderr",
          "output_type": "stream",
          "text": [
            "2025-04-10 12:44:52.266798: I tensorflow/core/common_runtime/executor.cc:1197] [/device:CPU:0] (DEBUG INFO) Executor start aborting (this does not indicate an error and you can ignore this message): INVALID_ARGUMENT: You must feed a value for placeholder tensor 'Placeholder/_2' with dtype float and shape [66,1]\n",
            "\t [[{{node Placeholder/_2}}]]\n",
            "2025-04-10 12:44:52.286803: I tensorflow/core/common_runtime/executor.cc:1197] [/device:CPU:0] (DEBUG INFO) Executor start aborting (this does not indicate an error and you can ignore this message): INVALID_ARGUMENT: You must feed a value for placeholder tensor 'Placeholder/_2' with dtype float and shape [66,1]\n",
            "\t [[{{node Placeholder/_2}}]]\n",
            "2025-04-10 12:44:52.297316: I tensorflow/core/common_runtime/executor.cc:1197] [/device:CPU:0] (DEBUG INFO) Executor start aborting (this does not indicate an error and you can ignore this message): INVALID_ARGUMENT: You must feed a value for placeholder tensor 'Placeholder/_2' with dtype float and shape [66,1]\n",
            "\t [[{{node Placeholder/_2}}]]\n"
          ]
        },
        {
          "name": "stdout",
          "output_type": "stream",
          "text": [
            "32/32 [==============================] - 0s 4ms/step\n",
            "3/3 [==============================] - 0s 6ms/step\n"
          ]
        },
        {
          "name": "stderr",
          "output_type": "stream",
          "text": [
            "2025-04-10 12:44:53.011448: I tensorflow/core/common_runtime/executor.cc:1197] [/device:CPU:0] (DEBUG INFO) Executor start aborting (this does not indicate an error and you can ignore this message): INVALID_ARGUMENT: You must feed a value for placeholder tensor 'Placeholder/_2' with dtype float and shape [66,1]\n",
            "\t [[{{node Placeholder/_2}}]]\n",
            "2025-04-10 12:44:53.034557: I tensorflow/core/common_runtime/executor.cc:1197] [/device:CPU:0] (DEBUG INFO) Executor start aborting (this does not indicate an error and you can ignore this message): INVALID_ARGUMENT: You must feed a value for placeholder tensor 'Placeholder/_2' with dtype float and shape [66,1]\n",
            "\t [[{{node Placeholder/_2}}]]\n",
            "2025-04-10 12:44:53.076284: I tensorflow/core/common_runtime/executor.cc:1197] [/device:CPU:0] (DEBUG INFO) Executor start aborting (this does not indicate an error and you can ignore this message): INVALID_ARGUMENT: You must feed a value for placeholder tensor 'Placeholder/_2' with dtype float and shape [66,1]\n",
            "\t [[{{node Placeholder/_2}}]]\n"
          ]
        },
        {
          "name": "stdout",
          "output_type": "stream",
          "text": [
            "32/32 [==============================] - 0s 6ms/step\n",
            "3/3 [==============================] - 0s 7ms/step\n"
          ]
        },
        {
          "name": "stderr",
          "output_type": "stream",
          "text": [
            "2025-04-10 12:44:53.938360: I tensorflow/core/common_runtime/executor.cc:1197] [/device:CPU:0] (DEBUG INFO) Executor start aborting (this does not indicate an error and you can ignore this message): INVALID_ARGUMENT: You must feed a value for placeholder tensor 'Placeholder/_2' with dtype float and shape [66,1]\n",
            "\t [[{{node Placeholder/_2}}]]\n",
            "2025-04-10 12:44:53.960007: I tensorflow/core/common_runtime/executor.cc:1197] [/device:CPU:0] (DEBUG INFO) Executor start aborting (this does not indicate an error and you can ignore this message): INVALID_ARGUMENT: You must feed a value for placeholder tensor 'Placeholder/_2' with dtype float and shape [66,1]\n",
            "\t [[{{node Placeholder/_2}}]]\n",
            "2025-04-10 12:44:53.980953: I tensorflow/core/common_runtime/executor.cc:1197] [/device:CPU:0] (DEBUG INFO) Executor start aborting (this does not indicate an error and you can ignore this message): INVALID_ARGUMENT: You must feed a value for placeholder tensor 'Placeholder/_2' with dtype float and shape [66,1]\n",
            "\t [[{{node Placeholder/_2}}]]\n"
          ]
        },
        {
          "name": "stdout",
          "output_type": "stream",
          "text": [
            "32/32 [==============================] - 0s 5ms/step\n",
            "3/3 [==============================] - 0s 10ms/step\n"
          ]
        },
        {
          "name": "stderr",
          "output_type": "stream",
          "text": [
            "2025-04-10 12:44:55.031847: I tensorflow/core/common_runtime/executor.cc:1197] [/device:CPU:0] (DEBUG INFO) Executor start aborting (this does not indicate an error and you can ignore this message): INVALID_ARGUMENT: You must feed a value for placeholder tensor 'Placeholder/_2' with dtype float and shape [66,1]\n",
            "\t [[{{node Placeholder/_2}}]]\n",
            "2025-04-10 12:44:55.056763: I tensorflow/core/common_runtime/executor.cc:1197] [/device:CPU:0] (DEBUG INFO) Executor start aborting (this does not indicate an error and you can ignore this message): INVALID_ARGUMENT: You must feed a value for placeholder tensor 'Placeholder/_2' with dtype float and shape [66,1]\n",
            "\t [[{{node Placeholder/_2}}]]\n",
            "2025-04-10 12:44:55.081449: I tensorflow/core/common_runtime/executor.cc:1197] [/device:CPU:0] (DEBUG INFO) Executor start aborting (this does not indicate an error and you can ignore this message): INVALID_ARGUMENT: You must feed a value for placeholder tensor 'Placeholder/_2' with dtype float and shape [66,1]\n",
            "\t [[{{node Placeholder/_2}}]]\n"
          ]
        },
        {
          "name": "stdout",
          "output_type": "stream",
          "text": [
            "32/32 [==============================] - 0s 6ms/step\n",
            "3/3 [==============================] - 0s 4ms/step\n",
            " 1/32 [..............................] - ETA: 1s"
          ]
        },
        {
          "name": "stderr",
          "output_type": "stream",
          "text": [
            "2025-04-10 12:44:56.128295: I tensorflow/core/common_runtime/executor.cc:1197] [/device:CPU:0] (DEBUG INFO) Executor start aborting (this does not indicate an error and you can ignore this message): INVALID_ARGUMENT: You must feed a value for placeholder tensor 'Placeholder/_2' with dtype float and shape [66,1]\n",
            "\t [[{{node Placeholder/_2}}]]\n",
            "2025-04-10 12:44:56.163206: I tensorflow/core/common_runtime/executor.cc:1197] [/device:CPU:0] (DEBUG INFO) Executor start aborting (this does not indicate an error and you can ignore this message): INVALID_ARGUMENT: You must feed a value for placeholder tensor 'Placeholder/_2' with dtype float and shape [66,1]\n",
            "\t [[{{node Placeholder/_2}}]]\n",
            "2025-04-10 12:44:56.174537: I tensorflow/core/common_runtime/executor.cc:1197] [/device:CPU:0] (DEBUG INFO) Executor start aborting (this does not indicate an error and you can ignore this message): INVALID_ARGUMENT: You must feed a value for placeholder tensor 'Placeholder/_2' with dtype float and shape [66,1]\n",
            "\t [[{{node Placeholder/_2}}]]\n"
          ]
        },
        {
          "name": "stdout",
          "output_type": "stream",
          "text": [
            "32/32 [==============================] - 0s 5ms/step\n",
            "3/3 [==============================] - 0s 4ms/step\n",
            "17/32 [==============>...............] - ETA: 0s"
          ]
        },
        {
          "name": "stderr",
          "output_type": "stream",
          "text": [
            "2025-04-10 12:44:56.773215: I tensorflow/core/common_runtime/executor.cc:1197] [/device:CPU:0] (DEBUG INFO) Executor start aborting (this does not indicate an error and you can ignore this message): INVALID_ARGUMENT: You must feed a value for placeholder tensor 'Placeholder/_2' with dtype float and shape [66,1]\n",
            "\t [[{{node Placeholder/_2}}]]\n",
            "2025-04-10 12:44:56.804335: I tensorflow/core/common_runtime/executor.cc:1197] [/device:CPU:0] (DEBUG INFO) Executor start aborting (this does not indicate an error and you can ignore this message): INVALID_ARGUMENT: You must feed a value for placeholder tensor 'Placeholder/_2' with dtype float and shape [66,1]\n",
            "\t [[{{node Placeholder/_2}}]]\n",
            "2025-04-10 12:44:56.814942: I tensorflow/core/common_runtime/executor.cc:1197] [/device:CPU:0] (DEBUG INFO) Executor start aborting (this does not indicate an error and you can ignore this message): INVALID_ARGUMENT: You must feed a value for placeholder tensor 'Placeholder/_2' with dtype float and shape [66,1]\n",
            "\t [[{{node Placeholder/_2}}]]\n"
          ]
        },
        {
          "name": "stdout",
          "output_type": "stream",
          "text": [
            "32/32 [==============================] - 0s 4ms/step\n",
            "3/3 [==============================] - 0s 4ms/step\n",
            "32/32 [==============================] - 0s 3ms/step\n"
          ]
        },
        {
          "name": "stderr",
          "output_type": "stream",
          "text": [
            "2025-04-10 12:44:57.267996: I tensorflow/core/common_runtime/executor.cc:1197] [/device:CPU:0] (DEBUG INFO) Executor start aborting (this does not indicate an error and you can ignore this message): INVALID_ARGUMENT: You must feed a value for placeholder tensor 'Placeholder/_2' with dtype float and shape [66,1]\n",
            "\t [[{{node Placeholder/_2}}]]\n",
            "2025-04-10 12:44:57.279615: I tensorflow/core/common_runtime/executor.cc:1197] [/device:CPU:0] (DEBUG INFO) Executor start aborting (this does not indicate an error and you can ignore this message): INVALID_ARGUMENT: You must feed a value for placeholder tensor 'Placeholder/_2' with dtype float and shape [66,1]\n",
            "\t [[{{node Placeholder/_2}}]]\n",
            "2025-04-10 12:44:57.288207: I tensorflow/core/common_runtime/executor.cc:1197] [/device:CPU:0] (DEBUG INFO) Executor start aborting (this does not indicate an error and you can ignore this message): INVALID_ARGUMENT: You must feed a value for placeholder tensor 'Placeholder/_2' with dtype float and shape [66,1]\n",
            "\t [[{{node Placeholder/_2}}]]\n"
          ]
        },
        {
          "name": "stdout",
          "output_type": "stream",
          "text": [
            "3/3 [==============================] - 0s 3ms/step\n",
            "32/32 [==============================] - 0s 3ms/step\n"
          ]
        },
        {
          "name": "stderr",
          "output_type": "stream",
          "text": [
            "2025-04-10 12:44:57.699453: I tensorflow/core/common_runtime/executor.cc:1197] [/device:CPU:0] (DEBUG INFO) Executor start aborting (this does not indicate an error and you can ignore this message): INVALID_ARGUMENT: You must feed a value for placeholder tensor 'Placeholder/_2' with dtype float and shape [66,1]\n",
            "\t [[{{node Placeholder/_2}}]]\n",
            "2025-04-10 12:44:57.716348: I tensorflow/core/common_runtime/executor.cc:1197] [/device:CPU:0] (DEBUG INFO) Executor start aborting (this does not indicate an error and you can ignore this message): INVALID_ARGUMENT: You must feed a value for placeholder tensor 'Placeholder/_2' with dtype float and shape [66,1]\n",
            "\t [[{{node Placeholder/_2}}]]\n",
            "2025-04-10 12:44:57.724161: I tensorflow/core/common_runtime/executor.cc:1197] [/device:CPU:0] (DEBUG INFO) Executor start aborting (this does not indicate an error and you can ignore this message): INVALID_ARGUMENT: You must feed a value for placeholder tensor 'Placeholder/_2' with dtype float and shape [66,1]\n",
            "\t [[{{node Placeholder/_2}}]]\n"
          ]
        },
        {
          "name": "stdout",
          "output_type": "stream",
          "text": [
            "3/3 [==============================] - 0s 3ms/step\n",
            "32/32 [==============================] - 0s 2ms/step\n"
          ]
        },
        {
          "name": "stderr",
          "output_type": "stream",
          "text": [
            "2025-04-10 12:44:58.122005: I tensorflow/core/common_runtime/executor.cc:1197] [/device:CPU:0] (DEBUG INFO) Executor start aborting (this does not indicate an error and you can ignore this message): INVALID_ARGUMENT: You must feed a value for placeholder tensor 'Placeholder/_2' with dtype float and shape [66,1]\n",
            "\t [[{{node Placeholder/_2}}]]\n",
            "2025-04-10 12:44:58.140942: I tensorflow/core/common_runtime/executor.cc:1197] [/device:CPU:0] (DEBUG INFO) Executor start aborting (this does not indicate an error and you can ignore this message): INVALID_ARGUMENT: You must feed a value for placeholder tensor 'Placeholder/_2' with dtype float and shape [66,1]\n",
            "\t [[{{node Placeholder/_2}}]]\n",
            "2025-04-10 12:44:58.151880: I tensorflow/core/common_runtime/executor.cc:1197] [/device:CPU:0] (DEBUG INFO) Executor start aborting (this does not indicate an error and you can ignore this message): INVALID_ARGUMENT: You must feed a value for placeholder tensor 'Placeholder/_2' with dtype float and shape [66,1]\n",
            "\t [[{{node Placeholder/_2}}]]\n"
          ]
        },
        {
          "name": "stdout",
          "output_type": "stream",
          "text": [
            "WARNING:tensorflow:Compiled the loaded model, but the compiled metrics have yet to be built. `model.compile_metrics` will be empty until you train or evaluate the model.\n",
            "3/3 [==============================] - 0s 4ms/step\n",
            "32/32 [==============================] - 0s 3ms/step\n"
          ]
        },
        {
          "name": "stderr",
          "output_type": "stream",
          "text": [
            "2025-04-10 12:44:58.728816: I tensorflow/core/common_runtime/executor.cc:1197] [/device:CPU:0] (DEBUG INFO) Executor start aborting (this does not indicate an error and you can ignore this message): INVALID_ARGUMENT: You must feed a value for placeholder tensor 'Placeholder/_2' with dtype float and shape [66,1]\n",
            "\t [[{{node Placeholder/_2}}]]\n",
            "2025-04-10 12:44:58.745654: I tensorflow/core/common_runtime/executor.cc:1197] [/device:CPU:0] (DEBUG INFO) Executor start aborting (this does not indicate an error and you can ignore this message): INVALID_ARGUMENT: You must feed a value for placeholder tensor 'Placeholder/_2' with dtype float and shape [66,1]\n",
            "\t [[{{node Placeholder/_2}}]]\n",
            "2025-04-10 12:44:58.758795: I tensorflow/core/common_runtime/executor.cc:1197] [/device:CPU:0] (DEBUG INFO) Executor start aborting (this does not indicate an error and you can ignore this message): INVALID_ARGUMENT: You must feed a value for placeholder tensor 'Placeholder/_2' with dtype float and shape [66,1]\n",
            "\t [[{{node Placeholder/_2}}]]\n"
          ]
        },
        {
          "name": "stdout",
          "output_type": "stream",
          "text": [
            "3/3 [==============================] - 0s 3ms/step\n",
            "32/32 [==============================] - 0s 3ms/step\n"
          ]
        },
        {
          "name": "stderr",
          "output_type": "stream",
          "text": [
            "2025-04-10 12:44:59.128804: I tensorflow/core/common_runtime/executor.cc:1197] [/device:CPU:0] (DEBUG INFO) Executor start aborting (this does not indicate an error and you can ignore this message): INVALID_ARGUMENT: You must feed a value for placeholder tensor 'Placeholder/_2' with dtype float and shape [66,1]\n",
            "\t [[{{node Placeholder/_2}}]]\n",
            "2025-04-10 12:44:59.145800: I tensorflow/core/common_runtime/executor.cc:1197] [/device:CPU:0] (DEBUG INFO) Executor start aborting (this does not indicate an error and you can ignore this message): INVALID_ARGUMENT: You must feed a value for placeholder tensor 'Placeholder/_2' with dtype float and shape [66,1]\n",
            "\t [[{{node Placeholder/_2}}]]\n",
            "2025-04-10 12:44:59.155581: I tensorflow/core/common_runtime/executor.cc:1197] [/device:CPU:0] (DEBUG INFO) Executor start aborting (this does not indicate an error and you can ignore this message): INVALID_ARGUMENT: You must feed a value for placeholder tensor 'Placeholder/_2' with dtype float and shape [66,1]\n",
            "\t [[{{node Placeholder/_2}}]]\n"
          ]
        },
        {
          "name": "stdout",
          "output_type": "stream",
          "text": [
            "3/3 [==============================] - 0s 3ms/step\n",
            "23/32 [====================>.........] - ETA: 0s"
          ]
        },
        {
          "name": "stderr",
          "output_type": "stream",
          "text": [
            "2025-04-10 12:44:59.554767: I tensorflow/core/common_runtime/executor.cc:1197] [/device:CPU:0] (DEBUG INFO) Executor start aborting (this does not indicate an error and you can ignore this message): INVALID_ARGUMENT: You must feed a value for placeholder tensor 'Placeholder/_2' with dtype float and shape [66,1]\n",
            "\t [[{{node Placeholder/_2}}]]\n",
            "2025-04-10 12:44:59.571562: I tensorflow/core/common_runtime/executor.cc:1197] [/device:CPU:0] (DEBUG INFO) Executor start aborting (this does not indicate an error and you can ignore this message): INVALID_ARGUMENT: You must feed a value for placeholder tensor 'Placeholder/_2' with dtype float and shape [66,1]\n",
            "\t [[{{node Placeholder/_2}}]]\n",
            "2025-04-10 12:44:59.588380: I tensorflow/core/common_runtime/executor.cc:1197] [/device:CPU:0] (DEBUG INFO) Executor start aborting (this does not indicate an error and you can ignore this message): INVALID_ARGUMENT: You must feed a value for placeholder tensor 'Placeholder/_2' with dtype float and shape [66,1]\n",
            "\t [[{{node Placeholder/_2}}]]\n"
          ]
        },
        {
          "name": "stdout",
          "output_type": "stream",
          "text": [
            "32/32 [==============================] - 0s 3ms/step\n",
            "3/3 [==============================] - 0s 4ms/step\n",
            "32/32 [==============================] - 0s 2ms/step\n"
          ]
        },
        {
          "name": "stderr",
          "output_type": "stream",
          "text": [
            "2025-04-10 12:44:59.969207: I tensorflow/core/common_runtime/executor.cc:1197] [/device:CPU:0] (DEBUG INFO) Executor start aborting (this does not indicate an error and you can ignore this message): INVALID_ARGUMENT: You must feed a value for placeholder tensor 'Placeholder/_2' with dtype float and shape [66,1]\n",
            "\t [[{{node Placeholder/_2}}]]\n",
            "2025-04-10 12:44:59.983147: I tensorflow/core/common_runtime/executor.cc:1197] [/device:CPU:0] (DEBUG INFO) Executor start aborting (this does not indicate an error and you can ignore this message): INVALID_ARGUMENT: You must feed a value for placeholder tensor 'Placeholder/_2' with dtype float and shape [66,1]\n",
            "\t [[{{node Placeholder/_2}}]]\n",
            "2025-04-10 12:44:59.994366: I tensorflow/core/common_runtime/executor.cc:1197] [/device:CPU:0] (DEBUG INFO) Executor start aborting (this does not indicate an error and you can ignore this message): INVALID_ARGUMENT: You must feed a value for placeholder tensor 'Placeholder/_2' with dtype float and shape [66,1]\n",
            "\t [[{{node Placeholder/_2}}]]\n"
          ]
        },
        {
          "name": "stdout",
          "output_type": "stream",
          "text": [
            "3/3 [==============================] - 0s 3ms/step\n",
            "32/32 [==============================] - 0s 3ms/step\n"
          ]
        },
        {
          "name": "stderr",
          "output_type": "stream",
          "text": [
            "2025-04-10 12:45:00.381445: I tensorflow/core/common_runtime/executor.cc:1197] [/device:CPU:0] (DEBUG INFO) Executor start aborting (this does not indicate an error and you can ignore this message): INVALID_ARGUMENT: You must feed a value for placeholder tensor 'Placeholder/_2' with dtype float and shape [66,1]\n",
            "\t [[{{node Placeholder/_2}}]]\n",
            "2025-04-10 12:45:00.398144: I tensorflow/core/common_runtime/executor.cc:1197] [/device:CPU:0] (DEBUG INFO) Executor start aborting (this does not indicate an error and you can ignore this message): INVALID_ARGUMENT: You must feed a value for placeholder tensor 'Placeholder/_2' with dtype float and shape [66,1]\n",
            "\t [[{{node Placeholder/_2}}]]\n",
            "2025-04-10 12:45:00.408451: I tensorflow/core/common_runtime/executor.cc:1197] [/device:CPU:0] (DEBUG INFO) Executor start aborting (this does not indicate an error and you can ignore this message): INVALID_ARGUMENT: You must feed a value for placeholder tensor 'Placeholder/_2' with dtype float and shape [66,1]\n",
            "\t [[{{node Placeholder/_2}}]]\n"
          ]
        },
        {
          "name": "stdout",
          "output_type": "stream",
          "text": [
            "3/3 [==============================] - 0s 3ms/step\n",
            "32/32 [==============================] - 0s 2ms/step\n"
          ]
        },
        {
          "name": "stderr",
          "output_type": "stream",
          "text": [
            "2025-04-10 12:45:00.789573: I tensorflow/core/common_runtime/executor.cc:1197] [/device:CPU:0] (DEBUG INFO) Executor start aborting (this does not indicate an error and you can ignore this message): INVALID_ARGUMENT: You must feed a value for placeholder tensor 'Placeholder/_2' with dtype float and shape [66,1]\n",
            "\t [[{{node Placeholder/_2}}]]\n",
            "2025-04-10 12:45:00.821628: I tensorflow/core/common_runtime/executor.cc:1197] [/device:CPU:0] (DEBUG INFO) Executor start aborting (this does not indicate an error and you can ignore this message): INVALID_ARGUMENT: You must feed a value for placeholder tensor 'Placeholder/_2' with dtype float and shape [66,1]\n",
            "\t [[{{node Placeholder/_2}}]]\n",
            "2025-04-10 12:45:00.829488: I tensorflow/core/common_runtime/executor.cc:1197] [/device:CPU:0] (DEBUG INFO) Executor start aborting (this does not indicate an error and you can ignore this message): INVALID_ARGUMENT: You must feed a value for placeholder tensor 'Placeholder/_2' with dtype float and shape [66,1]\n",
            "\t [[{{node Placeholder/_2}}]]\n"
          ]
        },
        {
          "name": "stdout",
          "output_type": "stream",
          "text": [
            "3/3 [==============================] - 0s 4ms/step\n",
            "32/32 [==============================] - 0s 3ms/step\n"
          ]
        },
        {
          "name": "stderr",
          "output_type": "stream",
          "text": [
            "2025-04-10 12:45:01.352659: I tensorflow/core/common_runtime/executor.cc:1197] [/device:CPU:0] (DEBUG INFO) Executor start aborting (this does not indicate an error and you can ignore this message): INVALID_ARGUMENT: You must feed a value for placeholder tensor 'Placeholder/_2' with dtype float and shape [66,1]\n",
            "\t [[{{node Placeholder/_2}}]]\n",
            "2025-04-10 12:45:01.364954: I tensorflow/core/common_runtime/executor.cc:1197] [/device:CPU:0] (DEBUG INFO) Executor start aborting (this does not indicate an error and you can ignore this message): INVALID_ARGUMENT: You must feed a value for placeholder tensor 'Placeholder/_2' with dtype float and shape [66,1]\n",
            "\t [[{{node Placeholder/_2}}]]\n",
            "2025-04-10 12:45:01.374980: I tensorflow/core/common_runtime/executor.cc:1197] [/device:CPU:0] (DEBUG INFO) Executor start aborting (this does not indicate an error and you can ignore this message): INVALID_ARGUMENT: You must feed a value for placeholder tensor 'Placeholder/_2' with dtype float and shape [66,1]\n",
            "\t [[{{node Placeholder/_2}}]]\n"
          ]
        },
        {
          "name": "stdout",
          "output_type": "stream",
          "text": [
            "3/3 [==============================] - 0s 4ms/step\n",
            "17/32 [==============>...............] - ETA: 0s"
          ]
        },
        {
          "name": "stderr",
          "output_type": "stream",
          "text": [
            "2025-04-10 12:45:01.742500: I tensorflow/core/common_runtime/executor.cc:1197] [/device:CPU:0] (DEBUG INFO) Executor start aborting (this does not indicate an error and you can ignore this message): INVALID_ARGUMENT: You must feed a value for placeholder tensor 'Placeholder/_2' with dtype float and shape [66,1]\n",
            "\t [[{{node Placeholder/_2}}]]\n",
            "2025-04-10 12:45:01.760515: I tensorflow/core/common_runtime/executor.cc:1197] [/device:CPU:0] (DEBUG INFO) Executor start aborting (this does not indicate an error and you can ignore this message): INVALID_ARGUMENT: You must feed a value for placeholder tensor 'Placeholder/_2' with dtype float and shape [66,1]\n",
            "\t [[{{node Placeholder/_2}}]]\n",
            "2025-04-10 12:45:01.776889: I tensorflow/core/common_runtime/executor.cc:1197] [/device:CPU:0] (DEBUG INFO) Executor start aborting (this does not indicate an error and you can ignore this message): INVALID_ARGUMENT: You must feed a value for placeholder tensor 'Placeholder/_2' with dtype float and shape [66,1]\n",
            "\t [[{{node Placeholder/_2}}]]\n"
          ]
        },
        {
          "name": "stdout",
          "output_type": "stream",
          "text": [
            "32/32 [==============================] - 0s 3ms/step\n",
            "3/3 [==============================] - 0s 3ms/step\n",
            "32/32 [==============================] - 0s 2ms/step\n"
          ]
        },
        {
          "name": "stderr",
          "output_type": "stream",
          "text": [
            "2025-04-10 12:45:02.159210: I tensorflow/core/common_runtime/executor.cc:1197] [/device:CPU:0] (DEBUG INFO) Executor start aborting (this does not indicate an error and you can ignore this message): INVALID_ARGUMENT: You must feed a value for placeholder tensor 'Placeholder/_2' with dtype float and shape [66,1]\n",
            "\t [[{{node Placeholder/_2}}]]\n",
            "2025-04-10 12:45:02.171790: I tensorflow/core/common_runtime/executor.cc:1197] [/device:CPU:0] (DEBUG INFO) Executor start aborting (this does not indicate an error and you can ignore this message): INVALID_ARGUMENT: You must feed a value for placeholder tensor 'Placeholder/_2' with dtype float and shape [66,1]\n",
            "\t [[{{node Placeholder/_2}}]]\n",
            "2025-04-10 12:45:02.181338: I tensorflow/core/common_runtime/executor.cc:1197] [/device:CPU:0] (DEBUG INFO) Executor start aborting (this does not indicate an error and you can ignore this message): INVALID_ARGUMENT: You must feed a value for placeholder tensor 'Placeholder/_2' with dtype float and shape [66,1]\n",
            "\t [[{{node Placeholder/_2}}]]\n"
          ]
        },
        {
          "name": "stdout",
          "output_type": "stream",
          "text": [
            "3/3 [==============================] - 0s 5ms/step\n",
            "24/32 [=====================>........] - ETA: 0s"
          ]
        },
        {
          "name": "stderr",
          "output_type": "stream",
          "text": [
            "2025-04-10 12:45:02.544195: I tensorflow/core/common_runtime/executor.cc:1197] [/device:CPU:0] (DEBUG INFO) Executor start aborting (this does not indicate an error and you can ignore this message): INVALID_ARGUMENT: You must feed a value for placeholder tensor 'Placeholder/_2' with dtype float and shape [66,1]\n",
            "\t [[{{node Placeholder/_2}}]]\n",
            "2025-04-10 12:45:02.571962: I tensorflow/core/common_runtime/executor.cc:1197] [/device:CPU:0] (DEBUG INFO) Executor start aborting (this does not indicate an error and you can ignore this message): INVALID_ARGUMENT: You must feed a value for placeholder tensor 'Placeholder/_2' with dtype float and shape [66,1]\n",
            "\t [[{{node Placeholder/_2}}]]\n",
            "2025-04-10 12:45:02.582107: I tensorflow/core/common_runtime/executor.cc:1197] [/device:CPU:0] (DEBUG INFO) Executor start aborting (this does not indicate an error and you can ignore this message): INVALID_ARGUMENT: You must feed a value for placeholder tensor 'Placeholder/_2' with dtype float and shape [66,1]\n",
            "\t [[{{node Placeholder/_2}}]]\n"
          ]
        },
        {
          "name": "stdout",
          "output_type": "stream",
          "text": [
            "32/32 [==============================] - 0s 2ms/step\n",
            "3/3 [==============================] - 0s 3ms/step\n",
            "32/32 [==============================] - 0s 2ms/step\n"
          ]
        },
        {
          "name": "stderr",
          "output_type": "stream",
          "text": [
            "2025-04-10 12:45:02.955520: I tensorflow/core/common_runtime/executor.cc:1197] [/device:CPU:0] (DEBUG INFO) Executor start aborting (this does not indicate an error and you can ignore this message): INVALID_ARGUMENT: You must feed a value for placeholder tensor 'Placeholder/_2' with dtype float and shape [66,1]\n",
            "\t [[{{node Placeholder/_2}}]]\n",
            "2025-04-10 12:45:02.970633: I tensorflow/core/common_runtime/executor.cc:1197] [/device:CPU:0] (DEBUG INFO) Executor start aborting (this does not indicate an error and you can ignore this message): INVALID_ARGUMENT: You must feed a value for placeholder tensor 'Placeholder/_2' with dtype float and shape [66,1]\n",
            "\t [[{{node Placeholder/_2}}]]\n",
            "2025-04-10 12:45:02.980963: I tensorflow/core/common_runtime/executor.cc:1197] [/device:CPU:0] (DEBUG INFO) Executor start aborting (this does not indicate an error and you can ignore this message): INVALID_ARGUMENT: You must feed a value for placeholder tensor 'Placeholder/_2' with dtype float and shape [66,1]\n",
            "\t [[{{node Placeholder/_2}}]]\n"
          ]
        },
        {
          "name": "stdout",
          "output_type": "stream",
          "text": [
            "3/3 [==============================] - 0s 3ms/step\n"
          ]
        },
        {
          "name": "stderr",
          "output_type": "stream",
          "text": [
            "2025-04-10 12:45:03.366220: I tensorflow/core/common_runtime/executor.cc:1197] [/device:CPU:0] (DEBUG INFO) Executor start aborting (this does not indicate an error and you can ignore this message): INVALID_ARGUMENT: You must feed a value for placeholder tensor 'Placeholder/_2' with dtype float and shape [66,1]\n",
            "\t [[{{node Placeholder/_2}}]]\n",
            "2025-04-10 12:45:03.379844: I tensorflow/core/common_runtime/executor.cc:1197] [/device:CPU:0] (DEBUG INFO) Executor start aborting (this does not indicate an error and you can ignore this message): INVALID_ARGUMENT: You must feed a value for placeholder tensor 'Placeholder/_2' with dtype float and shape [66,1]\n",
            "\t [[{{node Placeholder/_2}}]]\n",
            "2025-04-10 12:45:03.403718: I tensorflow/core/common_runtime/executor.cc:1197] [/device:CPU:0] (DEBUG INFO) Executor start aborting (this does not indicate an error and you can ignore this message): INVALID_ARGUMENT: You must feed a value for placeholder tensor 'Placeholder/_2' with dtype float and shape [66,1]\n",
            "\t [[{{node Placeholder/_2}}]]\n"
          ]
        },
        {
          "name": "stdout",
          "output_type": "stream",
          "text": [
            "32/32 [==============================] - 0s 8ms/step\n",
            "3/3 [==============================] - 0s 12ms/step\n",
            "32/32 [==============================] - 0s 3ms/step\n"
          ]
        },
        {
          "name": "stderr",
          "output_type": "stream",
          "text": [
            "2025-04-10 12:45:04.086198: I tensorflow/core/common_runtime/executor.cc:1197] [/device:CPU:0] (DEBUG INFO) Executor start aborting (this does not indicate an error and you can ignore this message): INVALID_ARGUMENT: You must feed a value for placeholder tensor 'Placeholder/_2' with dtype float and shape [66,1]\n",
            "\t [[{{node Placeholder/_2}}]]\n",
            "2025-04-10 12:45:04.100153: I tensorflow/core/common_runtime/executor.cc:1197] [/device:CPU:0] (DEBUG INFO) Executor start aborting (this does not indicate an error and you can ignore this message): INVALID_ARGUMENT: You must feed a value for placeholder tensor 'Placeholder/_2' with dtype float and shape [66,1]\n",
            "\t [[{{node Placeholder/_2}}]]\n",
            "2025-04-10 12:45:04.108511: I tensorflow/core/common_runtime/executor.cc:1197] [/device:CPU:0] (DEBUG INFO) Executor start aborting (this does not indicate an error and you can ignore this message): INVALID_ARGUMENT: You must feed a value for placeholder tensor 'Placeholder/_2' with dtype float and shape [66,1]\n",
            "\t [[{{node Placeholder/_2}}]]\n"
          ]
        },
        {
          "name": "stdout",
          "output_type": "stream",
          "text": [
            "3/3 [==============================] - 0s 3ms/step\n",
            "20/32 [=================>............] - ETA: 0s"
          ]
        },
        {
          "name": "stderr",
          "output_type": "stream",
          "text": [
            "2025-04-10 12:45:04.475720: I tensorflow/core/common_runtime/executor.cc:1197] [/device:CPU:0] (DEBUG INFO) Executor start aborting (this does not indicate an error and you can ignore this message): INVALID_ARGUMENT: You must feed a value for placeholder tensor 'Placeholder/_2' with dtype float and shape [66,1]\n",
            "\t [[{{node Placeholder/_2}}]]\n",
            "2025-04-10 12:45:04.494833: I tensorflow/core/common_runtime/executor.cc:1197] [/device:CPU:0] (DEBUG INFO) Executor start aborting (this does not indicate an error and you can ignore this message): INVALID_ARGUMENT: You must feed a value for placeholder tensor 'Placeholder/_2' with dtype float and shape [66,1]\n",
            "\t [[{{node Placeholder/_2}}]]\n",
            "2025-04-10 12:45:04.506018: I tensorflow/core/common_runtime/executor.cc:1197] [/device:CPU:0] (DEBUG INFO) Executor start aborting (this does not indicate an error and you can ignore this message): INVALID_ARGUMENT: You must feed a value for placeholder tensor 'Placeholder/_2' with dtype float and shape [66,1]\n",
            "\t [[{{node Placeholder/_2}}]]\n"
          ]
        },
        {
          "name": "stdout",
          "output_type": "stream",
          "text": [
            "32/32 [==============================] - 0s 3ms/step\n",
            "3/3 [==============================] - 0s 3ms/step\n",
            "32/32 [==============================] - 0s 2ms/step\n"
          ]
        },
        {
          "name": "stderr",
          "output_type": "stream",
          "text": [
            "2025-04-10 12:45:04.963429: I tensorflow/core/common_runtime/executor.cc:1197] [/device:CPU:0] (DEBUG INFO) Executor start aborting (this does not indicate an error and you can ignore this message): INVALID_ARGUMENT: You must feed a value for placeholder tensor 'Placeholder/_2' with dtype float and shape [66,1]\n",
            "\t [[{{node Placeholder/_2}}]]\n",
            "2025-04-10 12:45:04.979061: I tensorflow/core/common_runtime/executor.cc:1197] [/device:CPU:0] (DEBUG INFO) Executor start aborting (this does not indicate an error and you can ignore this message): INVALID_ARGUMENT: You must feed a value for placeholder tensor 'Placeholder/_2' with dtype float and shape [66,1]\n",
            "\t [[{{node Placeholder/_2}}]]\n",
            "2025-04-10 12:45:04.990084: I tensorflow/core/common_runtime/executor.cc:1197] [/device:CPU:0] (DEBUG INFO) Executor start aborting (this does not indicate an error and you can ignore this message): INVALID_ARGUMENT: You must feed a value for placeholder tensor 'Placeholder/_2' with dtype float and shape [66,1]\n",
            "\t [[{{node Placeholder/_2}}]]\n"
          ]
        },
        {
          "name": "stdout",
          "output_type": "stream",
          "text": [
            "3/3 [==============================] - 0s 4ms/step\n",
            "21/32 [==================>...........] - ETA: 0s"
          ]
        },
        {
          "name": "stderr",
          "output_type": "stream",
          "text": [
            "2025-04-10 12:45:05.382720: I tensorflow/core/common_runtime/executor.cc:1197] [/device:CPU:0] (DEBUG INFO) Executor start aborting (this does not indicate an error and you can ignore this message): INVALID_ARGUMENT: You must feed a value for placeholder tensor 'Placeholder/_2' with dtype float and shape [66,1]\n",
            "\t [[{{node Placeholder/_2}}]]\n",
            "2025-04-10 12:45:05.407409: I tensorflow/core/common_runtime/executor.cc:1197] [/device:CPU:0] (DEBUG INFO) Executor start aborting (this does not indicate an error and you can ignore this message): INVALID_ARGUMENT: You must feed a value for placeholder tensor 'Placeholder/_2' with dtype float and shape [66,1]\n",
            "\t [[{{node Placeholder/_2}}]]\n",
            "2025-04-10 12:45:05.420061: I tensorflow/core/common_runtime/executor.cc:1197] [/device:CPU:0] (DEBUG INFO) Executor start aborting (this does not indicate an error and you can ignore this message): INVALID_ARGUMENT: You must feed a value for placeholder tensor 'Placeholder/_2' with dtype float and shape [66,1]\n",
            "\t [[{{node Placeholder/_2}}]]\n"
          ]
        },
        {
          "name": "stdout",
          "output_type": "stream",
          "text": [
            "32/32 [==============================] - 0s 6ms/step\n",
            "3/3 [==============================] - 0s 3ms/step\n",
            "32/32 [==============================] - 0s 3ms/step\n"
          ]
        },
        {
          "name": "stderr",
          "output_type": "stream",
          "text": [
            "2025-04-10 12:45:05.945033: I tensorflow/core/common_runtime/executor.cc:1197] [/device:CPU:0] (DEBUG INFO) Executor start aborting (this does not indicate an error and you can ignore this message): INVALID_ARGUMENT: You must feed a value for placeholder tensor 'Placeholder/_2' with dtype float and shape [66,1]\n",
            "\t [[{{node Placeholder/_2}}]]\n",
            "2025-04-10 12:45:05.960237: I tensorflow/core/common_runtime/executor.cc:1197] [/device:CPU:0] (DEBUG INFO) Executor start aborting (this does not indicate an error and you can ignore this message): INVALID_ARGUMENT: You must feed a value for placeholder tensor 'Placeholder/_2' with dtype float and shape [66,1]\n",
            "\t [[{{node Placeholder/_2}}]]\n",
            "2025-04-10 12:45:05.970336: I tensorflow/core/common_runtime/executor.cc:1197] [/device:CPU:0] (DEBUG INFO) Executor start aborting (this does not indicate an error and you can ignore this message): INVALID_ARGUMENT: You must feed a value for placeholder tensor 'Placeholder/_2' with dtype float and shape [66,1]\n",
            "\t [[{{node Placeholder/_2}}]]\n"
          ]
        },
        {
          "name": "stdout",
          "output_type": "stream",
          "text": [
            "3/3 [==============================] - 0s 4ms/step\n"
          ]
        },
        {
          "name": "stderr",
          "output_type": "stream",
          "text": [
            "2025-04-10 12:45:06.366558: I tensorflow/core/common_runtime/executor.cc:1197] [/device:CPU:0] (DEBUG INFO) Executor start aborting (this does not indicate an error and you can ignore this message): INVALID_ARGUMENT: You must feed a value for placeholder tensor 'Placeholder/_2' with dtype float and shape [66,1]\n",
            "\t [[{{node Placeholder/_2}}]]\n",
            "2025-04-10 12:45:06.496588: I tensorflow/core/common_runtime/executor.cc:1197] [/device:CPU:0] (DEBUG INFO) Executor start aborting (this does not indicate an error and you can ignore this message): INVALID_ARGUMENT: You must feed a value for placeholder tensor 'Placeholder/_2' with dtype float and shape [66,1]\n",
            "\t [[{{node Placeholder/_2}}]]\n",
            "2025-04-10 12:45:06.541428: I tensorflow/core/common_runtime/executor.cc:1197] [/device:CPU:0] (DEBUG INFO) Executor start aborting (this does not indicate an error and you can ignore this message): INVALID_ARGUMENT: You must feed a value for placeholder tensor 'Placeholder/_2' with dtype float and shape [66,1]\n",
            "\t [[{{node Placeholder/_2}}]]\n"
          ]
        },
        {
          "name": "stdout",
          "output_type": "stream",
          "text": [
            "32/32 [==============================] - 0s 4ms/step\n",
            "3/3 [==============================] - 0s 3ms/step\n",
            "32/32 [==============================] - 0s 2ms/step\n"
          ]
        },
        {
          "name": "stderr",
          "output_type": "stream",
          "text": [
            "2025-04-10 12:45:06.956657: I tensorflow/core/common_runtime/executor.cc:1197] [/device:CPU:0] (DEBUG INFO) Executor start aborting (this does not indicate an error and you can ignore this message): INVALID_ARGUMENT: You must feed a value for placeholder tensor 'Placeholder/_2' with dtype float and shape [66,1]\n",
            "\t [[{{node Placeholder/_2}}]]\n",
            "2025-04-10 12:45:06.964203: I tensorflow/core/common_runtime/executor.cc:1197] [/device:CPU:0] (DEBUG INFO) Executor start aborting (this does not indicate an error and you can ignore this message): INVALID_ARGUMENT: You must feed a value for placeholder tensor 'Placeholder/_2' with dtype float and shape [66,1]\n",
            "\t [[{{node Placeholder/_2}}]]\n",
            "2025-04-10 12:45:06.997955: I tensorflow/core/common_runtime/executor.cc:1197] [/device:CPU:0] (DEBUG INFO) Executor start aborting (this does not indicate an error and you can ignore this message): INVALID_ARGUMENT: You must feed a value for placeholder tensor 'Placeholder/_2' with dtype float and shape [66,1]\n",
            "\t [[{{node Placeholder/_2}}]]\n"
          ]
        },
        {
          "name": "stdout",
          "output_type": "stream",
          "text": [
            "3/3 [==============================] - 0s 4ms/step\n",
            "23/32 [====================>.........] - ETA: 0s"
          ]
        },
        {
          "name": "stderr",
          "output_type": "stream",
          "text": [
            "2025-04-10 12:45:07.382202: I tensorflow/core/common_runtime/executor.cc:1197] [/device:CPU:0] (DEBUG INFO) Executor start aborting (this does not indicate an error and you can ignore this message): INVALID_ARGUMENT: You must feed a value for placeholder tensor 'Placeholder/_2' with dtype float and shape [66,1]\n",
            "\t [[{{node Placeholder/_2}}]]\n",
            "2025-04-10 12:45:07.400733: I tensorflow/core/common_runtime/executor.cc:1197] [/device:CPU:0] (DEBUG INFO) Executor start aborting (this does not indicate an error and you can ignore this message): INVALID_ARGUMENT: You must feed a value for placeholder tensor 'Placeholder/_2' with dtype float and shape [66,1]\n",
            "\t [[{{node Placeholder/_2}}]]\n",
            "2025-04-10 12:45:07.416176: I tensorflow/core/common_runtime/executor.cc:1197] [/device:CPU:0] (DEBUG INFO) Executor start aborting (this does not indicate an error and you can ignore this message): INVALID_ARGUMENT: You must feed a value for placeholder tensor 'Placeholder/_2' with dtype float and shape [66,1]\n",
            "\t [[{{node Placeholder/_2}}]]\n"
          ]
        },
        {
          "name": "stdout",
          "output_type": "stream",
          "text": [
            "32/32 [==============================] - 0s 3ms/step\n",
            "3/3 [==============================] - 0s 3ms/step\n",
            "32/32 [==============================] - 0s 3ms/step\n"
          ]
        },
        {
          "name": "stderr",
          "output_type": "stream",
          "text": [
            "2025-04-10 12:45:07.830676: I tensorflow/core/common_runtime/executor.cc:1197] [/device:CPU:0] (DEBUG INFO) Executor start aborting (this does not indicate an error and you can ignore this message): INVALID_ARGUMENT: You must feed a value for placeholder tensor 'Placeholder/_2' with dtype float and shape [66,1]\n",
            "\t [[{{node Placeholder/_2}}]]\n",
            "2025-04-10 12:45:07.846474: I tensorflow/core/common_runtime/executor.cc:1197] [/device:CPU:0] (DEBUG INFO) Executor start aborting (this does not indicate an error and you can ignore this message): INVALID_ARGUMENT: You must feed a value for placeholder tensor 'Placeholder/_2' with dtype float and shape [66,1]\n",
            "\t [[{{node Placeholder/_2}}]]\n",
            "2025-04-10 12:45:07.855760: I tensorflow/core/common_runtime/executor.cc:1197] [/device:CPU:0] (DEBUG INFO) Executor start aborting (this does not indicate an error and you can ignore this message): INVALID_ARGUMENT: You must feed a value for placeholder tensor 'Placeholder/_2' with dtype float and shape [66,1]\n",
            "\t [[{{node Placeholder/_2}}]]\n"
          ]
        },
        {
          "name": "stdout",
          "output_type": "stream",
          "text": [
            "3/3 [==============================] - 0s 3ms/step\n",
            "20/32 [=================>............] - ETA: 0s"
          ]
        },
        {
          "name": "stderr",
          "output_type": "stream",
          "text": [
            "2025-04-10 12:45:08.230026: I tensorflow/core/common_runtime/executor.cc:1197] [/device:CPU:0] (DEBUG INFO) Executor start aborting (this does not indicate an error and you can ignore this message): INVALID_ARGUMENT: You must feed a value for placeholder tensor 'Placeholder/_2' with dtype float and shape [66,1]\n",
            "\t [[{{node Placeholder/_2}}]]\n",
            "2025-04-10 12:45:08.252680: I tensorflow/core/common_runtime/executor.cc:1197] [/device:CPU:0] (DEBUG INFO) Executor start aborting (this does not indicate an error and you can ignore this message): INVALID_ARGUMENT: You must feed a value for placeholder tensor 'Placeholder/_2' with dtype float and shape [66,1]\n",
            "\t [[{{node Placeholder/_2}}]]\n",
            "2025-04-10 12:45:08.265659: I tensorflow/core/common_runtime/executor.cc:1197] [/device:CPU:0] (DEBUG INFO) Executor start aborting (this does not indicate an error and you can ignore this message): INVALID_ARGUMENT: You must feed a value for placeholder tensor 'Placeholder/_2' with dtype float and shape [66,1]\n",
            "\t [[{{node Placeholder/_2}}]]\n"
          ]
        },
        {
          "name": "stdout",
          "output_type": "stream",
          "text": [
            "32/32 [==============================] - 0s 5ms/step\n",
            "3/3 [==============================] - 0s 4ms/step\n",
            "25/32 [======================>.......] - ETA: 0s"
          ]
        },
        {
          "name": "stderr",
          "output_type": "stream",
          "text": [
            "2025-04-10 12:45:08.720108: I tensorflow/core/common_runtime/executor.cc:1197] [/device:CPU:0] (DEBUG INFO) Executor start aborting (this does not indicate an error and you can ignore this message): INVALID_ARGUMENT: You must feed a value for placeholder tensor 'Placeholder/_2' with dtype float and shape [66,1]\n",
            "\t [[{{node Placeholder/_2}}]]\n",
            "2025-04-10 12:45:08.731007: I tensorflow/core/common_runtime/executor.cc:1197] [/device:CPU:0] (DEBUG INFO) Executor start aborting (this does not indicate an error and you can ignore this message): INVALID_ARGUMENT: You must feed a value for placeholder tensor 'Placeholder/_2' with dtype float and shape [66,1]\n",
            "\t [[{{node Placeholder/_2}}]]\n",
            "2025-04-10 12:45:08.741772: I tensorflow/core/common_runtime/executor.cc:1197] [/device:CPU:0] (DEBUG INFO) Executor start aborting (this does not indicate an error and you can ignore this message): INVALID_ARGUMENT: You must feed a value for placeholder tensor 'Placeholder/_2' with dtype float and shape [66,1]\n",
            "\t [[{{node Placeholder/_2}}]]\n"
          ]
        },
        {
          "name": "stdout",
          "output_type": "stream",
          "text": [
            "32/32 [==============================] - 0s 5ms/step\n",
            "3/3 [==============================] - 0s 3ms/step\n",
            "32/32 [==============================] - 0s 3ms/step\n"
          ]
        },
        {
          "name": "stderr",
          "output_type": "stream",
          "text": [
            "2025-04-10 12:45:09.237078: I tensorflow/core/common_runtime/executor.cc:1197] [/device:CPU:0] (DEBUG INFO) Executor start aborting (this does not indicate an error and you can ignore this message): INVALID_ARGUMENT: You must feed a value for placeholder tensor 'Placeholder/_2' with dtype float and shape [66,1]\n",
            "\t [[{{node Placeholder/_2}}]]\n",
            "2025-04-10 12:45:09.250268: I tensorflow/core/common_runtime/executor.cc:1197] [/device:CPU:0] (DEBUG INFO) Executor start aborting (this does not indicate an error and you can ignore this message): INVALID_ARGUMENT: You must feed a value for placeholder tensor 'Placeholder/_2' with dtype float and shape [66,1]\n",
            "\t [[{{node Placeholder/_2}}]]\n",
            "2025-04-10 12:45:09.259266: I tensorflow/core/common_runtime/executor.cc:1197] [/device:CPU:0] (DEBUG INFO) Executor start aborting (this does not indicate an error and you can ignore this message): INVALID_ARGUMENT: You must feed a value for placeholder tensor 'Placeholder/_2' with dtype float and shape [66,1]\n",
            "\t [[{{node Placeholder/_2}}]]\n"
          ]
        },
        {
          "name": "stdout",
          "output_type": "stream",
          "text": [
            "3/3 [==============================] - 0s 4ms/step\n",
            "32/32 [==============================] - 0s 3ms/step\n"
          ]
        },
        {
          "name": "stderr",
          "output_type": "stream",
          "text": [
            "2025-04-10 12:45:09.656254: I tensorflow/core/common_runtime/executor.cc:1197] [/device:CPU:0] (DEBUG INFO) Executor start aborting (this does not indicate an error and you can ignore this message): INVALID_ARGUMENT: You must feed a value for placeholder tensor 'Placeholder/_2' with dtype float and shape [66,1]\n",
            "\t [[{{node Placeholder/_2}}]]\n",
            "2025-04-10 12:45:09.667608: I tensorflow/core/common_runtime/executor.cc:1197] [/device:CPU:0] (DEBUG INFO) Executor start aborting (this does not indicate an error and you can ignore this message): INVALID_ARGUMENT: You must feed a value for placeholder tensor 'Placeholder/_2' with dtype float and shape [66,1]\n",
            "\t [[{{node Placeholder/_2}}]]\n",
            "2025-04-10 12:45:09.675191: I tensorflow/core/common_runtime/executor.cc:1197] [/device:CPU:0] (DEBUG INFO) Executor start aborting (this does not indicate an error and you can ignore this message): INVALID_ARGUMENT: You must feed a value for placeholder tensor 'Placeholder/_2' with dtype float and shape [66,1]\n",
            "\t [[{{node Placeholder/_2}}]]\n"
          ]
        },
        {
          "name": "stdout",
          "output_type": "stream",
          "text": [
            "3/3 [==============================] - 0s 3ms/step\n",
            "32/32 [==============================] - 0s 2ms/step\n"
          ]
        },
        {
          "name": "stderr",
          "output_type": "stream",
          "text": [
            "2025-04-10 12:45:10.087205: I tensorflow/core/common_runtime/executor.cc:1197] [/device:CPU:0] (DEBUG INFO) Executor start aborting (this does not indicate an error and you can ignore this message): INVALID_ARGUMENT: You must feed a value for placeholder tensor 'Placeholder/_2' with dtype float and shape [66,1]\n",
            "\t [[{{node Placeholder/_2}}]]\n",
            "2025-04-10 12:45:10.099307: I tensorflow/core/common_runtime/executor.cc:1197] [/device:CPU:0] (DEBUG INFO) Executor start aborting (this does not indicate an error and you can ignore this message): INVALID_ARGUMENT: You must feed a value for placeholder tensor 'Placeholder/_2' with dtype float and shape [66,1]\n",
            "\t [[{{node Placeholder/_2}}]]\n",
            "2025-04-10 12:45:10.107068: I tensorflow/core/common_runtime/executor.cc:1197] [/device:CPU:0] (DEBUG INFO) Executor start aborting (this does not indicate an error and you can ignore this message): INVALID_ARGUMENT: You must feed a value for placeholder tensor 'Placeholder/_2' with dtype float and shape [66,1]\n",
            "\t [[{{node Placeholder/_2}}]]\n"
          ]
        },
        {
          "name": "stdout",
          "output_type": "stream",
          "text": [
            "3/3 [==============================] - 0s 3ms/step\n",
            "21/32 [==================>...........] - ETA: 0s"
          ]
        },
        {
          "name": "stderr",
          "output_type": "stream",
          "text": [
            "2025-04-10 12:45:10.507979: I tensorflow/core/common_runtime/executor.cc:1197] [/device:CPU:0] (DEBUG INFO) Executor start aborting (this does not indicate an error and you can ignore this message): INVALID_ARGUMENT: You must feed a value for placeholder tensor 'Placeholder/_2' with dtype float and shape [66,1]\n",
            "\t [[{{node Placeholder/_2}}]]\n",
            "2025-04-10 12:45:10.538293: I tensorflow/core/common_runtime/executor.cc:1197] [/device:CPU:0] (DEBUG INFO) Executor start aborting (this does not indicate an error and you can ignore this message): INVALID_ARGUMENT: You must feed a value for placeholder tensor 'Placeholder/_2' with dtype float and shape [66,1]\n",
            "\t [[{{node Placeholder/_2}}]]\n",
            "2025-04-10 12:45:10.548364: I tensorflow/core/common_runtime/executor.cc:1197] [/device:CPU:0] (DEBUG INFO) Executor start aborting (this does not indicate an error and you can ignore this message): INVALID_ARGUMENT: You must feed a value for placeholder tensor 'Placeholder/_2' with dtype float and shape [66,1]\n",
            "\t [[{{node Placeholder/_2}}]]\n"
          ]
        },
        {
          "name": "stdout",
          "output_type": "stream",
          "text": [
            "32/32 [==============================] - 0s 3ms/step\n",
            "3/3 [==============================] - 0s 3ms/step\n",
            "32/32 [==============================] - 0s 2ms/step\n"
          ]
        },
        {
          "name": "stderr",
          "output_type": "stream",
          "text": [
            "2025-04-10 12:45:10.974141: I tensorflow/core/common_runtime/executor.cc:1197] [/device:CPU:0] (DEBUG INFO) Executor start aborting (this does not indicate an error and you can ignore this message): INVALID_ARGUMENT: You must feed a value for placeholder tensor 'Placeholder/_2' with dtype float and shape [66,1]\n",
            "\t [[{{node Placeholder/_2}}]]\n",
            "2025-04-10 12:45:10.988171: I tensorflow/core/common_runtime/executor.cc:1197] [/device:CPU:0] (DEBUG INFO) Executor start aborting (this does not indicate an error and you can ignore this message): INVALID_ARGUMENT: You must feed a value for placeholder tensor 'Placeholder/_2' with dtype float and shape [66,1]\n",
            "\t [[{{node Placeholder/_2}}]]\n",
            "2025-04-10 12:45:10.995977: I tensorflow/core/common_runtime/executor.cc:1197] [/device:CPU:0] (DEBUG INFO) Executor start aborting (this does not indicate an error and you can ignore this message): INVALID_ARGUMENT: You must feed a value for placeholder tensor 'Placeholder/_2' with dtype float and shape [66,1]\n",
            "\t [[{{node Placeholder/_2}}]]\n"
          ]
        },
        {
          "name": "stdout",
          "output_type": "stream",
          "text": [
            "3/3 [==============================] - 0s 3ms/step\n",
            "32/32 [==============================] - 0s 2ms/step\n"
          ]
        },
        {
          "name": "stderr",
          "output_type": "stream",
          "text": [
            "2025-04-10 12:45:11.523528: I tensorflow/core/common_runtime/executor.cc:1197] [/device:CPU:0] (DEBUG INFO) Executor start aborting (this does not indicate an error and you can ignore this message): INVALID_ARGUMENT: You must feed a value for placeholder tensor 'Placeholder/_2' with dtype float and shape [66,1]\n",
            "\t [[{{node Placeholder/_2}}]]\n",
            "2025-04-10 12:45:11.533447: I tensorflow/core/common_runtime/executor.cc:1197] [/device:CPU:0] (DEBUG INFO) Executor start aborting (this does not indicate an error and you can ignore this message): INVALID_ARGUMENT: You must feed a value for placeholder tensor 'Placeholder/_2' with dtype float and shape [66,1]\n",
            "\t [[{{node Placeholder/_2}}]]\n",
            "2025-04-10 12:45:11.541513: I tensorflow/core/common_runtime/executor.cc:1197] [/device:CPU:0] (DEBUG INFO) Executor start aborting (this does not indicate an error and you can ignore this message): INVALID_ARGUMENT: You must feed a value for placeholder tensor 'Placeholder/_2' with dtype float and shape [66,1]\n",
            "\t [[{{node Placeholder/_2}}]]\n"
          ]
        },
        {
          "name": "stdout",
          "output_type": "stream",
          "text": [
            "3/3 [==============================] - 0s 3ms/step\n",
            "21/32 [==================>...........] - ETA: 0s"
          ]
        },
        {
          "name": "stderr",
          "output_type": "stream",
          "text": [
            "2025-04-10 12:45:11.897471: I tensorflow/core/common_runtime/executor.cc:1197] [/device:CPU:0] (DEBUG INFO) Executor start aborting (this does not indicate an error and you can ignore this message): INVALID_ARGUMENT: You must feed a value for placeholder tensor 'Placeholder/_2' with dtype float and shape [66,1]\n",
            "\t [[{{node Placeholder/_2}}]]\n",
            "2025-04-10 12:45:11.921134: I tensorflow/core/common_runtime/executor.cc:1197] [/device:CPU:0] (DEBUG INFO) Executor start aborting (this does not indicate an error and you can ignore this message): INVALID_ARGUMENT: You must feed a value for placeholder tensor 'Placeholder/_2' with dtype float and shape [66,1]\n",
            "\t [[{{node Placeholder/_2}}]]\n",
            "2025-04-10 12:45:11.934018: I tensorflow/core/common_runtime/executor.cc:1197] [/device:CPU:0] (DEBUG INFO) Executor start aborting (this does not indicate an error and you can ignore this message): INVALID_ARGUMENT: You must feed a value for placeholder tensor 'Placeholder/_2' with dtype float and shape [66,1]\n",
            "\t [[{{node Placeholder/_2}}]]\n"
          ]
        },
        {
          "name": "stdout",
          "output_type": "stream",
          "text": [
            "32/32 [==============================] - 0s 3ms/step\n",
            "3/3 [==============================] - 0s 5ms/step\n",
            "32/32 [==============================] - 0s 3ms/step\n"
          ]
        },
        {
          "name": "stderr",
          "output_type": "stream",
          "text": [
            "2025-04-10 12:45:12.393005: I tensorflow/core/common_runtime/executor.cc:1197] [/device:CPU:0] (DEBUG INFO) Executor start aborting (this does not indicate an error and you can ignore this message): INVALID_ARGUMENT: You must feed a value for placeholder tensor 'Placeholder/_2' with dtype float and shape [66,1]\n",
            "\t [[{{node Placeholder/_2}}]]\n",
            "2025-04-10 12:45:12.407528: I tensorflow/core/common_runtime/executor.cc:1197] [/device:CPU:0] (DEBUG INFO) Executor start aborting (this does not indicate an error and you can ignore this message): INVALID_ARGUMENT: You must feed a value for placeholder tensor 'Placeholder/_2' with dtype float and shape [66,1]\n",
            "\t [[{{node Placeholder/_2}}]]\n",
            "2025-04-10 12:45:12.416312: I tensorflow/core/common_runtime/executor.cc:1197] [/device:CPU:0] (DEBUG INFO) Executor start aborting (this does not indicate an error and you can ignore this message): INVALID_ARGUMENT: You must feed a value for placeholder tensor 'Placeholder/_2' with dtype float and shape [66,1]\n",
            "\t [[{{node Placeholder/_2}}]]\n"
          ]
        },
        {
          "name": "stdout",
          "output_type": "stream",
          "text": [
            "3/3 [==============================] - 0s 3ms/step\n",
            "32/32 [==============================] - 0s 2ms/step\n"
          ]
        },
        {
          "name": "stderr",
          "output_type": "stream",
          "text": [
            "2025-04-10 12:45:12.803810: I tensorflow/core/common_runtime/executor.cc:1197] [/device:CPU:0] (DEBUG INFO) Executor start aborting (this does not indicate an error and you can ignore this message): INVALID_ARGUMENT: You must feed a value for placeholder tensor 'Placeholder/_2' with dtype float and shape [66,1]\n",
            "\t [[{{node Placeholder/_2}}]]\n",
            "2025-04-10 12:45:12.813571: I tensorflow/core/common_runtime/executor.cc:1197] [/device:CPU:0] (DEBUG INFO) Executor start aborting (this does not indicate an error and you can ignore this message): INVALID_ARGUMENT: You must feed a value for placeholder tensor 'Placeholder/_2' with dtype float and shape [66,1]\n",
            "\t [[{{node Placeholder/_2}}]]\n",
            "2025-04-10 12:45:12.828710: I tensorflow/core/common_runtime/executor.cc:1197] [/device:CPU:0] (DEBUG INFO) Executor start aborting (this does not indicate an error and you can ignore this message): INVALID_ARGUMENT: You must feed a value for placeholder tensor 'Placeholder/_2' with dtype float and shape [66,1]\n",
            "\t [[{{node Placeholder/_2}}]]\n"
          ]
        },
        {
          "name": "stdout",
          "output_type": "stream",
          "text": [
            "3/3 [==============================] - 0s 3ms/step\n",
            "32/32 [==============================] - 0s 2ms/step\n"
          ]
        },
        {
          "name": "stderr",
          "output_type": "stream",
          "text": [
            "2025-04-10 12:45:13.207894: I tensorflow/core/common_runtime/executor.cc:1197] [/device:CPU:0] (DEBUG INFO) Executor start aborting (this does not indicate an error and you can ignore this message): INVALID_ARGUMENT: You must feed a value for placeholder tensor 'Placeholder/_2' with dtype float and shape [66,1]\n",
            "\t [[{{node Placeholder/_2}}]]\n",
            "2025-04-10 12:45:13.226306: I tensorflow/core/common_runtime/executor.cc:1197] [/device:CPU:0] (DEBUG INFO) Executor start aborting (this does not indicate an error and you can ignore this message): INVALID_ARGUMENT: You must feed a value for placeholder tensor 'Placeholder/_2' with dtype float and shape [66,1]\n",
            "\t [[{{node Placeholder/_2}}]]\n",
            "2025-04-10 12:45:13.234035: I tensorflow/core/common_runtime/executor.cc:1197] [/device:CPU:0] (DEBUG INFO) Executor start aborting (this does not indicate an error and you can ignore this message): INVALID_ARGUMENT: You must feed a value for placeholder tensor 'Placeholder/_2' with dtype float and shape [66,1]\n",
            "\t [[{{node Placeholder/_2}}]]\n"
          ]
        },
        {
          "name": "stdout",
          "output_type": "stream",
          "text": [
            "3/3 [==============================] - 0s 3ms/step\n",
            " 1/32 [..............................] - ETA: 0s"
          ]
        },
        {
          "name": "stderr",
          "output_type": "stream",
          "text": [
            "2025-04-10 12:45:13.623596: I tensorflow/core/common_runtime/executor.cc:1197] [/device:CPU:0] (DEBUG INFO) Executor start aborting (this does not indicate an error and you can ignore this message): INVALID_ARGUMENT: You must feed a value for placeholder tensor 'Placeholder/_2' with dtype float and shape [66,1]\n",
            "\t [[{{node Placeholder/_2}}]]\n",
            "2025-04-10 12:45:13.639870: I tensorflow/core/common_runtime/executor.cc:1197] [/device:CPU:0] (DEBUG INFO) Executor start aborting (this does not indicate an error and you can ignore this message): INVALID_ARGUMENT: You must feed a value for placeholder tensor 'Placeholder/_2' with dtype float and shape [66,1]\n",
            "\t [[{{node Placeholder/_2}}]]\n",
            "2025-04-10 12:45:13.651681: I tensorflow/core/common_runtime/executor.cc:1197] [/device:CPU:0] (DEBUG INFO) Executor start aborting (this does not indicate an error and you can ignore this message): INVALID_ARGUMENT: You must feed a value for placeholder tensor 'Placeholder/_2' with dtype float and shape [66,1]\n",
            "\t [[{{node Placeholder/_2}}]]\n"
          ]
        },
        {
          "name": "stdout",
          "output_type": "stream",
          "text": [
            "32/32 [==============================] - 0s 8ms/step\n",
            "3/3 [==============================] - 0s 3ms/step\n",
            "32/32 [==============================] - 0s 2ms/step\n"
          ]
        },
        {
          "name": "stderr",
          "output_type": "stream",
          "text": [
            "2025-04-10 12:45:14.218797: I tensorflow/core/common_runtime/executor.cc:1197] [/device:CPU:0] (DEBUG INFO) Executor start aborting (this does not indicate an error and you can ignore this message): INVALID_ARGUMENT: You must feed a value for placeholder tensor 'Placeholder/_2' with dtype float and shape [66,1]\n",
            "\t [[{{node Placeholder/_2}}]]\n",
            "2025-04-10 12:45:14.232327: I tensorflow/core/common_runtime/executor.cc:1197] [/device:CPU:0] (DEBUG INFO) Executor start aborting (this does not indicate an error and you can ignore this message): INVALID_ARGUMENT: You must feed a value for placeholder tensor 'Placeholder/_2' with dtype float and shape [66,1]\n",
            "\t [[{{node Placeholder/_2}}]]\n",
            "2025-04-10 12:45:14.245036: I tensorflow/core/common_runtime/executor.cc:1197] [/device:CPU:0] (DEBUG INFO) Executor start aborting (this does not indicate an error and you can ignore this message): INVALID_ARGUMENT: You must feed a value for placeholder tensor 'Placeholder/_2' with dtype float and shape [66,1]\n",
            "\t [[{{node Placeholder/_2}}]]\n"
          ]
        },
        {
          "name": "stdout",
          "output_type": "stream",
          "text": [
            "3/3 [==============================] - 0s 3ms/step\n",
            "32/32 [==============================] - 0s 2ms/step\n"
          ]
        },
        {
          "name": "stderr",
          "output_type": "stream",
          "text": [
            "2025-04-10 12:45:14.617866: I tensorflow/core/common_runtime/executor.cc:1197] [/device:CPU:0] (DEBUG INFO) Executor start aborting (this does not indicate an error and you can ignore this message): INVALID_ARGUMENT: You must feed a value for placeholder tensor 'Placeholder/_2' with dtype float and shape [66,1]\n",
            "\t [[{{node Placeholder/_2}}]]\n",
            "2025-04-10 12:45:14.644531: I tensorflow/core/common_runtime/executor.cc:1197] [/device:CPU:0] (DEBUG INFO) Executor start aborting (this does not indicate an error and you can ignore this message): INVALID_ARGUMENT: You must feed a value for placeholder tensor 'Placeholder/_2' with dtype float and shape [66,1]\n",
            "\t [[{{node Placeholder/_2}}]]\n",
            "2025-04-10 12:45:14.652772: I tensorflow/core/common_runtime/executor.cc:1197] [/device:CPU:0] (DEBUG INFO) Executor start aborting (this does not indicate an error and you can ignore this message): INVALID_ARGUMENT: You must feed a value for placeholder tensor 'Placeholder/_2' with dtype float and shape [66,1]\n",
            "\t [[{{node Placeholder/_2}}]]\n"
          ]
        },
        {
          "name": "stdout",
          "output_type": "stream",
          "text": [
            "3/3 [==============================] - 0s 4ms/step\n",
            "32/32 [==============================] - 0s 2ms/step\n"
          ]
        },
        {
          "name": "stderr",
          "output_type": "stream",
          "text": [
            "2025-04-10 12:45:15.054860: I tensorflow/core/common_runtime/executor.cc:1197] [/device:CPU:0] (DEBUG INFO) Executor start aborting (this does not indicate an error and you can ignore this message): INVALID_ARGUMENT: You must feed a value for placeholder tensor 'Placeholder/_2' with dtype float and shape [66,1]\n",
            "\t [[{{node Placeholder/_2}}]]\n",
            "2025-04-10 12:45:15.067477: I tensorflow/core/common_runtime/executor.cc:1197] [/device:CPU:0] (DEBUG INFO) Executor start aborting (this does not indicate an error and you can ignore this message): INVALID_ARGUMENT: You must feed a value for placeholder tensor 'Placeholder/_2' with dtype float and shape [66,1]\n",
            "\t [[{{node Placeholder/_2}}]]\n",
            "2025-04-10 12:45:15.078093: I tensorflow/core/common_runtime/executor.cc:1197] [/device:CPU:0] (DEBUG INFO) Executor start aborting (this does not indicate an error and you can ignore this message): INVALID_ARGUMENT: You must feed a value for placeholder tensor 'Placeholder/_2' with dtype float and shape [66,1]\n",
            "\t [[{{node Placeholder/_2}}]]\n"
          ]
        },
        {
          "name": "stdout",
          "output_type": "stream",
          "text": [
            "3/3 [==============================] - 0s 5ms/step\n",
            "24/32 [=====================>........] - ETA: 0s"
          ]
        },
        {
          "name": "stderr",
          "output_type": "stream",
          "text": [
            "2025-04-10 12:45:15.449115: I tensorflow/core/common_runtime/executor.cc:1197] [/device:CPU:0] (DEBUG INFO) Executor start aborting (this does not indicate an error and you can ignore this message): INVALID_ARGUMENT: You must feed a value for placeholder tensor 'Placeholder/_2' with dtype float and shape [66,1]\n",
            "\t [[{{node Placeholder/_2}}]]\n",
            "2025-04-10 12:45:15.487639: I tensorflow/core/common_runtime/executor.cc:1197] [/device:CPU:0] (DEBUG INFO) Executor start aborting (this does not indicate an error and you can ignore this message): INVALID_ARGUMENT: You must feed a value for placeholder tensor 'Placeholder/_2' with dtype float and shape [66,1]\n",
            "\t [[{{node Placeholder/_2}}]]\n",
            "2025-04-10 12:45:15.499760: I tensorflow/core/common_runtime/executor.cc:1197] [/device:CPU:0] (DEBUG INFO) Executor start aborting (this does not indicate an error and you can ignore this message): INVALID_ARGUMENT: You must feed a value for placeholder tensor 'Placeholder/_2' with dtype float and shape [66,1]\n",
            "\t [[{{node Placeholder/_2}}]]\n"
          ]
        },
        {
          "name": "stdout",
          "output_type": "stream",
          "text": [
            "32/32 [==============================] - 0s 3ms/step\n",
            "3/3 [==============================] - 0s 3ms/step\n",
            "32/32 [==============================] - 0s 3ms/step\n"
          ]
        },
        {
          "name": "stderr",
          "output_type": "stream",
          "text": [
            "2025-04-10 12:45:15.973113: I tensorflow/core/common_runtime/executor.cc:1197] [/device:CPU:0] (DEBUG INFO) Executor start aborting (this does not indicate an error and you can ignore this message): INVALID_ARGUMENT: You must feed a value for placeholder tensor 'Placeholder/_2' with dtype float and shape [66,1]\n",
            "\t [[{{node Placeholder/_2}}]]\n",
            "2025-04-10 12:45:15.987138: I tensorflow/core/common_runtime/executor.cc:1197] [/device:CPU:0] (DEBUG INFO) Executor start aborting (this does not indicate an error and you can ignore this message): INVALID_ARGUMENT: You must feed a value for placeholder tensor 'Placeholder/_2' with dtype float and shape [66,1]\n",
            "\t [[{{node Placeholder/_2}}]]\n",
            "2025-04-10 12:45:15.997560: I tensorflow/core/common_runtime/executor.cc:1197] [/device:CPU:0] (DEBUG INFO) Executor start aborting (this does not indicate an error and you can ignore this message): INVALID_ARGUMENT: You must feed a value for placeholder tensor 'Placeholder/_2' with dtype float and shape [66,1]\n",
            "\t [[{{node Placeholder/_2}}]]\n"
          ]
        },
        {
          "name": "stdout",
          "output_type": "stream",
          "text": [
            "3/3 [==============================] - 0s 3ms/step\n",
            "32/32 [==============================] - 0s 3ms/step\n"
          ]
        },
        {
          "name": "stderr",
          "output_type": "stream",
          "text": [
            "2025-04-10 12:45:16.518913: I tensorflow/core/common_runtime/executor.cc:1197] [/device:CPU:0] (DEBUG INFO) Executor start aborting (this does not indicate an error and you can ignore this message): INVALID_ARGUMENT: You must feed a value for placeholder tensor 'Placeholder/_2' with dtype float and shape [66,1]\n",
            "\t [[{{node Placeholder/_2}}]]\n",
            "2025-04-10 12:45:16.535326: I tensorflow/core/common_runtime/executor.cc:1197] [/device:CPU:0] (DEBUG INFO) Executor start aborting (this does not indicate an error and you can ignore this message): INVALID_ARGUMENT: You must feed a value for placeholder tensor 'Placeholder/_2' with dtype float and shape [66,1]\n",
            "\t [[{{node Placeholder/_2}}]]\n",
            "2025-04-10 12:45:16.550442: I tensorflow/core/common_runtime/executor.cc:1197] [/device:CPU:0] (DEBUG INFO) Executor start aborting (this does not indicate an error and you can ignore this message): INVALID_ARGUMENT: You must feed a value for placeholder tensor 'Placeholder/_2' with dtype float and shape [66,1]\n",
            "\t [[{{node Placeholder/_2}}]]\n"
          ]
        },
        {
          "name": "stdout",
          "output_type": "stream",
          "text": [
            "3/3 [==============================] - 0s 3ms/step\n",
            "32/32 [==============================] - 0s 2ms/step\n"
          ]
        },
        {
          "name": "stderr",
          "output_type": "stream",
          "text": [
            "2025-04-10 12:45:16.915318: I tensorflow/core/common_runtime/executor.cc:1197] [/device:CPU:0] (DEBUG INFO) Executor start aborting (this does not indicate an error and you can ignore this message): INVALID_ARGUMENT: You must feed a value for placeholder tensor 'Placeholder/_2' with dtype float and shape [66,1]\n",
            "\t [[{{node Placeholder/_2}}]]\n",
            "2025-04-10 12:45:16.928987: I tensorflow/core/common_runtime/executor.cc:1197] [/device:CPU:0] (DEBUG INFO) Executor start aborting (this does not indicate an error and you can ignore this message): INVALID_ARGUMENT: You must feed a value for placeholder tensor 'Placeholder/_2' with dtype float and shape [66,1]\n",
            "\t [[{{node Placeholder/_2}}]]\n",
            "2025-04-10 12:45:16.953351: I tensorflow/core/common_runtime/executor.cc:1197] [/device:CPU:0] (DEBUG INFO) Executor start aborting (this does not indicate an error and you can ignore this message): INVALID_ARGUMENT: You must feed a value for placeholder tensor 'Placeholder/_2' with dtype float and shape [66,1]\n",
            "\t [[{{node Placeholder/_2}}]]\n"
          ]
        },
        {
          "name": "stdout",
          "output_type": "stream",
          "text": [
            "3/3 [==============================] - 0s 3ms/step\n",
            "17/32 [==============>...............] - ETA: 0s"
          ]
        },
        {
          "name": "stderr",
          "output_type": "stream",
          "text": [
            "2025-04-10 12:45:17.321598: I tensorflow/core/common_runtime/executor.cc:1197] [/device:CPU:0] (DEBUG INFO) Executor start aborting (this does not indicate an error and you can ignore this message): INVALID_ARGUMENT: You must feed a value for placeholder tensor 'Placeholder/_2' with dtype float and shape [66,1]\n",
            "\t [[{{node Placeholder/_2}}]]\n",
            "2025-04-10 12:45:17.342530: I tensorflow/core/common_runtime/executor.cc:1197] [/device:CPU:0] (DEBUG INFO) Executor start aborting (this does not indicate an error and you can ignore this message): INVALID_ARGUMENT: You must feed a value for placeholder tensor 'Placeholder/_2' with dtype float and shape [66,1]\n",
            "\t [[{{node Placeholder/_2}}]]\n",
            "2025-04-10 12:45:17.352162: I tensorflow/core/common_runtime/executor.cc:1197] [/device:CPU:0] (DEBUG INFO) Executor start aborting (this does not indicate an error and you can ignore this message): INVALID_ARGUMENT: You must feed a value for placeholder tensor 'Placeholder/_2' with dtype float and shape [66,1]\n",
            "\t [[{{node Placeholder/_2}}]]\n"
          ]
        },
        {
          "name": "stdout",
          "output_type": "stream",
          "text": [
            "32/32 [==============================] - 0s 3ms/step\n",
            "3/3 [==============================] - 0s 3ms/step\n",
            "32/32 [==============================] - 0s 2ms/step\n"
          ]
        },
        {
          "name": "stderr",
          "output_type": "stream",
          "text": [
            "2025-04-10 12:45:17.783270: I tensorflow/core/common_runtime/executor.cc:1197] [/device:CPU:0] (DEBUG INFO) Executor start aborting (this does not indicate an error and you can ignore this message): INVALID_ARGUMENT: You must feed a value for placeholder tensor 'Placeholder/_2' with dtype float and shape [66,1]\n",
            "\t [[{{node Placeholder/_2}}]]\n",
            "2025-04-10 12:45:17.799711: I tensorflow/core/common_runtime/executor.cc:1197] [/device:CPU:0] (DEBUG INFO) Executor start aborting (this does not indicate an error and you can ignore this message): INVALID_ARGUMENT: You must feed a value for placeholder tensor 'Placeholder/_2' with dtype float and shape [66,1]\n",
            "\t [[{{node Placeholder/_2}}]]\n",
            "2025-04-10 12:45:17.809407: I tensorflow/core/common_runtime/executor.cc:1197] [/device:CPU:0] (DEBUG INFO) Executor start aborting (this does not indicate an error and you can ignore this message): INVALID_ARGUMENT: You must feed a value for placeholder tensor 'Placeholder/_2' with dtype float and shape [66,1]\n",
            "\t [[{{node Placeholder/_2}}]]\n"
          ]
        },
        {
          "name": "stdout",
          "output_type": "stream",
          "text": [
            "3/3 [==============================] - 0s 3ms/step\n",
            "22/32 [===================>..........] - ETA: 0s"
          ]
        },
        {
          "name": "stderr",
          "output_type": "stream",
          "text": [
            "2025-04-10 12:45:18.189994: I tensorflow/core/common_runtime/executor.cc:1197] [/device:CPU:0] (DEBUG INFO) Executor start aborting (this does not indicate an error and you can ignore this message): INVALID_ARGUMENT: You must feed a value for placeholder tensor 'Placeholder/_2' with dtype float and shape [66,1]\n",
            "\t [[{{node Placeholder/_2}}]]\n",
            "2025-04-10 12:45:18.206522: I tensorflow/core/common_runtime/executor.cc:1197] [/device:CPU:0] (DEBUG INFO) Executor start aborting (this does not indicate an error and you can ignore this message): INVALID_ARGUMENT: You must feed a value for placeholder tensor 'Placeholder/_2' with dtype float and shape [66,1]\n",
            "\t [[{{node Placeholder/_2}}]]\n",
            "2025-04-10 12:45:18.220047: I tensorflow/core/common_runtime/executor.cc:1197] [/device:CPU:0] (DEBUG INFO) Executor start aborting (this does not indicate an error and you can ignore this message): INVALID_ARGUMENT: You must feed a value for placeholder tensor 'Placeholder/_2' with dtype float and shape [66,1]\n",
            "\t [[{{node Placeholder/_2}}]]\n"
          ]
        },
        {
          "name": "stdout",
          "output_type": "stream",
          "text": [
            "32/32 [==============================] - 0s 2ms/step\n",
            "3/3 [==============================] - 0s 3ms/step\n",
            "32/32 [==============================] - 0s 2ms/step\n"
          ]
        },
        {
          "name": "stderr",
          "output_type": "stream",
          "text": [
            "2025-04-10 12:45:18.746052: I tensorflow/core/common_runtime/executor.cc:1197] [/device:CPU:0] (DEBUG INFO) Executor start aborting (this does not indicate an error and you can ignore this message): INVALID_ARGUMENT: You must feed a value for placeholder tensor 'Placeholder/_2' with dtype float and shape [66,1]\n",
            "\t [[{{node Placeholder/_2}}]]\n",
            "2025-04-10 12:45:18.756853: I tensorflow/core/common_runtime/executor.cc:1197] [/device:CPU:0] (DEBUG INFO) Executor start aborting (this does not indicate an error and you can ignore this message): INVALID_ARGUMENT: You must feed a value for placeholder tensor 'Placeholder/_2' with dtype float and shape [66,1]\n",
            "\t [[{{node Placeholder/_2}}]]\n",
            "2025-04-10 12:45:18.768302: I tensorflow/core/common_runtime/executor.cc:1197] [/device:CPU:0] (DEBUG INFO) Executor start aborting (this does not indicate an error and you can ignore this message): INVALID_ARGUMENT: You must feed a value for placeholder tensor 'Placeholder/_2' with dtype float and shape [66,1]\n",
            "\t [[{{node Placeholder/_2}}]]\n"
          ]
        },
        {
          "name": "stdout",
          "output_type": "stream",
          "text": [
            "3/3 [==============================] - 0s 3ms/step\n",
            "32/32 [==============================] - 0s 2ms/step\n"
          ]
        },
        {
          "name": "stderr",
          "output_type": "stream",
          "text": [
            "2025-04-10 12:45:19.141643: I tensorflow/core/common_runtime/executor.cc:1197] [/device:CPU:0] (DEBUG INFO) Executor start aborting (this does not indicate an error and you can ignore this message): INVALID_ARGUMENT: You must feed a value for placeholder tensor 'Placeholder/_2' with dtype float and shape [66,1]\n",
            "\t [[{{node Placeholder/_2}}]]\n",
            "2025-04-10 12:45:19.158496: I tensorflow/core/common_runtime/executor.cc:1197] [/device:CPU:0] (DEBUG INFO) Executor start aborting (this does not indicate an error and you can ignore this message): INVALID_ARGUMENT: You must feed a value for placeholder tensor 'Placeholder/_2' with dtype float and shape [66,1]\n",
            "\t [[{{node Placeholder/_2}}]]\n",
            "2025-04-10 12:45:19.166833: I tensorflow/core/common_runtime/executor.cc:1197] [/device:CPU:0] (DEBUG INFO) Executor start aborting (this does not indicate an error and you can ignore this message): INVALID_ARGUMENT: You must feed a value for placeholder tensor 'Placeholder/_2' with dtype float and shape [66,1]\n",
            "\t [[{{node Placeholder/_2}}]]\n"
          ]
        },
        {
          "name": "stdout",
          "output_type": "stream",
          "text": [
            "3/3 [==============================] - 0s 3ms/step\n",
            "24/32 [=====================>........] - ETA: 0s"
          ]
        },
        {
          "name": "stderr",
          "output_type": "stream",
          "text": [
            "2025-04-10 12:45:19.778319: I tensorflow/core/common_runtime/executor.cc:1197] [/device:CPU:0] (DEBUG INFO) Executor start aborting (this does not indicate an error and you can ignore this message): INVALID_ARGUMENT: You must feed a value for placeholder tensor 'Placeholder/_2' with dtype float and shape [66,1]\n",
            "\t [[{{node Placeholder/_2}}]]\n",
            "2025-04-10 12:45:19.802139: I tensorflow/core/common_runtime/executor.cc:1197] [/device:CPU:0] (DEBUG INFO) Executor start aborting (this does not indicate an error and you can ignore this message): INVALID_ARGUMENT: You must feed a value for placeholder tensor 'Placeholder/_2' with dtype float and shape [66,1]\n",
            "\t [[{{node Placeholder/_2}}]]\n",
            "2025-04-10 12:45:19.815022: I tensorflow/core/common_runtime/executor.cc:1197] [/device:CPU:0] (DEBUG INFO) Executor start aborting (this does not indicate an error and you can ignore this message): INVALID_ARGUMENT: You must feed a value for placeholder tensor 'Placeholder/_2' with dtype float and shape [66,1]\n",
            "\t [[{{node Placeholder/_2}}]]\n"
          ]
        },
        {
          "name": "stdout",
          "output_type": "stream",
          "text": [
            "32/32 [==============================] - 0s 3ms/step\n",
            "3/3 [==============================] - 0s 4ms/step\n",
            "32/32 [==============================] - 0s 2ms/step\n"
          ]
        },
        {
          "name": "stderr",
          "output_type": "stream",
          "text": [
            "2025-04-10 12:45:20.206491: I tensorflow/core/common_runtime/executor.cc:1197] [/device:CPU:0] (DEBUG INFO) Executor start aborting (this does not indicate an error and you can ignore this message): INVALID_ARGUMENT: You must feed a value for placeholder tensor 'Placeholder/_2' with dtype float and shape [66,1]\n",
            "\t [[{{node Placeholder/_2}}]]\n",
            "2025-04-10 12:45:20.219433: I tensorflow/core/common_runtime/executor.cc:1197] [/device:CPU:0] (DEBUG INFO) Executor start aborting (this does not indicate an error and you can ignore this message): INVALID_ARGUMENT: You must feed a value for placeholder tensor 'Placeholder/_2' with dtype float and shape [66,1]\n",
            "\t [[{{node Placeholder/_2}}]]\n",
            "2025-04-10 12:45:20.231009: I tensorflow/core/common_runtime/executor.cc:1197] [/device:CPU:0] (DEBUG INFO) Executor start aborting (this does not indicate an error and you can ignore this message): INVALID_ARGUMENT: You must feed a value for placeholder tensor 'Placeholder/_2' with dtype float and shape [66,1]\n",
            "\t [[{{node Placeholder/_2}}]]\n"
          ]
        },
        {
          "name": "stdout",
          "output_type": "stream",
          "text": [
            "3/3 [==============================] - 0s 4ms/step\n",
            "32/32 [==============================] - 0s 2ms/step\n"
          ]
        },
        {
          "name": "stderr",
          "output_type": "stream",
          "text": [
            "2025-04-10 12:45:20.644305: I tensorflow/core/common_runtime/executor.cc:1197] [/device:CPU:0] (DEBUG INFO) Executor start aborting (this does not indicate an error and you can ignore this message): INVALID_ARGUMENT: You must feed a value for placeholder tensor 'Placeholder/_2' with dtype float and shape [66,1]\n",
            "\t [[{{node Placeholder/_2}}]]\n",
            "2025-04-10 12:45:20.660873: I tensorflow/core/common_runtime/executor.cc:1197] [/device:CPU:0] (DEBUG INFO) Executor start aborting (this does not indicate an error and you can ignore this message): INVALID_ARGUMENT: You must feed a value for placeholder tensor 'Placeholder/_2' with dtype float and shape [66,1]\n",
            "\t [[{{node Placeholder/_2}}]]\n",
            "2025-04-10 12:45:20.670706: I tensorflow/core/common_runtime/executor.cc:1197] [/device:CPU:0] (DEBUG INFO) Executor start aborting (this does not indicate an error and you can ignore this message): INVALID_ARGUMENT: You must feed a value for placeholder tensor 'Placeholder/_2' with dtype float and shape [66,1]\n",
            "\t [[{{node Placeholder/_2}}]]\n"
          ]
        },
        {
          "name": "stdout",
          "output_type": "stream",
          "text": [
            "3/3 [==============================] - 0s 4ms/step\n",
            " 1/32 [..............................] - ETA: 0s"
          ]
        },
        {
          "name": "stderr",
          "output_type": "stream",
          "text": [
            "2025-04-10 12:45:21.100182: I tensorflow/core/common_runtime/executor.cc:1197] [/device:CPU:0] (DEBUG INFO) Executor start aborting (this does not indicate an error and you can ignore this message): INVALID_ARGUMENT: You must feed a value for placeholder tensor 'Placeholder/_2' with dtype float and shape [66,1]\n",
            "\t [[{{node Placeholder/_2}}]]\n",
            "2025-04-10 12:45:21.113039: I tensorflow/core/common_runtime/executor.cc:1197] [/device:CPU:0] (DEBUG INFO) Executor start aborting (this does not indicate an error and you can ignore this message): INVALID_ARGUMENT: You must feed a value for placeholder tensor 'Placeholder/_2' with dtype float and shape [66,1]\n",
            "\t [[{{node Placeholder/_2}}]]\n",
            "2025-04-10 12:45:21.123028: I tensorflow/core/common_runtime/executor.cc:1197] [/device:CPU:0] (DEBUG INFO) Executor start aborting (this does not indicate an error and you can ignore this message): INVALID_ARGUMENT: You must feed a value for placeholder tensor 'Placeholder/_2' with dtype float and shape [66,1]\n",
            "\t [[{{node Placeholder/_2}}]]\n"
          ]
        },
        {
          "name": "stdout",
          "output_type": "stream",
          "text": [
            "32/32 [==============================] - 0s 9ms/step\n",
            "3/3 [==============================] - 0s 3ms/step\n",
            "32/32 [==============================] - 0s 2ms/step\n"
          ]
        },
        {
          "name": "stderr",
          "output_type": "stream",
          "text": [
            "2025-04-10 12:45:21.672260: I tensorflow/core/common_runtime/executor.cc:1197] [/device:CPU:0] (DEBUG INFO) Executor start aborting (this does not indicate an error and you can ignore this message): INVALID_ARGUMENT: You must feed a value for placeholder tensor 'Placeholder/_2' with dtype float and shape [66,1]\n",
            "\t [[{{node Placeholder/_2}}]]\n",
            "2025-04-10 12:45:21.683595: I tensorflow/core/common_runtime/executor.cc:1197] [/device:CPU:0] (DEBUG INFO) Executor start aborting (this does not indicate an error and you can ignore this message): INVALID_ARGUMENT: You must feed a value for placeholder tensor 'Placeholder/_2' with dtype float and shape [66,1]\n",
            "\t [[{{node Placeholder/_2}}]]\n",
            "2025-04-10 12:45:21.696432: I tensorflow/core/common_runtime/executor.cc:1197] [/device:CPU:0] (DEBUG INFO) Executor start aborting (this does not indicate an error and you can ignore this message): INVALID_ARGUMENT: You must feed a value for placeholder tensor 'Placeholder/_2' with dtype float and shape [66,1]\n",
            "\t [[{{node Placeholder/_2}}]]\n"
          ]
        },
        {
          "name": "stdout",
          "output_type": "stream",
          "text": [
            "3/3 [==============================] - 0s 3ms/step\n",
            "32/32 [==============================] - 0s 3ms/step\n"
          ]
        },
        {
          "name": "stderr",
          "output_type": "stream",
          "text": [
            "2025-04-10 12:45:22.073405: I tensorflow/core/common_runtime/executor.cc:1197] [/device:CPU:0] (DEBUG INFO) Executor start aborting (this does not indicate an error and you can ignore this message): INVALID_ARGUMENT: You must feed a value for placeholder tensor 'Placeholder/_2' with dtype float and shape [66,1]\n",
            "\t [[{{node Placeholder/_2}}]]\n",
            "2025-04-10 12:45:22.097061: I tensorflow/core/common_runtime/executor.cc:1197] [/device:CPU:0] (DEBUG INFO) Executor start aborting (this does not indicate an error and you can ignore this message): INVALID_ARGUMENT: You must feed a value for placeholder tensor 'Placeholder/_2' with dtype float and shape [66,1]\n",
            "\t [[{{node Placeholder/_2}}]]\n",
            "2025-04-10 12:45:22.106872: I tensorflow/core/common_runtime/executor.cc:1197] [/device:CPU:0] (DEBUG INFO) Executor start aborting (this does not indicate an error and you can ignore this message): INVALID_ARGUMENT: You must feed a value for placeholder tensor 'Placeholder/_2' with dtype float and shape [66,1]\n",
            "\t [[{{node Placeholder/_2}}]]\n"
          ]
        },
        {
          "name": "stdout",
          "output_type": "stream",
          "text": [
            "3/3 [==============================] - 0s 4ms/step\n",
            "32/32 [==============================] - 0s 3ms/step\n"
          ]
        },
        {
          "name": "stderr",
          "output_type": "stream",
          "text": [
            "2025-04-10 12:45:22.514828: I tensorflow/core/common_runtime/executor.cc:1197] [/device:CPU:0] (DEBUG INFO) Executor start aborting (this does not indicate an error and you can ignore this message): INVALID_ARGUMENT: You must feed a value for placeholder tensor 'Placeholder/_2' with dtype float and shape [66,1]\n",
            "\t [[{{node Placeholder/_2}}]]\n",
            "2025-04-10 12:45:22.526076: I tensorflow/core/common_runtime/executor.cc:1197] [/device:CPU:0] (DEBUG INFO) Executor start aborting (this does not indicate an error and you can ignore this message): INVALID_ARGUMENT: You must feed a value for placeholder tensor 'Placeholder/_2' with dtype float and shape [66,1]\n",
            "\t [[{{node Placeholder/_2}}]]\n",
            "2025-04-10 12:45:22.537359: I tensorflow/core/common_runtime/executor.cc:1197] [/device:CPU:0] (DEBUG INFO) Executor start aborting (this does not indicate an error and you can ignore this message): INVALID_ARGUMENT: You must feed a value for placeholder tensor 'Placeholder/_2' with dtype float and shape [66,1]\n",
            "\t [[{{node Placeholder/_2}}]]\n"
          ]
        },
        {
          "name": "stdout",
          "output_type": "stream",
          "text": [
            "3/3 [==============================] - 0s 4ms/step\n",
            "32/32 [==============================] - 0s 2ms/step\n"
          ]
        },
        {
          "name": "stderr",
          "output_type": "stream",
          "text": [
            "2025-04-10 12:45:22.895859: I tensorflow/core/common_runtime/executor.cc:1197] [/device:CPU:0] (DEBUG INFO) Executor start aborting (this does not indicate an error and you can ignore this message): INVALID_ARGUMENT: You must feed a value for placeholder tensor 'Placeholder/_2' with dtype float and shape [66,1]\n",
            "\t [[{{node Placeholder/_2}}]]\n",
            "2025-04-10 12:45:22.910758: I tensorflow/core/common_runtime/executor.cc:1197] [/device:CPU:0] (DEBUG INFO) Executor start aborting (this does not indicate an error and you can ignore this message): INVALID_ARGUMENT: You must feed a value for placeholder tensor 'Placeholder/_2' with dtype float and shape [66,1]\n",
            "\t [[{{node Placeholder/_2}}]]\n",
            "2025-04-10 12:45:22.935017: I tensorflow/core/common_runtime/executor.cc:1197] [/device:CPU:0] (DEBUG INFO) Executor start aborting (this does not indicate an error and you can ignore this message): INVALID_ARGUMENT: You must feed a value for placeholder tensor 'Placeholder/_2' with dtype float and shape [66,1]\n",
            "\t [[{{node Placeholder/_2}}]]\n"
          ]
        },
        {
          "name": "stdout",
          "output_type": "stream",
          "text": [
            "3/3 [==============================] - 0s 4ms/step\n",
            "16/32 [==============>...............] - ETA: 0s"
          ]
        },
        {
          "name": "stderr",
          "output_type": "stream",
          "text": [
            "2025-04-10 12:45:23.311657: I tensorflow/core/common_runtime/executor.cc:1197] [/device:CPU:0] (DEBUG INFO) Executor start aborting (this does not indicate an error and you can ignore this message): INVALID_ARGUMENT: You must feed a value for placeholder tensor 'Placeholder/_2' with dtype float and shape [66,1]\n",
            "\t [[{{node Placeholder/_2}}]]\n",
            "2025-04-10 12:45:23.331310: I tensorflow/core/common_runtime/executor.cc:1197] [/device:CPU:0] (DEBUG INFO) Executor start aborting (this does not indicate an error and you can ignore this message): INVALID_ARGUMENT: You must feed a value for placeholder tensor 'Placeholder/_2' with dtype float and shape [66,1]\n",
            "\t [[{{node Placeholder/_2}}]]\n",
            "2025-04-10 12:45:23.355231: I tensorflow/core/common_runtime/executor.cc:1197] [/device:CPU:0] (DEBUG INFO) Executor start aborting (this does not indicate an error and you can ignore this message): INVALID_ARGUMENT: You must feed a value for placeholder tensor 'Placeholder/_2' with dtype float and shape [66,1]\n",
            "\t [[{{node Placeholder/_2}}]]\n"
          ]
        },
        {
          "name": "stdout",
          "output_type": "stream",
          "text": [
            "32/32 [==============================] - 0s 4ms/step\n",
            "3/3 [==============================] - 0s 3ms/step\n",
            "32/32 [==============================] - 0s 2ms/step\n"
          ]
        },
        {
          "name": "stderr",
          "output_type": "stream",
          "text": [
            "2025-04-10 12:45:23.902423: I tensorflow/core/common_runtime/executor.cc:1197] [/device:CPU:0] (DEBUG INFO) Executor start aborting (this does not indicate an error and you can ignore this message): INVALID_ARGUMENT: You must feed a value for placeholder tensor 'Placeholder/_2' with dtype float and shape [66,1]\n",
            "\t [[{{node Placeholder/_2}}]]\n",
            "2025-04-10 12:45:23.917502: I tensorflow/core/common_runtime/executor.cc:1197] [/device:CPU:0] (DEBUG INFO) Executor start aborting (this does not indicate an error and you can ignore this message): INVALID_ARGUMENT: You must feed a value for placeholder tensor 'Placeholder/_2' with dtype float and shape [66,1]\n",
            "\t [[{{node Placeholder/_2}}]]\n",
            "2025-04-10 12:45:23.927396: I tensorflow/core/common_runtime/executor.cc:1197] [/device:CPU:0] (DEBUG INFO) Executor start aborting (this does not indicate an error and you can ignore this message): INVALID_ARGUMENT: You must feed a value for placeholder tensor 'Placeholder/_2' with dtype float and shape [66,1]\n",
            "\t [[{{node Placeholder/_2}}]]\n"
          ]
        },
        {
          "name": "stdout",
          "output_type": "stream",
          "text": [
            "3/3 [==============================] - 0s 4ms/step\n",
            "14/32 [============>.................] - ETA: 0s"
          ]
        },
        {
          "name": "stderr",
          "output_type": "stream",
          "text": [
            "2025-04-10 12:45:24.287811: I tensorflow/core/common_runtime/executor.cc:1197] [/device:CPU:0] (DEBUG INFO) Executor start aborting (this does not indicate an error and you can ignore this message): INVALID_ARGUMENT: You must feed a value for placeholder tensor 'Placeholder/_2' with dtype float and shape [66,1]\n",
            "\t [[{{node Placeholder/_2}}]]\n",
            "2025-04-10 12:45:24.303056: I tensorflow/core/common_runtime/executor.cc:1197] [/device:CPU:0] (DEBUG INFO) Executor start aborting (this does not indicate an error and you can ignore this message): INVALID_ARGUMENT: You must feed a value for placeholder tensor 'Placeholder/_2' with dtype float and shape [66,1]\n",
            "\t [[{{node Placeholder/_2}}]]\n",
            "2025-04-10 12:45:24.322663: I tensorflow/core/common_runtime/executor.cc:1197] [/device:CPU:0] (DEBUG INFO) Executor start aborting (this does not indicate an error and you can ignore this message): INVALID_ARGUMENT: You must feed a value for placeholder tensor 'Placeholder/_2' with dtype float and shape [66,1]\n",
            "\t [[{{node Placeholder/_2}}]]\n"
          ]
        },
        {
          "name": "stdout",
          "output_type": "stream",
          "text": [
            "32/32 [==============================] - 0s 5ms/step\n",
            "3/3 [==============================] - 0s 3ms/step\n",
            "32/32 [==============================] - 0s 2ms/step\n"
          ]
        },
        {
          "name": "stderr",
          "output_type": "stream",
          "text": [
            "2025-04-10 12:45:24.781801: I tensorflow/core/common_runtime/executor.cc:1197] [/device:CPU:0] (DEBUG INFO) Executor start aborting (this does not indicate an error and you can ignore this message): INVALID_ARGUMENT: You must feed a value for placeholder tensor 'Placeholder/_2' with dtype float and shape [66,1]\n",
            "\t [[{{node Placeholder/_2}}]]\n",
            "2025-04-10 12:45:24.795195: I tensorflow/core/common_runtime/executor.cc:1197] [/device:CPU:0] (DEBUG INFO) Executor start aborting (this does not indicate an error and you can ignore this message): INVALID_ARGUMENT: You must feed a value for placeholder tensor 'Placeholder/_2' with dtype float and shape [66,1]\n",
            "\t [[{{node Placeholder/_2}}]]\n",
            "2025-04-10 12:45:24.805587: I tensorflow/core/common_runtime/executor.cc:1197] [/device:CPU:0] (DEBUG INFO) Executor start aborting (this does not indicate an error and you can ignore this message): INVALID_ARGUMENT: You must feed a value for placeholder tensor 'Placeholder/_2' with dtype float and shape [66,1]\n",
            "\t [[{{node Placeholder/_2}}]]\n"
          ]
        },
        {
          "name": "stdout",
          "output_type": "stream",
          "text": [
            "3/3 [==============================] - 0s 3ms/step\n",
            "32/32 [==============================] - 0s 2ms/step\n"
          ]
        },
        {
          "name": "stderr",
          "output_type": "stream",
          "text": [
            "2025-04-10 12:45:25.172119: I tensorflow/core/common_runtime/executor.cc:1197] [/device:CPU:0] (DEBUG INFO) Executor start aborting (this does not indicate an error and you can ignore this message): INVALID_ARGUMENT: You must feed a value for placeholder tensor 'Placeholder/_2' with dtype float and shape [66,1]\n",
            "\t [[{{node Placeholder/_2}}]]\n",
            "2025-04-10 12:45:25.187501: I tensorflow/core/common_runtime/executor.cc:1197] [/device:CPU:0] (DEBUG INFO) Executor start aborting (this does not indicate an error and you can ignore this message): INVALID_ARGUMENT: You must feed a value for placeholder tensor 'Placeholder/_2' with dtype float and shape [66,1]\n",
            "\t [[{{node Placeholder/_2}}]]\n",
            "2025-04-10 12:45:25.204401: I tensorflow/core/common_runtime/executor.cc:1197] [/device:CPU:0] (DEBUG INFO) Executor start aborting (this does not indicate an error and you can ignore this message): INVALID_ARGUMENT: You must feed a value for placeholder tensor 'Placeholder/_2' with dtype float and shape [66,1]\n",
            "\t [[{{node Placeholder/_2}}]]\n"
          ]
        },
        {
          "name": "stdout",
          "output_type": "stream",
          "text": [
            "3/3 [==============================] - 0s 3ms/step\n",
            "32/32 [==============================] - 0s 3ms/step\n"
          ]
        },
        {
          "name": "stderr",
          "output_type": "stream",
          "text": [
            "2025-04-10 12:45:25.638173: I tensorflow/core/common_runtime/executor.cc:1197] [/device:CPU:0] (DEBUG INFO) Executor start aborting (this does not indicate an error and you can ignore this message): INVALID_ARGUMENT: You must feed a value for placeholder tensor 'Placeholder/_2' with dtype float and shape [66,1]\n",
            "\t [[{{node Placeholder/_2}}]]\n",
            "2025-04-10 12:45:25.651281: I tensorflow/core/common_runtime/executor.cc:1197] [/device:CPU:0] (DEBUG INFO) Executor start aborting (this does not indicate an error and you can ignore this message): INVALID_ARGUMENT: You must feed a value for placeholder tensor 'Placeholder/_2' with dtype float and shape [66,1]\n",
            "\t [[{{node Placeholder/_2}}]]\n",
            "2025-04-10 12:45:25.665954: I tensorflow/core/common_runtime/executor.cc:1197] [/device:CPU:0] (DEBUG INFO) Executor start aborting (this does not indicate an error and you can ignore this message): INVALID_ARGUMENT: You must feed a value for placeholder tensor 'Placeholder/_2' with dtype float and shape [66,1]\n",
            "\t [[{{node Placeholder/_2}}]]\n"
          ]
        },
        {
          "name": "stdout",
          "output_type": "stream",
          "text": [
            "3/3 [==============================] - 0s 58ms/step\n",
            "13/32 [===========>..................] - ETA: 0s"
          ]
        },
        {
          "name": "stderr",
          "output_type": "stream",
          "text": [
            "2025-04-10 12:45:26.317044: I tensorflow/core/common_runtime/executor.cc:1197] [/device:CPU:0] (DEBUG INFO) Executor start aborting (this does not indicate an error and you can ignore this message): INVALID_ARGUMENT: You must feed a value for placeholder tensor 'Placeholder/_2' with dtype float and shape [66,1]\n",
            "\t [[{{node Placeholder/_2}}]]\n",
            "2025-04-10 12:45:26.332036: I tensorflow/core/common_runtime/executor.cc:1197] [/device:CPU:0] (DEBUG INFO) Executor start aborting (this does not indicate an error and you can ignore this message): INVALID_ARGUMENT: You must feed a value for placeholder tensor 'Placeholder/_2' with dtype float and shape [66,1]\n",
            "\t [[{{node Placeholder/_2}}]]\n",
            "2025-04-10 12:45:26.343325: I tensorflow/core/common_runtime/executor.cc:1197] [/device:CPU:0] (DEBUG INFO) Executor start aborting (this does not indicate an error and you can ignore this message): INVALID_ARGUMENT: You must feed a value for placeholder tensor 'Placeholder/_2' with dtype float and shape [66,1]\n",
            "\t [[{{node Placeholder/_2}}]]\n"
          ]
        },
        {
          "name": "stdout",
          "output_type": "stream",
          "text": [
            "32/32 [==============================] - 0s 5ms/step\n",
            "3/3 [==============================] - 0s 3ms/step\n",
            "32/32 [==============================] - 0s 2ms/step\n"
          ]
        },
        {
          "name": "stderr",
          "output_type": "stream",
          "text": [
            "2025-04-10 12:45:26.918198: I tensorflow/core/common_runtime/executor.cc:1197] [/device:CPU:0] (DEBUG INFO) Executor start aborting (this does not indicate an error and you can ignore this message): INVALID_ARGUMENT: You must feed a value for placeholder tensor 'Placeholder/_2' with dtype float and shape [66,1]\n",
            "\t [[{{node Placeholder/_2}}]]\n",
            "2025-04-10 12:45:26.929356: I tensorflow/core/common_runtime/executor.cc:1197] [/device:CPU:0] (DEBUG INFO) Executor start aborting (this does not indicate an error and you can ignore this message): INVALID_ARGUMENT: You must feed a value for placeholder tensor 'Placeholder/_2' with dtype float and shape [66,1]\n",
            "\t [[{{node Placeholder/_2}}]]\n",
            "2025-04-10 12:45:26.936735: I tensorflow/core/common_runtime/executor.cc:1197] [/device:CPU:0] (DEBUG INFO) Executor start aborting (this does not indicate an error and you can ignore this message): INVALID_ARGUMENT: You must feed a value for placeholder tensor 'Placeholder/_2' with dtype float and shape [66,1]\n",
            "\t [[{{node Placeholder/_2}}]]\n"
          ]
        },
        {
          "name": "stdout",
          "output_type": "stream",
          "text": [
            "3/3 [==============================] - 0s 3ms/step\n",
            " 1/32 [..............................] - ETA: 1s"
          ]
        },
        {
          "name": "stderr",
          "output_type": "stream",
          "text": [
            "2025-04-10 12:45:27.300660: I tensorflow/core/common_runtime/executor.cc:1197] [/device:CPU:0] (DEBUG INFO) Executor start aborting (this does not indicate an error and you can ignore this message): INVALID_ARGUMENT: You must feed a value for placeholder tensor 'Placeholder/_2' with dtype float and shape [66,1]\n",
            "\t [[{{node Placeholder/_2}}]]\n",
            "2025-04-10 12:45:27.334339: I tensorflow/core/common_runtime/executor.cc:1197] [/device:CPU:0] (DEBUG INFO) Executor start aborting (this does not indicate an error and you can ignore this message): INVALID_ARGUMENT: You must feed a value for placeholder tensor 'Placeholder/_2' with dtype float and shape [66,1]\n",
            "\t [[{{node Placeholder/_2}}]]\n",
            "2025-04-10 12:45:27.346860: I tensorflow/core/common_runtime/executor.cc:1197] [/device:CPU:0] (DEBUG INFO) Executor start aborting (this does not indicate an error and you can ignore this message): INVALID_ARGUMENT: You must feed a value for placeholder tensor 'Placeholder/_2' with dtype float and shape [66,1]\n",
            "\t [[{{node Placeholder/_2}}]]\n"
          ]
        },
        {
          "name": "stdout",
          "output_type": "stream",
          "text": [
            "32/32 [==============================] - 0s 6ms/step\n",
            "3/3 [==============================] - 0s 3ms/step\n",
            "32/32 [==============================] - 0s 2ms/step\n"
          ]
        },
        {
          "name": "stderr",
          "output_type": "stream",
          "text": [
            "2025-04-10 12:45:27.788249: I tensorflow/core/common_runtime/executor.cc:1197] [/device:CPU:0] (DEBUG INFO) Executor start aborting (this does not indicate an error and you can ignore this message): INVALID_ARGUMENT: You must feed a value for placeholder tensor 'Placeholder/_2' with dtype float and shape [66,1]\n",
            "\t [[{{node Placeholder/_2}}]]\n",
            "2025-04-10 12:45:27.799830: I tensorflow/core/common_runtime/executor.cc:1197] [/device:CPU:0] (DEBUG INFO) Executor start aborting (this does not indicate an error and you can ignore this message): INVALID_ARGUMENT: You must feed a value for placeholder tensor 'Placeholder/_2' with dtype float and shape [66,1]\n",
            "\t [[{{node Placeholder/_2}}]]\n",
            "2025-04-10 12:45:27.814173: I tensorflow/core/common_runtime/executor.cc:1197] [/device:CPU:0] (DEBUG INFO) Executor start aborting (this does not indicate an error and you can ignore this message): INVALID_ARGUMENT: You must feed a value for placeholder tensor 'Placeholder/_2' with dtype float and shape [66,1]\n",
            "\t [[{{node Placeholder/_2}}]]\n"
          ]
        },
        {
          "name": "stdout",
          "output_type": "stream",
          "text": [
            "3/3 [==============================] - 0s 3ms/step\n",
            "20/32 [=================>............] - ETA: 0s"
          ]
        },
        {
          "name": "stderr",
          "output_type": "stream",
          "text": [
            "2025-04-10 12:45:28.172341: I tensorflow/core/common_runtime/executor.cc:1197] [/device:CPU:0] (DEBUG INFO) Executor start aborting (this does not indicate an error and you can ignore this message): INVALID_ARGUMENT: You must feed a value for placeholder tensor 'Placeholder/_2' with dtype float and shape [66,1]\n",
            "\t [[{{node Placeholder/_2}}]]\n",
            "2025-04-10 12:45:28.198297: I tensorflow/core/common_runtime/executor.cc:1197] [/device:CPU:0] (DEBUG INFO) Executor start aborting (this does not indicate an error and you can ignore this message): INVALID_ARGUMENT: You must feed a value for placeholder tensor 'Placeholder/_2' with dtype float and shape [66,1]\n",
            "\t [[{{node Placeholder/_2}}]]\n",
            "2025-04-10 12:45:28.222618: I tensorflow/core/common_runtime/executor.cc:1197] [/device:CPU:0] (DEBUG INFO) Executor start aborting (this does not indicate an error and you can ignore this message): INVALID_ARGUMENT: You must feed a value for placeholder tensor 'Placeholder/_2' with dtype float and shape [66,1]\n",
            "\t [[{{node Placeholder/_2}}]]\n"
          ]
        },
        {
          "name": "stdout",
          "output_type": "stream",
          "text": [
            "32/32 [==============================] - 0s 3ms/step\n",
            "3/3 [==============================] - 0s 3ms/step\n",
            "32/32 [==============================] - 0s 2ms/step\n"
          ]
        },
        {
          "name": "stderr",
          "output_type": "stream",
          "text": [
            "2025-04-10 12:45:28.793089: I tensorflow/core/common_runtime/executor.cc:1197] [/device:CPU:0] (DEBUG INFO) Executor start aborting (this does not indicate an error and you can ignore this message): INVALID_ARGUMENT: You must feed a value for placeholder tensor 'Placeholder/_2' with dtype float and shape [66,1]\n",
            "\t [[{{node Placeholder/_2}}]]\n",
            "2025-04-10 12:45:28.815390: I tensorflow/core/common_runtime/executor.cc:1197] [/device:CPU:0] (DEBUG INFO) Executor start aborting (this does not indicate an error and you can ignore this message): INVALID_ARGUMENT: You must feed a value for placeholder tensor 'Placeholder/_2' with dtype float and shape [66,1]\n",
            "\t [[{{node Placeholder/_2}}]]\n",
            "2025-04-10 12:45:28.824471: I tensorflow/core/common_runtime/executor.cc:1197] [/device:CPU:0] (DEBUG INFO) Executor start aborting (this does not indicate an error and you can ignore this message): INVALID_ARGUMENT: You must feed a value for placeholder tensor 'Placeholder/_2' with dtype float and shape [66,1]\n",
            "\t [[{{node Placeholder/_2}}]]\n"
          ]
        },
        {
          "name": "stdout",
          "output_type": "stream",
          "text": [
            "3/3 [==============================] - 0s 3ms/step\n",
            "32/32 [==============================] - 0s 3ms/step\n"
          ]
        },
        {
          "name": "stderr",
          "output_type": "stream",
          "text": [
            "2025-04-10 12:45:29.195329: I tensorflow/core/common_runtime/executor.cc:1197] [/device:CPU:0] (DEBUG INFO) Executor start aborting (this does not indicate an error and you can ignore this message): INVALID_ARGUMENT: You must feed a value for placeholder tensor 'Placeholder/_2' with dtype float and shape [66,1]\n",
            "\t [[{{node Placeholder/_2}}]]\n",
            "2025-04-10 12:45:29.215770: I tensorflow/core/common_runtime/executor.cc:1197] [/device:CPU:0] (DEBUG INFO) Executor start aborting (this does not indicate an error and you can ignore this message): INVALID_ARGUMENT: You must feed a value for placeholder tensor 'Placeholder/_2' with dtype float and shape [66,1]\n",
            "\t [[{{node Placeholder/_2}}]]\n",
            "2025-04-10 12:45:29.232569: I tensorflow/core/common_runtime/executor.cc:1197] [/device:CPU:0] (DEBUG INFO) Executor start aborting (this does not indicate an error and you can ignore this message): INVALID_ARGUMENT: You must feed a value for placeholder tensor 'Placeholder/_2' with dtype float and shape [66,1]\n",
            "\t [[{{node Placeholder/_2}}]]\n"
          ]
        },
        {
          "name": "stdout",
          "output_type": "stream",
          "text": [
            "3/3 [==============================] - 0s 4ms/step\n",
            "32/32 [==============================] - 0s 3ms/step\n"
          ]
        },
        {
          "name": "stderr",
          "output_type": "stream",
          "text": [
            "2025-04-10 12:45:29.661204: I tensorflow/core/common_runtime/executor.cc:1197] [/device:CPU:0] (DEBUG INFO) Executor start aborting (this does not indicate an error and you can ignore this message): INVALID_ARGUMENT: You must feed a value for placeholder tensor 'Placeholder/_2' with dtype float and shape [66,1]\n",
            "\t [[{{node Placeholder/_2}}]]\n",
            "2025-04-10 12:45:29.675992: I tensorflow/core/common_runtime/executor.cc:1197] [/device:CPU:0] (DEBUG INFO) Executor start aborting (this does not indicate an error and you can ignore this message): INVALID_ARGUMENT: You must feed a value for placeholder tensor 'Placeholder/_2' with dtype float and shape [66,1]\n",
            "\t [[{{node Placeholder/_2}}]]\n",
            "2025-04-10 12:45:29.689735: I tensorflow/core/common_runtime/executor.cc:1197] [/device:CPU:0] (DEBUG INFO) Executor start aborting (this does not indicate an error and you can ignore this message): INVALID_ARGUMENT: You must feed a value for placeholder tensor 'Placeholder/_2' with dtype float and shape [66,1]\n",
            "\t [[{{node Placeholder/_2}}]]\n"
          ]
        },
        {
          "name": "stdout",
          "output_type": "stream",
          "text": [
            "3/3 [==============================] - 0s 4ms/step\n",
            "32/32 [==============================] - 0s 2ms/step\n"
          ]
        },
        {
          "name": "stderr",
          "output_type": "stream",
          "text": [
            "2025-04-10 12:45:30.052820: I tensorflow/core/common_runtime/executor.cc:1197] [/device:CPU:0] (DEBUG INFO) Executor start aborting (this does not indicate an error and you can ignore this message): INVALID_ARGUMENT: You must feed a value for placeholder tensor 'Placeholder/_2' with dtype float and shape [66,1]\n",
            "\t [[{{node Placeholder/_2}}]]\n",
            "2025-04-10 12:45:30.067955: I tensorflow/core/common_runtime/executor.cc:1197] [/device:CPU:0] (DEBUG INFO) Executor start aborting (this does not indicate an error and you can ignore this message): INVALID_ARGUMENT: You must feed a value for placeholder tensor 'Placeholder/_2' with dtype float and shape [66,1]\n",
            "\t [[{{node Placeholder/_2}}]]\n",
            "2025-04-10 12:45:30.087573: I tensorflow/core/common_runtime/executor.cc:1197] [/device:CPU:0] (DEBUG INFO) Executor start aborting (this does not indicate an error and you can ignore this message): INVALID_ARGUMENT: You must feed a value for placeholder tensor 'Placeholder/_2' with dtype float and shape [66,1]\n",
            "\t [[{{node Placeholder/_2}}]]\n"
          ]
        },
        {
          "name": "stdout",
          "output_type": "stream",
          "text": [
            "3/3 [==============================] - 0s 3ms/step\n",
            "23/32 [====================>.........] - ETA: 0s"
          ]
        },
        {
          "name": "stderr",
          "output_type": "stream",
          "text": [
            "2025-04-10 12:45:30.463461: I tensorflow/core/common_runtime/executor.cc:1197] [/device:CPU:0] (DEBUG INFO) Executor start aborting (this does not indicate an error and you can ignore this message): INVALID_ARGUMENT: You must feed a value for placeholder tensor 'Placeholder/_2' with dtype float and shape [66,1]\n",
            "\t [[{{node Placeholder/_2}}]]\n",
            "2025-04-10 12:45:30.496178: I tensorflow/core/common_runtime/executor.cc:1197] [/device:CPU:0] (DEBUG INFO) Executor start aborting (this does not indicate an error and you can ignore this message): INVALID_ARGUMENT: You must feed a value for placeholder tensor 'Placeholder/_2' with dtype float and shape [66,1]\n",
            "\t [[{{node Placeholder/_2}}]]\n",
            "2025-04-10 12:45:30.523643: I tensorflow/core/common_runtime/executor.cc:1197] [/device:CPU:0] (DEBUG INFO) Executor start aborting (this does not indicate an error and you can ignore this message): INVALID_ARGUMENT: You must feed a value for placeholder tensor 'Placeholder/_2' with dtype float and shape [66,1]\n",
            "\t [[{{node Placeholder/_2}}]]\n"
          ]
        },
        {
          "name": "stdout",
          "output_type": "stream",
          "text": [
            "32/32 [==============================] - 0s 3ms/step\n",
            "3/3 [==============================] - 0s 3ms/step\n",
            "32/32 [==============================] - 0s 3ms/step\n"
          ]
        },
        {
          "name": "stderr",
          "output_type": "stream",
          "text": [
            "2025-04-10 12:45:31.079964: I tensorflow/core/common_runtime/executor.cc:1197] [/device:CPU:0] (DEBUG INFO) Executor start aborting (this does not indicate an error and you can ignore this message): INVALID_ARGUMENT: You must feed a value for placeholder tensor 'Placeholder/_2' with dtype float and shape [66,1]\n",
            "\t [[{{node Placeholder/_2}}]]\n",
            "2025-04-10 12:45:31.093798: I tensorflow/core/common_runtime/executor.cc:1197] [/device:CPU:0] (DEBUG INFO) Executor start aborting (this does not indicate an error and you can ignore this message): INVALID_ARGUMENT: You must feed a value for placeholder tensor 'Placeholder/_2' with dtype float and shape [66,1]\n",
            "\t [[{{node Placeholder/_2}}]]\n",
            "2025-04-10 12:45:31.109773: I tensorflow/core/common_runtime/executor.cc:1197] [/device:CPU:0] (DEBUG INFO) Executor start aborting (this does not indicate an error and you can ignore this message): INVALID_ARGUMENT: You must feed a value for placeholder tensor 'Placeholder/_2' with dtype float and shape [66,1]\n",
            "\t [[{{node Placeholder/_2}}]]\n"
          ]
        },
        {
          "name": "stdout",
          "output_type": "stream",
          "text": [
            "32/32 [==============================] - 0s 4ms/step\n",
            "Synthetic data saved to 'synthetic_data.csv'\n",
            "Statistics of Original Data:\n"
          ]
        },
        {
          "name": "stderr",
          "output_type": "stream",
          "text": [
            "[I 2025-04-10 12:45:32,865] Trial 0 finished with value: -252.352051957829 and parameters: {'latent_dim': 41, 'learning_rate': 0.014461859732358131, 'n_critic': 1, 'batch_size': 66}. Best is trial 0 with value: -252.352051957829.\n"
          ]
        },
        {
          "name": "stdout",
          "output_type": "stream",
          "text": [
            "                Time             V1             V2             V3  \\\n",
            "count  568630.000000  568630.000000  568630.000000  568630.000000   \n",
            "mean        0.027112      -1.181391       1.113660      -2.291542   \n",
            "std         0.546143       2.791460       2.203515       4.082332   \n",
            "min        -0.994983     -28.798555     -44.035292     -31.871733   \n",
            "25%        -0.431583      -1.400971      -0.072026      -3.275703   \n",
            "50%        -0.067576      -0.374564       0.596930      -0.910161   \n",
            "75%         0.546071       0.526565       1.686882       0.218950   \n",
            "max         1.035022       1.253351      13.357750       6.187993   \n",
            "\n",
            "                  V4             V5             V6             V7  \\\n",
            "count  568630.000000  568630.000000  568630.000000  568630.000000   \n",
            "mean        1.585906      -1.156120      -0.531172      -2.221379   \n",
            "std         2.233341       3.000064       1.269914       4.657694   \n",
            "min        -4.013919     -82.408097     -19.636058     -35.209396   \n",
            "25%        -0.056473      -1.290312      -1.143013      -2.411842   \n",
            "50%         0.956868      -0.321889      -0.511228      -0.514509   \n",
            "75%         2.924451       0.334255       0.023880       0.226423   \n",
            "max        11.918743      25.214135      55.020149      97.478239   \n",
            "\n",
            "                  V8             V9  ...            V20            V21  \\\n",
            "count  568630.000000  568630.000000  ...  568630.000000  568630.000000   \n",
            "mean        0.297912      -1.190130  ...       0.246867       0.519185   \n",
            "std         3.948145       2.082339  ...       1.321770       3.713461   \n",
            "min       -61.302524     -12.228015  ...     -70.691461     -47.419067   \n",
            "25%        -0.150546      -2.070520  ...      -0.234846      -0.217238   \n",
            "50%         0.137355      -0.665258  ...       0.058654       0.209970   \n",
            "75%         0.729184       0.116146  ...       0.544831       0.883747   \n",
            "max        16.751534      14.194945  ...      51.134640      37.034714   \n",
            "\n",
            "                 V22            V23            V24            V25  \\\n",
            "count  568630.000000  568630.000000  568630.000000  568630.000000   \n",
            "mean       -0.008327      -0.002315      -0.086396       0.085679   \n",
            "std         1.557007       1.537906       0.895971       1.166557   \n",
            "min       -15.065646     -71.754464      -4.683638     -19.750332   \n",
            "25%        -0.710430      -0.349284      -0.632529      -0.555259   \n",
            "50%         0.036764      -0.058586      -0.004765       0.114305   \n",
            "75%         0.743665       0.276708       0.575528       0.746439   \n",
            "max        14.473041      36.076675       7.569684      14.425318   \n",
            "\n",
            "                 V26            V27            V28         Amount  \n",
            "count  568630.000000  568630.000000  568630.000000  568630.000000  \n",
            "mean        0.051072       0.229447       0.134347       1.081782  \n",
            "std         0.929171       2.427363       1.292273       3.366401  \n",
            "min        -5.401098     -55.906596     -46.746117      -0.307413  \n",
            "25%        -0.567960      -0.144893      -0.157134      -0.275833  \n",
            "50%        -0.030109       0.131926       0.110808      -0.027947  \n",
            "75%         0.634003       1.132417       0.655216       1.088313  \n",
            "max         7.293975      78.319397     102.543421     358.683155  \n",
            "\n",
            "[8 rows x 30 columns]\n",
            "\n",
            "Statistics of Synthetic Data:\n",
            "              Time           V1           V2           V3           V4  \\\n",
            "count  1000.000000  1000.000000  1000.000000  1000.000000  1000.000000   \n",
            "mean      0.310656    -0.297475    -0.080235     0.011939    -0.085850   \n",
            "std       0.377310     0.394317     0.426289     0.433612     0.463759   \n",
            "min      -0.773285    -0.966282    -0.975234    -0.949218    -0.962478   \n",
            "25%       0.053561    -0.598828    -0.419210    -0.323798    -0.473863   \n",
            "50%       0.369042    -0.359528    -0.087059     0.013077    -0.111787   \n",
            "75%       0.610598    -0.032039     0.273147     0.345400     0.288502   \n",
            "max       0.967376     0.929779     0.912560     0.924865     0.929811   \n",
            "\n",
            "                V5           V6           V7           V8           V9  ...  \\\n",
            "count  1000.000000  1000.000000  1000.000000  1000.000000  1000.000000  ...   \n",
            "mean      0.288296    -0.169887     0.068345    -0.198205    -0.109142  ...   \n",
            "std       0.381302     0.452710     0.413995     0.434337     0.387450  ...   \n",
            "min      -0.737016    -0.983571    -0.895256    -0.985415    -0.943751  ...   \n",
            "25%       0.020966    -0.542092    -0.255713    -0.539148    -0.406330  ...   \n",
            "50%       0.330085    -0.215778     0.077127    -0.254935    -0.137688  ...   \n",
            "75%       0.598951     0.178092     0.398737     0.124816     0.192489  ...   \n",
            "max       0.961510     0.931720     0.958002     0.944990     0.805298  ...   \n",
            "\n",
            "               V20          V21          V22          V23          V24  \\\n",
            "count  1000.000000  1000.000000  1000.000000  1000.000000  1000.000000   \n",
            "mean     -0.430062    -0.025806    -0.134124     0.032055     0.266661   \n",
            "std       0.365322     0.430663     0.423091     0.426643     0.387142   \n",
            "min      -0.979805    -0.933431    -0.963618    -0.882317    -0.815800   \n",
            "25%      -0.726096    -0.381276    -0.478980    -0.302864     0.020072   \n",
            "50%      -0.507521    -0.024274    -0.177340     0.044445     0.316017   \n",
            "75%      -0.191266     0.298887     0.183241     0.376043     0.576045   \n",
            "max       0.747213     0.947597     0.920384     0.959649     0.958578   \n",
            "\n",
            "               V25          V26          V27          V28       Amount  \n",
            "count  1000.000000  1000.000000  1000.000000  1000.000000  1000.000000  \n",
            "mean     -0.028510     0.338111    -0.155547    -0.242086     0.190118  \n",
            "std       0.451434     0.397543     0.350924     0.437475     0.452166  \n",
            "min      -0.950014    -0.840093    -0.904124    -0.969380    -0.885637  \n",
            "25%      -0.376615     0.063834    -0.432354    -0.606405    -0.156619  \n",
            "50%      -0.041312     0.385322    -0.183330    -0.306324     0.242934  \n",
            "75%       0.331091     0.669552     0.097017     0.084124     0.564064  \n",
            "max       0.941805     0.974526     0.887969     0.876196     0.965874  \n",
            "\n",
            "[8 rows x 30 columns]\n",
            "3/3 [==============================] - 0s 3ms/step\n"
          ]
        },
        {
          "name": "stderr",
          "output_type": "stream",
          "text": [
            "2025-04-10 12:45:41.118237: I tensorflow/core/common_runtime/executor.cc:1197] [/device:CPU:0] (DEBUG INFO) Executor start aborting (this does not indicate an error and you can ignore this message): INVALID_ARGUMENT: You must feed a value for placeholder tensor 'Placeholder/_2' with dtype float and shape [75,1]\n",
            "\t [[{{node Placeholder/_2}}]]\n",
            "2025-04-10 12:45:42.745330: I tensorflow/core/common_runtime/executor.cc:1197] [/device:CPU:0] (DEBUG INFO) Executor start aborting (this does not indicate an error and you can ignore this message): INVALID_ARGUMENT: You must feed a value for placeholder tensor 'Placeholder/_2' with dtype float and shape [75,1]\n",
            "\t [[{{node Placeholder/_2}}]]\n"
          ]
        },
        {
          "name": "stdout",
          "output_type": "stream",
          "text": [
            "3/3 [==============================] - 0s 3ms/step\n"
          ]
        },
        {
          "name": "stderr",
          "output_type": "stream",
          "text": [
            "2025-04-10 12:45:43.871007: I tensorflow/core/common_runtime/executor.cc:1197] [/device:CPU:0] (DEBUG INFO) Executor start aborting (this does not indicate an error and you can ignore this message): INVALID_ARGUMENT: You must feed a value for placeholder tensor 'Placeholder/_2' with dtype float and shape [75,1]\n",
            "\t [[{{node Placeholder/_2}}]]\n",
            "2025-04-10 12:45:43.909410: I tensorflow/core/common_runtime/executor.cc:1197] [/device:CPU:0] (DEBUG INFO) Executor start aborting (this does not indicate an error and you can ignore this message): INVALID_ARGUMENT: You must feed a value for placeholder tensor 'Placeholder/_2' with dtype float and shape [75,1]\n",
            "\t [[{{node Placeholder/_2}}]]\n",
            "2025-04-10 12:45:43.929950: I tensorflow/core/common_runtime/executor.cc:1197] [/device:CPU:0] (DEBUG INFO) Executor start aborting (this does not indicate an error and you can ignore this message): INVALID_ARGUMENT: You must feed a value for placeholder tensor 'Placeholder/_2' with dtype float and shape [75,1]\n",
            "\t [[{{node Placeholder/_2}}]]\n"
          ]
        },
        {
          "name": "stdout",
          "output_type": "stream",
          "text": [
            "32/32 [==============================] - 0s 5ms/step\n",
            "WARNING:tensorflow:Compiled the loaded model, but the compiled metrics have yet to be built. `model.compile_metrics` will be empty until you train or evaluate the model.\n",
            "3/3 [==============================] - 0s 5ms/step\n",
            "3/3 [==============================] - 0s 4ms/step\n"
          ]
        },
        {
          "name": "stderr",
          "output_type": "stream",
          "text": [
            "2025-04-10 12:45:46.999504: I tensorflow/core/common_runtime/executor.cc:1197] [/device:CPU:0] (DEBUG INFO) Executor start aborting (this does not indicate an error and you can ignore this message): INVALID_ARGUMENT: You must feed a value for placeholder tensor 'Placeholder/_2' with dtype float and shape [75,1]\n",
            "\t [[{{node Placeholder/_2}}]]\n",
            "2025-04-10 12:45:47.016936: I tensorflow/core/common_runtime/executor.cc:1197] [/device:CPU:0] (DEBUG INFO) Executor start aborting (this does not indicate an error and you can ignore this message): INVALID_ARGUMENT: You must feed a value for placeholder tensor 'Placeholder/_2' with dtype float and shape [75,1]\n",
            "\t [[{{node Placeholder/_2}}]]\n",
            "2025-04-10 12:45:47.175325: I tensorflow/core/common_runtime/executor.cc:1197] [/device:CPU:0] (DEBUG INFO) Executor start aborting (this does not indicate an error and you can ignore this message): INVALID_ARGUMENT: You must feed a value for placeholder tensor 'Placeholder/_2' with dtype float and shape [75,1]\n",
            "\t [[{{node Placeholder/_2}}]]\n",
            "2025-04-10 12:45:47.216868: I tensorflow/core/common_runtime/executor.cc:1197] [/device:CPU:0] (DEBUG INFO) Executor start aborting (this does not indicate an error and you can ignore this message): INVALID_ARGUMENT: You must feed a value for placeholder tensor 'Placeholder/_2' with dtype float and shape [75,1]\n",
            "\t [[{{node Placeholder/_2}}]]\n",
            "2025-04-10 12:45:47.293113: I tensorflow/core/common_runtime/executor.cc:1197] [/device:CPU:0] (DEBUG INFO) Executor start aborting (this does not indicate an error and you can ignore this message): INVALID_ARGUMENT: You must feed a value for placeholder tensor 'Placeholder/_2' with dtype float and shape [75,1]\n",
            "\t [[{{node Placeholder/_2}}]]\n"
          ]
        },
        {
          "name": "stdout",
          "output_type": "stream",
          "text": [
            "32/32 [==============================] - 0s 4ms/step\n",
            "WARNING:tensorflow:Compiled the loaded model, but the compiled metrics have yet to be built. `model.compile_metrics` will be empty until you train or evaluate the model.\n",
            "3/3 [==============================] - 0s 5ms/step\n"
          ]
        },
        {
          "name": "stderr",
          "output_type": "stream",
          "text": [
            "2025-04-10 12:45:48.260177: I tensorflow/core/common_runtime/executor.cc:1197] [/device:CPU:0] (DEBUG INFO) Executor start aborting (this does not indicate an error and you can ignore this message): INVALID_ARGUMENT: You must feed a value for placeholder tensor 'Placeholder/_2' with dtype float and shape [75,1]\n",
            "\t [[{{node Placeholder/_2}}]]\n",
            "2025-04-10 12:45:48.299564: I tensorflow/core/common_runtime/executor.cc:1197] [/device:CPU:0] (DEBUG INFO) Executor start aborting (this does not indicate an error and you can ignore this message): INVALID_ARGUMENT: You must feed a value for placeholder tensor 'Placeholder/_2' with dtype float and shape [75,1]\n",
            "\t [[{{node Placeholder/_2}}]]\n"
          ]
        },
        {
          "name": "stdout",
          "output_type": "stream",
          "text": [
            "3/3 [==============================] - 0s 6ms/step\n"
          ]
        },
        {
          "name": "stderr",
          "output_type": "stream",
          "text": [
            "2025-04-10 12:45:48.726972: I tensorflow/core/common_runtime/executor.cc:1197] [/device:CPU:0] (DEBUG INFO) Executor start aborting (this does not indicate an error and you can ignore this message): INVALID_ARGUMENT: You must feed a value for placeholder tensor 'Placeholder/_2' with dtype float and shape [75,1]\n",
            "\t [[{{node Placeholder/_2}}]]\n",
            "2025-04-10 12:45:48.741439: I tensorflow/core/common_runtime/executor.cc:1197] [/device:CPU:0] (DEBUG INFO) Executor start aborting (this does not indicate an error and you can ignore this message): INVALID_ARGUMENT: You must feed a value for placeholder tensor 'Placeholder/_2' with dtype float and shape [75,1]\n",
            "\t [[{{node Placeholder/_2}}]]\n",
            "2025-04-10 12:45:48.776130: I tensorflow/core/common_runtime/executor.cc:1197] [/device:CPU:0] (DEBUG INFO) Executor start aborting (this does not indicate an error and you can ignore this message): INVALID_ARGUMENT: You must feed a value for placeholder tensor 'Placeholder/_2' with dtype float and shape [75,1]\n",
            "\t [[{{node Placeholder/_2}}]]\n"
          ]
        },
        {
          "name": "stdout",
          "output_type": "stream",
          "text": [
            "32/32 [==============================] - 0s 4ms/step\n",
            "WARNING:tensorflow:Compiled the loaded model, but the compiled metrics have yet to be built. `model.compile_metrics` will be empty until you train or evaluate the model.\n",
            "3/3 [==============================] - 0s 3ms/step\n",
            "3/3 [==============================] - 0s 4ms/step\n"
          ]
        },
        {
          "name": "stderr",
          "output_type": "stream",
          "text": [
            "2025-04-10 12:45:49.513794: I tensorflow/core/common_runtime/executor.cc:1197] [/device:CPU:0] (DEBUG INFO) Executor start aborting (this does not indicate an error and you can ignore this message): INVALID_ARGUMENT: You must feed a value for placeholder tensor 'Placeholder/_2' with dtype float and shape [75,1]\n",
            "\t [[{{node Placeholder/_2}}]]\n",
            "2025-04-10 12:45:49.546802: I tensorflow/core/common_runtime/executor.cc:1197] [/device:CPU:0] (DEBUG INFO) Executor start aborting (this does not indicate an error and you can ignore this message): INVALID_ARGUMENT: You must feed a value for placeholder tensor 'Placeholder/_2' with dtype float and shape [75,1]\n",
            "\t [[{{node Placeholder/_2}}]]\n",
            "2025-04-10 12:45:49.665065: I tensorflow/core/common_runtime/executor.cc:1197] [/device:CPU:0] (DEBUG INFO) Executor start aborting (this does not indicate an error and you can ignore this message): INVALID_ARGUMENT: You must feed a value for placeholder tensor 'Placeholder/_2' with dtype float and shape [75,1]\n",
            "\t [[{{node Placeholder/_2}}]]\n",
            "2025-04-10 12:45:49.682416: I tensorflow/core/common_runtime/executor.cc:1197] [/device:CPU:0] (DEBUG INFO) Executor start aborting (this does not indicate an error and you can ignore this message): INVALID_ARGUMENT: You must feed a value for placeholder tensor 'Placeholder/_2' with dtype float and shape [75,1]\n",
            "\t [[{{node Placeholder/_2}}]]\n",
            "2025-04-10 12:45:49.698222: I tensorflow/core/common_runtime/executor.cc:1197] [/device:CPU:0] (DEBUG INFO) Executor start aborting (this does not indicate an error and you can ignore this message): INVALID_ARGUMENT: You must feed a value for placeholder tensor 'Placeholder/_2' with dtype float and shape [75,1]\n",
            "\t [[{{node Placeholder/_2}}]]\n"
          ]
        },
        {
          "name": "stdout",
          "output_type": "stream",
          "text": [
            "32/32 [==============================] - 0s 3ms/step\n",
            "3/3 [==============================] - 0s 5ms/step\n",
            "3/3 [==============================] - 0s 4ms/step\n"
          ]
        },
        {
          "name": "stderr",
          "output_type": "stream",
          "text": [
            "2025-04-10 12:45:50.138060: I tensorflow/core/common_runtime/executor.cc:1197] [/device:CPU:0] (DEBUG INFO) Executor start aborting (this does not indicate an error and you can ignore this message): INVALID_ARGUMENT: You must feed a value for placeholder tensor 'Placeholder/_2' with dtype float and shape [75,1]\n",
            "\t [[{{node Placeholder/_2}}]]\n",
            "2025-04-10 12:45:50.147119: I tensorflow/core/common_runtime/executor.cc:1197] [/device:CPU:0] (DEBUG INFO) Executor start aborting (this does not indicate an error and you can ignore this message): INVALID_ARGUMENT: You must feed a value for placeholder tensor 'Placeholder/_2' with dtype float and shape [75,1]\n",
            "\t [[{{node Placeholder/_2}}]]\n",
            "2025-04-10 12:45:50.267802: I tensorflow/core/common_runtime/executor.cc:1197] [/device:CPU:0] (DEBUG INFO) Executor start aborting (this does not indicate an error and you can ignore this message): INVALID_ARGUMENT: You must feed a value for placeholder tensor 'Placeholder/_2' with dtype float and shape [75,1]\n",
            "\t [[{{node Placeholder/_2}}]]\n",
            "2025-04-10 12:45:50.282061: I tensorflow/core/common_runtime/executor.cc:1197] [/device:CPU:0] (DEBUG INFO) Executor start aborting (this does not indicate an error and you can ignore this message): INVALID_ARGUMENT: You must feed a value for placeholder tensor 'Placeholder/_2' with dtype float and shape [75,1]\n",
            "\t [[{{node Placeholder/_2}}]]\n",
            "2025-04-10 12:45:50.294031: I tensorflow/core/common_runtime/executor.cc:1197] [/device:CPU:0] (DEBUG INFO) Executor start aborting (this does not indicate an error and you can ignore this message): INVALID_ARGUMENT: You must feed a value for placeholder tensor 'Placeholder/_2' with dtype float and shape [75,1]\n",
            "\t [[{{node Placeholder/_2}}]]\n"
          ]
        },
        {
          "name": "stdout",
          "output_type": "stream",
          "text": [
            "32/32 [==============================] - 0s 7ms/step\n",
            "3/3 [==============================] - 0s 3ms/step\n",
            "3/3 [==============================] - 0s 3ms/step\n"
          ]
        },
        {
          "name": "stderr",
          "output_type": "stream",
          "text": [
            "2025-04-10 12:45:50.907651: I tensorflow/core/common_runtime/executor.cc:1197] [/device:CPU:0] (DEBUG INFO) Executor start aborting (this does not indicate an error and you can ignore this message): INVALID_ARGUMENT: You must feed a value for placeholder tensor 'Placeholder/_2' with dtype float and shape [75,1]\n",
            "\t [[{{node Placeholder/_2}}]]\n",
            "2025-04-10 12:45:50.916525: I tensorflow/core/common_runtime/executor.cc:1197] [/device:CPU:0] (DEBUG INFO) Executor start aborting (this does not indicate an error and you can ignore this message): INVALID_ARGUMENT: You must feed a value for placeholder tensor 'Placeholder/_2' with dtype float and shape [75,1]\n",
            "\t [[{{node Placeholder/_2}}]]\n",
            "2025-04-10 12:45:51.062333: I tensorflow/core/common_runtime/executor.cc:1197] [/device:CPU:0] (DEBUG INFO) Executor start aborting (this does not indicate an error and you can ignore this message): INVALID_ARGUMENT: You must feed a value for placeholder tensor 'Placeholder/_2' with dtype float and shape [75,1]\n",
            "\t [[{{node Placeholder/_2}}]]\n",
            "2025-04-10 12:45:51.070577: I tensorflow/core/common_runtime/executor.cc:1197] [/device:CPU:0] (DEBUG INFO) Executor start aborting (this does not indicate an error and you can ignore this message): INVALID_ARGUMENT: You must feed a value for placeholder tensor 'Placeholder/_2' with dtype float and shape [75,1]\n",
            "\t [[{{node Placeholder/_2}}]]\n",
            "2025-04-10 12:45:51.084195: I tensorflow/core/common_runtime/executor.cc:1197] [/device:CPU:0] (DEBUG INFO) Executor start aborting (this does not indicate an error and you can ignore this message): INVALID_ARGUMENT: You must feed a value for placeholder tensor 'Placeholder/_2' with dtype float and shape [75,1]\n",
            "\t [[{{node Placeholder/_2}}]]\n"
          ]
        },
        {
          "name": "stdout",
          "output_type": "stream",
          "text": [
            "32/32 [==============================] - 0s 6ms/step\n",
            "3/3 [==============================] - 0s 3ms/step\n"
          ]
        },
        {
          "name": "stderr",
          "output_type": "stream",
          "text": [
            "2025-04-10 12:45:51.644292: I tensorflow/core/common_runtime/executor.cc:1197] [/device:CPU:0] (DEBUG INFO) Executor start aborting (this does not indicate an error and you can ignore this message): INVALID_ARGUMENT: You must feed a value for placeholder tensor 'Placeholder/_2' with dtype float and shape [75,1]\n",
            "\t [[{{node Placeholder/_2}}]]\n",
            "2025-04-10 12:45:51.662985: I tensorflow/core/common_runtime/executor.cc:1197] [/device:CPU:0] (DEBUG INFO) Executor start aborting (this does not indicate an error and you can ignore this message): INVALID_ARGUMENT: You must feed a value for placeholder tensor 'Placeholder/_2' with dtype float and shape [75,1]\n",
            "\t [[{{node Placeholder/_2}}]]\n"
          ]
        },
        {
          "name": "stdout",
          "output_type": "stream",
          "text": [
            "3/3 [==============================] - 0s 4ms/step\n",
            " 1/32 [..............................] - ETA: 1s"
          ]
        },
        {
          "name": "stderr",
          "output_type": "stream",
          "text": [
            "2025-04-10 12:45:51.945037: I tensorflow/core/common_runtime/executor.cc:1197] [/device:CPU:0] (DEBUG INFO) Executor start aborting (this does not indicate an error and you can ignore this message): INVALID_ARGUMENT: You must feed a value for placeholder tensor 'Placeholder/_2' with dtype float and shape [75,1]\n",
            "\t [[{{node Placeholder/_2}}]]\n",
            "2025-04-10 12:45:51.961666: I tensorflow/core/common_runtime/executor.cc:1197] [/device:CPU:0] (DEBUG INFO) Executor start aborting (this does not indicate an error and you can ignore this message): INVALID_ARGUMENT: You must feed a value for placeholder tensor 'Placeholder/_2' with dtype float and shape [75,1]\n",
            "\t [[{{node Placeholder/_2}}]]\n",
            "2025-04-10 12:45:51.978056: I tensorflow/core/common_runtime/executor.cc:1197] [/device:CPU:0] (DEBUG INFO) Executor start aborting (this does not indicate an error and you can ignore this message): INVALID_ARGUMENT: You must feed a value for placeholder tensor 'Placeholder/_2' with dtype float and shape [75,1]\n",
            "\t [[{{node Placeholder/_2}}]]\n"
          ]
        },
        {
          "name": "stdout",
          "output_type": "stream",
          "text": [
            "32/32 [==============================] - 0s 5ms/step\n",
            "WARNING:tensorflow:Compiled the loaded model, but the compiled metrics have yet to be built. `model.compile_metrics` will be empty until you train or evaluate the model.\n",
            "3/3 [==============================] - 0s 8ms/step\n",
            "3/3 [==============================] - 0s 6ms/step\n"
          ]
        },
        {
          "name": "stderr",
          "output_type": "stream",
          "text": [
            "2025-04-10 12:45:52.723213: I tensorflow/core/common_runtime/executor.cc:1197] [/device:CPU:0] (DEBUG INFO) Executor start aborting (this does not indicate an error and you can ignore this message): INVALID_ARGUMENT: You must feed a value for placeholder tensor 'Placeholder/_2' with dtype float and shape [75,1]\n",
            "\t [[{{node Placeholder/_2}}]]\n",
            "2025-04-10 12:45:52.738614: I tensorflow/core/common_runtime/executor.cc:1197] [/device:CPU:0] (DEBUG INFO) Executor start aborting (this does not indicate an error and you can ignore this message): INVALID_ARGUMENT: You must feed a value for placeholder tensor 'Placeholder/_2' with dtype float and shape [75,1]\n",
            "\t [[{{node Placeholder/_2}}]]\n",
            "2025-04-10 12:45:52.978521: I tensorflow/core/common_runtime/executor.cc:1197] [/device:CPU:0] (DEBUG INFO) Executor start aborting (this does not indicate an error and you can ignore this message): INVALID_ARGUMENT: You must feed a value for placeholder tensor 'Placeholder/_2' with dtype float and shape [75,1]\n",
            "\t [[{{node Placeholder/_2}}]]\n",
            "2025-04-10 12:45:53.008473: I tensorflow/core/common_runtime/executor.cc:1197] [/device:CPU:0] (DEBUG INFO) Executor start aborting (this does not indicate an error and you can ignore this message): INVALID_ARGUMENT: You must feed a value for placeholder tensor 'Placeholder/_2' with dtype float and shape [75,1]\n",
            "\t [[{{node Placeholder/_2}}]]\n",
            "2025-04-10 12:45:53.048483: I tensorflow/core/common_runtime/executor.cc:1197] [/device:CPU:0] (DEBUG INFO) Executor start aborting (this does not indicate an error and you can ignore this message): INVALID_ARGUMENT: You must feed a value for placeholder tensor 'Placeholder/_2' with dtype float and shape [75,1]\n",
            "\t [[{{node Placeholder/_2}}]]\n"
          ]
        },
        {
          "name": "stdout",
          "output_type": "stream",
          "text": [
            "32/32 [==============================] - 0s 3ms/step\n",
            "WARNING:tensorflow:Compiled the loaded model, but the compiled metrics have yet to be built. `model.compile_metrics` will be empty until you train or evaluate the model.\n",
            "3/3 [==============================] - 0s 3ms/step\n"
          ]
        },
        {
          "name": "stderr",
          "output_type": "stream",
          "text": [
            "2025-04-10 12:45:53.890843: I tensorflow/core/common_runtime/executor.cc:1197] [/device:CPU:0] (DEBUG INFO) Executor start aborting (this does not indicate an error and you can ignore this message): INVALID_ARGUMENT: You must feed a value for placeholder tensor 'Placeholder/_2' with dtype float and shape [75,1]\n",
            "\t [[{{node Placeholder/_2}}]]\n",
            "2025-04-10 12:45:53.919600: I tensorflow/core/common_runtime/executor.cc:1197] [/device:CPU:0] (DEBUG INFO) Executor start aborting (this does not indicate an error and you can ignore this message): INVALID_ARGUMENT: You must feed a value for placeholder tensor 'Placeholder/_2' with dtype float and shape [75,1]\n",
            "\t [[{{node Placeholder/_2}}]]\n"
          ]
        },
        {
          "name": "stdout",
          "output_type": "stream",
          "text": [
            "3/3 [==============================] - 0s 3ms/step\n"
          ]
        },
        {
          "name": "stderr",
          "output_type": "stream",
          "text": [
            "2025-04-10 12:45:54.241546: I tensorflow/core/common_runtime/executor.cc:1197] [/device:CPU:0] (DEBUG INFO) Executor start aborting (this does not indicate an error and you can ignore this message): INVALID_ARGUMENT: You must feed a value for placeholder tensor 'Placeholder/_2' with dtype float and shape [75,1]\n",
            "\t [[{{node Placeholder/_2}}]]\n",
            "2025-04-10 12:45:54.252909: I tensorflow/core/common_runtime/executor.cc:1197] [/device:CPU:0] (DEBUG INFO) Executor start aborting (this does not indicate an error and you can ignore this message): INVALID_ARGUMENT: You must feed a value for placeholder tensor 'Placeholder/_2' with dtype float and shape [75,1]\n",
            "\t [[{{node Placeholder/_2}}]]\n",
            "2025-04-10 12:45:54.269207: I tensorflow/core/common_runtime/executor.cc:1197] [/device:CPU:0] (DEBUG INFO) Executor start aborting (this does not indicate an error and you can ignore this message): INVALID_ARGUMENT: You must feed a value for placeholder tensor 'Placeholder/_2' with dtype float and shape [75,1]\n",
            "\t [[{{node Placeholder/_2}}]]\n"
          ]
        },
        {
          "name": "stdout",
          "output_type": "stream",
          "text": [
            "32/32 [==============================] - 0s 11ms/step\n",
            "3/3 [==============================] - 0s 5ms/step\n"
          ]
        },
        {
          "name": "stderr",
          "output_type": "stream",
          "text": [
            "2025-04-10 12:45:55.430681: I tensorflow/core/common_runtime/executor.cc:1197] [/device:CPU:0] (DEBUG INFO) Executor start aborting (this does not indicate an error and you can ignore this message): INVALID_ARGUMENT: You must feed a value for placeholder tensor 'Placeholder/_2' with dtype float and shape [75,1]\n",
            "\t [[{{node Placeholder/_2}}]]\n",
            "2025-04-10 12:45:55.479546: I tensorflow/core/common_runtime/executor.cc:1197] [/device:CPU:0] (DEBUG INFO) Executor start aborting (this does not indicate an error and you can ignore this message): INVALID_ARGUMENT: You must feed a value for placeholder tensor 'Placeholder/_2' with dtype float and shape [75,1]\n",
            "\t [[{{node Placeholder/_2}}]]\n"
          ]
        },
        {
          "name": "stdout",
          "output_type": "stream",
          "text": [
            "3/3 [==============================] - 0s 17ms/step\n"
          ]
        },
        {
          "name": "stderr",
          "output_type": "stream",
          "text": [
            "2025-04-10 12:45:55.919556: I tensorflow/core/common_runtime/executor.cc:1197] [/device:CPU:0] (DEBUG INFO) Executor start aborting (this does not indicate an error and you can ignore this message): INVALID_ARGUMENT: You must feed a value for placeholder tensor 'Placeholder/_2' with dtype float and shape [75,1]\n",
            "\t [[{{node Placeholder/_2}}]]\n",
            "2025-04-10 12:45:55.931660: I tensorflow/core/common_runtime/executor.cc:1197] [/device:CPU:0] (DEBUG INFO) Executor start aborting (this does not indicate an error and you can ignore this message): INVALID_ARGUMENT: You must feed a value for placeholder tensor 'Placeholder/_2' with dtype float and shape [75,1]\n",
            "\t [[{{node Placeholder/_2}}]]\n",
            "2025-04-10 12:45:55.960005: I tensorflow/core/common_runtime/executor.cc:1197] [/device:CPU:0] (DEBUG INFO) Executor start aborting (this does not indicate an error and you can ignore this message): INVALID_ARGUMENT: You must feed a value for placeholder tensor 'Placeholder/_2' with dtype float and shape [75,1]\n",
            "\t [[{{node Placeholder/_2}}]]\n"
          ]
        },
        {
          "name": "stdout",
          "output_type": "stream",
          "text": [
            "32/32 [==============================] - 0s 6ms/step\n",
            "3/3 [==============================] - 0s 7ms/step\n",
            "3/3 [==============================] - 0s 3ms/step\n"
          ]
        },
        {
          "name": "stderr",
          "output_type": "stream",
          "text": [
            "2025-04-10 12:45:56.806815: I tensorflow/core/common_runtime/executor.cc:1197] [/device:CPU:0] (DEBUG INFO) Executor start aborting (this does not indicate an error and you can ignore this message): INVALID_ARGUMENT: You must feed a value for placeholder tensor 'Placeholder/_2' with dtype float and shape [75,1]\n",
            "\t [[{{node Placeholder/_2}}]]\n",
            "2025-04-10 12:45:56.818173: I tensorflow/core/common_runtime/executor.cc:1197] [/device:CPU:0] (DEBUG INFO) Executor start aborting (this does not indicate an error and you can ignore this message): INVALID_ARGUMENT: You must feed a value for placeholder tensor 'Placeholder/_2' with dtype float and shape [75,1]\n",
            "\t [[{{node Placeholder/_2}}]]\n",
            "2025-04-10 12:45:56.934322: I tensorflow/core/common_runtime/executor.cc:1197] [/device:CPU:0] (DEBUG INFO) Executor start aborting (this does not indicate an error and you can ignore this message): INVALID_ARGUMENT: You must feed a value for placeholder tensor 'Placeholder/_2' with dtype float and shape [75,1]\n",
            "\t [[{{node Placeholder/_2}}]]\n",
            "2025-04-10 12:45:56.951480: I tensorflow/core/common_runtime/executor.cc:1197] [/device:CPU:0] (DEBUG INFO) Executor start aborting (this does not indicate an error and you can ignore this message): INVALID_ARGUMENT: You must feed a value for placeholder tensor 'Placeholder/_2' with dtype float and shape [75,1]\n",
            "\t [[{{node Placeholder/_2}}]]\n",
            "2025-04-10 12:45:56.977058: I tensorflow/core/common_runtime/executor.cc:1197] [/device:CPU:0] (DEBUG INFO) Executor start aborting (this does not indicate an error and you can ignore this message): INVALID_ARGUMENT: You must feed a value for placeholder tensor 'Placeholder/_2' with dtype float and shape [75,1]\n",
            "\t [[{{node Placeholder/_2}}]]\n"
          ]
        },
        {
          "name": "stdout",
          "output_type": "stream",
          "text": [
            "32/32 [==============================] - 0s 3ms/step\n",
            "WARNING:tensorflow:Compiled the loaded model, but the compiled metrics have yet to be built. `model.compile_metrics` will be empty until you train or evaluate the model.\n",
            "3/3 [==============================] - 0s 22ms/step\n"
          ]
        },
        {
          "name": "stderr",
          "output_type": "stream",
          "text": [
            "2025-04-10 12:45:57.811117: I tensorflow/core/common_runtime/executor.cc:1197] [/device:CPU:0] (DEBUG INFO) Executor start aborting (this does not indicate an error and you can ignore this message): INVALID_ARGUMENT: You must feed a value for placeholder tensor 'Placeholder/_2' with dtype float and shape [75,1]\n",
            "\t [[{{node Placeholder/_2}}]]\n",
            "2025-04-10 12:45:57.831810: I tensorflow/core/common_runtime/executor.cc:1197] [/device:CPU:0] (DEBUG INFO) Executor start aborting (this does not indicate an error and you can ignore this message): INVALID_ARGUMENT: You must feed a value for placeholder tensor 'Placeholder/_2' with dtype float and shape [75,1]\n",
            "\t [[{{node Placeholder/_2}}]]\n"
          ]
        },
        {
          "name": "stdout",
          "output_type": "stream",
          "text": [
            "3/3 [==============================] - 0s 15ms/step\n"
          ]
        },
        {
          "name": "stderr",
          "output_type": "stream",
          "text": [
            "2025-04-10 12:45:58.311176: I tensorflow/core/common_runtime/executor.cc:1197] [/device:CPU:0] (DEBUG INFO) Executor start aborting (this does not indicate an error and you can ignore this message): INVALID_ARGUMENT: You must feed a value for placeholder tensor 'Placeholder/_2' with dtype float and shape [75,1]\n",
            "\t [[{{node Placeholder/_2}}]]\n",
            "2025-04-10 12:45:58.322674: I tensorflow/core/common_runtime/executor.cc:1197] [/device:CPU:0] (DEBUG INFO) Executor start aborting (this does not indicate an error and you can ignore this message): INVALID_ARGUMENT: You must feed a value for placeholder tensor 'Placeholder/_2' with dtype float and shape [75,1]\n",
            "\t [[{{node Placeholder/_2}}]]\n",
            "2025-04-10 12:45:58.355918: I tensorflow/core/common_runtime/executor.cc:1197] [/device:CPU:0] (DEBUG INFO) Executor start aborting (this does not indicate an error and you can ignore this message): INVALID_ARGUMENT: You must feed a value for placeholder tensor 'Placeholder/_2' with dtype float and shape [75,1]\n",
            "\t [[{{node Placeholder/_2}}]]\n"
          ]
        },
        {
          "name": "stdout",
          "output_type": "stream",
          "text": [
            "32/32 [==============================] - 0s 2ms/step\n",
            "3/3 [==============================] - 0s 9ms/step\n",
            "1/3 [=========>....................] - ETA: 0s"
          ]
        },
        {
          "name": "stderr",
          "output_type": "stream",
          "text": [
            "2025-04-10 12:45:59.256920: I tensorflow/core/common_runtime/executor.cc:1197] [/device:CPU:0] (DEBUG INFO) Executor start aborting (this does not indicate an error and you can ignore this message): INVALID_ARGUMENT: You must feed a value for placeholder tensor 'Placeholder/_2' with dtype float and shape [75,1]\n",
            "\t [[{{node Placeholder/_2}}]]\n",
            "2025-04-10 12:45:59.275965: I tensorflow/core/common_runtime/executor.cc:1197] [/device:CPU:0] (DEBUG INFO) Executor start aborting (this does not indicate an error and you can ignore this message): INVALID_ARGUMENT: You must feed a value for placeholder tensor 'Placeholder/_2' with dtype float and shape [75,1]\n",
            "\t [[{{node Placeholder/_2}}]]\n"
          ]
        },
        {
          "name": "stdout",
          "output_type": "stream",
          "text": [
            "3/3 [==============================] - 0s 21ms/step\n",
            " 1/32 [..............................] - ETA: 1s"
          ]
        },
        {
          "name": "stderr",
          "output_type": "stream",
          "text": [
            "2025-04-10 12:45:59.564047: I tensorflow/core/common_runtime/executor.cc:1197] [/device:CPU:0] (DEBUG INFO) Executor start aborting (this does not indicate an error and you can ignore this message): INVALID_ARGUMENT: You must feed a value for placeholder tensor 'Placeholder/_2' with dtype float and shape [75,1]\n",
            "\t [[{{node Placeholder/_2}}]]\n",
            "2025-04-10 12:45:59.587332: I tensorflow/core/common_runtime/executor.cc:1197] [/device:CPU:0] (DEBUG INFO) Executor start aborting (this does not indicate an error and you can ignore this message): INVALID_ARGUMENT: You must feed a value for placeholder tensor 'Placeholder/_2' with dtype float and shape [75,1]\n",
            "\t [[{{node Placeholder/_2}}]]\n",
            "2025-04-10 12:45:59.604925: I tensorflow/core/common_runtime/executor.cc:1197] [/device:CPU:0] (DEBUG INFO) Executor start aborting (this does not indicate an error and you can ignore this message): INVALID_ARGUMENT: You must feed a value for placeholder tensor 'Placeholder/_2' with dtype float and shape [75,1]\n",
            "\t [[{{node Placeholder/_2}}]]\n"
          ]
        },
        {
          "name": "stdout",
          "output_type": "stream",
          "text": [
            "32/32 [==============================] - 0s 3ms/step\n",
            "3/3 [==============================] - 0s 4ms/step\n",
            "3/3 [==============================] - 0s 5ms/step\n"
          ]
        },
        {
          "name": "stderr",
          "output_type": "stream",
          "text": [
            "2025-04-10 12:46:00.103832: I tensorflow/core/common_runtime/executor.cc:1197] [/device:CPU:0] (DEBUG INFO) Executor start aborting (this does not indicate an error and you can ignore this message): INVALID_ARGUMENT: You must feed a value for placeholder tensor 'Placeholder/_2' with dtype float and shape [75,1]\n",
            "\t [[{{node Placeholder/_2}}]]\n",
            "2025-04-10 12:46:00.111552: I tensorflow/core/common_runtime/executor.cc:1197] [/device:CPU:0] (DEBUG INFO) Executor start aborting (this does not indicate an error and you can ignore this message): INVALID_ARGUMENT: You must feed a value for placeholder tensor 'Placeholder/_2' with dtype float and shape [75,1]\n",
            "\t [[{{node Placeholder/_2}}]]\n",
            "2025-04-10 12:46:00.293434: I tensorflow/core/common_runtime/executor.cc:1197] [/device:CPU:0] (DEBUG INFO) Executor start aborting (this does not indicate an error and you can ignore this message): INVALID_ARGUMENT: You must feed a value for placeholder tensor 'Placeholder/_2' with dtype float and shape [75,1]\n",
            "\t [[{{node Placeholder/_2}}]]\n"
          ]
        },
        {
          "name": "stdout",
          "output_type": "stream",
          "text": [
            "21/32 [==================>...........] - ETA: 0s"
          ]
        },
        {
          "name": "stderr",
          "output_type": "stream",
          "text": [
            "2025-04-10 12:46:00.317936: I tensorflow/core/common_runtime/executor.cc:1197] [/device:CPU:0] (DEBUG INFO) Executor start aborting (this does not indicate an error and you can ignore this message): INVALID_ARGUMENT: You must feed a value for placeholder tensor 'Placeholder/_2' with dtype float and shape [75,1]\n",
            "\t [[{{node Placeholder/_2}}]]\n",
            "2025-04-10 12:46:00.348142: I tensorflow/core/common_runtime/executor.cc:1197] [/device:CPU:0] (DEBUG INFO) Executor start aborting (this does not indicate an error and you can ignore this message): INVALID_ARGUMENT: You must feed a value for placeholder tensor 'Placeholder/_2' with dtype float and shape [75,1]\n",
            "\t [[{{node Placeholder/_2}}]]\n"
          ]
        },
        {
          "name": "stdout",
          "output_type": "stream",
          "text": [
            "32/32 [==============================] - 0s 2ms/step\n",
            "3/3 [==============================] - 0s 3ms/step\n",
            "3/3 [==============================] - 0s 5ms/step\n"
          ]
        },
        {
          "name": "stderr",
          "output_type": "stream",
          "text": [
            "2025-04-10 12:46:00.739160: I tensorflow/core/common_runtime/executor.cc:1197] [/device:CPU:0] (DEBUG INFO) Executor start aborting (this does not indicate an error and you can ignore this message): INVALID_ARGUMENT: You must feed a value for placeholder tensor 'Placeholder/_2' with dtype float and shape [75,1]\n",
            "\t [[{{node Placeholder/_2}}]]\n",
            "2025-04-10 12:46:00.746918: I tensorflow/core/common_runtime/executor.cc:1197] [/device:CPU:0] (DEBUG INFO) Executor start aborting (this does not indicate an error and you can ignore this message): INVALID_ARGUMENT: You must feed a value for placeholder tensor 'Placeholder/_2' with dtype float and shape [75,1]\n",
            "\t [[{{node Placeholder/_2}}]]\n",
            "2025-04-10 12:46:00.862123: I tensorflow/core/common_runtime/executor.cc:1197] [/device:CPU:0] (DEBUG INFO) Executor start aborting (this does not indicate an error and you can ignore this message): INVALID_ARGUMENT: You must feed a value for placeholder tensor 'Placeholder/_2' with dtype float and shape [75,1]\n",
            "\t [[{{node Placeholder/_2}}]]\n",
            "2025-04-10 12:46:00.870187: I tensorflow/core/common_runtime/executor.cc:1197] [/device:CPU:0] (DEBUG INFO) Executor start aborting (this does not indicate an error and you can ignore this message): INVALID_ARGUMENT: You must feed a value for placeholder tensor 'Placeholder/_2' with dtype float and shape [75,1]\n",
            "\t [[{{node Placeholder/_2}}]]\n",
            "2025-04-10 12:46:00.877653: I tensorflow/core/common_runtime/executor.cc:1197] [/device:CPU:0] (DEBUG INFO) Executor start aborting (this does not indicate an error and you can ignore this message): INVALID_ARGUMENT: You must feed a value for placeholder tensor 'Placeholder/_2' with dtype float and shape [75,1]\n",
            "\t [[{{node Placeholder/_2}}]]\n"
          ]
        },
        {
          "name": "stdout",
          "output_type": "stream",
          "text": [
            "32/32 [==============================] - 0s 2ms/step\n",
            "3/3 [==============================] - 0s 3ms/step\n",
            "3/3 [==============================] - 0s 3ms/step\n"
          ]
        },
        {
          "name": "stderr",
          "output_type": "stream",
          "text": [
            "2025-04-10 12:46:01.166305: I tensorflow/core/common_runtime/executor.cc:1197] [/device:CPU:0] (DEBUG INFO) Executor start aborting (this does not indicate an error and you can ignore this message): INVALID_ARGUMENT: You must feed a value for placeholder tensor 'Placeholder/_2' with dtype float and shape [75,1]\n",
            "\t [[{{node Placeholder/_2}}]]\n",
            "2025-04-10 12:46:01.173901: I tensorflow/core/common_runtime/executor.cc:1197] [/device:CPU:0] (DEBUG INFO) Executor start aborting (this does not indicate an error and you can ignore this message): INVALID_ARGUMENT: You must feed a value for placeholder tensor 'Placeholder/_2' with dtype float and shape [75,1]\n",
            "\t [[{{node Placeholder/_2}}]]\n",
            "2025-04-10 12:46:01.284759: I tensorflow/core/common_runtime/executor.cc:1197] [/device:CPU:0] (DEBUG INFO) Executor start aborting (this does not indicate an error and you can ignore this message): INVALID_ARGUMENT: You must feed a value for placeholder tensor 'Placeholder/_2' with dtype float and shape [75,1]\n",
            "\t [[{{node Placeholder/_2}}]]\n",
            "2025-04-10 12:46:01.291991: I tensorflow/core/common_runtime/executor.cc:1197] [/device:CPU:0] (DEBUG INFO) Executor start aborting (this does not indicate an error and you can ignore this message): INVALID_ARGUMENT: You must feed a value for placeholder tensor 'Placeholder/_2' with dtype float and shape [75,1]\n",
            "\t [[{{node Placeholder/_2}}]]\n",
            "2025-04-10 12:46:01.301219: I tensorflow/core/common_runtime/executor.cc:1197] [/device:CPU:0] (DEBUG INFO) Executor start aborting (this does not indicate an error and you can ignore this message): INVALID_ARGUMENT: You must feed a value for placeholder tensor 'Placeholder/_2' with dtype float and shape [75,1]\n",
            "\t [[{{node Placeholder/_2}}]]\n"
          ]
        },
        {
          "name": "stdout",
          "output_type": "stream",
          "text": [
            "32/32 [==============================] - 0s 2ms/step\n",
            "3/3 [==============================] - 0s 4ms/step\n",
            "3/3 [==============================] - 0s 4ms/step\n"
          ]
        },
        {
          "name": "stderr",
          "output_type": "stream",
          "text": [
            "2025-04-10 12:46:01.712032: I tensorflow/core/common_runtime/executor.cc:1197] [/device:CPU:0] (DEBUG INFO) Executor start aborting (this does not indicate an error and you can ignore this message): INVALID_ARGUMENT: You must feed a value for placeholder tensor 'Placeholder/_2' with dtype float and shape [75,1]\n",
            "\t [[{{node Placeholder/_2}}]]\n",
            "2025-04-10 12:46:01.720984: I tensorflow/core/common_runtime/executor.cc:1197] [/device:CPU:0] (DEBUG INFO) Executor start aborting (this does not indicate an error and you can ignore this message): INVALID_ARGUMENT: You must feed a value for placeholder tensor 'Placeholder/_2' with dtype float and shape [75,1]\n",
            "\t [[{{node Placeholder/_2}}]]\n",
            "2025-04-10 12:46:01.828456: I tensorflow/core/common_runtime/executor.cc:1197] [/device:CPU:0] (DEBUG INFO) Executor start aborting (this does not indicate an error and you can ignore this message): INVALID_ARGUMENT: You must feed a value for placeholder tensor 'Placeholder/_2' with dtype float and shape [75,1]\n",
            "\t [[{{node Placeholder/_2}}]]\n",
            "2025-04-10 12:46:01.837583: I tensorflow/core/common_runtime/executor.cc:1197] [/device:CPU:0] (DEBUG INFO) Executor start aborting (this does not indicate an error and you can ignore this message): INVALID_ARGUMENT: You must feed a value for placeholder tensor 'Placeholder/_2' with dtype float and shape [75,1]\n",
            "\t [[{{node Placeholder/_2}}]]\n",
            "2025-04-10 12:46:01.845189: I tensorflow/core/common_runtime/executor.cc:1197] [/device:CPU:0] (DEBUG INFO) Executor start aborting (this does not indicate an error and you can ignore this message): INVALID_ARGUMENT: You must feed a value for placeholder tensor 'Placeholder/_2' with dtype float and shape [75,1]\n",
            "\t [[{{node Placeholder/_2}}]]\n"
          ]
        },
        {
          "name": "stdout",
          "output_type": "stream",
          "text": [
            "32/32 [==============================] - 0s 2ms/step\n",
            "3/3 [==============================] - 0s 3ms/step\n",
            "3/3 [==============================] - 0s 3ms/step\n"
          ]
        },
        {
          "name": "stderr",
          "output_type": "stream",
          "text": [
            "2025-04-10 12:46:02.131095: I tensorflow/core/common_runtime/executor.cc:1197] [/device:CPU:0] (DEBUG INFO) Executor start aborting (this does not indicate an error and you can ignore this message): INVALID_ARGUMENT: You must feed a value for placeholder tensor 'Placeholder/_2' with dtype float and shape [75,1]\n",
            "\t [[{{node Placeholder/_2}}]]\n",
            "2025-04-10 12:46:02.140069: I tensorflow/core/common_runtime/executor.cc:1197] [/device:CPU:0] (DEBUG INFO) Executor start aborting (this does not indicate an error and you can ignore this message): INVALID_ARGUMENT: You must feed a value for placeholder tensor 'Placeholder/_2' with dtype float and shape [75,1]\n",
            "\t [[{{node Placeholder/_2}}]]\n",
            "2025-04-10 12:46:02.246401: I tensorflow/core/common_runtime/executor.cc:1197] [/device:CPU:0] (DEBUG INFO) Executor start aborting (this does not indicate an error and you can ignore this message): INVALID_ARGUMENT: You must feed a value for placeholder tensor 'Placeholder/_2' with dtype float and shape [75,1]\n",
            "\t [[{{node Placeholder/_2}}]]\n",
            "2025-04-10 12:46:02.255353: I tensorflow/core/common_runtime/executor.cc:1197] [/device:CPU:0] (DEBUG INFO) Executor start aborting (this does not indicate an error and you can ignore this message): INVALID_ARGUMENT: You must feed a value for placeholder tensor 'Placeholder/_2' with dtype float and shape [75,1]\n",
            "\t [[{{node Placeholder/_2}}]]\n",
            "2025-04-10 12:46:02.262591: I tensorflow/core/common_runtime/executor.cc:1197] [/device:CPU:0] (DEBUG INFO) Executor start aborting (this does not indicate an error and you can ignore this message): INVALID_ARGUMENT: You must feed a value for placeholder tensor 'Placeholder/_2' with dtype float and shape [75,1]\n",
            "\t [[{{node Placeholder/_2}}]]\n"
          ]
        },
        {
          "name": "stdout",
          "output_type": "stream",
          "text": [
            "32/32 [==============================] - 0s 2ms/step\n",
            "3/3 [==============================] - 0s 3ms/step\n",
            "3/3 [==============================] - 0s 3ms/step\n"
          ]
        },
        {
          "name": "stderr",
          "output_type": "stream",
          "text": [
            "2025-04-10 12:46:02.557238: I tensorflow/core/common_runtime/executor.cc:1197] [/device:CPU:0] (DEBUG INFO) Executor start aborting (this does not indicate an error and you can ignore this message): INVALID_ARGUMENT: You must feed a value for placeholder tensor 'Placeholder/_2' with dtype float and shape [75,1]\n",
            "\t [[{{node Placeholder/_2}}]]\n",
            "2025-04-10 12:46:02.564625: I tensorflow/core/common_runtime/executor.cc:1197] [/device:CPU:0] (DEBUG INFO) Executor start aborting (this does not indicate an error and you can ignore this message): INVALID_ARGUMENT: You must feed a value for placeholder tensor 'Placeholder/_2' with dtype float and shape [75,1]\n",
            "\t [[{{node Placeholder/_2}}]]\n",
            "2025-04-10 12:46:02.670962: I tensorflow/core/common_runtime/executor.cc:1197] [/device:CPU:0] (DEBUG INFO) Executor start aborting (this does not indicate an error and you can ignore this message): INVALID_ARGUMENT: You must feed a value for placeholder tensor 'Placeholder/_2' with dtype float and shape [75,1]\n",
            "\t [[{{node Placeholder/_2}}]]\n",
            "2025-04-10 12:46:02.678314: I tensorflow/core/common_runtime/executor.cc:1197] [/device:CPU:0] (DEBUG INFO) Executor start aborting (this does not indicate an error and you can ignore this message): INVALID_ARGUMENT: You must feed a value for placeholder tensor 'Placeholder/_2' with dtype float and shape [75,1]\n",
            "\t [[{{node Placeholder/_2}}]]\n",
            "2025-04-10 12:46:02.687616: I tensorflow/core/common_runtime/executor.cc:1197] [/device:CPU:0] (DEBUG INFO) Executor start aborting (this does not indicate an error and you can ignore this message): INVALID_ARGUMENT: You must feed a value for placeholder tensor 'Placeholder/_2' with dtype float and shape [75,1]\n",
            "\t [[{{node Placeholder/_2}}]]\n"
          ]
        },
        {
          "name": "stdout",
          "output_type": "stream",
          "text": [
            "32/32 [==============================] - 0s 2ms/step\n",
            "3/3 [==============================] - 0s 3ms/step\n",
            "3/3 [==============================] - 0s 2ms/step\n"
          ]
        },
        {
          "name": "stderr",
          "output_type": "stream",
          "text": [
            "2025-04-10 12:46:03.038945: I tensorflow/core/common_runtime/executor.cc:1197] [/device:CPU:0] (DEBUG INFO) Executor start aborting (this does not indicate an error and you can ignore this message): INVALID_ARGUMENT: You must feed a value for placeholder tensor 'Placeholder/_2' with dtype float and shape [75,1]\n",
            "\t [[{{node Placeholder/_2}}]]\n",
            "2025-04-10 12:46:03.046269: I tensorflow/core/common_runtime/executor.cc:1197] [/device:CPU:0] (DEBUG INFO) Executor start aborting (this does not indicate an error and you can ignore this message): INVALID_ARGUMENT: You must feed a value for placeholder tensor 'Placeholder/_2' with dtype float and shape [75,1]\n",
            "\t [[{{node Placeholder/_2}}]]\n",
            "2025-04-10 12:46:03.153342: I tensorflow/core/common_runtime/executor.cc:1197] [/device:CPU:0] (DEBUG INFO) Executor start aborting (this does not indicate an error and you can ignore this message): INVALID_ARGUMENT: You must feed a value for placeholder tensor 'Placeholder/_2' with dtype float and shape [75,1]\n",
            "\t [[{{node Placeholder/_2}}]]\n",
            "2025-04-10 12:46:03.161271: I tensorflow/core/common_runtime/executor.cc:1197] [/device:CPU:0] (DEBUG INFO) Executor start aborting (this does not indicate an error and you can ignore this message): INVALID_ARGUMENT: You must feed a value for placeholder tensor 'Placeholder/_2' with dtype float and shape [75,1]\n",
            "\t [[{{node Placeholder/_2}}]]\n",
            "2025-04-10 12:46:03.169077: I tensorflow/core/common_runtime/executor.cc:1197] [/device:CPU:0] (DEBUG INFO) Executor start aborting (this does not indicate an error and you can ignore this message): INVALID_ARGUMENT: You must feed a value for placeholder tensor 'Placeholder/_2' with dtype float and shape [75,1]\n",
            "\t [[{{node Placeholder/_2}}]]\n"
          ]
        },
        {
          "name": "stdout",
          "output_type": "stream",
          "text": [
            "32/32 [==============================] - 0s 2ms/step\n",
            "3/3 [==============================] - 0s 6ms/step\n"
          ]
        },
        {
          "name": "stderr",
          "output_type": "stream",
          "text": [
            "2025-04-10 12:46:03.719579: I tensorflow/core/common_runtime/executor.cc:1197] [/device:CPU:0] (DEBUG INFO) Executor start aborting (this does not indicate an error and you can ignore this message): INVALID_ARGUMENT: You must feed a value for placeholder tensor 'Placeholder/_2' with dtype float and shape [75,1]\n",
            "\t [[{{node Placeholder/_2}}]]\n",
            "2025-04-10 12:46:03.731566: I tensorflow/core/common_runtime/executor.cc:1197] [/device:CPU:0] (DEBUG INFO) Executor start aborting (this does not indicate an error and you can ignore this message): INVALID_ARGUMENT: You must feed a value for placeholder tensor 'Placeholder/_2' with dtype float and shape [75,1]\n",
            "\t [[{{node Placeholder/_2}}]]\n"
          ]
        },
        {
          "name": "stdout",
          "output_type": "stream",
          "text": [
            "3/3 [==============================] - 0s 3ms/step\n",
            "16/32 [==============>...............] - ETA: 0s"
          ]
        },
        {
          "name": "stderr",
          "output_type": "stream",
          "text": [
            "2025-04-10 12:46:03.983558: I tensorflow/core/common_runtime/executor.cc:1197] [/device:CPU:0] (DEBUG INFO) Executor start aborting (this does not indicate an error and you can ignore this message): INVALID_ARGUMENT: You must feed a value for placeholder tensor 'Placeholder/_2' with dtype float and shape [75,1]\n",
            "\t [[{{node Placeholder/_2}}]]\n",
            "2025-04-10 12:46:03.993284: I tensorflow/core/common_runtime/executor.cc:1197] [/device:CPU:0] (DEBUG INFO) Executor start aborting (this does not indicate an error and you can ignore this message): INVALID_ARGUMENT: You must feed a value for placeholder tensor 'Placeholder/_2' with dtype float and shape [75,1]\n",
            "\t [[{{node Placeholder/_2}}]]\n",
            "2025-04-10 12:46:04.001186: I tensorflow/core/common_runtime/executor.cc:1197] [/device:CPU:0] (DEBUG INFO) Executor start aborting (this does not indicate an error and you can ignore this message): INVALID_ARGUMENT: You must feed a value for placeholder tensor 'Placeholder/_2' with dtype float and shape [75,1]\n",
            "\t [[{{node Placeholder/_2}}]]\n"
          ]
        },
        {
          "name": "stdout",
          "output_type": "stream",
          "text": [
            "32/32 [==============================] - 0s 5ms/step\n",
            "3/3 [==============================] - 0s 4ms/step\n"
          ]
        },
        {
          "name": "stderr",
          "output_type": "stream",
          "text": [
            "2025-04-10 12:46:04.651827: I tensorflow/core/common_runtime/executor.cc:1197] [/device:CPU:0] (DEBUG INFO) Executor start aborting (this does not indicate an error and you can ignore this message): INVALID_ARGUMENT: You must feed a value for placeholder tensor 'Placeholder/_2' with dtype float and shape [75,1]\n",
            "\t [[{{node Placeholder/_2}}]]\n",
            "2025-04-10 12:46:04.684263: I tensorflow/core/common_runtime/executor.cc:1197] [/device:CPU:0] (DEBUG INFO) Executor start aborting (this does not indicate an error and you can ignore this message): INVALID_ARGUMENT: You must feed a value for placeholder tensor 'Placeholder/_2' with dtype float and shape [75,1]\n",
            "\t [[{{node Placeholder/_2}}]]\n"
          ]
        },
        {
          "name": "stdout",
          "output_type": "stream",
          "text": [
            "3/3 [==============================] - 0s 4ms/step\n"
          ]
        },
        {
          "name": "stderr",
          "output_type": "stream",
          "text": [
            "2025-04-10 12:46:04.964548: I tensorflow/core/common_runtime/executor.cc:1197] [/device:CPU:0] (DEBUG INFO) Executor start aborting (this does not indicate an error and you can ignore this message): INVALID_ARGUMENT: You must feed a value for placeholder tensor 'Placeholder/_2' with dtype float and shape [75,1]\n",
            "\t [[{{node Placeholder/_2}}]]\n",
            "2025-04-10 12:46:04.982311: I tensorflow/core/common_runtime/executor.cc:1197] [/device:CPU:0] (DEBUG INFO) Executor start aborting (this does not indicate an error and you can ignore this message): INVALID_ARGUMENT: You must feed a value for placeholder tensor 'Placeholder/_2' with dtype float and shape [75,1]\n",
            "\t [[{{node Placeholder/_2}}]]\n",
            "2025-04-10 12:46:05.031198: I tensorflow/core/common_runtime/executor.cc:1197] [/device:CPU:0] (DEBUG INFO) Executor start aborting (this does not indicate an error and you can ignore this message): INVALID_ARGUMENT: You must feed a value for placeholder tensor 'Placeholder/_2' with dtype float and shape [75,1]\n",
            "\t [[{{node Placeholder/_2}}]]\n"
          ]
        },
        {
          "name": "stdout",
          "output_type": "stream",
          "text": [
            "32/32 [==============================] - 0s 4ms/step\n",
            "3/3 [==============================] - 0s 3ms/step\n",
            "3/3 [==============================] - 0s 4ms/step\n"
          ]
        },
        {
          "name": "stderr",
          "output_type": "stream",
          "text": [
            "2025-04-10 12:46:05.575644: I tensorflow/core/common_runtime/executor.cc:1197] [/device:CPU:0] (DEBUG INFO) Executor start aborting (this does not indicate an error and you can ignore this message): INVALID_ARGUMENT: You must feed a value for placeholder tensor 'Placeholder/_2' with dtype float and shape [75,1]\n",
            "\t [[{{node Placeholder/_2}}]]\n",
            "2025-04-10 12:46:05.602390: I tensorflow/core/common_runtime/executor.cc:1197] [/device:CPU:0] (DEBUG INFO) Executor start aborting (this does not indicate an error and you can ignore this message): INVALID_ARGUMENT: You must feed a value for placeholder tensor 'Placeholder/_2' with dtype float and shape [75,1]\n",
            "\t [[{{node Placeholder/_2}}]]\n",
            "2025-04-10 12:46:05.719498: I tensorflow/core/common_runtime/executor.cc:1197] [/device:CPU:0] (DEBUG INFO) Executor start aborting (this does not indicate an error and you can ignore this message): INVALID_ARGUMENT: You must feed a value for placeholder tensor 'Placeholder/_2' with dtype float and shape [75,1]\n",
            "\t [[{{node Placeholder/_2}}]]\n",
            "2025-04-10 12:46:05.728822: I tensorflow/core/common_runtime/executor.cc:1197] [/device:CPU:0] (DEBUG INFO) Executor start aborting (this does not indicate an error and you can ignore this message): INVALID_ARGUMENT: You must feed a value for placeholder tensor 'Placeholder/_2' with dtype float and shape [75,1]\n",
            "\t [[{{node Placeholder/_2}}]]\n",
            "2025-04-10 12:46:05.736462: I tensorflow/core/common_runtime/executor.cc:1197] [/device:CPU:0] (DEBUG INFO) Executor start aborting (this does not indicate an error and you can ignore this message): INVALID_ARGUMENT: You must feed a value for placeholder tensor 'Placeholder/_2' with dtype float and shape [75,1]\n",
            "\t [[{{node Placeholder/_2}}]]\n"
          ]
        },
        {
          "name": "stdout",
          "output_type": "stream",
          "text": [
            "32/32 [==============================] - 0s 2ms/step\n",
            "3/3 [==============================] - 0s 3ms/step\n",
            "3/3 [==============================] - 0s 8ms/step\n"
          ]
        },
        {
          "name": "stderr",
          "output_type": "stream",
          "text": [
            "2025-04-10 12:46:06.018349: I tensorflow/core/common_runtime/executor.cc:1197] [/device:CPU:0] (DEBUG INFO) Executor start aborting (this does not indicate an error and you can ignore this message): INVALID_ARGUMENT: You must feed a value for placeholder tensor 'Placeholder/_2' with dtype float and shape [75,1]\n",
            "\t [[{{node Placeholder/_2}}]]\n",
            "2025-04-10 12:46:06.025925: I tensorflow/core/common_runtime/executor.cc:1197] [/device:CPU:0] (DEBUG INFO) Executor start aborting (this does not indicate an error and you can ignore this message): INVALID_ARGUMENT: You must feed a value for placeholder tensor 'Placeholder/_2' with dtype float and shape [75,1]\n",
            "\t [[{{node Placeholder/_2}}]]\n",
            "2025-04-10 12:46:06.251399: I tensorflow/core/common_runtime/executor.cc:1197] [/device:CPU:0] (DEBUG INFO) Executor start aborting (this does not indicate an error and you can ignore this message): INVALID_ARGUMENT: You must feed a value for placeholder tensor 'Placeholder/_2' with dtype float and shape [75,1]\n",
            "\t [[{{node Placeholder/_2}}]]\n",
            "2025-04-10 12:46:06.263850: I tensorflow/core/common_runtime/executor.cc:1197] [/device:CPU:0] (DEBUG INFO) Executor start aborting (this does not indicate an error and you can ignore this message): INVALID_ARGUMENT: You must feed a value for placeholder tensor 'Placeholder/_2' with dtype float and shape [75,1]\n",
            "\t [[{{node Placeholder/_2}}]]\n",
            "2025-04-10 12:46:06.325261: I tensorflow/core/common_runtime/executor.cc:1197] [/device:CPU:0] (DEBUG INFO) Executor start aborting (this does not indicate an error and you can ignore this message): INVALID_ARGUMENT: You must feed a value for placeholder tensor 'Placeholder/_2' with dtype float and shape [75,1]\n",
            "\t [[{{node Placeholder/_2}}]]\n"
          ]
        },
        {
          "name": "stdout",
          "output_type": "stream",
          "text": [
            "32/32 [==============================] - 0s 9ms/step\n",
            "3/3 [==============================] - 0s 3ms/step\n"
          ]
        },
        {
          "name": "stderr",
          "output_type": "stream",
          "text": [
            "2025-04-10 12:46:07.229380: I tensorflow/core/common_runtime/executor.cc:1197] [/device:CPU:0] (DEBUG INFO) Executor start aborting (this does not indicate an error and you can ignore this message): INVALID_ARGUMENT: You must feed a value for placeholder tensor 'Placeholder/_2' with dtype float and shape [75,1]\n",
            "\t [[{{node Placeholder/_2}}]]\n",
            "2025-04-10 12:46:07.254325: I tensorflow/core/common_runtime/executor.cc:1197] [/device:CPU:0] (DEBUG INFO) Executor start aborting (this does not indicate an error and you can ignore this message): INVALID_ARGUMENT: You must feed a value for placeholder tensor 'Placeholder/_2' with dtype float and shape [75,1]\n",
            "\t [[{{node Placeholder/_2}}]]\n"
          ]
        },
        {
          "name": "stdout",
          "output_type": "stream",
          "text": [
            "3/3 [==============================] - 0s 9ms/step\n"
          ]
        },
        {
          "name": "stderr",
          "output_type": "stream",
          "text": [
            "2025-04-10 12:46:07.569901: I tensorflow/core/common_runtime/executor.cc:1197] [/device:CPU:0] (DEBUG INFO) Executor start aborting (this does not indicate an error and you can ignore this message): INVALID_ARGUMENT: You must feed a value for placeholder tensor 'Placeholder/_2' with dtype float and shape [75,1]\n",
            "\t [[{{node Placeholder/_2}}]]\n",
            "2025-04-10 12:46:07.608976: I tensorflow/core/common_runtime/executor.cc:1197] [/device:CPU:0] (DEBUG INFO) Executor start aborting (this does not indicate an error and you can ignore this message): INVALID_ARGUMENT: You must feed a value for placeholder tensor 'Placeholder/_2' with dtype float and shape [75,1]\n",
            "\t [[{{node Placeholder/_2}}]]\n",
            "2025-04-10 12:46:07.659540: I tensorflow/core/common_runtime/executor.cc:1197] [/device:CPU:0] (DEBUG INFO) Executor start aborting (this does not indicate an error and you can ignore this message): INVALID_ARGUMENT: You must feed a value for placeholder tensor 'Placeholder/_2' with dtype float and shape [75,1]\n",
            "\t [[{{node Placeholder/_2}}]]\n"
          ]
        },
        {
          "name": "stdout",
          "output_type": "stream",
          "text": [
            "32/32 [==============================] - 0s 3ms/step\n",
            "3/3 [==============================] - 0s 7ms/step\n"
          ]
        },
        {
          "name": "stderr",
          "output_type": "stream",
          "text": [
            "2025-04-10 12:46:08.323934: I tensorflow/core/common_runtime/executor.cc:1197] [/device:CPU:0] (DEBUG INFO) Executor start aborting (this does not indicate an error and you can ignore this message): INVALID_ARGUMENT: You must feed a value for placeholder tensor 'Placeholder/_2' with dtype float and shape [75,1]\n",
            "\t [[{{node Placeholder/_2}}]]\n",
            "2025-04-10 12:46:08.381797: I tensorflow/core/common_runtime/executor.cc:1197] [/device:CPU:0] (DEBUG INFO) Executor start aborting (this does not indicate an error and you can ignore this message): INVALID_ARGUMENT: You must feed a value for placeholder tensor 'Placeholder/_2' with dtype float and shape [75,1]\n",
            "\t [[{{node Placeholder/_2}}]]\n"
          ]
        },
        {
          "name": "stdout",
          "output_type": "stream",
          "text": [
            "3/3 [==============================] - 0s 10ms/step\n",
            " 1/32 [..............................] - ETA: 0s"
          ]
        },
        {
          "name": "stderr",
          "output_type": "stream",
          "text": [
            "2025-04-10 12:46:08.841069: I tensorflow/core/common_runtime/executor.cc:1197] [/device:CPU:0] (DEBUG INFO) Executor start aborting (this does not indicate an error and you can ignore this message): INVALID_ARGUMENT: You must feed a value for placeholder tensor 'Placeholder/_2' with dtype float and shape [75,1]\n",
            "\t [[{{node Placeholder/_2}}]]\n",
            "2025-04-10 12:46:08.860496: I tensorflow/core/common_runtime/executor.cc:1197] [/device:CPU:0] (DEBUG INFO) Executor start aborting (this does not indicate an error and you can ignore this message): INVALID_ARGUMENT: You must feed a value for placeholder tensor 'Placeholder/_2' with dtype float and shape [75,1]\n",
            "\t [[{{node Placeholder/_2}}]]\n",
            "2025-04-10 12:46:08.883708: I tensorflow/core/common_runtime/executor.cc:1197] [/device:CPU:0] (DEBUG INFO) Executor start aborting (this does not indicate an error and you can ignore this message): INVALID_ARGUMENT: You must feed a value for placeholder tensor 'Placeholder/_2' with dtype float and shape [75,1]\n",
            "\t [[{{node Placeholder/_2}}]]\n"
          ]
        },
        {
          "name": "stdout",
          "output_type": "stream",
          "text": [
            "32/32 [==============================] - 0s 8ms/step\n",
            "3/3 [==============================] - 0s 12ms/step\n",
            "3/3 [==============================] - 0s 4ms/step\n"
          ]
        },
        {
          "name": "stderr",
          "output_type": "stream",
          "text": [
            "2025-04-10 12:46:09.633881: I tensorflow/core/common_runtime/executor.cc:1197] [/device:CPU:0] (DEBUG INFO) Executor start aborting (this does not indicate an error and you can ignore this message): INVALID_ARGUMENT: You must feed a value for placeholder tensor 'Placeholder/_2' with dtype float and shape [75,1]\n",
            "\t [[{{node Placeholder/_2}}]]\n",
            "2025-04-10 12:46:09.659183: I tensorflow/core/common_runtime/executor.cc:1197] [/device:CPU:0] (DEBUG INFO) Executor start aborting (this does not indicate an error and you can ignore this message): INVALID_ARGUMENT: You must feed a value for placeholder tensor 'Placeholder/_2' with dtype float and shape [75,1]\n",
            "\t [[{{node Placeholder/_2}}]]\n",
            "2025-04-10 12:46:09.813645: I tensorflow/core/common_runtime/executor.cc:1197] [/device:CPU:0] (DEBUG INFO) Executor start aborting (this does not indicate an error and you can ignore this message): INVALID_ARGUMENT: You must feed a value for placeholder tensor 'Placeholder/_2' with dtype float and shape [75,1]\n",
            "\t [[{{node Placeholder/_2}}]]\n",
            "2025-04-10 12:46:09.822147: I tensorflow/core/common_runtime/executor.cc:1197] [/device:CPU:0] (DEBUG INFO) Executor start aborting (this does not indicate an error and you can ignore this message): INVALID_ARGUMENT: You must feed a value for placeholder tensor 'Placeholder/_2' with dtype float and shape [75,1]\n",
            "\t [[{{node Placeholder/_2}}]]\n"
          ]
        },
        {
          "name": "stdout",
          "output_type": "stream",
          "text": [
            " 1/32 [..............................] - ETA: 1s"
          ]
        },
        {
          "name": "stderr",
          "output_type": "stream",
          "text": [
            "2025-04-10 12:46:09.885908: I tensorflow/core/common_runtime/executor.cc:1197] [/device:CPU:0] (DEBUG INFO) Executor start aborting (this does not indicate an error and you can ignore this message): INVALID_ARGUMENT: You must feed a value for placeholder tensor 'Placeholder/_2' with dtype float and shape [75,1]\n",
            "\t [[{{node Placeholder/_2}}]]\n"
          ]
        },
        {
          "name": "stdout",
          "output_type": "stream",
          "text": [
            "32/32 [==============================] - 0s 4ms/step\n",
            "3/3 [==============================] - 0s 5ms/step\n",
            "3/3 [==============================] - 0s 5ms/step\n"
          ]
        },
        {
          "name": "stderr",
          "output_type": "stream",
          "text": [
            "2025-04-10 12:46:10.535158: I tensorflow/core/common_runtime/executor.cc:1197] [/device:CPU:0] (DEBUG INFO) Executor start aborting (this does not indicate an error and you can ignore this message): INVALID_ARGUMENT: You must feed a value for placeholder tensor 'Placeholder/_2' with dtype float and shape [75,1]\n",
            "\t [[{{node Placeholder/_2}}]]\n",
            "2025-04-10 12:46:10.547840: I tensorflow/core/common_runtime/executor.cc:1197] [/device:CPU:0] (DEBUG INFO) Executor start aborting (this does not indicate an error and you can ignore this message): INVALID_ARGUMENT: You must feed a value for placeholder tensor 'Placeholder/_2' with dtype float and shape [75,1]\n",
            "\t [[{{node Placeholder/_2}}]]\n",
            "2025-04-10 12:46:10.692272: I tensorflow/core/common_runtime/executor.cc:1197] [/device:CPU:0] (DEBUG INFO) Executor start aborting (this does not indicate an error and you can ignore this message): INVALID_ARGUMENT: You must feed a value for placeholder tensor 'Placeholder/_2' with dtype float and shape [75,1]\n",
            "\t [[{{node Placeholder/_2}}]]\n",
            "2025-04-10 12:46:10.704331: I tensorflow/core/common_runtime/executor.cc:1197] [/device:CPU:0] (DEBUG INFO) Executor start aborting (this does not indicate an error and you can ignore this message): INVALID_ARGUMENT: You must feed a value for placeholder tensor 'Placeholder/_2' with dtype float and shape [75,1]\n",
            "\t [[{{node Placeholder/_2}}]]\n"
          ]
        },
        {
          "name": "stdout",
          "output_type": "stream",
          "text": [
            " 1/32 [..............................] - ETA: 0s"
          ]
        },
        {
          "name": "stderr",
          "output_type": "stream",
          "text": [
            "2025-04-10 12:46:10.747732: I tensorflow/core/common_runtime/executor.cc:1197] [/device:CPU:0] (DEBUG INFO) Executor start aborting (this does not indicate an error and you can ignore this message): INVALID_ARGUMENT: You must feed a value for placeholder tensor 'Placeholder/_2' with dtype float and shape [75,1]\n",
            "\t [[{{node Placeholder/_2}}]]\n"
          ]
        },
        {
          "name": "stdout",
          "output_type": "stream",
          "text": [
            "32/32 [==============================] - 0s 12ms/step\n",
            "3/3 [==============================] - 0s 3ms/step\n",
            "3/3 [==============================] - 0s 3ms/step\n"
          ]
        },
        {
          "name": "stderr",
          "output_type": "stream",
          "text": [
            "2025-04-10 12:46:11.724305: I tensorflow/core/common_runtime/executor.cc:1197] [/device:CPU:0] (DEBUG INFO) Executor start aborting (this does not indicate an error and you can ignore this message): INVALID_ARGUMENT: You must feed a value for placeholder tensor 'Placeholder/_2' with dtype float and shape [75,1]\n",
            "\t [[{{node Placeholder/_2}}]]\n",
            "2025-04-10 12:46:11.735083: I tensorflow/core/common_runtime/executor.cc:1197] [/device:CPU:0] (DEBUG INFO) Executor start aborting (this does not indicate an error and you can ignore this message): INVALID_ARGUMENT: You must feed a value for placeholder tensor 'Placeholder/_2' with dtype float and shape [75,1]\n",
            "\t [[{{node Placeholder/_2}}]]\n",
            "2025-04-10 12:46:11.879542: I tensorflow/core/common_runtime/executor.cc:1197] [/device:CPU:0] (DEBUG INFO) Executor start aborting (this does not indicate an error and you can ignore this message): INVALID_ARGUMENT: You must feed a value for placeholder tensor 'Placeholder/_2' with dtype float and shape [75,1]\n",
            "\t [[{{node Placeholder/_2}}]]\n",
            "2025-04-10 12:46:11.915269: I tensorflow/core/common_runtime/executor.cc:1197] [/device:CPU:0] (DEBUG INFO) Executor start aborting (this does not indicate an error and you can ignore this message): INVALID_ARGUMENT: You must feed a value for placeholder tensor 'Placeholder/_2' with dtype float and shape [75,1]\n",
            "\t [[{{node Placeholder/_2}}]]\n",
            "2025-04-10 12:46:11.925031: I tensorflow/core/common_runtime/executor.cc:1197] [/device:CPU:0] (DEBUG INFO) Executor start aborting (this does not indicate an error and you can ignore this message): INVALID_ARGUMENT: You must feed a value for placeholder tensor 'Placeholder/_2' with dtype float and shape [75,1]\n",
            "\t [[{{node Placeholder/_2}}]]\n"
          ]
        },
        {
          "name": "stdout",
          "output_type": "stream",
          "text": [
            "32/32 [==============================] - 0s 3ms/step\n",
            "3/3 [==============================] - 0s 3ms/step\n",
            "3/3 [==============================] - 0s 4ms/step\n"
          ]
        },
        {
          "name": "stderr",
          "output_type": "stream",
          "text": [
            "2025-04-10 12:46:12.368577: I tensorflow/core/common_runtime/executor.cc:1197] [/device:CPU:0] (DEBUG INFO) Executor start aborting (this does not indicate an error and you can ignore this message): INVALID_ARGUMENT: You must feed a value for placeholder tensor 'Placeholder/_2' with dtype float and shape [75,1]\n",
            "\t [[{{node Placeholder/_2}}]]\n",
            "2025-04-10 12:46:12.379095: I tensorflow/core/common_runtime/executor.cc:1197] [/device:CPU:0] (DEBUG INFO) Executor start aborting (this does not indicate an error and you can ignore this message): INVALID_ARGUMENT: You must feed a value for placeholder tensor 'Placeholder/_2' with dtype float and shape [75,1]\n",
            "\t [[{{node Placeholder/_2}}]]\n",
            "2025-04-10 12:46:12.550163: I tensorflow/core/common_runtime/executor.cc:1197] [/device:CPU:0] (DEBUG INFO) Executor start aborting (this does not indicate an error and you can ignore this message): INVALID_ARGUMENT: You must feed a value for placeholder tensor 'Placeholder/_2' with dtype float and shape [75,1]\n",
            "\t [[{{node Placeholder/_2}}]]\n",
            "2025-04-10 12:46:12.569527: I tensorflow/core/common_runtime/executor.cc:1197] [/device:CPU:0] (DEBUG INFO) Executor start aborting (this does not indicate an error and you can ignore this message): INVALID_ARGUMENT: You must feed a value for placeholder tensor 'Placeholder/_2' with dtype float and shape [75,1]\n",
            "\t [[{{node Placeholder/_2}}]]\n"
          ]
        },
        {
          "name": "stdout",
          "output_type": "stream",
          "text": [
            "14/32 [============>.................] - ETA: 0s"
          ]
        },
        {
          "name": "stderr",
          "output_type": "stream",
          "text": [
            "2025-04-10 12:46:12.596950: I tensorflow/core/common_runtime/executor.cc:1197] [/device:CPU:0] (DEBUG INFO) Executor start aborting (this does not indicate an error and you can ignore this message): INVALID_ARGUMENT: You must feed a value for placeholder tensor 'Placeholder/_2' with dtype float and shape [75,1]\n",
            "\t [[{{node Placeholder/_2}}]]\n"
          ]
        },
        {
          "name": "stdout",
          "output_type": "stream",
          "text": [
            "32/32 [==============================] - 0s 6ms/step\n",
            "3/3 [==============================] - 0s 6ms/step\n"
          ]
        },
        {
          "name": "stderr",
          "output_type": "stream",
          "text": [
            "2025-04-10 12:46:13.255785: I tensorflow/core/common_runtime/executor.cc:1197] [/device:CPU:0] (DEBUG INFO) Executor start aborting (this does not indicate an error and you can ignore this message): INVALID_ARGUMENT: You must feed a value for placeholder tensor 'Placeholder/_2' with dtype float and shape [75,1]\n",
            "\t [[{{node Placeholder/_2}}]]\n",
            "2025-04-10 12:46:13.270021: I tensorflow/core/common_runtime/executor.cc:1197] [/device:CPU:0] (DEBUG INFO) Executor start aborting (this does not indicate an error and you can ignore this message): INVALID_ARGUMENT: You must feed a value for placeholder tensor 'Placeholder/_2' with dtype float and shape [75,1]\n",
            "\t [[{{node Placeholder/_2}}]]\n"
          ]
        },
        {
          "name": "stdout",
          "output_type": "stream",
          "text": [
            "3/3 [==============================] - 0s 15ms/step\n"
          ]
        },
        {
          "name": "stderr",
          "output_type": "stream",
          "text": [
            "2025-04-10 12:46:13.677809: I tensorflow/core/common_runtime/executor.cc:1197] [/device:CPU:0] (DEBUG INFO) Executor start aborting (this does not indicate an error and you can ignore this message): INVALID_ARGUMENT: You must feed a value for placeholder tensor 'Placeholder/_2' with dtype float and shape [75,1]\n",
            "\t [[{{node Placeholder/_2}}]]\n",
            "2025-04-10 12:46:13.715117: I tensorflow/core/common_runtime/executor.cc:1197] [/device:CPU:0] (DEBUG INFO) Executor start aborting (this does not indicate an error and you can ignore this message): INVALID_ARGUMENT: You must feed a value for placeholder tensor 'Placeholder/_2' with dtype float and shape [75,1]\n",
            "\t [[{{node Placeholder/_2}}]]\n",
            "2025-04-10 12:46:13.758483: I tensorflow/core/common_runtime/executor.cc:1197] [/device:CPU:0] (DEBUG INFO) Executor start aborting (this does not indicate an error and you can ignore this message): INVALID_ARGUMENT: You must feed a value for placeholder tensor 'Placeholder/_2' with dtype float and shape [75,1]\n",
            "\t [[{{node Placeholder/_2}}]]\n"
          ]
        },
        {
          "name": "stdout",
          "output_type": "stream",
          "text": [
            "32/32 [==============================] - 0s 3ms/step\n",
            "3/3 [==============================] - 0s 3ms/step\n",
            "3/3 [==============================] - 0s 3ms/step\n"
          ]
        },
        {
          "name": "stderr",
          "output_type": "stream",
          "text": [
            "2025-04-10 12:46:14.244742: I tensorflow/core/common_runtime/executor.cc:1197] [/device:CPU:0] (DEBUG INFO) Executor start aborting (this does not indicate an error and you can ignore this message): INVALID_ARGUMENT: You must feed a value for placeholder tensor 'Placeholder/_2' with dtype float and shape [75,1]\n",
            "\t [[{{node Placeholder/_2}}]]\n",
            "2025-04-10 12:46:14.279025: I tensorflow/core/common_runtime/executor.cc:1197] [/device:CPU:0] (DEBUG INFO) Executor start aborting (this does not indicate an error and you can ignore this message): INVALID_ARGUMENT: You must feed a value for placeholder tensor 'Placeholder/_2' with dtype float and shape [75,1]\n",
            "\t [[{{node Placeholder/_2}}]]\n",
            "2025-04-10 12:46:14.414555: I tensorflow/core/common_runtime/executor.cc:1197] [/device:CPU:0] (DEBUG INFO) Executor start aborting (this does not indicate an error and you can ignore this message): INVALID_ARGUMENT: You must feed a value for placeholder tensor 'Placeholder/_2' with dtype float and shape [75,1]\n",
            "\t [[{{node Placeholder/_2}}]]\n",
            "2025-04-10 12:46:14.433038: I tensorflow/core/common_runtime/executor.cc:1197] [/device:CPU:0] (DEBUG INFO) Executor start aborting (this does not indicate an error and you can ignore this message): INVALID_ARGUMENT: You must feed a value for placeholder tensor 'Placeholder/_2' with dtype float and shape [75,1]\n",
            "\t [[{{node Placeholder/_2}}]]\n",
            "2025-04-10 12:46:14.442768: I tensorflow/core/common_runtime/executor.cc:1197] [/device:CPU:0] (DEBUG INFO) Executor start aborting (this does not indicate an error and you can ignore this message): INVALID_ARGUMENT: You must feed a value for placeholder tensor 'Placeholder/_2' with dtype float and shape [75,1]\n",
            "\t [[{{node Placeholder/_2}}]]\n"
          ]
        },
        {
          "name": "stdout",
          "output_type": "stream",
          "text": [
            "32/32 [==============================] - 0s 4ms/step\n",
            "3/3 [==============================] - 0s 3ms/step\n",
            "3/3 [==============================] - 0s 5ms/step\n"
          ]
        },
        {
          "name": "stderr",
          "output_type": "stream",
          "text": [
            "2025-04-10 12:46:14.879442: I tensorflow/core/common_runtime/executor.cc:1197] [/device:CPU:0] (DEBUG INFO) Executor start aborting (this does not indicate an error and you can ignore this message): INVALID_ARGUMENT: You must feed a value for placeholder tensor 'Placeholder/_2' with dtype float and shape [75,1]\n",
            "\t [[{{node Placeholder/_2}}]]\n",
            "2025-04-10 12:46:14.905541: I tensorflow/core/common_runtime/executor.cc:1197] [/device:CPU:0] (DEBUG INFO) Executor start aborting (this does not indicate an error and you can ignore this message): INVALID_ARGUMENT: You must feed a value for placeholder tensor 'Placeholder/_2' with dtype float and shape [75,1]\n",
            "\t [[{{node Placeholder/_2}}]]\n",
            "2025-04-10 12:46:15.076734: I tensorflow/core/common_runtime/executor.cc:1197] [/device:CPU:0] (DEBUG INFO) Executor start aborting (this does not indicate an error and you can ignore this message): INVALID_ARGUMENT: You must feed a value for placeholder tensor 'Placeholder/_2' with dtype float and shape [75,1]\n",
            "\t [[{{node Placeholder/_2}}]]\n",
            "2025-04-10 12:46:15.090801: I tensorflow/core/common_runtime/executor.cc:1197] [/device:CPU:0] (DEBUG INFO) Executor start aborting (this does not indicate an error and you can ignore this message): INVALID_ARGUMENT: You must feed a value for placeholder tensor 'Placeholder/_2' with dtype float and shape [75,1]\n",
            "\t [[{{node Placeholder/_2}}]]\n"
          ]
        },
        {
          "name": "stdout",
          "output_type": "stream",
          "text": [
            "15/32 [=============>................] - ETA: 0s"
          ]
        },
        {
          "name": "stderr",
          "output_type": "stream",
          "text": [
            "2025-04-10 12:46:15.103846: I tensorflow/core/common_runtime/executor.cc:1197] [/device:CPU:0] (DEBUG INFO) Executor start aborting (this does not indicate an error and you can ignore this message): INVALID_ARGUMENT: You must feed a value for placeholder tensor 'Placeholder/_2' with dtype float and shape [75,1]\n",
            "\t [[{{node Placeholder/_2}}]]\n"
          ]
        },
        {
          "name": "stdout",
          "output_type": "stream",
          "text": [
            "32/32 [==============================] - 0s 5ms/step\n",
            "3/3 [==============================] - 0s 15ms/step\n",
            "3/3 [==============================] - 0s 4ms/step\n"
          ]
        },
        {
          "name": "stderr",
          "output_type": "stream",
          "text": [
            "2025-04-10 12:46:15.774980: I tensorflow/core/common_runtime/executor.cc:1197] [/device:CPU:0] (DEBUG INFO) Executor start aborting (this does not indicate an error and you can ignore this message): INVALID_ARGUMENT: You must feed a value for placeholder tensor 'Placeholder/_2' with dtype float and shape [75,1]\n",
            "\t [[{{node Placeholder/_2}}]]\n",
            "2025-04-10 12:46:15.804986: I tensorflow/core/common_runtime/executor.cc:1197] [/device:CPU:0] (DEBUG INFO) Executor start aborting (this does not indicate an error and you can ignore this message): INVALID_ARGUMENT: You must feed a value for placeholder tensor 'Placeholder/_2' with dtype float and shape [75,1]\n",
            "\t [[{{node Placeholder/_2}}]]\n",
            "2025-04-10 12:46:15.963261: I tensorflow/core/common_runtime/executor.cc:1197] [/device:CPU:0] (DEBUG INFO) Executor start aborting (this does not indicate an error and you can ignore this message): INVALID_ARGUMENT: You must feed a value for placeholder tensor 'Placeholder/_2' with dtype float and shape [75,1]\n",
            "\t [[{{node Placeholder/_2}}]]\n"
          ]
        },
        {
          "name": "stdout",
          "output_type": "stream",
          "text": [
            " 1/32 [..............................] - ETA: 1s"
          ]
        },
        {
          "name": "stderr",
          "output_type": "stream",
          "text": [
            "2025-04-10 12:46:16.000152: I tensorflow/core/common_runtime/executor.cc:1197] [/device:CPU:0] (DEBUG INFO) Executor start aborting (this does not indicate an error and you can ignore this message): INVALID_ARGUMENT: You must feed a value for placeholder tensor 'Placeholder/_2' with dtype float and shape [75,1]\n",
            "\t [[{{node Placeholder/_2}}]]\n",
            "2025-04-10 12:46:16.036131: I tensorflow/core/common_runtime/executor.cc:1197] [/device:CPU:0] (DEBUG INFO) Executor start aborting (this does not indicate an error and you can ignore this message): INVALID_ARGUMENT: You must feed a value for placeholder tensor 'Placeholder/_2' with dtype float and shape [75,1]\n",
            "\t [[{{node Placeholder/_2}}]]\n"
          ]
        },
        {
          "name": "stdout",
          "output_type": "stream",
          "text": [
            "32/32 [==============================] - 0s 5ms/step\n",
            "3/3 [==============================] - 0s 4ms/step\n",
            "3/3 [==============================] - 0s 5ms/step\n"
          ]
        },
        {
          "name": "stderr",
          "output_type": "stream",
          "text": [
            "2025-04-10 12:46:16.729165: I tensorflow/core/common_runtime/executor.cc:1197] [/device:CPU:0] (DEBUG INFO) Executor start aborting (this does not indicate an error and you can ignore this message): INVALID_ARGUMENT: You must feed a value for placeholder tensor 'Placeholder/_2' with dtype float and shape [75,1]\n",
            "\t [[{{node Placeholder/_2}}]]\n",
            "2025-04-10 12:46:16.745668: I tensorflow/core/common_runtime/executor.cc:1197] [/device:CPU:0] (DEBUG INFO) Executor start aborting (this does not indicate an error and you can ignore this message): INVALID_ARGUMENT: You must feed a value for placeholder tensor 'Placeholder/_2' with dtype float and shape [75,1]\n",
            "\t [[{{node Placeholder/_2}}]]\n",
            "2025-04-10 12:46:16.900868: I tensorflow/core/common_runtime/executor.cc:1197] [/device:CPU:0] (DEBUG INFO) Executor start aborting (this does not indicate an error and you can ignore this message): INVALID_ARGUMENT: You must feed a value for placeholder tensor 'Placeholder/_2' with dtype float and shape [75,1]\n",
            "\t [[{{node Placeholder/_2}}]]\n",
            "2025-04-10 12:46:16.950339: I tensorflow/core/common_runtime/executor.cc:1197] [/device:CPU:0] (DEBUG INFO) Executor start aborting (this does not indicate an error and you can ignore this message): INVALID_ARGUMENT: You must feed a value for placeholder tensor 'Placeholder/_2' with dtype float and shape [75,1]\n",
            "\t [[{{node Placeholder/_2}}]]\n",
            "2025-04-10 12:46:17.009194: I tensorflow/core/common_runtime/executor.cc:1197] [/device:CPU:0] (DEBUG INFO) Executor start aborting (this does not indicate an error and you can ignore this message): INVALID_ARGUMENT: You must feed a value for placeholder tensor 'Placeholder/_2' with dtype float and shape [75,1]\n",
            "\t [[{{node Placeholder/_2}}]]\n"
          ]
        },
        {
          "name": "stdout",
          "output_type": "stream",
          "text": [
            "32/32 [==============================] - 0s 4ms/step\n",
            "3/3 [==============================] - 0s 3ms/step\n",
            "3/3 [==============================] - 0s 3ms/step\n"
          ]
        },
        {
          "name": "stderr",
          "output_type": "stream",
          "text": [
            "2025-04-10 12:46:17.605978: I tensorflow/core/common_runtime/executor.cc:1197] [/device:CPU:0] (DEBUG INFO) Executor start aborting (this does not indicate an error and you can ignore this message): INVALID_ARGUMENT: You must feed a value for placeholder tensor 'Placeholder/_2' with dtype float and shape [75,1]\n",
            "\t [[{{node Placeholder/_2}}]]\n",
            "2025-04-10 12:46:17.622966: I tensorflow/core/common_runtime/executor.cc:1197] [/device:CPU:0] (DEBUG INFO) Executor start aborting (this does not indicate an error and you can ignore this message): INVALID_ARGUMENT: You must feed a value for placeholder tensor 'Placeholder/_2' with dtype float and shape [75,1]\n",
            "\t [[{{node Placeholder/_2}}]]\n",
            "2025-04-10 12:46:17.754408: I tensorflow/core/common_runtime/executor.cc:1197] [/device:CPU:0] (DEBUG INFO) Executor start aborting (this does not indicate an error and you can ignore this message): INVALID_ARGUMENT: You must feed a value for placeholder tensor 'Placeholder/_2' with dtype float and shape [75,1]\n",
            "\t [[{{node Placeholder/_2}}]]\n",
            "2025-04-10 12:46:17.778563: I tensorflow/core/common_runtime/executor.cc:1197] [/device:CPU:0] (DEBUG INFO) Executor start aborting (this does not indicate an error and you can ignore this message): INVALID_ARGUMENT: You must feed a value for placeholder tensor 'Placeholder/_2' with dtype float and shape [75,1]\n",
            "\t [[{{node Placeholder/_2}}]]\n",
            "2025-04-10 12:46:17.792893: I tensorflow/core/common_runtime/executor.cc:1197] [/device:CPU:0] (DEBUG INFO) Executor start aborting (this does not indicate an error and you can ignore this message): INVALID_ARGUMENT: You must feed a value for placeholder tensor 'Placeholder/_2' with dtype float and shape [75,1]\n",
            "\t [[{{node Placeholder/_2}}]]\n"
          ]
        },
        {
          "name": "stdout",
          "output_type": "stream",
          "text": [
            "32/32 [==============================] - 0s 6ms/step\n",
            "3/3 [==============================] - 0s 7ms/step\n",
            "3/3 [==============================] - 0s 4ms/step\n"
          ]
        },
        {
          "name": "stderr",
          "output_type": "stream",
          "text": [
            "2025-04-10 12:46:18.654373: I tensorflow/core/common_runtime/executor.cc:1197] [/device:CPU:0] (DEBUG INFO) Executor start aborting (this does not indicate an error and you can ignore this message): INVALID_ARGUMENT: You must feed a value for placeholder tensor 'Placeholder/_2' with dtype float and shape [75,1]\n",
            "\t [[{{node Placeholder/_2}}]]\n",
            "2025-04-10 12:46:18.680635: I tensorflow/core/common_runtime/executor.cc:1197] [/device:CPU:0] (DEBUG INFO) Executor start aborting (this does not indicate an error and you can ignore this message): INVALID_ARGUMENT: You must feed a value for placeholder tensor 'Placeholder/_2' with dtype float and shape [75,1]\n",
            "\t [[{{node Placeholder/_2}}]]\n"
          ]
        },
        {
          "name": "stdout",
          "output_type": "stream",
          "text": [
            " 1/32 [..............................] - ETA: 1s"
          ]
        },
        {
          "name": "stderr",
          "output_type": "stream",
          "text": [
            "2025-04-10 12:46:18.926070: I tensorflow/core/common_runtime/executor.cc:1197] [/device:CPU:0] (DEBUG INFO) Executor start aborting (this does not indicate an error and you can ignore this message): INVALID_ARGUMENT: You must feed a value for placeholder tensor 'Placeholder/_2' with dtype float and shape [75,1]\n",
            "\t [[{{node Placeholder/_2}}]]\n",
            "2025-04-10 12:46:18.967095: I tensorflow/core/common_runtime/executor.cc:1197] [/device:CPU:0] (DEBUG INFO) Executor start aborting (this does not indicate an error and you can ignore this message): INVALID_ARGUMENT: You must feed a value for placeholder tensor 'Placeholder/_2' with dtype float and shape [75,1]\n",
            "\t [[{{node Placeholder/_2}}]]\n",
            "2025-04-10 12:46:18.979495: I tensorflow/core/common_runtime/executor.cc:1197] [/device:CPU:0] (DEBUG INFO) Executor start aborting (this does not indicate an error and you can ignore this message): INVALID_ARGUMENT: You must feed a value for placeholder tensor 'Placeholder/_2' with dtype float and shape [75,1]\n",
            "\t [[{{node Placeholder/_2}}]]\n"
          ]
        },
        {
          "name": "stdout",
          "output_type": "stream",
          "text": [
            "32/32 [==============================] - 0s 6ms/step\n",
            "3/3 [==============================] - 0s 7ms/step\n"
          ]
        },
        {
          "name": "stderr",
          "output_type": "stream",
          "text": [
            "2025-04-10 12:46:19.676996: I tensorflow/core/common_runtime/executor.cc:1197] [/device:CPU:0] (DEBUG INFO) Executor start aborting (this does not indicate an error and you can ignore this message): INVALID_ARGUMENT: You must feed a value for placeholder tensor 'Placeholder/_2' with dtype float and shape [75,1]\n",
            "\t [[{{node Placeholder/_2}}]]\n",
            "2025-04-10 12:46:19.724643: I tensorflow/core/common_runtime/executor.cc:1197] [/device:CPU:0] (DEBUG INFO) Executor start aborting (this does not indicate an error and you can ignore this message): INVALID_ARGUMENT: You must feed a value for placeholder tensor 'Placeholder/_2' with dtype float and shape [75,1]\n",
            "\t [[{{node Placeholder/_2}}]]\n"
          ]
        },
        {
          "name": "stdout",
          "output_type": "stream",
          "text": [
            "3/3 [==============================] - 0s 6ms/step\n"
          ]
        },
        {
          "name": "stderr",
          "output_type": "stream",
          "text": [
            "2025-04-10 12:46:19.992555: I tensorflow/core/common_runtime/executor.cc:1197] [/device:CPU:0] (DEBUG INFO) Executor start aborting (this does not indicate an error and you can ignore this message): INVALID_ARGUMENT: You must feed a value for placeholder tensor 'Placeholder/_2' with dtype float and shape [75,1]\n",
            "\t [[{{node Placeholder/_2}}]]\n",
            "2025-04-10 12:46:20.012600: I tensorflow/core/common_runtime/executor.cc:1197] [/device:CPU:0] (DEBUG INFO) Executor start aborting (this does not indicate an error and you can ignore this message): INVALID_ARGUMENT: You must feed a value for placeholder tensor 'Placeholder/_2' with dtype float and shape [75,1]\n",
            "\t [[{{node Placeholder/_2}}]]\n",
            "2025-04-10 12:46:20.049498: I tensorflow/core/common_runtime/executor.cc:1197] [/device:CPU:0] (DEBUG INFO) Executor start aborting (this does not indicate an error and you can ignore this message): INVALID_ARGUMENT: You must feed a value for placeholder tensor 'Placeholder/_2' with dtype float and shape [75,1]\n",
            "\t [[{{node Placeholder/_2}}]]\n"
          ]
        },
        {
          "name": "stdout",
          "output_type": "stream",
          "text": [
            "32/32 [==============================] - 0s 4ms/step\n",
            "3/3 [==============================] - 0s 5ms/step\n"
          ]
        },
        {
          "name": "stderr",
          "output_type": "stream",
          "text": [
            "2025-04-10 12:46:20.969191: I tensorflow/core/common_runtime/executor.cc:1197] [/device:CPU:0] (DEBUG INFO) Executor start aborting (this does not indicate an error and you can ignore this message): INVALID_ARGUMENT: You must feed a value for placeholder tensor 'Placeholder/_2' with dtype float and shape [75,1]\n",
            "\t [[{{node Placeholder/_2}}]]\n",
            "2025-04-10 12:46:21.018369: I tensorflow/core/common_runtime/executor.cc:1197] [/device:CPU:0] (DEBUG INFO) Executor start aborting (this does not indicate an error and you can ignore this message): INVALID_ARGUMENT: You must feed a value for placeholder tensor 'Placeholder/_2' with dtype float and shape [75,1]\n",
            "\t [[{{node Placeholder/_2}}]]\n"
          ]
        },
        {
          "name": "stdout",
          "output_type": "stream",
          "text": [
            "3/3 [==============================] - 0s 10ms/step\n"
          ]
        },
        {
          "name": "stderr",
          "output_type": "stream",
          "text": [
            "2025-04-10 12:46:21.346380: I tensorflow/core/common_runtime/executor.cc:1197] [/device:CPU:0] (DEBUG INFO) Executor start aborting (this does not indicate an error and you can ignore this message): INVALID_ARGUMENT: You must feed a value for placeholder tensor 'Placeholder/_2' with dtype float and shape [75,1]\n",
            "\t [[{{node Placeholder/_2}}]]\n",
            "2025-04-10 12:46:21.368691: I tensorflow/core/common_runtime/executor.cc:1197] [/device:CPU:0] (DEBUG INFO) Executor start aborting (this does not indicate an error and you can ignore this message): INVALID_ARGUMENT: You must feed a value for placeholder tensor 'Placeholder/_2' with dtype float and shape [75,1]\n",
            "\t [[{{node Placeholder/_2}}]]\n",
            "2025-04-10 12:46:21.394338: I tensorflow/core/common_runtime/executor.cc:1197] [/device:CPU:0] (DEBUG INFO) Executor start aborting (this does not indicate an error and you can ignore this message): INVALID_ARGUMENT: You must feed a value for placeholder tensor 'Placeholder/_2' with dtype float and shape [75,1]\n",
            "\t [[{{node Placeholder/_2}}]]\n"
          ]
        },
        {
          "name": "stdout",
          "output_type": "stream",
          "text": [
            "32/32 [==============================] - 0s 2ms/step\n",
            "3/3 [==============================] - 0s 4ms/step\n"
          ]
        },
        {
          "name": "stderr",
          "output_type": "stream",
          "text": [
            "2025-04-10 12:46:22.084490: I tensorflow/core/common_runtime/executor.cc:1197] [/device:CPU:0] (DEBUG INFO) Executor start aborting (this does not indicate an error and you can ignore this message): INVALID_ARGUMENT: You must feed a value for placeholder tensor 'Placeholder/_2' with dtype float and shape [75,1]\n",
            "\t [[{{node Placeholder/_2}}]]\n",
            "2025-04-10 12:46:22.101112: I tensorflow/core/common_runtime/executor.cc:1197] [/device:CPU:0] (DEBUG INFO) Executor start aborting (this does not indicate an error and you can ignore this message): INVALID_ARGUMENT: You must feed a value for placeholder tensor 'Placeholder/_2' with dtype float and shape [75,1]\n",
            "\t [[{{node Placeholder/_2}}]]\n"
          ]
        },
        {
          "name": "stdout",
          "output_type": "stream",
          "text": [
            "3/3 [==============================] - 0s 7ms/step\n",
            "32/32 [==============================] - 0s 2ms/step\n"
          ]
        },
        {
          "name": "stderr",
          "output_type": "stream",
          "text": [
            "2025-04-10 12:46:22.483305: I tensorflow/core/common_runtime/executor.cc:1197] [/device:CPU:0] (DEBUG INFO) Executor start aborting (this does not indicate an error and you can ignore this message): INVALID_ARGUMENT: You must feed a value for placeholder tensor 'Placeholder/_2' with dtype float and shape [75,1]\n",
            "\t [[{{node Placeholder/_2}}]]\n",
            "2025-04-10 12:46:22.501469: I tensorflow/core/common_runtime/executor.cc:1197] [/device:CPU:0] (DEBUG INFO) Executor start aborting (this does not indicate an error and you can ignore this message): INVALID_ARGUMENT: You must feed a value for placeholder tensor 'Placeholder/_2' with dtype float and shape [75,1]\n",
            "\t [[{{node Placeholder/_2}}]]\n",
            "2025-04-10 12:46:22.514951: I tensorflow/core/common_runtime/executor.cc:1197] [/device:CPU:0] (DEBUG INFO) Executor start aborting (this does not indicate an error and you can ignore this message): INVALID_ARGUMENT: You must feed a value for placeholder tensor 'Placeholder/_2' with dtype float and shape [75,1]\n",
            "\t [[{{node Placeholder/_2}}]]\n"
          ]
        },
        {
          "name": "stdout",
          "output_type": "stream",
          "text": [
            "3/3 [==============================] - 0s 3ms/step\n",
            "3/3 [==============================] - 0s 3ms/step\n"
          ]
        },
        {
          "name": "stderr",
          "output_type": "stream",
          "text": [
            "2025-04-10 12:46:22.860308: I tensorflow/core/common_runtime/executor.cc:1197] [/device:CPU:0] (DEBUG INFO) Executor start aborting (this does not indicate an error and you can ignore this message): INVALID_ARGUMENT: You must feed a value for placeholder tensor 'Placeholder/_2' with dtype float and shape [75,1]\n",
            "\t [[{{node Placeholder/_2}}]]\n",
            "2025-04-10 12:46:22.867671: I tensorflow/core/common_runtime/executor.cc:1197] [/device:CPU:0] (DEBUG INFO) Executor start aborting (this does not indicate an error and you can ignore this message): INVALID_ARGUMENT: You must feed a value for placeholder tensor 'Placeholder/_2' with dtype float and shape [75,1]\n",
            "\t [[{{node Placeholder/_2}}]]\n",
            "2025-04-10 12:46:23.018107: I tensorflow/core/common_runtime/executor.cc:1197] [/device:CPU:0] (DEBUG INFO) Executor start aborting (this does not indicate an error and you can ignore this message): INVALID_ARGUMENT: You must feed a value for placeholder tensor 'Placeholder/_2' with dtype float and shape [75,1]\n",
            "\t [[{{node Placeholder/_2}}]]\n",
            "2025-04-10 12:46:23.027721: I tensorflow/core/common_runtime/executor.cc:1197] [/device:CPU:0] (DEBUG INFO) Executor start aborting (this does not indicate an error and you can ignore this message): INVALID_ARGUMENT: You must feed a value for placeholder tensor 'Placeholder/_2' with dtype float and shape [75,1]\n",
            "\t [[{{node Placeholder/_2}}]]\n",
            "2025-04-10 12:46:23.035399: I tensorflow/core/common_runtime/executor.cc:1197] [/device:CPU:0] (DEBUG INFO) Executor start aborting (this does not indicate an error and you can ignore this message): INVALID_ARGUMENT: You must feed a value for placeholder tensor 'Placeholder/_2' with dtype float and shape [75,1]\n",
            "\t [[{{node Placeholder/_2}}]]\n"
          ]
        },
        {
          "name": "stdout",
          "output_type": "stream",
          "text": [
            "32/32 [==============================] - 0s 2ms/step\n",
            "3/3 [==============================] - 0s 3ms/step\n",
            "3/3 [==============================] - 0s 3ms/step\n"
          ]
        },
        {
          "name": "stderr",
          "output_type": "stream",
          "text": [
            "2025-04-10 12:46:23.319799: I tensorflow/core/common_runtime/executor.cc:1197] [/device:CPU:0] (DEBUG INFO) Executor start aborting (this does not indicate an error and you can ignore this message): INVALID_ARGUMENT: You must feed a value for placeholder tensor 'Placeholder/_2' with dtype float and shape [75,1]\n",
            "\t [[{{node Placeholder/_2}}]]\n",
            "2025-04-10 12:46:23.328985: I tensorflow/core/common_runtime/executor.cc:1197] [/device:CPU:0] (DEBUG INFO) Executor start aborting (this does not indicate an error and you can ignore this message): INVALID_ARGUMENT: You must feed a value for placeholder tensor 'Placeholder/_2' with dtype float and shape [75,1]\n",
            "\t [[{{node Placeholder/_2}}]]\n",
            "2025-04-10 12:46:23.442363: I tensorflow/core/common_runtime/executor.cc:1197] [/device:CPU:0] (DEBUG INFO) Executor start aborting (this does not indicate an error and you can ignore this message): INVALID_ARGUMENT: You must feed a value for placeholder tensor 'Placeholder/_2' with dtype float and shape [75,1]\n",
            "\t [[{{node Placeholder/_2}}]]\n",
            "2025-04-10 12:46:23.449991: I tensorflow/core/common_runtime/executor.cc:1197] [/device:CPU:0] (DEBUG INFO) Executor start aborting (this does not indicate an error and you can ignore this message): INVALID_ARGUMENT: You must feed a value for placeholder tensor 'Placeholder/_2' with dtype float and shape [75,1]\n",
            "\t [[{{node Placeholder/_2}}]]\n",
            "2025-04-10 12:46:23.459440: I tensorflow/core/common_runtime/executor.cc:1197] [/device:CPU:0] (DEBUG INFO) Executor start aborting (this does not indicate an error and you can ignore this message): INVALID_ARGUMENT: You must feed a value for placeholder tensor 'Placeholder/_2' with dtype float and shape [75,1]\n",
            "\t [[{{node Placeholder/_2}}]]\n"
          ]
        },
        {
          "name": "stdout",
          "output_type": "stream",
          "text": [
            "32/32 [==============================] - 0s 6ms/step\n",
            "3/3 [==============================] - 0s 4ms/step\n",
            "3/3 [==============================] - 0s 4ms/step\n"
          ]
        },
        {
          "name": "stderr",
          "output_type": "stream",
          "text": [
            "2025-04-10 12:46:24.003358: I tensorflow/core/common_runtime/executor.cc:1197] [/device:CPU:0] (DEBUG INFO) Executor start aborting (this does not indicate an error and you can ignore this message): INVALID_ARGUMENT: You must feed a value for placeholder tensor 'Placeholder/_2' with dtype float and shape [75,1]\n",
            "\t [[{{node Placeholder/_2}}]]\n",
            "2025-04-10 12:46:24.012482: I tensorflow/core/common_runtime/executor.cc:1197] [/device:CPU:0] (DEBUG INFO) Executor start aborting (this does not indicate an error and you can ignore this message): INVALID_ARGUMENT: You must feed a value for placeholder tensor 'Placeholder/_2' with dtype float and shape [75,1]\n",
            "\t [[{{node Placeholder/_2}}]]\n",
            "2025-04-10 12:46:24.118310: I tensorflow/core/common_runtime/executor.cc:1197] [/device:CPU:0] (DEBUG INFO) Executor start aborting (this does not indicate an error and you can ignore this message): INVALID_ARGUMENT: You must feed a value for placeholder tensor 'Placeholder/_2' with dtype float and shape [75,1]\n",
            "\t [[{{node Placeholder/_2}}]]\n",
            "2025-04-10 12:46:24.127827: I tensorflow/core/common_runtime/executor.cc:1197] [/device:CPU:0] (DEBUG INFO) Executor start aborting (this does not indicate an error and you can ignore this message): INVALID_ARGUMENT: You must feed a value for placeholder tensor 'Placeholder/_2' with dtype float and shape [75,1]\n",
            "\t [[{{node Placeholder/_2}}]]\n",
            "2025-04-10 12:46:24.135622: I tensorflow/core/common_runtime/executor.cc:1197] [/device:CPU:0] (DEBUG INFO) Executor start aborting (this does not indicate an error and you can ignore this message): INVALID_ARGUMENT: You must feed a value for placeholder tensor 'Placeholder/_2' with dtype float and shape [75,1]\n",
            "\t [[{{node Placeholder/_2}}]]\n"
          ]
        },
        {
          "name": "stdout",
          "output_type": "stream",
          "text": [
            "32/32 [==============================] - 0s 2ms/step\n",
            "3/3 [==============================] - 0s 4ms/step\n",
            "3/3 [==============================] - 0s 3ms/step\n"
          ]
        },
        {
          "name": "stderr",
          "output_type": "stream",
          "text": [
            "2025-04-10 12:46:24.418424: I tensorflow/core/common_runtime/executor.cc:1197] [/device:CPU:0] (DEBUG INFO) Executor start aborting (this does not indicate an error and you can ignore this message): INVALID_ARGUMENT: You must feed a value for placeholder tensor 'Placeholder/_2' with dtype float and shape [75,1]\n",
            "\t [[{{node Placeholder/_2}}]]\n",
            "2025-04-10 12:46:24.426081: I tensorflow/core/common_runtime/executor.cc:1197] [/device:CPU:0] (DEBUG INFO) Executor start aborting (this does not indicate an error and you can ignore this message): INVALID_ARGUMENT: You must feed a value for placeholder tensor 'Placeholder/_2' with dtype float and shape [75,1]\n",
            "\t [[{{node Placeholder/_2}}]]\n",
            "2025-04-10 12:46:24.541241: I tensorflow/core/common_runtime/executor.cc:1197] [/device:CPU:0] (DEBUG INFO) Executor start aborting (this does not indicate an error and you can ignore this message): INVALID_ARGUMENT: You must feed a value for placeholder tensor 'Placeholder/_2' with dtype float and shape [75,1]\n",
            "\t [[{{node Placeholder/_2}}]]\n",
            "2025-04-10 12:46:24.549774: I tensorflow/core/common_runtime/executor.cc:1197] [/device:CPU:0] (DEBUG INFO) Executor start aborting (this does not indicate an error and you can ignore this message): INVALID_ARGUMENT: You must feed a value for placeholder tensor 'Placeholder/_2' with dtype float and shape [75,1]\n",
            "\t [[{{node Placeholder/_2}}]]\n",
            "2025-04-10 12:46:24.557345: I tensorflow/core/common_runtime/executor.cc:1197] [/device:CPU:0] (DEBUG INFO) Executor start aborting (this does not indicate an error and you can ignore this message): INVALID_ARGUMENT: You must feed a value for placeholder tensor 'Placeholder/_2' with dtype float and shape [75,1]\n",
            "\t [[{{node Placeholder/_2}}]]\n"
          ]
        },
        {
          "name": "stdout",
          "output_type": "stream",
          "text": [
            "32/32 [==============================] - 0s 2ms/step\n",
            "3/3 [==============================] - 0s 3ms/step\n",
            "3/3 [==============================] - 0s 3ms/step\n",
            " 1/32 [..............................] - ETA: 0s"
          ]
        },
        {
          "name": "stderr",
          "output_type": "stream",
          "text": [
            "2025-04-10 12:46:24.826373: I tensorflow/core/common_runtime/executor.cc:1197] [/device:CPU:0] (DEBUG INFO) Executor start aborting (this does not indicate an error and you can ignore this message): INVALID_ARGUMENT: You must feed a value for placeholder tensor 'Placeholder/_2' with dtype float and shape [75,1]\n",
            "\t [[{{node Placeholder/_2}}]]\n",
            "2025-04-10 12:46:24.834480: I tensorflow/core/common_runtime/executor.cc:1197] [/device:CPU:0] (DEBUG INFO) Executor start aborting (this does not indicate an error and you can ignore this message): INVALID_ARGUMENT: You must feed a value for placeholder tensor 'Placeholder/_2' with dtype float and shape [75,1]\n",
            "\t [[{{node Placeholder/_2}}]]\n",
            "2025-04-10 12:46:24.934122: I tensorflow/core/common_runtime/executor.cc:1197] [/device:CPU:0] (DEBUG INFO) Executor start aborting (this does not indicate an error and you can ignore this message): INVALID_ARGUMENT: You must feed a value for placeholder tensor 'Placeholder/_2' with dtype float and shape [75,1]\n",
            "\t [[{{node Placeholder/_2}}]]\n",
            "2025-04-10 12:46:24.941440: I tensorflow/core/common_runtime/executor.cc:1197] [/device:CPU:0] (DEBUG INFO) Executor start aborting (this does not indicate an error and you can ignore this message): INVALID_ARGUMENT: You must feed a value for placeholder tensor 'Placeholder/_2' with dtype float and shape [75,1]\n",
            "\t [[{{node Placeholder/_2}}]]\n",
            "2025-04-10 12:46:24.950536: I tensorflow/core/common_runtime/executor.cc:1197] [/device:CPU:0] (DEBUG INFO) Executor start aborting (this does not indicate an error and you can ignore this message): INVALID_ARGUMENT: You must feed a value for placeholder tensor 'Placeholder/_2' with dtype float and shape [75,1]\n",
            "\t [[{{node Placeholder/_2}}]]\n"
          ]
        },
        {
          "name": "stdout",
          "output_type": "stream",
          "text": [
            "32/32 [==============================] - 0s 2ms/step\n",
            "3/3 [==============================] - 0s 3ms/step\n",
            "3/3 [==============================] - 0s 3ms/step\n"
          ]
        },
        {
          "name": "stderr",
          "output_type": "stream",
          "text": [
            "2025-04-10 12:46:25.227623: I tensorflow/core/common_runtime/executor.cc:1197] [/device:CPU:0] (DEBUG INFO) Executor start aborting (this does not indicate an error and you can ignore this message): INVALID_ARGUMENT: You must feed a value for placeholder tensor 'Placeholder/_2' with dtype float and shape [75,1]\n",
            "\t [[{{node Placeholder/_2}}]]\n",
            "2025-04-10 12:46:25.237273: I tensorflow/core/common_runtime/executor.cc:1197] [/device:CPU:0] (DEBUG INFO) Executor start aborting (this does not indicate an error and you can ignore this message): INVALID_ARGUMENT: You must feed a value for placeholder tensor 'Placeholder/_2' with dtype float and shape [75,1]\n",
            "\t [[{{node Placeholder/_2}}]]\n",
            "2025-04-10 12:46:25.353051: I tensorflow/core/common_runtime/executor.cc:1197] [/device:CPU:0] (DEBUG INFO) Executor start aborting (this does not indicate an error and you can ignore this message): INVALID_ARGUMENT: You must feed a value for placeholder tensor 'Placeholder/_2' with dtype float and shape [75,1]\n",
            "\t [[{{node Placeholder/_2}}]]\n",
            "2025-04-10 12:46:25.361026: I tensorflow/core/common_runtime/executor.cc:1197] [/device:CPU:0] (DEBUG INFO) Executor start aborting (this does not indicate an error and you can ignore this message): INVALID_ARGUMENT: You must feed a value for placeholder tensor 'Placeholder/_2' with dtype float and shape [75,1]\n",
            "\t [[{{node Placeholder/_2}}]]\n",
            "2025-04-10 12:46:25.369738: I tensorflow/core/common_runtime/executor.cc:1197] [/device:CPU:0] (DEBUG INFO) Executor start aborting (this does not indicate an error and you can ignore this message): INVALID_ARGUMENT: You must feed a value for placeholder tensor 'Placeholder/_2' with dtype float and shape [75,1]\n",
            "\t [[{{node Placeholder/_2}}]]\n"
          ]
        },
        {
          "name": "stdout",
          "output_type": "stream",
          "text": [
            "32/32 [==============================] - 0s 2ms/step\n",
            "3/3 [==============================] - 0s 3ms/step\n",
            "3/3 [==============================] - 0s 3ms/step\n"
          ]
        },
        {
          "name": "stderr",
          "output_type": "stream",
          "text": [
            "2025-04-10 12:46:25.666206: I tensorflow/core/common_runtime/executor.cc:1197] [/device:CPU:0] (DEBUG INFO) Executor start aborting (this does not indicate an error and you can ignore this message): INVALID_ARGUMENT: You must feed a value for placeholder tensor 'Placeholder/_2' with dtype float and shape [75,1]\n",
            "\t [[{{node Placeholder/_2}}]]\n",
            "2025-04-10 12:46:25.673423: I tensorflow/core/common_runtime/executor.cc:1197] [/device:CPU:0] (DEBUG INFO) Executor start aborting (this does not indicate an error and you can ignore this message): INVALID_ARGUMENT: You must feed a value for placeholder tensor 'Placeholder/_2' with dtype float and shape [75,1]\n",
            "\t [[{{node Placeholder/_2}}]]\n",
            "2025-04-10 12:46:25.779546: I tensorflow/core/common_runtime/executor.cc:1197] [/device:CPU:0] (DEBUG INFO) Executor start aborting (this does not indicate an error and you can ignore this message): INVALID_ARGUMENT: You must feed a value for placeholder tensor 'Placeholder/_2' with dtype float and shape [75,1]\n",
            "\t [[{{node Placeholder/_2}}]]\n",
            "2025-04-10 12:46:25.787409: I tensorflow/core/common_runtime/executor.cc:1197] [/device:CPU:0] (DEBUG INFO) Executor start aborting (this does not indicate an error and you can ignore this message): INVALID_ARGUMENT: You must feed a value for placeholder tensor 'Placeholder/_2' with dtype float and shape [75,1]\n",
            "\t [[{{node Placeholder/_2}}]]\n",
            "2025-04-10 12:46:25.795044: I tensorflow/core/common_runtime/executor.cc:1197] [/device:CPU:0] (DEBUG INFO) Executor start aborting (this does not indicate an error and you can ignore this message): INVALID_ARGUMENT: You must feed a value for placeholder tensor 'Placeholder/_2' with dtype float and shape [75,1]\n",
            "\t [[{{node Placeholder/_2}}]]\n"
          ]
        },
        {
          "name": "stdout",
          "output_type": "stream",
          "text": [
            "32/32 [==============================] - 0s 2ms/step\n",
            "3/3 [==============================] - 0s 3ms/step\n",
            "3/3 [==============================] - 0s 4ms/step\n"
          ]
        },
        {
          "name": "stderr",
          "output_type": "stream",
          "text": [
            "2025-04-10 12:46:26.079525: I tensorflow/core/common_runtime/executor.cc:1197] [/device:CPU:0] (DEBUG INFO) Executor start aborting (this does not indicate an error and you can ignore this message): INVALID_ARGUMENT: You must feed a value for placeholder tensor 'Placeholder/_2' with dtype float and shape [75,1]\n",
            "\t [[{{node Placeholder/_2}}]]\n",
            "2025-04-10 12:46:26.088371: I tensorflow/core/common_runtime/executor.cc:1197] [/device:CPU:0] (DEBUG INFO) Executor start aborting (this does not indicate an error and you can ignore this message): INVALID_ARGUMENT: You must feed a value for placeholder tensor 'Placeholder/_2' with dtype float and shape [75,1]\n",
            "\t [[{{node Placeholder/_2}}]]\n",
            "2025-04-10 12:46:26.205020: I tensorflow/core/common_runtime/executor.cc:1197] [/device:CPU:0] (DEBUG INFO) Executor start aborting (this does not indicate an error and you can ignore this message): INVALID_ARGUMENT: You must feed a value for placeholder tensor 'Placeholder/_2' with dtype float and shape [75,1]\n",
            "\t [[{{node Placeholder/_2}}]]\n",
            "2025-04-10 12:46:26.216922: I tensorflow/core/common_runtime/executor.cc:1197] [/device:CPU:0] (DEBUG INFO) Executor start aborting (this does not indicate an error and you can ignore this message): INVALID_ARGUMENT: You must feed a value for placeholder tensor 'Placeholder/_2' with dtype float and shape [75,1]\n",
            "\t [[{{node Placeholder/_2}}]]\n",
            "2025-04-10 12:46:26.226338: I tensorflow/core/common_runtime/executor.cc:1197] [/device:CPU:0] (DEBUG INFO) Executor start aborting (this does not indicate an error and you can ignore this message): INVALID_ARGUMENT: You must feed a value for placeholder tensor 'Placeholder/_2' with dtype float and shape [75,1]\n",
            "\t [[{{node Placeholder/_2}}]]\n"
          ]
        },
        {
          "name": "stdout",
          "output_type": "stream",
          "text": [
            "32/32 [==============================] - 0s 2ms/step\n",
            "3/3 [==============================] - 0s 3ms/step\n",
            "3/3 [==============================] - 0s 3ms/step\n"
          ]
        },
        {
          "name": "stderr",
          "output_type": "stream",
          "text": [
            "2025-04-10 12:46:26.521113: I tensorflow/core/common_runtime/executor.cc:1197] [/device:CPU:0] (DEBUG INFO) Executor start aborting (this does not indicate an error and you can ignore this message): INVALID_ARGUMENT: You must feed a value for placeholder tensor 'Placeholder/_2' with dtype float and shape [75,1]\n",
            "\t [[{{node Placeholder/_2}}]]\n",
            "2025-04-10 12:46:26.528915: I tensorflow/core/common_runtime/executor.cc:1197] [/device:CPU:0] (DEBUG INFO) Executor start aborting (this does not indicate an error and you can ignore this message): INVALID_ARGUMENT: You must feed a value for placeholder tensor 'Placeholder/_2' with dtype float and shape [75,1]\n",
            "\t [[{{node Placeholder/_2}}]]\n",
            "2025-04-10 12:46:26.715262: I tensorflow/core/common_runtime/executor.cc:1197] [/device:CPU:0] (DEBUG INFO) Executor start aborting (this does not indicate an error and you can ignore this message): INVALID_ARGUMENT: You must feed a value for placeholder tensor 'Placeholder/_2' with dtype float and shape [75,1]\n",
            "\t [[{{node Placeholder/_2}}]]\n"
          ]
        },
        {
          "name": "stdout",
          "output_type": "stream",
          "text": [
            "32/32 [==============================] - 0s 2ms/step\n"
          ]
        },
        {
          "name": "stderr",
          "output_type": "stream",
          "text": [
            "2025-04-10 12:46:26.755167: I tensorflow/core/common_runtime/executor.cc:1197] [/device:CPU:0] (DEBUG INFO) Executor start aborting (this does not indicate an error and you can ignore this message): INVALID_ARGUMENT: You must feed a value for placeholder tensor 'Placeholder/_2' with dtype float and shape [75,1]\n",
            "\t [[{{node Placeholder/_2}}]]\n",
            "2025-04-10 12:46:26.764287: I tensorflow/core/common_runtime/executor.cc:1197] [/device:CPU:0] (DEBUG INFO) Executor start aborting (this does not indicate an error and you can ignore this message): INVALID_ARGUMENT: You must feed a value for placeholder tensor 'Placeholder/_2' with dtype float and shape [75,1]\n",
            "\t [[{{node Placeholder/_2}}]]\n"
          ]
        },
        {
          "name": "stdout",
          "output_type": "stream",
          "text": [
            "3/3 [==============================] - 0s 4ms/step\n",
            "3/3 [==============================] - 0s 3ms/step\n"
          ]
        },
        {
          "name": "stderr",
          "output_type": "stream",
          "text": [
            "2025-04-10 12:46:27.165601: I tensorflow/core/common_runtime/executor.cc:1197] [/device:CPU:0] (DEBUG INFO) Executor start aborting (this does not indicate an error and you can ignore this message): INVALID_ARGUMENT: You must feed a value for placeholder tensor 'Placeholder/_2' with dtype float and shape [75,1]\n",
            "\t [[{{node Placeholder/_2}}]]\n",
            "2025-04-10 12:46:27.196187: I tensorflow/core/common_runtime/executor.cc:1197] [/device:CPU:0] (DEBUG INFO) Executor start aborting (this does not indicate an error and you can ignore this message): INVALID_ARGUMENT: You must feed a value for placeholder tensor 'Placeholder/_2' with dtype float and shape [75,1]\n",
            "\t [[{{node Placeholder/_2}}]]\n",
            "2025-04-10 12:46:27.346791: I tensorflow/core/common_runtime/executor.cc:1197] [/device:CPU:0] (DEBUG INFO) Executor start aborting (this does not indicate an error and you can ignore this message): INVALID_ARGUMENT: You must feed a value for placeholder tensor 'Placeholder/_2' with dtype float and shape [75,1]\n",
            "\t [[{{node Placeholder/_2}}]]\n",
            "2025-04-10 12:46:27.359057: I tensorflow/core/common_runtime/executor.cc:1197] [/device:CPU:0] (DEBUG INFO) Executor start aborting (this does not indicate an error and you can ignore this message): INVALID_ARGUMENT: You must feed a value for placeholder tensor 'Placeholder/_2' with dtype float and shape [75,1]\n",
            "\t [[{{node Placeholder/_2}}]]\n",
            "2025-04-10 12:46:27.366508: I tensorflow/core/common_runtime/executor.cc:1197] [/device:CPU:0] (DEBUG INFO) Executor start aborting (this does not indicate an error and you can ignore this message): INVALID_ARGUMENT: You must feed a value for placeholder tensor 'Placeholder/_2' with dtype float and shape [75,1]\n",
            "\t [[{{node Placeholder/_2}}]]\n"
          ]
        },
        {
          "name": "stdout",
          "output_type": "stream",
          "text": [
            "32/32 [==============================] - 0s 3ms/step\n",
            "3/3 [==============================] - 0s 6ms/step\n",
            "3/3 [==============================] - 0s 5ms/step\n"
          ]
        },
        {
          "name": "stderr",
          "output_type": "stream",
          "text": [
            "2025-04-10 12:46:27.792363: I tensorflow/core/common_runtime/executor.cc:1197] [/device:CPU:0] (DEBUG INFO) Executor start aborting (this does not indicate an error and you can ignore this message): INVALID_ARGUMENT: You must feed a value for placeholder tensor 'Placeholder/_2' with dtype float and shape [75,1]\n",
            "\t [[{{node Placeholder/_2}}]]\n",
            "2025-04-10 12:46:27.801427: I tensorflow/core/common_runtime/executor.cc:1197] [/device:CPU:0] (DEBUG INFO) Executor start aborting (this does not indicate an error and you can ignore this message): INVALID_ARGUMENT: You must feed a value for placeholder tensor 'Placeholder/_2' with dtype float and shape [75,1]\n",
            "\t [[{{node Placeholder/_2}}]]\n",
            "2025-04-10 12:46:27.943632: I tensorflow/core/common_runtime/executor.cc:1197] [/device:CPU:0] (DEBUG INFO) Executor start aborting (this does not indicate an error and you can ignore this message): INVALID_ARGUMENT: You must feed a value for placeholder tensor 'Placeholder/_2' with dtype float and shape [75,1]\n",
            "\t [[{{node Placeholder/_2}}]]\n",
            "2025-04-10 12:46:27.951315: I tensorflow/core/common_runtime/executor.cc:1197] [/device:CPU:0] (DEBUG INFO) Executor start aborting (this does not indicate an error and you can ignore this message): INVALID_ARGUMENT: You must feed a value for placeholder tensor 'Placeholder/_2' with dtype float and shape [75,1]\n",
            "\t [[{{node Placeholder/_2}}]]\n",
            "2025-04-10 12:46:27.963802: I tensorflow/core/common_runtime/executor.cc:1197] [/device:CPU:0] (DEBUG INFO) Executor start aborting (this does not indicate an error and you can ignore this message): INVALID_ARGUMENT: You must feed a value for placeholder tensor 'Placeholder/_2' with dtype float and shape [75,1]\n",
            "\t [[{{node Placeholder/_2}}]]\n"
          ]
        },
        {
          "name": "stdout",
          "output_type": "stream",
          "text": [
            "32/32 [==============================] - 0s 3ms/step\n",
            "3/3 [==============================] - 0s 4ms/step\n",
            "3/3 [==============================] - 0s 4ms/step\n"
          ]
        },
        {
          "name": "stderr",
          "output_type": "stream",
          "text": [
            "2025-04-10 12:46:28.690146: I tensorflow/core/common_runtime/executor.cc:1197] [/device:CPU:0] (DEBUG INFO) Executor start aborting (this does not indicate an error and you can ignore this message): INVALID_ARGUMENT: You must feed a value for placeholder tensor 'Placeholder/_2' with dtype float and shape [75,1]\n",
            "\t [[{{node Placeholder/_2}}]]\n",
            "2025-04-10 12:46:28.701841: I tensorflow/core/common_runtime/executor.cc:1197] [/device:CPU:0] (DEBUG INFO) Executor start aborting (this does not indicate an error and you can ignore this message): INVALID_ARGUMENT: You must feed a value for placeholder tensor 'Placeholder/_2' with dtype float and shape [75,1]\n",
            "\t [[{{node Placeholder/_2}}]]\n",
            "2025-04-10 12:46:28.818994: I tensorflow/core/common_runtime/executor.cc:1197] [/device:CPU:0] (DEBUG INFO) Executor start aborting (this does not indicate an error and you can ignore this message): INVALID_ARGUMENT: You must feed a value for placeholder tensor 'Placeholder/_2' with dtype float and shape [75,1]\n",
            "\t [[{{node Placeholder/_2}}]]\n",
            "2025-04-10 12:46:28.827410: I tensorflow/core/common_runtime/executor.cc:1197] [/device:CPU:0] (DEBUG INFO) Executor start aborting (this does not indicate an error and you can ignore this message): INVALID_ARGUMENT: You must feed a value for placeholder tensor 'Placeholder/_2' with dtype float and shape [75,1]\n",
            "\t [[{{node Placeholder/_2}}]]\n",
            "2025-04-10 12:46:28.837103: I tensorflow/core/common_runtime/executor.cc:1197] [/device:CPU:0] (DEBUG INFO) Executor start aborting (this does not indicate an error and you can ignore this message): INVALID_ARGUMENT: You must feed a value for placeholder tensor 'Placeholder/_2' with dtype float and shape [75,1]\n",
            "\t [[{{node Placeholder/_2}}]]\n"
          ]
        },
        {
          "name": "stdout",
          "output_type": "stream",
          "text": [
            "32/32 [==============================] - 0s 2ms/step\n",
            "3/3 [==============================] - 0s 4ms/step\n",
            "3/3 [==============================] - 0s 4ms/step\n"
          ]
        },
        {
          "name": "stderr",
          "output_type": "stream",
          "text": [
            "2025-04-10 12:46:29.245466: I tensorflow/core/common_runtime/executor.cc:1197] [/device:CPU:0] (DEBUG INFO) Executor start aborting (this does not indicate an error and you can ignore this message): INVALID_ARGUMENT: You must feed a value for placeholder tensor 'Placeholder/_2' with dtype float and shape [75,1]\n",
            "\t [[{{node Placeholder/_2}}]]\n",
            "2025-04-10 12:46:29.255757: I tensorflow/core/common_runtime/executor.cc:1197] [/device:CPU:0] (DEBUG INFO) Executor start aborting (this does not indicate an error and you can ignore this message): INVALID_ARGUMENT: You must feed a value for placeholder tensor 'Placeholder/_2' with dtype float and shape [75,1]\n",
            "\t [[{{node Placeholder/_2}}]]\n",
            "2025-04-10 12:46:29.395036: I tensorflow/core/common_runtime/executor.cc:1197] [/device:CPU:0] (DEBUG INFO) Executor start aborting (this does not indicate an error and you can ignore this message): INVALID_ARGUMENT: You must feed a value for placeholder tensor 'Placeholder/_2' with dtype float and shape [75,1]\n",
            "\t [[{{node Placeholder/_2}}]]\n",
            "2025-04-10 12:46:29.402933: I tensorflow/core/common_runtime/executor.cc:1197] [/device:CPU:0] (DEBUG INFO) Executor start aborting (this does not indicate an error and you can ignore this message): INVALID_ARGUMENT: You must feed a value for placeholder tensor 'Placeholder/_2' with dtype float and shape [75,1]\n",
            "\t [[{{node Placeholder/_2}}]]\n",
            "2025-04-10 12:46:29.412411: I tensorflow/core/common_runtime/executor.cc:1197] [/device:CPU:0] (DEBUG INFO) Executor start aborting (this does not indicate an error and you can ignore this message): INVALID_ARGUMENT: You must feed a value for placeholder tensor 'Placeholder/_2' with dtype float and shape [75,1]\n",
            "\t [[{{node Placeholder/_2}}]]\n"
          ]
        },
        {
          "name": "stdout",
          "output_type": "stream",
          "text": [
            "32/32 [==============================] - 0s 2ms/step\n",
            "3/3 [==============================] - 0s 5ms/step\n"
          ]
        },
        {
          "name": "stderr",
          "output_type": "stream",
          "text": [
            "2025-04-10 12:46:29.936590: I tensorflow/core/common_runtime/executor.cc:1197] [/device:CPU:0] (DEBUG INFO) Executor start aborting (this does not indicate an error and you can ignore this message): INVALID_ARGUMENT: You must feed a value for placeholder tensor 'Placeholder/_2' with dtype float and shape [75,1]\n",
            "\t [[{{node Placeholder/_2}}]]\n",
            "2025-04-10 12:46:29.951776: I tensorflow/core/common_runtime/executor.cc:1197] [/device:CPU:0] (DEBUG INFO) Executor start aborting (this does not indicate an error and you can ignore this message): INVALID_ARGUMENT: You must feed a value for placeholder tensor 'Placeholder/_2' with dtype float and shape [75,1]\n",
            "\t [[{{node Placeholder/_2}}]]\n"
          ]
        },
        {
          "name": "stdout",
          "output_type": "stream",
          "text": [
            "3/3 [==============================] - 0s 5ms/step\n",
            "18/32 [===============>..............] - ETA: 0s"
          ]
        },
        {
          "name": "stderr",
          "output_type": "stream",
          "text": [
            "2025-04-10 12:46:30.370376: I tensorflow/core/common_runtime/executor.cc:1197] [/device:CPU:0] (DEBUG INFO) Executor start aborting (this does not indicate an error and you can ignore this message): INVALID_ARGUMENT: You must feed a value for placeholder tensor 'Placeholder/_2' with dtype float and shape [75,1]\n",
            "\t [[{{node Placeholder/_2}}]]\n",
            "2025-04-10 12:46:30.379272: I tensorflow/core/common_runtime/executor.cc:1197] [/device:CPU:0] (DEBUG INFO) Executor start aborting (this does not indicate an error and you can ignore this message): INVALID_ARGUMENT: You must feed a value for placeholder tensor 'Placeholder/_2' with dtype float and shape [75,1]\n",
            "\t [[{{node Placeholder/_2}}]]\n",
            "2025-04-10 12:46:30.388491: I tensorflow/core/common_runtime/executor.cc:1197] [/device:CPU:0] (DEBUG INFO) Executor start aborting (this does not indicate an error and you can ignore this message): INVALID_ARGUMENT: You must feed a value for placeholder tensor 'Placeholder/_2' with dtype float and shape [75,1]\n",
            "\t [[{{node Placeholder/_2}}]]\n"
          ]
        },
        {
          "name": "stdout",
          "output_type": "stream",
          "text": [
            "32/32 [==============================] - 0s 3ms/step\n",
            "3/3 [==============================] - 0s 6ms/step\n",
            "3/3 [==============================] - 0s 5ms/step\n"
          ]
        },
        {
          "name": "stderr",
          "output_type": "stream",
          "text": [
            "2025-04-10 12:46:30.760882: I tensorflow/core/common_runtime/executor.cc:1197] [/device:CPU:0] (DEBUG INFO) Executor start aborting (this does not indicate an error and you can ignore this message): INVALID_ARGUMENT: You must feed a value for placeholder tensor 'Placeholder/_2' with dtype float and shape [75,1]\n",
            "\t [[{{node Placeholder/_2}}]]\n",
            "2025-04-10 12:46:30.773673: I tensorflow/core/common_runtime/executor.cc:1197] [/device:CPU:0] (DEBUG INFO) Executor start aborting (this does not indicate an error and you can ignore this message): INVALID_ARGUMENT: You must feed a value for placeholder tensor 'Placeholder/_2' with dtype float and shape [75,1]\n",
            "\t [[{{node Placeholder/_2}}]]\n"
          ]
        },
        {
          "name": "stdout",
          "output_type": "stream",
          "text": [
            " 1/32 [..............................] - ETA: 1s"
          ]
        },
        {
          "name": "stderr",
          "output_type": "stream",
          "text": [
            "2025-04-10 12:46:31.009991: I tensorflow/core/common_runtime/executor.cc:1197] [/device:CPU:0] (DEBUG INFO) Executor start aborting (this does not indicate an error and you can ignore this message): INVALID_ARGUMENT: You must feed a value for placeholder tensor 'Placeholder/_2' with dtype float and shape [75,1]\n",
            "\t [[{{node Placeholder/_2}}]]\n",
            "2025-04-10 12:46:31.078478: I tensorflow/core/common_runtime/executor.cc:1197] [/device:CPU:0] (DEBUG INFO) Executor start aborting (this does not indicate an error and you can ignore this message): INVALID_ARGUMENT: You must feed a value for placeholder tensor 'Placeholder/_2' with dtype float and shape [75,1]\n",
            "\t [[{{node Placeholder/_2}}]]\n",
            "2025-04-10 12:46:31.093262: I tensorflow/core/common_runtime/executor.cc:1197] [/device:CPU:0] (DEBUG INFO) Executor start aborting (this does not indicate an error and you can ignore this message): INVALID_ARGUMENT: You must feed a value for placeholder tensor 'Placeholder/_2' with dtype float and shape [75,1]\n",
            "\t [[{{node Placeholder/_2}}]]\n"
          ]
        },
        {
          "name": "stdout",
          "output_type": "stream",
          "text": [
            "32/32 [==============================] - 0s 4ms/step\n",
            "3/3 [==============================] - 0s 3ms/step\n",
            "3/3 [==============================] - 0s 4ms/step\n"
          ]
        },
        {
          "name": "stderr",
          "output_type": "stream",
          "text": [
            "2025-04-10 12:46:31.548337: I tensorflow/core/common_runtime/executor.cc:1197] [/device:CPU:0] (DEBUG INFO) Executor start aborting (this does not indicate an error and you can ignore this message): INVALID_ARGUMENT: You must feed a value for placeholder tensor 'Placeholder/_2' with dtype float and shape [75,1]\n",
            "\t [[{{node Placeholder/_2}}]]\n",
            "2025-04-10 12:46:31.557905: I tensorflow/core/common_runtime/executor.cc:1197] [/device:CPU:0] (DEBUG INFO) Executor start aborting (this does not indicate an error and you can ignore this message): INVALID_ARGUMENT: You must feed a value for placeholder tensor 'Placeholder/_2' with dtype float and shape [75,1]\n",
            "\t [[{{node Placeholder/_2}}]]\n",
            "2025-04-10 12:46:31.677094: I tensorflow/core/common_runtime/executor.cc:1197] [/device:CPU:0] (DEBUG INFO) Executor start aborting (this does not indicate an error and you can ignore this message): INVALID_ARGUMENT: You must feed a value for placeholder tensor 'Placeholder/_2' with dtype float and shape [75,1]\n",
            "\t [[{{node Placeholder/_2}}]]\n",
            "2025-04-10 12:46:31.685920: I tensorflow/core/common_runtime/executor.cc:1197] [/device:CPU:0] (DEBUG INFO) Executor start aborting (this does not indicate an error and you can ignore this message): INVALID_ARGUMENT: You must feed a value for placeholder tensor 'Placeholder/_2' with dtype float and shape [75,1]\n",
            "\t [[{{node Placeholder/_2}}]]\n",
            "2025-04-10 12:46:31.695765: I tensorflow/core/common_runtime/executor.cc:1197] [/device:CPU:0] (DEBUG INFO) Executor start aborting (this does not indicate an error and you can ignore this message): INVALID_ARGUMENT: You must feed a value for placeholder tensor 'Placeholder/_2' with dtype float and shape [75,1]\n",
            "\t [[{{node Placeholder/_2}}]]\n"
          ]
        },
        {
          "name": "stdout",
          "output_type": "stream",
          "text": [
            "32/32 [==============================] - 0s 2ms/step\n",
            "3/3 [==============================] - 0s 3ms/step\n",
            "1/3 [=========>....................] - ETA: 0s"
          ]
        },
        {
          "name": "stderr",
          "output_type": "stream",
          "text": [
            "2025-04-10 12:46:32.011829: I tensorflow/core/common_runtime/executor.cc:1197] [/device:CPU:0] (DEBUG INFO) Executor start aborting (this does not indicate an error and you can ignore this message): INVALID_ARGUMENT: You must feed a value for placeholder tensor 'Placeholder/_2' with dtype float and shape [75,1]\n",
            "\t [[{{node Placeholder/_2}}]]\n",
            "2025-04-10 12:46:32.021055: I tensorflow/core/common_runtime/executor.cc:1197] [/device:CPU:0] (DEBUG INFO) Executor start aborting (this does not indicate an error and you can ignore this message): INVALID_ARGUMENT: You must feed a value for placeholder tensor 'Placeholder/_2' with dtype float and shape [75,1]\n",
            "\t [[{{node Placeholder/_2}}]]\n"
          ]
        },
        {
          "name": "stdout",
          "output_type": "stream",
          "text": [
            "3/3 [==============================] - 0s 84ms/step\n",
            " 1/32 [..............................] - ETA: 1s"
          ]
        },
        {
          "name": "stderr",
          "output_type": "stream",
          "text": [
            "2025-04-10 12:46:32.517058: I tensorflow/core/common_runtime/executor.cc:1197] [/device:CPU:0] (DEBUG INFO) Executor start aborting (this does not indicate an error and you can ignore this message): INVALID_ARGUMENT: You must feed a value for placeholder tensor 'Placeholder/_2' with dtype float and shape [75,1]\n",
            "\t [[{{node Placeholder/_2}}]]\n",
            "2025-04-10 12:46:32.533644: I tensorflow/core/common_runtime/executor.cc:1197] [/device:CPU:0] (DEBUG INFO) Executor start aborting (this does not indicate an error and you can ignore this message): INVALID_ARGUMENT: You must feed a value for placeholder tensor 'Placeholder/_2' with dtype float and shape [75,1]\n",
            "\t [[{{node Placeholder/_2}}]]\n",
            "2025-04-10 12:46:32.545575: I tensorflow/core/common_runtime/executor.cc:1197] [/device:CPU:0] (DEBUG INFO) Executor start aborting (this does not indicate an error and you can ignore this message): INVALID_ARGUMENT: You must feed a value for placeholder tensor 'Placeholder/_2' with dtype float and shape [75,1]\n",
            "\t [[{{node Placeholder/_2}}]]\n"
          ]
        },
        {
          "name": "stdout",
          "output_type": "stream",
          "text": [
            "32/32 [==============================] - 0s 3ms/step\n",
            "3/3 [==============================] - 0s 4ms/step\n",
            "3/3 [==============================] - 0s 4ms/step\n"
          ]
        },
        {
          "name": "stderr",
          "output_type": "stream",
          "text": [
            "2025-04-10 12:46:33.051817: I tensorflow/core/common_runtime/executor.cc:1197] [/device:CPU:0] (DEBUG INFO) Executor start aborting (this does not indicate an error and you can ignore this message): INVALID_ARGUMENT: You must feed a value for placeholder tensor 'Placeholder/_2' with dtype float and shape [75,1]\n",
            "\t [[{{node Placeholder/_2}}]]\n",
            "2025-04-10 12:46:33.060323: I tensorflow/core/common_runtime/executor.cc:1197] [/device:CPU:0] (DEBUG INFO) Executor start aborting (this does not indicate an error and you can ignore this message): INVALID_ARGUMENT: You must feed a value for placeholder tensor 'Placeholder/_2' with dtype float and shape [75,1]\n",
            "\t [[{{node Placeholder/_2}}]]\n",
            "2025-04-10 12:46:33.179773: I tensorflow/core/common_runtime/executor.cc:1197] [/device:CPU:0] (DEBUG INFO) Executor start aborting (this does not indicate an error and you can ignore this message): INVALID_ARGUMENT: You must feed a value for placeholder tensor 'Placeholder/_2' with dtype float and shape [75,1]\n",
            "\t [[{{node Placeholder/_2}}]]\n",
            "2025-04-10 12:46:33.188630: I tensorflow/core/common_runtime/executor.cc:1197] [/device:CPU:0] (DEBUG INFO) Executor start aborting (this does not indicate an error and you can ignore this message): INVALID_ARGUMENT: You must feed a value for placeholder tensor 'Placeholder/_2' with dtype float and shape [75,1]\n",
            "\t [[{{node Placeholder/_2}}]]\n",
            "2025-04-10 12:46:33.197685: I tensorflow/core/common_runtime/executor.cc:1197] [/device:CPU:0] (DEBUG INFO) Executor start aborting (this does not indicate an error and you can ignore this message): INVALID_ARGUMENT: You must feed a value for placeholder tensor 'Placeholder/_2' with dtype float and shape [75,1]\n",
            "\t [[{{node Placeholder/_2}}]]\n"
          ]
        },
        {
          "name": "stdout",
          "output_type": "stream",
          "text": [
            "32/32 [==============================] - 0s 9ms/step\n",
            "3/3 [==============================] - 0s 4ms/step\n"
          ]
        },
        {
          "name": "stderr",
          "output_type": "stream",
          "text": [
            "2025-04-10 12:46:34.092821: I tensorflow/core/common_runtime/executor.cc:1197] [/device:CPU:0] (DEBUG INFO) Executor start aborting (this does not indicate an error and you can ignore this message): INVALID_ARGUMENT: You must feed a value for placeholder tensor 'Placeholder/_2' with dtype float and shape [75,1]\n",
            "\t [[{{node Placeholder/_2}}]]\n",
            "2025-04-10 12:46:34.134431: I tensorflow/core/common_runtime/executor.cc:1197] [/device:CPU:0] (DEBUG INFO) Executor start aborting (this does not indicate an error and you can ignore this message): INVALID_ARGUMENT: You must feed a value for placeholder tensor 'Placeholder/_2' with dtype float and shape [75,1]\n",
            "\t [[{{node Placeholder/_2}}]]\n"
          ]
        },
        {
          "name": "stdout",
          "output_type": "stream",
          "text": [
            "3/3 [==============================] - 0s 5ms/step\n",
            " 1/32 [..............................] - ETA: 1s"
          ]
        },
        {
          "name": "stderr",
          "output_type": "stream",
          "text": [
            "2025-04-10 12:46:34.378717: I tensorflow/core/common_runtime/executor.cc:1197] [/device:CPU:0] (DEBUG INFO) Executor start aborting (this does not indicate an error and you can ignore this message): INVALID_ARGUMENT: You must feed a value for placeholder tensor 'Placeholder/_2' with dtype float and shape [75,1]\n",
            "\t [[{{node Placeholder/_2}}]]\n",
            "2025-04-10 12:46:34.397336: I tensorflow/core/common_runtime/executor.cc:1197] [/device:CPU:0] (DEBUG INFO) Executor start aborting (this does not indicate an error and you can ignore this message): INVALID_ARGUMENT: You must feed a value for placeholder tensor 'Placeholder/_2' with dtype float and shape [75,1]\n",
            "\t [[{{node Placeholder/_2}}]]\n",
            "2025-04-10 12:46:34.412854: I tensorflow/core/common_runtime/executor.cc:1197] [/device:CPU:0] (DEBUG INFO) Executor start aborting (this does not indicate an error and you can ignore this message): INVALID_ARGUMENT: You must feed a value for placeholder tensor 'Placeholder/_2' with dtype float and shape [75,1]\n",
            "\t [[{{node Placeholder/_2}}]]\n"
          ]
        },
        {
          "name": "stdout",
          "output_type": "stream",
          "text": [
            "32/32 [==============================] - 0s 6ms/step\n",
            "3/3 [==============================] - 0s 11ms/step\n"
          ]
        },
        {
          "name": "stderr",
          "output_type": "stream",
          "text": [
            "2025-04-10 12:46:35.329248: I tensorflow/core/common_runtime/executor.cc:1197] [/device:CPU:0] (DEBUG INFO) Executor start aborting (this does not indicate an error and you can ignore this message): INVALID_ARGUMENT: You must feed a value for placeholder tensor 'Placeholder/_2' with dtype float and shape [75,1]\n",
            "\t [[{{node Placeholder/_2}}]]\n",
            "2025-04-10 12:46:35.378962: I tensorflow/core/common_runtime/executor.cc:1197] [/device:CPU:0] (DEBUG INFO) Executor start aborting (this does not indicate an error and you can ignore this message): INVALID_ARGUMENT: You must feed a value for placeholder tensor 'Placeholder/_2' with dtype float and shape [75,1]\n",
            "\t [[{{node Placeholder/_2}}]]\n"
          ]
        },
        {
          "name": "stdout",
          "output_type": "stream",
          "text": [
            "3/3 [==============================] - 0s 8ms/step\n"
          ]
        },
        {
          "name": "stderr",
          "output_type": "stream",
          "text": [
            "2025-04-10 12:46:35.730350: I tensorflow/core/common_runtime/executor.cc:1197] [/device:CPU:0] (DEBUG INFO) Executor start aborting (this does not indicate an error and you can ignore this message): INVALID_ARGUMENT: You must feed a value for placeholder tensor 'Placeholder/_2' with dtype float and shape [75,1]\n",
            "\t [[{{node Placeholder/_2}}]]\n",
            "2025-04-10 12:46:35.739388: I tensorflow/core/common_runtime/executor.cc:1197] [/device:CPU:0] (DEBUG INFO) Executor start aborting (this does not indicate an error and you can ignore this message): INVALID_ARGUMENT: You must feed a value for placeholder tensor 'Placeholder/_2' with dtype float and shape [75,1]\n",
            "\t [[{{node Placeholder/_2}}]]\n",
            "2025-04-10 12:46:35.752658: I tensorflow/core/common_runtime/executor.cc:1197] [/device:CPU:0] (DEBUG INFO) Executor start aborting (this does not indicate an error and you can ignore this message): INVALID_ARGUMENT: You must feed a value for placeholder tensor 'Placeholder/_2' with dtype float and shape [75,1]\n",
            "\t [[{{node Placeholder/_2}}]]\n"
          ]
        },
        {
          "name": "stdout",
          "output_type": "stream",
          "text": [
            "32/32 [==============================] - 0s 8ms/step\n",
            "3/3 [==============================] - 0s 3ms/step\n",
            "3/3 [==============================] - 0s 4ms/step\n"
          ]
        },
        {
          "name": "stderr",
          "output_type": "stream",
          "text": [
            "2025-04-10 12:46:36.880932: I tensorflow/core/common_runtime/executor.cc:1197] [/device:CPU:0] (DEBUG INFO) Executor start aborting (this does not indicate an error and you can ignore this message): INVALID_ARGUMENT: You must feed a value for placeholder tensor 'Placeholder/_2' with dtype float and shape [75,1]\n",
            "\t [[{{node Placeholder/_2}}]]\n",
            "2025-04-10 12:46:36.890141: I tensorflow/core/common_runtime/executor.cc:1197] [/device:CPU:0] (DEBUG INFO) Executor start aborting (this does not indicate an error and you can ignore this message): INVALID_ARGUMENT: You must feed a value for placeholder tensor 'Placeholder/_2' with dtype float and shape [75,1]\n",
            "\t [[{{node Placeholder/_2}}]]\n",
            "2025-04-10 12:46:37.008429: I tensorflow/core/common_runtime/executor.cc:1197] [/device:CPU:0] (DEBUG INFO) Executor start aborting (this does not indicate an error and you can ignore this message): INVALID_ARGUMENT: You must feed a value for placeholder tensor 'Placeholder/_2' with dtype float and shape [75,1]\n",
            "\t [[{{node Placeholder/_2}}]]\n",
            "2025-04-10 12:46:37.016633: I tensorflow/core/common_runtime/executor.cc:1197] [/device:CPU:0] (DEBUG INFO) Executor start aborting (this does not indicate an error and you can ignore this message): INVALID_ARGUMENT: You must feed a value for placeholder tensor 'Placeholder/_2' with dtype float and shape [75,1]\n",
            "\t [[{{node Placeholder/_2}}]]\n",
            "2025-04-10 12:46:37.025330: I tensorflow/core/common_runtime/executor.cc:1197] [/device:CPU:0] (DEBUG INFO) Executor start aborting (this does not indicate an error and you can ignore this message): INVALID_ARGUMENT: You must feed a value for placeholder tensor 'Placeholder/_2' with dtype float and shape [75,1]\n",
            "\t [[{{node Placeholder/_2}}]]\n"
          ]
        },
        {
          "name": "stdout",
          "output_type": "stream",
          "text": [
            "32/32 [==============================] - 0s 3ms/step\n",
            "3/3 [==============================] - 0s 3ms/step\n",
            "3/3 [==============================] - 0s 3ms/step\n"
          ]
        },
        {
          "name": "stderr",
          "output_type": "stream",
          "text": [
            "2025-04-10 12:46:37.434126: I tensorflow/core/common_runtime/executor.cc:1197] [/device:CPU:0] (DEBUG INFO) Executor start aborting (this does not indicate an error and you can ignore this message): INVALID_ARGUMENT: You must feed a value for placeholder tensor 'Placeholder/_2' with dtype float and shape [75,1]\n",
            "\t [[{{node Placeholder/_2}}]]\n",
            "2025-04-10 12:46:37.444998: I tensorflow/core/common_runtime/executor.cc:1197] [/device:CPU:0] (DEBUG INFO) Executor start aborting (this does not indicate an error and you can ignore this message): INVALID_ARGUMENT: You must feed a value for placeholder tensor 'Placeholder/_2' with dtype float and shape [75,1]\n",
            "\t [[{{node Placeholder/_2}}]]\n",
            "2025-04-10 12:46:37.589501: I tensorflow/core/common_runtime/executor.cc:1197] [/device:CPU:0] (DEBUG INFO) Executor start aborting (this does not indicate an error and you can ignore this message): INVALID_ARGUMENT: You must feed a value for placeholder tensor 'Placeholder/_2' with dtype float and shape [75,1]\n",
            "\t [[{{node Placeholder/_2}}]]\n",
            "2025-04-10 12:46:37.669029: I tensorflow/core/common_runtime/executor.cc:1197] [/device:CPU:0] (DEBUG INFO) Executor start aborting (this does not indicate an error and you can ignore this message): INVALID_ARGUMENT: You must feed a value for placeholder tensor 'Placeholder/_2' with dtype float and shape [75,1]\n",
            "\t [[{{node Placeholder/_2}}]]\n",
            "2025-04-10 12:46:37.752057: I tensorflow/core/common_runtime/executor.cc:1197] [/device:CPU:0] (DEBUG INFO) Executor start aborting (this does not indicate an error and you can ignore this message): INVALID_ARGUMENT: You must feed a value for placeholder tensor 'Placeholder/_2' with dtype float and shape [75,1]\n",
            "\t [[{{node Placeholder/_2}}]]\n"
          ]
        },
        {
          "name": "stdout",
          "output_type": "stream",
          "text": [
            "32/32 [==============================] - 0s 8ms/step\n",
            "3/3 [==============================] - 0s 21ms/step\n"
          ]
        },
        {
          "name": "stderr",
          "output_type": "stream",
          "text": [
            "2025-04-10 12:46:38.623552: I tensorflow/core/common_runtime/executor.cc:1197] [/device:CPU:0] (DEBUG INFO) Executor start aborting (this does not indicate an error and you can ignore this message): INVALID_ARGUMENT: You must feed a value for placeholder tensor 'Placeholder/_2' with dtype float and shape [75,1]\n",
            "\t [[{{node Placeholder/_2}}]]\n",
            "2025-04-10 12:46:38.646219: I tensorflow/core/common_runtime/executor.cc:1197] [/device:CPU:0] (DEBUG INFO) Executor start aborting (this does not indicate an error and you can ignore this message): INVALID_ARGUMENT: You must feed a value for placeholder tensor 'Placeholder/_2' with dtype float and shape [75,1]\n",
            "\t [[{{node Placeholder/_2}}]]\n"
          ]
        },
        {
          "name": "stdout",
          "output_type": "stream",
          "text": [
            "3/3 [==============================] - 0s 13ms/step\n"
          ]
        },
        {
          "name": "stderr",
          "output_type": "stream",
          "text": [
            "2025-04-10 12:46:38.946365: I tensorflow/core/common_runtime/executor.cc:1197] [/device:CPU:0] (DEBUG INFO) Executor start aborting (this does not indicate an error and you can ignore this message): INVALID_ARGUMENT: You must feed a value for placeholder tensor 'Placeholder/_2' with dtype float and shape [75,1]\n",
            "\t [[{{node Placeholder/_2}}]]\n",
            "2025-04-10 12:46:38.958671: I tensorflow/core/common_runtime/executor.cc:1197] [/device:CPU:0] (DEBUG INFO) Executor start aborting (this does not indicate an error and you can ignore this message): INVALID_ARGUMENT: You must feed a value for placeholder tensor 'Placeholder/_2' with dtype float and shape [75,1]\n",
            "\t [[{{node Placeholder/_2}}]]\n",
            "2025-04-10 12:46:38.993901: I tensorflow/core/common_runtime/executor.cc:1197] [/device:CPU:0] (DEBUG INFO) Executor start aborting (this does not indicate an error and you can ignore this message): INVALID_ARGUMENT: You must feed a value for placeholder tensor 'Placeholder/_2' with dtype float and shape [75,1]\n",
            "\t [[{{node Placeholder/_2}}]]\n"
          ]
        },
        {
          "name": "stdout",
          "output_type": "stream",
          "text": [
            "32/32 [==============================] - 0s 3ms/step\n",
            "3/3 [==============================] - 0s 5ms/step\n"
          ]
        },
        {
          "name": "stderr",
          "output_type": "stream",
          "text": [
            "2025-04-10 12:46:39.511938: I tensorflow/core/common_runtime/executor.cc:1197] [/device:CPU:0] (DEBUG INFO) Executor start aborting (this does not indicate an error and you can ignore this message): INVALID_ARGUMENT: You must feed a value for placeholder tensor 'Placeholder/_2' with dtype float and shape [75,1]\n",
            "\t [[{{node Placeholder/_2}}]]\n",
            "2025-04-10 12:46:39.557137: I tensorflow/core/common_runtime/executor.cc:1197] [/device:CPU:0] (DEBUG INFO) Executor start aborting (this does not indicate an error and you can ignore this message): INVALID_ARGUMENT: You must feed a value for placeholder tensor 'Placeholder/_2' with dtype float and shape [75,1]\n",
            "\t [[{{node Placeholder/_2}}]]\n"
          ]
        },
        {
          "name": "stdout",
          "output_type": "stream",
          "text": [
            "3/3 [==============================] - 0s 5ms/step\n",
            " 1/32 [..............................] - ETA: 1s"
          ]
        },
        {
          "name": "stderr",
          "output_type": "stream",
          "text": [
            "2025-04-10 12:46:39.948884: I tensorflow/core/common_runtime/executor.cc:1197] [/device:CPU:0] (DEBUG INFO) Executor start aborting (this does not indicate an error and you can ignore this message): INVALID_ARGUMENT: You must feed a value for placeholder tensor 'Placeholder/_2' with dtype float and shape [75,1]\n",
            "\t [[{{node Placeholder/_2}}]]\n",
            "2025-04-10 12:46:39.968324: I tensorflow/core/common_runtime/executor.cc:1197] [/device:CPU:0] (DEBUG INFO) Executor start aborting (this does not indicate an error and you can ignore this message): INVALID_ARGUMENT: You must feed a value for placeholder tensor 'Placeholder/_2' with dtype float and shape [75,1]\n",
            "\t [[{{node Placeholder/_2}}]]\n",
            "2025-04-10 12:46:39.985577: I tensorflow/core/common_runtime/executor.cc:1197] [/device:CPU:0] (DEBUG INFO) Executor start aborting (this does not indicate an error and you can ignore this message): INVALID_ARGUMENT: You must feed a value for placeholder tensor 'Placeholder/_2' with dtype float and shape [75,1]\n",
            "\t [[{{node Placeholder/_2}}]]\n"
          ]
        },
        {
          "name": "stdout",
          "output_type": "stream",
          "text": [
            "32/32 [==============================] - 0s 3ms/step\n",
            "3/3 [==============================] - 0s 3ms/step\n",
            "3/3 [==============================] - 0s 3ms/step\n"
          ]
        },
        {
          "name": "stderr",
          "output_type": "stream",
          "text": [
            "2025-04-10 12:46:40.375177: I tensorflow/core/common_runtime/executor.cc:1197] [/device:CPU:0] (DEBUG INFO) Executor start aborting (this does not indicate an error and you can ignore this message): INVALID_ARGUMENT: You must feed a value for placeholder tensor 'Placeholder/_2' with dtype float and shape [75,1]\n",
            "\t [[{{node Placeholder/_2}}]]\n",
            "2025-04-10 12:46:40.382710: I tensorflow/core/common_runtime/executor.cc:1197] [/device:CPU:0] (DEBUG INFO) Executor start aborting (this does not indicate an error and you can ignore this message): INVALID_ARGUMENT: You must feed a value for placeholder tensor 'Placeholder/_2' with dtype float and shape [75,1]\n",
            "\t [[{{node Placeholder/_2}}]]\n",
            "2025-04-10 12:46:40.641158: I tensorflow/core/common_runtime/executor.cc:1197] [/device:CPU:0] (DEBUG INFO) Executor start aborting (this does not indicate an error and you can ignore this message): INVALID_ARGUMENT: You must feed a value for placeholder tensor 'Placeholder/_2' with dtype float and shape [75,1]\n",
            "\t [[{{node Placeholder/_2}}]]\n",
            "2025-04-10 12:46:40.662356: I tensorflow/core/common_runtime/executor.cc:1197] [/device:CPU:0] (DEBUG INFO) Executor start aborting (this does not indicate an error and you can ignore this message): INVALID_ARGUMENT: You must feed a value for placeholder tensor 'Placeholder/_2' with dtype float and shape [75,1]\n",
            "\t [[{{node Placeholder/_2}}]]\n",
            "2025-04-10 12:46:40.679933: I tensorflow/core/common_runtime/executor.cc:1197] [/device:CPU:0] (DEBUG INFO) Executor start aborting (this does not indicate an error and you can ignore this message): INVALID_ARGUMENT: You must feed a value for placeholder tensor 'Placeholder/_2' with dtype float and shape [75,1]\n",
            "\t [[{{node Placeholder/_2}}]]\n"
          ]
        },
        {
          "name": "stdout",
          "output_type": "stream",
          "text": [
            "32/32 [==============================] - 0s 5ms/step\n",
            "3/3 [==============================] - 0s 8ms/step\n",
            "3/3 [==============================] - 0s 6ms/step\n"
          ]
        },
        {
          "name": "stderr",
          "output_type": "stream",
          "text": [
            "2025-04-10 12:46:41.508038: I tensorflow/core/common_runtime/executor.cc:1197] [/device:CPU:0] (DEBUG INFO) Executor start aborting (this does not indicate an error and you can ignore this message): INVALID_ARGUMENT: You must feed a value for placeholder tensor 'Placeholder/_2' with dtype float and shape [75,1]\n",
            "\t [[{{node Placeholder/_2}}]]\n",
            "2025-04-10 12:46:41.517836: I tensorflow/core/common_runtime/executor.cc:1197] [/device:CPU:0] (DEBUG INFO) Executor start aborting (this does not indicate an error and you can ignore this message): INVALID_ARGUMENT: You must feed a value for placeholder tensor 'Placeholder/_2' with dtype float and shape [75,1]\n",
            "\t [[{{node Placeholder/_2}}]]\n",
            "2025-04-10 12:46:41.749839: I tensorflow/core/common_runtime/executor.cc:1197] [/device:CPU:0] (DEBUG INFO) Executor start aborting (this does not indicate an error and you can ignore this message): INVALID_ARGUMENT: You must feed a value for placeholder tensor 'Placeholder/_2' with dtype float and shape [75,1]\n",
            "\t [[{{node Placeholder/_2}}]]\n",
            "2025-04-10 12:46:41.773559: I tensorflow/core/common_runtime/executor.cc:1197] [/device:CPU:0] (DEBUG INFO) Executor start aborting (this does not indicate an error and you can ignore this message): INVALID_ARGUMENT: You must feed a value for placeholder tensor 'Placeholder/_2' with dtype float and shape [75,1]\n",
            "\t [[{{node Placeholder/_2}}]]\n",
            "2025-04-10 12:46:41.816764: I tensorflow/core/common_runtime/executor.cc:1197] [/device:CPU:0] (DEBUG INFO) Executor start aborting (this does not indicate an error and you can ignore this message): INVALID_ARGUMENT: You must feed a value for placeholder tensor 'Placeholder/_2' with dtype float and shape [75,1]\n",
            "\t [[{{node Placeholder/_2}}]]\n"
          ]
        },
        {
          "name": "stdout",
          "output_type": "stream",
          "text": [
            "32/32 [==============================] - 0s 8ms/step\n",
            "3/3 [==============================] - 0s 55ms/step\n"
          ]
        },
        {
          "name": "stderr",
          "output_type": "stream",
          "text": [
            "2025-04-10 12:46:42.920713: I tensorflow/core/common_runtime/executor.cc:1197] [/device:CPU:0] (DEBUG INFO) Executor start aborting (this does not indicate an error and you can ignore this message): INVALID_ARGUMENT: You must feed a value for placeholder tensor 'Placeholder/_2' with dtype float and shape [75,1]\n",
            "\t [[{{node Placeholder/_2}}]]\n",
            "2025-04-10 12:46:42.930915: I tensorflow/core/common_runtime/executor.cc:1197] [/device:CPU:0] (DEBUG INFO) Executor start aborting (this does not indicate an error and you can ignore this message): INVALID_ARGUMENT: You must feed a value for placeholder tensor 'Placeholder/_2' with dtype float and shape [75,1]\n",
            "\t [[{{node Placeholder/_2}}]]\n"
          ]
        },
        {
          "name": "stdout",
          "output_type": "stream",
          "text": [
            "3/3 [==============================] - 0s 15ms/step\n"
          ]
        },
        {
          "name": "stderr",
          "output_type": "stream",
          "text": [
            "2025-04-10 12:46:43.254653: I tensorflow/core/common_runtime/executor.cc:1197] [/device:CPU:0] (DEBUG INFO) Executor start aborting (this does not indicate an error and you can ignore this message): INVALID_ARGUMENT: You must feed a value for placeholder tensor 'Placeholder/_2' with dtype float and shape [75,1]\n",
            "\t [[{{node Placeholder/_2}}]]\n",
            "2025-04-10 12:46:43.292256: I tensorflow/core/common_runtime/executor.cc:1197] [/device:CPU:0] (DEBUG INFO) Executor start aborting (this does not indicate an error and you can ignore this message): INVALID_ARGUMENT: You must feed a value for placeholder tensor 'Placeholder/_2' with dtype float and shape [75,1]\n",
            "\t [[{{node Placeholder/_2}}]]\n",
            "2025-04-10 12:46:43.360258: I tensorflow/core/common_runtime/executor.cc:1197] [/device:CPU:0] (DEBUG INFO) Executor start aborting (this does not indicate an error and you can ignore this message): INVALID_ARGUMENT: You must feed a value for placeholder tensor 'Placeholder/_2' with dtype float and shape [75,1]\n",
            "\t [[{{node Placeholder/_2}}]]\n"
          ]
        },
        {
          "name": "stdout",
          "output_type": "stream",
          "text": [
            "32/32 [==============================] - 0s 2ms/step\n",
            "3/3 [==============================] - 0s 15ms/step\n",
            "1/3 [=========>....................] - ETA: 0s"
          ]
        },
        {
          "name": "stderr",
          "output_type": "stream",
          "text": [
            "2025-04-10 12:46:43.920723: I tensorflow/core/common_runtime/executor.cc:1197] [/device:CPU:0] (DEBUG INFO) Executor start aborting (this does not indicate an error and you can ignore this message): INVALID_ARGUMENT: You must feed a value for placeholder tensor 'Placeholder/_2' with dtype float and shape [75,1]\n",
            "\t [[{{node Placeholder/_2}}]]\n",
            "2025-04-10 12:46:43.958277: I tensorflow/core/common_runtime/executor.cc:1197] [/device:CPU:0] (DEBUG INFO) Executor start aborting (this does not indicate an error and you can ignore this message): INVALID_ARGUMENT: You must feed a value for placeholder tensor 'Placeholder/_2' with dtype float and shape [75,1]\n",
            "\t [[{{node Placeholder/_2}}]]\n"
          ]
        },
        {
          "name": "stdout",
          "output_type": "stream",
          "text": [
            "3/3 [==============================] - 0s 4ms/step\n",
            "19/32 [================>.............] - ETA: 0s"
          ]
        },
        {
          "name": "stderr",
          "output_type": "stream",
          "text": [
            "2025-04-10 12:46:44.153195: I tensorflow/core/common_runtime/executor.cc:1197] [/device:CPU:0] (DEBUG INFO) Executor start aborting (this does not indicate an error and you can ignore this message): INVALID_ARGUMENT: You must feed a value for placeholder tensor 'Placeholder/_2' with dtype float and shape [75,1]\n",
            "\t [[{{node Placeholder/_2}}]]\n",
            "2025-04-10 12:46:44.162159: I tensorflow/core/common_runtime/executor.cc:1197] [/device:CPU:0] (DEBUG INFO) Executor start aborting (this does not indicate an error and you can ignore this message): INVALID_ARGUMENT: You must feed a value for placeholder tensor 'Placeholder/_2' with dtype float and shape [75,1]\n",
            "\t [[{{node Placeholder/_2}}]]\n",
            "2025-04-10 12:46:44.172223: I tensorflow/core/common_runtime/executor.cc:1197] [/device:CPU:0] (DEBUG INFO) Executor start aborting (this does not indicate an error and you can ignore this message): INVALID_ARGUMENT: You must feed a value for placeholder tensor 'Placeholder/_2' with dtype float and shape [75,1]\n",
            "\t [[{{node Placeholder/_2}}]]\n"
          ]
        },
        {
          "name": "stdout",
          "output_type": "stream",
          "text": [
            "32/32 [==============================] - 0s 5ms/step\n",
            "3/3 [==============================] - 0s 4ms/step\n",
            "3/3 [==============================] - 0s 3ms/step\n"
          ]
        },
        {
          "name": "stderr",
          "output_type": "stream",
          "text": [
            "2025-04-10 12:46:44.822354: I tensorflow/core/common_runtime/executor.cc:1197] [/device:CPU:0] (DEBUG INFO) Executor start aborting (this does not indicate an error and you can ignore this message): INVALID_ARGUMENT: You must feed a value for placeholder tensor 'Placeholder/_2' with dtype float and shape [75,1]\n",
            "\t [[{{node Placeholder/_2}}]]\n",
            "2025-04-10 12:46:44.834691: I tensorflow/core/common_runtime/executor.cc:1197] [/device:CPU:0] (DEBUG INFO) Executor start aborting (this does not indicate an error and you can ignore this message): INVALID_ARGUMENT: You must feed a value for placeholder tensor 'Placeholder/_2' with dtype float and shape [75,1]\n",
            "\t [[{{node Placeholder/_2}}]]\n",
            "2025-04-10 12:46:44.978920: I tensorflow/core/common_runtime/executor.cc:1197] [/device:CPU:0] (DEBUG INFO) Executor start aborting (this does not indicate an error and you can ignore this message): INVALID_ARGUMENT: You must feed a value for placeholder tensor 'Placeholder/_2' with dtype float and shape [75,1]\n",
            "\t [[{{node Placeholder/_2}}]]\n",
            "2025-04-10 12:46:44.990530: I tensorflow/core/common_runtime/executor.cc:1197] [/device:CPU:0] (DEBUG INFO) Executor start aborting (this does not indicate an error and you can ignore this message): INVALID_ARGUMENT: You must feed a value for placeholder tensor 'Placeholder/_2' with dtype float and shape [75,1]\n",
            "\t [[{{node Placeholder/_2}}]]\n",
            "2025-04-10 12:46:45.020588: I tensorflow/core/common_runtime/executor.cc:1197] [/device:CPU:0] (DEBUG INFO) Executor start aborting (this does not indicate an error and you can ignore this message): INVALID_ARGUMENT: You must feed a value for placeholder tensor 'Placeholder/_2' with dtype float and shape [75,1]\n",
            "\t [[{{node Placeholder/_2}}]]\n"
          ]
        },
        {
          "name": "stdout",
          "output_type": "stream",
          "text": [
            "32/32 [==============================] - 1s 20ms/step\n",
            "3/3 [==============================] - 0s 8ms/step\n",
            "1/3 [=========>....................] - ETA: 0s"
          ]
        },
        {
          "name": "stderr",
          "output_type": "stream",
          "text": [
            "2025-04-10 12:46:46.614960: I tensorflow/core/common_runtime/executor.cc:1197] [/device:CPU:0] (DEBUG INFO) Executor start aborting (this does not indicate an error and you can ignore this message): INVALID_ARGUMENT: You must feed a value for placeholder tensor 'Placeholder/_2' with dtype float and shape [75,1]\n",
            "\t [[{{node Placeholder/_2}}]]\n",
            "2025-04-10 12:46:46.625399: I tensorflow/core/common_runtime/executor.cc:1197] [/device:CPU:0] (DEBUG INFO) Executor start aborting (this does not indicate an error and you can ignore this message): INVALID_ARGUMENT: You must feed a value for placeholder tensor 'Placeholder/_2' with dtype float and shape [75,1]\n",
            "\t [[{{node Placeholder/_2}}]]\n"
          ]
        },
        {
          "name": "stdout",
          "output_type": "stream",
          "text": [
            "3/3 [==============================] - 0s 16ms/step\n"
          ]
        },
        {
          "name": "stderr",
          "output_type": "stream",
          "text": [
            "2025-04-10 12:46:46.880400: I tensorflow/core/common_runtime/executor.cc:1197] [/device:CPU:0] (DEBUG INFO) Executor start aborting (this does not indicate an error and you can ignore this message): INVALID_ARGUMENT: You must feed a value for placeholder tensor 'Placeholder/_2' with dtype float and shape [75,1]\n",
            "\t [[{{node Placeholder/_2}}]]\n",
            "2025-04-10 12:46:46.894125: I tensorflow/core/common_runtime/executor.cc:1197] [/device:CPU:0] (DEBUG INFO) Executor start aborting (this does not indicate an error and you can ignore this message): INVALID_ARGUMENT: You must feed a value for placeholder tensor 'Placeholder/_2' with dtype float and shape [75,1]\n",
            "\t [[{{node Placeholder/_2}}]]\n",
            "2025-04-10 12:46:46.914149: I tensorflow/core/common_runtime/executor.cc:1197] [/device:CPU:0] (DEBUG INFO) Executor start aborting (this does not indicate an error and you can ignore this message): INVALID_ARGUMENT: You must feed a value for placeholder tensor 'Placeholder/_2' with dtype float and shape [75,1]\n",
            "\t [[{{node Placeholder/_2}}]]\n"
          ]
        },
        {
          "name": "stdout",
          "output_type": "stream",
          "text": [
            "32/32 [==============================] - 0s 4ms/step\n",
            "3/3 [==============================] - 0s 6ms/step\n",
            "3/3 [==============================] - 0s 4ms/step\n"
          ]
        },
        {
          "name": "stderr",
          "output_type": "stream",
          "text": [
            "2025-04-10 12:46:47.967546: I tensorflow/core/common_runtime/executor.cc:1197] [/device:CPU:0] (DEBUG INFO) Executor start aborting (this does not indicate an error and you can ignore this message): INVALID_ARGUMENT: You must feed a value for placeholder tensor 'Placeholder/_2' with dtype float and shape [75,1]\n",
            "\t [[{{node Placeholder/_2}}]]\n",
            "2025-04-10 12:46:47.977620: I tensorflow/core/common_runtime/executor.cc:1197] [/device:CPU:0] (DEBUG INFO) Executor start aborting (this does not indicate an error and you can ignore this message): INVALID_ARGUMENT: You must feed a value for placeholder tensor 'Placeholder/_2' with dtype float and shape [75,1]\n",
            "\t [[{{node Placeholder/_2}}]]\n",
            "2025-04-10 12:46:48.123328: I tensorflow/core/common_runtime/executor.cc:1197] [/device:CPU:0] (DEBUG INFO) Executor start aborting (this does not indicate an error and you can ignore this message): INVALID_ARGUMENT: You must feed a value for placeholder tensor 'Placeholder/_2' with dtype float and shape [75,1]\n",
            "\t [[{{node Placeholder/_2}}]]\n",
            "2025-04-10 12:46:48.147487: I tensorflow/core/common_runtime/executor.cc:1197] [/device:CPU:0] (DEBUG INFO) Executor start aborting (this does not indicate an error and you can ignore this message): INVALID_ARGUMENT: You must feed a value for placeholder tensor 'Placeholder/_2' with dtype float and shape [75,1]\n",
            "\t [[{{node Placeholder/_2}}]]\n",
            "2025-04-10 12:46:48.162830: I tensorflow/core/common_runtime/executor.cc:1197] [/device:CPU:0] (DEBUG INFO) Executor start aborting (this does not indicate an error and you can ignore this message): INVALID_ARGUMENT: You must feed a value for placeholder tensor 'Placeholder/_2' with dtype float and shape [75,1]\n",
            "\t [[{{node Placeholder/_2}}]]\n"
          ]
        },
        {
          "name": "stdout",
          "output_type": "stream",
          "text": [
            "32/32 [==============================] - 0s 4ms/step\n",
            "3/3 [==============================] - 0s 7ms/step\n",
            "3/3 [==============================] - 0s 5ms/step\n"
          ]
        },
        {
          "name": "stderr",
          "output_type": "stream",
          "text": [
            "2025-04-10 12:46:49.478314: I tensorflow/core/common_runtime/executor.cc:1197] [/device:CPU:0] (DEBUG INFO) Executor start aborting (this does not indicate an error and you can ignore this message): INVALID_ARGUMENT: You must feed a value for placeholder tensor 'Placeholder/_2' with dtype float and shape [75,1]\n",
            "\t [[{{node Placeholder/_2}}]]\n",
            "2025-04-10 12:46:49.494050: I tensorflow/core/common_runtime/executor.cc:1197] [/device:CPU:0] (DEBUG INFO) Executor start aborting (this does not indicate an error and you can ignore this message): INVALID_ARGUMENT: You must feed a value for placeholder tensor 'Placeholder/_2' with dtype float and shape [75,1]\n",
            "\t [[{{node Placeholder/_2}}]]\n",
            "2025-04-10 12:46:49.759524: I tensorflow/core/common_runtime/executor.cc:1197] [/device:CPU:0] (DEBUG INFO) Executor start aborting (this does not indicate an error and you can ignore this message): INVALID_ARGUMENT: You must feed a value for placeholder tensor 'Placeholder/_2' with dtype float and shape [75,1]\n",
            "\t [[{{node Placeholder/_2}}]]\n",
            "2025-04-10 12:46:49.785774: I tensorflow/core/common_runtime/executor.cc:1197] [/device:CPU:0] (DEBUG INFO) Executor start aborting (this does not indicate an error and you can ignore this message): INVALID_ARGUMENT: You must feed a value for placeholder tensor 'Placeholder/_2' with dtype float and shape [75,1]\n",
            "\t [[{{node Placeholder/_2}}]]\n",
            "2025-04-10 12:46:49.805581: I tensorflow/core/common_runtime/executor.cc:1197] [/device:CPU:0] (DEBUG INFO) Executor start aborting (this does not indicate an error and you can ignore this message): INVALID_ARGUMENT: You must feed a value for placeholder tensor 'Placeholder/_2' with dtype float and shape [75,1]\n",
            "\t [[{{node Placeholder/_2}}]]\n"
          ]
        },
        {
          "name": "stdout",
          "output_type": "stream",
          "text": [
            "32/32 [==============================] - 0s 4ms/step\n",
            "3/3 [==============================] - 0s 16ms/step\n",
            "3/3 [==============================] - 0s 9ms/step\n"
          ]
        },
        {
          "name": "stderr",
          "output_type": "stream",
          "text": [
            "2025-04-10 12:46:50.690633: I tensorflow/core/common_runtime/executor.cc:1197] [/device:CPU:0] (DEBUG INFO) Executor start aborting (this does not indicate an error and you can ignore this message): INVALID_ARGUMENT: You must feed a value for placeholder tensor 'Placeholder/_2' with dtype float and shape [75,1]\n",
            "\t [[{{node Placeholder/_2}}]]\n",
            "2025-04-10 12:46:50.741312: I tensorflow/core/common_runtime/executor.cc:1197] [/device:CPU:0] (DEBUG INFO) Executor start aborting (this does not indicate an error and you can ignore this message): INVALID_ARGUMENT: You must feed a value for placeholder tensor 'Placeholder/_2' with dtype float and shape [75,1]\n",
            "\t [[{{node Placeholder/_2}}]]\n"
          ]
        },
        {
          "name": "stdout",
          "output_type": "stream",
          "text": [
            " 1/32 [..............................] - ETA: 0s"
          ]
        },
        {
          "name": "stderr",
          "output_type": "stream",
          "text": [
            "2025-04-10 12:46:51.015238: I tensorflow/core/common_runtime/executor.cc:1197] [/device:CPU:0] (DEBUG INFO) Executor start aborting (this does not indicate an error and you can ignore this message): INVALID_ARGUMENT: You must feed a value for placeholder tensor 'Placeholder/_2' with dtype float and shape [75,1]\n",
            "\t [[{{node Placeholder/_2}}]]\n",
            "2025-04-10 12:46:51.036757: I tensorflow/core/common_runtime/executor.cc:1197] [/device:CPU:0] (DEBUG INFO) Executor start aborting (this does not indicate an error and you can ignore this message): INVALID_ARGUMENT: You must feed a value for placeholder tensor 'Placeholder/_2' with dtype float and shape [75,1]\n",
            "\t [[{{node Placeholder/_2}}]]\n",
            "2025-04-10 12:46:51.059514: I tensorflow/core/common_runtime/executor.cc:1197] [/device:CPU:0] (DEBUG INFO) Executor start aborting (this does not indicate an error and you can ignore this message): INVALID_ARGUMENT: You must feed a value for placeholder tensor 'Placeholder/_2' with dtype float and shape [75,1]\n",
            "\t [[{{node Placeholder/_2}}]]\n"
          ]
        },
        {
          "name": "stdout",
          "output_type": "stream",
          "text": [
            "32/32 [==============================] - 0s 3ms/step\n",
            "3/3 [==============================] - 0s 3ms/step\n",
            "3/3 [==============================] - 0s 3ms/step\n"
          ]
        },
        {
          "name": "stderr",
          "output_type": "stream",
          "text": [
            "2025-04-10 12:46:51.447228: I tensorflow/core/common_runtime/executor.cc:1197] [/device:CPU:0] (DEBUG INFO) Executor start aborting (this does not indicate an error and you can ignore this message): INVALID_ARGUMENT: You must feed a value for placeholder tensor 'Placeholder/_2' with dtype float and shape [75,1]\n",
            "\t [[{{node Placeholder/_2}}]]\n",
            "2025-04-10 12:46:51.455451: I tensorflow/core/common_runtime/executor.cc:1197] [/device:CPU:0] (DEBUG INFO) Executor start aborting (this does not indicate an error and you can ignore this message): INVALID_ARGUMENT: You must feed a value for placeholder tensor 'Placeholder/_2' with dtype float and shape [75,1]\n",
            "\t [[{{node Placeholder/_2}}]]\n",
            "2025-04-10 12:46:51.605649: I tensorflow/core/common_runtime/executor.cc:1197] [/device:CPU:0] (DEBUG INFO) Executor start aborting (this does not indicate an error and you can ignore this message): INVALID_ARGUMENT: You must feed a value for placeholder tensor 'Placeholder/_2' with dtype float and shape [75,1]\n",
            "\t [[{{node Placeholder/_2}}]]\n",
            "2025-04-10 12:46:51.613025: I tensorflow/core/common_runtime/executor.cc:1197] [/device:CPU:0] (DEBUG INFO) Executor start aborting (this does not indicate an error and you can ignore this message): INVALID_ARGUMENT: You must feed a value for placeholder tensor 'Placeholder/_2' with dtype float and shape [75,1]\n",
            "\t [[{{node Placeholder/_2}}]]\n",
            "2025-04-10 12:46:51.621699: I tensorflow/core/common_runtime/executor.cc:1197] [/device:CPU:0] (DEBUG INFO) Executor start aborting (this does not indicate an error and you can ignore this message): INVALID_ARGUMENT: You must feed a value for placeholder tensor 'Placeholder/_2' with dtype float and shape [75,1]\n",
            "\t [[{{node Placeholder/_2}}]]\n"
          ]
        },
        {
          "name": "stdout",
          "output_type": "stream",
          "text": [
            "32/32 [==============================] - 0s 2ms/step\n",
            "3/3 [==============================] - 0s 4ms/step\n",
            "3/3 [==============================] - 0s 3ms/step\n"
          ]
        },
        {
          "name": "stderr",
          "output_type": "stream",
          "text": [
            "2025-04-10 12:46:52.004282: I tensorflow/core/common_runtime/executor.cc:1197] [/device:CPU:0] (DEBUG INFO) Executor start aborting (this does not indicate an error and you can ignore this message): INVALID_ARGUMENT: You must feed a value for placeholder tensor 'Placeholder/_2' with dtype float and shape [75,1]\n",
            "\t [[{{node Placeholder/_2}}]]\n",
            "2025-04-10 12:46:52.011875: I tensorflow/core/common_runtime/executor.cc:1197] [/device:CPU:0] (DEBUG INFO) Executor start aborting (this does not indicate an error and you can ignore this message): INVALID_ARGUMENT: You must feed a value for placeholder tensor 'Placeholder/_2' with dtype float and shape [75,1]\n",
            "\t [[{{node Placeholder/_2}}]]\n",
            "2025-04-10 12:46:52.122408: I tensorflow/core/common_runtime/executor.cc:1197] [/device:CPU:0] (DEBUG INFO) Executor start aborting (this does not indicate an error and you can ignore this message): INVALID_ARGUMENT: You must feed a value for placeholder tensor 'Placeholder/_2' with dtype float and shape [75,1]\n",
            "\t [[{{node Placeholder/_2}}]]\n",
            "2025-04-10 12:46:52.129753: I tensorflow/core/common_runtime/executor.cc:1197] [/device:CPU:0] (DEBUG INFO) Executor start aborting (this does not indicate an error and you can ignore this message): INVALID_ARGUMENT: You must feed a value for placeholder tensor 'Placeholder/_2' with dtype float and shape [75,1]\n",
            "\t [[{{node Placeholder/_2}}]]\n",
            "2025-04-10 12:46:52.137950: I tensorflow/core/common_runtime/executor.cc:1197] [/device:CPU:0] (DEBUG INFO) Executor start aborting (this does not indicate an error and you can ignore this message): INVALID_ARGUMENT: You must feed a value for placeholder tensor 'Placeholder/_2' with dtype float and shape [75,1]\n",
            "\t [[{{node Placeholder/_2}}]]\n"
          ]
        },
        {
          "name": "stdout",
          "output_type": "stream",
          "text": [
            "32/32 [==============================] - 0s 2ms/step\n",
            "3/3 [==============================] - 0s 3ms/step\n",
            "3/3 [==============================] - 0s 3ms/step\n"
          ]
        },
        {
          "name": "stderr",
          "output_type": "stream",
          "text": [
            "2025-04-10 12:46:52.407748: I tensorflow/core/common_runtime/executor.cc:1197] [/device:CPU:0] (DEBUG INFO) Executor start aborting (this does not indicate an error and you can ignore this message): INVALID_ARGUMENT: You must feed a value for placeholder tensor 'Placeholder/_2' with dtype float and shape [75,1]\n",
            "\t [[{{node Placeholder/_2}}]]\n",
            "2025-04-10 12:46:52.415179: I tensorflow/core/common_runtime/executor.cc:1197] [/device:CPU:0] (DEBUG INFO) Executor start aborting (this does not indicate an error and you can ignore this message): INVALID_ARGUMENT: You must feed a value for placeholder tensor 'Placeholder/_2' with dtype float and shape [75,1]\n",
            "\t [[{{node Placeholder/_2}}]]\n",
            "2025-04-10 12:46:52.538911: I tensorflow/core/common_runtime/executor.cc:1197] [/device:CPU:0] (DEBUG INFO) Executor start aborting (this does not indicate an error and you can ignore this message): INVALID_ARGUMENT: You must feed a value for placeholder tensor 'Placeholder/_2' with dtype float and shape [75,1]\n",
            "\t [[{{node Placeholder/_2}}]]\n",
            "2025-04-10 12:46:52.546467: I tensorflow/core/common_runtime/executor.cc:1197] [/device:CPU:0] (DEBUG INFO) Executor start aborting (this does not indicate an error and you can ignore this message): INVALID_ARGUMENT: You must feed a value for placeholder tensor 'Placeholder/_2' with dtype float and shape [75,1]\n",
            "\t [[{{node Placeholder/_2}}]]\n",
            "2025-04-10 12:46:52.554708: I tensorflow/core/common_runtime/executor.cc:1197] [/device:CPU:0] (DEBUG INFO) Executor start aborting (this does not indicate an error and you can ignore this message): INVALID_ARGUMENT: You must feed a value for placeholder tensor 'Placeholder/_2' with dtype float and shape [75,1]\n",
            "\t [[{{node Placeholder/_2}}]]\n"
          ]
        },
        {
          "name": "stdout",
          "output_type": "stream",
          "text": [
            "32/32 [==============================] - 0s 2ms/step\n",
            "3/3 [==============================] - 0s 3ms/step\n",
            "3/3 [==============================] - 0s 6ms/step\n"
          ]
        },
        {
          "name": "stderr",
          "output_type": "stream",
          "text": [
            "2025-04-10 12:46:52.822756: I tensorflow/core/common_runtime/executor.cc:1197] [/device:CPU:0] (DEBUG INFO) Executor start aborting (this does not indicate an error and you can ignore this message): INVALID_ARGUMENT: You must feed a value for placeholder tensor 'Placeholder/_2' with dtype float and shape [75,1]\n",
            "\t [[{{node Placeholder/_2}}]]\n",
            "2025-04-10 12:46:52.831490: I tensorflow/core/common_runtime/executor.cc:1197] [/device:CPU:0] (DEBUG INFO) Executor start aborting (this does not indicate an error and you can ignore this message): INVALID_ARGUMENT: You must feed a value for placeholder tensor 'Placeholder/_2' with dtype float and shape [75,1]\n",
            "\t [[{{node Placeholder/_2}}]]\n",
            "2025-04-10 12:46:52.998045: I tensorflow/core/common_runtime/executor.cc:1197] [/device:CPU:0] (DEBUG INFO) Executor start aborting (this does not indicate an error and you can ignore this message): INVALID_ARGUMENT: You must feed a value for placeholder tensor 'Placeholder/_2' with dtype float and shape [75,1]\n",
            "\t [[{{node Placeholder/_2}}]]\n",
            "2025-04-10 12:46:53.011419: I tensorflow/core/common_runtime/executor.cc:1197] [/device:CPU:0] (DEBUG INFO) Executor start aborting (this does not indicate an error and you can ignore this message): INVALID_ARGUMENT: You must feed a value for placeholder tensor 'Placeholder/_2' with dtype float and shape [75,1]\n",
            "\t [[{{node Placeholder/_2}}]]\n"
          ]
        },
        {
          "name": "stdout",
          "output_type": "stream",
          "text": [
            " 1/32 [..............................] - ETA: 1s"
          ]
        },
        {
          "name": "stderr",
          "output_type": "stream",
          "text": [
            "2025-04-10 12:46:53.024945: I tensorflow/core/common_runtime/executor.cc:1197] [/device:CPU:0] (DEBUG INFO) Executor start aborting (this does not indicate an error and you can ignore this message): INVALID_ARGUMENT: You must feed a value for placeholder tensor 'Placeholder/_2' with dtype float and shape [75,1]\n",
            "\t [[{{node Placeholder/_2}}]]\n"
          ]
        },
        {
          "name": "stdout",
          "output_type": "stream",
          "text": [
            "32/32 [==============================] - 0s 9ms/step\n",
            "3/3 [==============================] - 0s 5ms/step\n",
            "3/3 [==============================] - 0s 3ms/step\n"
          ]
        },
        {
          "name": "stderr",
          "output_type": "stream",
          "text": [
            "2025-04-10 12:46:53.643945: I tensorflow/core/common_runtime/executor.cc:1197] [/device:CPU:0] (DEBUG INFO) Executor start aborting (this does not indicate an error and you can ignore this message): INVALID_ARGUMENT: You must feed a value for placeholder tensor 'Placeholder/_2' with dtype float and shape [75,1]\n",
            "\t [[{{node Placeholder/_2}}]]\n",
            "2025-04-10 12:46:53.653281: I tensorflow/core/common_runtime/executor.cc:1197] [/device:CPU:0] (DEBUG INFO) Executor start aborting (this does not indicate an error and you can ignore this message): INVALID_ARGUMENT: You must feed a value for placeholder tensor 'Placeholder/_2' with dtype float and shape [75,1]\n",
            "\t [[{{node Placeholder/_2}}]]\n",
            "2025-04-10 12:46:53.781606: I tensorflow/core/common_runtime/executor.cc:1197] [/device:CPU:0] (DEBUG INFO) Executor start aborting (this does not indicate an error and you can ignore this message): INVALID_ARGUMENT: You must feed a value for placeholder tensor 'Placeholder/_2' with dtype float and shape [75,1]\n",
            "\t [[{{node Placeholder/_2}}]]\n",
            "2025-04-10 12:46:53.791129: I tensorflow/core/common_runtime/executor.cc:1197] [/device:CPU:0] (DEBUG INFO) Executor start aborting (this does not indicate an error and you can ignore this message): INVALID_ARGUMENT: You must feed a value for placeholder tensor 'Placeholder/_2' with dtype float and shape [75,1]\n",
            "\t [[{{node Placeholder/_2}}]]\n",
            "2025-04-10 12:46:53.800585: I tensorflow/core/common_runtime/executor.cc:1197] [/device:CPU:0] (DEBUG INFO) Executor start aborting (this does not indicate an error and you can ignore this message): INVALID_ARGUMENT: You must feed a value for placeholder tensor 'Placeholder/_2' with dtype float and shape [75,1]\n",
            "\t [[{{node Placeholder/_2}}]]\n"
          ]
        },
        {
          "name": "stdout",
          "output_type": "stream",
          "text": [
            "32/32 [==============================] - 0s 3ms/step\n",
            "3/3 [==============================] - 0s 4ms/step\n",
            "3/3 [==============================] - 0s 4ms/step\n"
          ]
        },
        {
          "name": "stderr",
          "output_type": "stream",
          "text": [
            "2025-04-10 12:46:54.162315: I tensorflow/core/common_runtime/executor.cc:1197] [/device:CPU:0] (DEBUG INFO) Executor start aborting (this does not indicate an error and you can ignore this message): INVALID_ARGUMENT: You must feed a value for placeholder tensor 'Placeholder/_2' with dtype float and shape [75,1]\n",
            "\t [[{{node Placeholder/_2}}]]\n",
            "2025-04-10 12:46:54.171231: I tensorflow/core/common_runtime/executor.cc:1197] [/device:CPU:0] (DEBUG INFO) Executor start aborting (this does not indicate an error and you can ignore this message): INVALID_ARGUMENT: You must feed a value for placeholder tensor 'Placeholder/_2' with dtype float and shape [75,1]\n",
            "\t [[{{node Placeholder/_2}}]]\n",
            "2025-04-10 12:46:54.297920: I tensorflow/core/common_runtime/executor.cc:1197] [/device:CPU:0] (DEBUG INFO) Executor start aborting (this does not indicate an error and you can ignore this message): INVALID_ARGUMENT: You must feed a value for placeholder tensor 'Placeholder/_2' with dtype float and shape [75,1]\n",
            "\t [[{{node Placeholder/_2}}]]\n",
            "2025-04-10 12:46:54.307969: I tensorflow/core/common_runtime/executor.cc:1197] [/device:CPU:0] (DEBUG INFO) Executor start aborting (this does not indicate an error and you can ignore this message): INVALID_ARGUMENT: You must feed a value for placeholder tensor 'Placeholder/_2' with dtype float and shape [75,1]\n",
            "\t [[{{node Placeholder/_2}}]]\n",
            "2025-04-10 12:46:54.315653: I tensorflow/core/common_runtime/executor.cc:1197] [/device:CPU:0] (DEBUG INFO) Executor start aborting (this does not indicate an error and you can ignore this message): INVALID_ARGUMENT: You must feed a value for placeholder tensor 'Placeholder/_2' with dtype float and shape [75,1]\n",
            "\t [[{{node Placeholder/_2}}]]\n"
          ]
        },
        {
          "name": "stdout",
          "output_type": "stream",
          "text": [
            "32/32 [==============================] - 0s 3ms/step\n",
            "3/3 [==============================] - 0s 7ms/step\n",
            "3/3 [==============================] - 0s 3ms/step\n"
          ]
        },
        {
          "name": "stderr",
          "output_type": "stream",
          "text": [
            "2025-04-10 12:46:54.686256: I tensorflow/core/common_runtime/executor.cc:1197] [/device:CPU:0] (DEBUG INFO) Executor start aborting (this does not indicate an error and you can ignore this message): INVALID_ARGUMENT: You must feed a value for placeholder tensor 'Placeholder/_2' with dtype float and shape [75,1]\n",
            "\t [[{{node Placeholder/_2}}]]\n",
            "2025-04-10 12:46:54.697756: I tensorflow/core/common_runtime/executor.cc:1197] [/device:CPU:0] (DEBUG INFO) Executor start aborting (this does not indicate an error and you can ignore this message): INVALID_ARGUMENT: You must feed a value for placeholder tensor 'Placeholder/_2' with dtype float and shape [75,1]\n",
            "\t [[{{node Placeholder/_2}}]]\n",
            "2025-04-10 12:46:54.816246: I tensorflow/core/common_runtime/executor.cc:1197] [/device:CPU:0] (DEBUG INFO) Executor start aborting (this does not indicate an error and you can ignore this message): INVALID_ARGUMENT: You must feed a value for placeholder tensor 'Placeholder/_2' with dtype float and shape [75,1]\n",
            "\t [[{{node Placeholder/_2}}]]\n",
            "2025-04-10 12:46:54.823329: I tensorflow/core/common_runtime/executor.cc:1197] [/device:CPU:0] (DEBUG INFO) Executor start aborting (this does not indicate an error and you can ignore this message): INVALID_ARGUMENT: You must feed a value for placeholder tensor 'Placeholder/_2' with dtype float and shape [75,1]\n",
            "\t [[{{node Placeholder/_2}}]]\n",
            "2025-04-10 12:46:54.834246: I tensorflow/core/common_runtime/executor.cc:1197] [/device:CPU:0] (DEBUG INFO) Executor start aborting (this does not indicate an error and you can ignore this message): INVALID_ARGUMENT: You must feed a value for placeholder tensor 'Placeholder/_2' with dtype float and shape [75,1]\n",
            "\t [[{{node Placeholder/_2}}]]\n"
          ]
        },
        {
          "name": "stdout",
          "output_type": "stream",
          "text": [
            "32/32 [==============================] - 0s 3ms/step\n",
            "3/3 [==============================] - 0s 3ms/step\n",
            "3/3 [==============================] - 0s 5ms/step\n"
          ]
        },
        {
          "name": "stderr",
          "output_type": "stream",
          "text": [
            "2025-04-10 12:46:55.239105: I tensorflow/core/common_runtime/executor.cc:1197] [/device:CPU:0] (DEBUG INFO) Executor start aborting (this does not indicate an error and you can ignore this message): INVALID_ARGUMENT: You must feed a value for placeholder tensor 'Placeholder/_2' with dtype float and shape [75,1]\n",
            "\t [[{{node Placeholder/_2}}]]\n",
            "2025-04-10 12:46:55.259989: I tensorflow/core/common_runtime/executor.cc:1197] [/device:CPU:0] (DEBUG INFO) Executor start aborting (this does not indicate an error and you can ignore this message): INVALID_ARGUMENT: You must feed a value for placeholder tensor 'Placeholder/_2' with dtype float and shape [75,1]\n",
            "\t [[{{node Placeholder/_2}}]]\n"
          ]
        },
        {
          "name": "stdout",
          "output_type": "stream",
          "text": [
            " 1/32 [..............................] - ETA: 2s"
          ]
        },
        {
          "name": "stderr",
          "output_type": "stream",
          "text": [
            "2025-04-10 12:46:55.469093: I tensorflow/core/common_runtime/executor.cc:1197] [/device:CPU:0] (DEBUG INFO) Executor start aborting (this does not indicate an error and you can ignore this message): INVALID_ARGUMENT: You must feed a value for placeholder tensor 'Placeholder/_2' with dtype float and shape [75,1]\n",
            "\t [[{{node Placeholder/_2}}]]\n",
            "2025-04-10 12:46:55.488140: I tensorflow/core/common_runtime/executor.cc:1197] [/device:CPU:0] (DEBUG INFO) Executor start aborting (this does not indicate an error and you can ignore this message): INVALID_ARGUMENT: You must feed a value for placeholder tensor 'Placeholder/_2' with dtype float and shape [75,1]\n",
            "\t [[{{node Placeholder/_2}}]]\n",
            "2025-04-10 12:46:55.506750: I tensorflow/core/common_runtime/executor.cc:1197] [/device:CPU:0] (DEBUG INFO) Executor start aborting (this does not indicate an error and you can ignore this message): INVALID_ARGUMENT: You must feed a value for placeholder tensor 'Placeholder/_2' with dtype float and shape [75,1]\n",
            "\t [[{{node Placeholder/_2}}]]\n"
          ]
        },
        {
          "name": "stdout",
          "output_type": "stream",
          "text": [
            "32/32 [==============================] - 0s 12ms/step\n",
            "3/3 [==============================] - 0s 18ms/step\n",
            "3/3 [==============================] - 0s 3ms/step\n",
            " 1/32 [..............................] - ETA: 0s"
          ]
        },
        {
          "name": "stderr",
          "output_type": "stream",
          "text": [
            "2025-04-10 12:46:56.531195: I tensorflow/core/common_runtime/executor.cc:1197] [/device:CPU:0] (DEBUG INFO) Executor start aborting (this does not indicate an error and you can ignore this message): INVALID_ARGUMENT: You must feed a value for placeholder tensor 'Placeholder/_2' with dtype float and shape [75,1]\n",
            "\t [[{{node Placeholder/_2}}]]\n",
            "2025-04-10 12:46:56.549198: I tensorflow/core/common_runtime/executor.cc:1197] [/device:CPU:0] (DEBUG INFO) Executor start aborting (this does not indicate an error and you can ignore this message): INVALID_ARGUMENT: You must feed a value for placeholder tensor 'Placeholder/_2' with dtype float and shape [75,1]\n",
            "\t [[{{node Placeholder/_2}}]]\n",
            "2025-04-10 12:46:56.650307: I tensorflow/core/common_runtime/executor.cc:1197] [/device:CPU:0] (DEBUG INFO) Executor start aborting (this does not indicate an error and you can ignore this message): INVALID_ARGUMENT: You must feed a value for placeholder tensor 'Placeholder/_2' with dtype float and shape [75,1]\n",
            "\t [[{{node Placeholder/_2}}]]\n",
            "2025-04-10 12:46:56.657380: I tensorflow/core/common_runtime/executor.cc:1197] [/device:CPU:0] (DEBUG INFO) Executor start aborting (this does not indicate an error and you can ignore this message): INVALID_ARGUMENT: You must feed a value for placeholder tensor 'Placeholder/_2' with dtype float and shape [75,1]\n",
            "\t [[{{node Placeholder/_2}}]]\n",
            "2025-04-10 12:46:56.666701: I tensorflow/core/common_runtime/executor.cc:1197] [/device:CPU:0] (DEBUG INFO) Executor start aborting (this does not indicate an error and you can ignore this message): INVALID_ARGUMENT: You must feed a value for placeholder tensor 'Placeholder/_2' with dtype float and shape [75,1]\n",
            "\t [[{{node Placeholder/_2}}]]\n"
          ]
        },
        {
          "name": "stdout",
          "output_type": "stream",
          "text": [
            "32/32 [==============================] - 0s 2ms/step\n",
            "3/3 [==============================] - 0s 3ms/step\n",
            "3/3 [==============================] - 0s 3ms/step\n"
          ]
        },
        {
          "name": "stderr",
          "output_type": "stream",
          "text": [
            "2025-04-10 12:46:56.944186: I tensorflow/core/common_runtime/executor.cc:1197] [/device:CPU:0] (DEBUG INFO) Executor start aborting (this does not indicate an error and you can ignore this message): INVALID_ARGUMENT: You must feed a value for placeholder tensor 'Placeholder/_2' with dtype float and shape [75,1]\n",
            "\t [[{{node Placeholder/_2}}]]\n",
            "2025-04-10 12:46:56.952443: I tensorflow/core/common_runtime/executor.cc:1197] [/device:CPU:0] (DEBUG INFO) Executor start aborting (this does not indicate an error and you can ignore this message): INVALID_ARGUMENT: You must feed a value for placeholder tensor 'Placeholder/_2' with dtype float and shape [75,1]\n",
            "\t [[{{node Placeholder/_2}}]]\n",
            "2025-04-10 12:46:57.062864: I tensorflow/core/common_runtime/executor.cc:1197] [/device:CPU:0] (DEBUG INFO) Executor start aborting (this does not indicate an error and you can ignore this message): INVALID_ARGUMENT: You must feed a value for placeholder tensor 'Placeholder/_2' with dtype float and shape [75,1]\n",
            "\t [[{{node Placeholder/_2}}]]\n",
            "2025-04-10 12:46:57.071175: I tensorflow/core/common_runtime/executor.cc:1197] [/device:CPU:0] (DEBUG INFO) Executor start aborting (this does not indicate an error and you can ignore this message): INVALID_ARGUMENT: You must feed a value for placeholder tensor 'Placeholder/_2' with dtype float and shape [75,1]\n",
            "\t [[{{node Placeholder/_2}}]]\n",
            "2025-04-10 12:46:57.078858: I tensorflow/core/common_runtime/executor.cc:1197] [/device:CPU:0] (DEBUG INFO) Executor start aborting (this does not indicate an error and you can ignore this message): INVALID_ARGUMENT: You must feed a value for placeholder tensor 'Placeholder/_2' with dtype float and shape [75,1]\n",
            "\t [[{{node Placeholder/_2}}]]\n"
          ]
        },
        {
          "name": "stdout",
          "output_type": "stream",
          "text": [
            "32/32 [==============================] - 0s 2ms/step\n",
            "3/3 [==============================] - 0s 3ms/step\n",
            "3/3 [==============================] - 0s 3ms/step\n"
          ]
        },
        {
          "name": "stderr",
          "output_type": "stream",
          "text": [
            "2025-04-10 12:46:57.370362: I tensorflow/core/common_runtime/executor.cc:1197] [/device:CPU:0] (DEBUG INFO) Executor start aborting (this does not indicate an error and you can ignore this message): INVALID_ARGUMENT: You must feed a value for placeholder tensor 'Placeholder/_2' with dtype float and shape [75,1]\n",
            "\t [[{{node Placeholder/_2}}]]\n",
            "2025-04-10 12:46:57.377984: I tensorflow/core/common_runtime/executor.cc:1197] [/device:CPU:0] (DEBUG INFO) Executor start aborting (this does not indicate an error and you can ignore this message): INVALID_ARGUMENT: You must feed a value for placeholder tensor 'Placeholder/_2' with dtype float and shape [75,1]\n",
            "\t [[{{node Placeholder/_2}}]]\n",
            "2025-04-10 12:46:57.485911: I tensorflow/core/common_runtime/executor.cc:1197] [/device:CPU:0] (DEBUG INFO) Executor start aborting (this does not indicate an error and you can ignore this message): INVALID_ARGUMENT: You must feed a value for placeholder tensor 'Placeholder/_2' with dtype float and shape [75,1]\n",
            "\t [[{{node Placeholder/_2}}]]\n",
            "2025-04-10 12:46:57.493067: I tensorflow/core/common_runtime/executor.cc:1197] [/device:CPU:0] (DEBUG INFO) Executor start aborting (this does not indicate an error and you can ignore this message): INVALID_ARGUMENT: You must feed a value for placeholder tensor 'Placeholder/_2' with dtype float and shape [75,1]\n",
            "\t [[{{node Placeholder/_2}}]]\n",
            "2025-04-10 12:46:57.502633: I tensorflow/core/common_runtime/executor.cc:1197] [/device:CPU:0] (DEBUG INFO) Executor start aborting (this does not indicate an error and you can ignore this message): INVALID_ARGUMENT: You must feed a value for placeholder tensor 'Placeholder/_2' with dtype float and shape [75,1]\n",
            "\t [[{{node Placeholder/_2}}]]\n"
          ]
        },
        {
          "name": "stdout",
          "output_type": "stream",
          "text": [
            "32/32 [==============================] - 0s 8ms/step\n",
            "3/3 [==============================] - 0s 7ms/step\n"
          ]
        },
        {
          "name": "stderr",
          "output_type": "stream",
          "text": [
            "2025-04-10 12:46:58.156594: I tensorflow/core/common_runtime/executor.cc:1197] [/device:CPU:0] (DEBUG INFO) Executor start aborting (this does not indicate an error and you can ignore this message): INVALID_ARGUMENT: You must feed a value for placeholder tensor 'Placeholder/_2' with dtype float and shape [75,1]\n",
            "\t [[{{node Placeholder/_2}}]]\n",
            "2025-04-10 12:46:58.195716: I tensorflow/core/common_runtime/executor.cc:1197] [/device:CPU:0] (DEBUG INFO) Executor start aborting (this does not indicate an error and you can ignore this message): INVALID_ARGUMENT: You must feed a value for placeholder tensor 'Placeholder/_2' with dtype float and shape [75,1]\n",
            "\t [[{{node Placeholder/_2}}]]\n"
          ]
        },
        {
          "name": "stdout",
          "output_type": "stream",
          "text": [
            "3/3 [==============================] - 0s 7ms/step\n"
          ]
        },
        {
          "name": "stderr",
          "output_type": "stream",
          "text": [
            "2025-04-10 12:46:58.420352: I tensorflow/core/common_runtime/executor.cc:1197] [/device:CPU:0] (DEBUG INFO) Executor start aborting (this does not indicate an error and you can ignore this message): INVALID_ARGUMENT: You must feed a value for placeholder tensor 'Placeholder/_2' with dtype float and shape [75,1]\n",
            "\t [[{{node Placeholder/_2}}]]\n",
            "2025-04-10 12:46:58.430997: I tensorflow/core/common_runtime/executor.cc:1197] [/device:CPU:0] (DEBUG INFO) Executor start aborting (this does not indicate an error and you can ignore this message): INVALID_ARGUMENT: You must feed a value for placeholder tensor 'Placeholder/_2' with dtype float and shape [75,1]\n",
            "\t [[{{node Placeholder/_2}}]]\n",
            "2025-04-10 12:46:58.444979: I tensorflow/core/common_runtime/executor.cc:1197] [/device:CPU:0] (DEBUG INFO) Executor start aborting (this does not indicate an error and you can ignore this message): INVALID_ARGUMENT: You must feed a value for placeholder tensor 'Placeholder/_2' with dtype float and shape [75,1]\n",
            "\t [[{{node Placeholder/_2}}]]\n"
          ]
        },
        {
          "name": "stdout",
          "output_type": "stream",
          "text": [
            "32/32 [==============================] - 0s 5ms/step\n",
            "3/3 [==============================] - 0s 4ms/step\n",
            "3/3 [==============================] - 0s 3ms/step\n"
          ]
        },
        {
          "name": "stderr",
          "output_type": "stream",
          "text": [
            "2025-04-10 12:46:59.206074: I tensorflow/core/common_runtime/executor.cc:1197] [/device:CPU:0] (DEBUG INFO) Executor start aborting (this does not indicate an error and you can ignore this message): INVALID_ARGUMENT: You must feed a value for placeholder tensor 'Placeholder/_2' with dtype float and shape [75,1]\n",
            "\t [[{{node Placeholder/_2}}]]\n",
            "2025-04-10 12:46:59.223112: I tensorflow/core/common_runtime/executor.cc:1197] [/device:CPU:0] (DEBUG INFO) Executor start aborting (this does not indicate an error and you can ignore this message): INVALID_ARGUMENT: You must feed a value for placeholder tensor 'Placeholder/_2' with dtype float and shape [75,1]\n",
            "\t [[{{node Placeholder/_2}}]]\n",
            "2025-04-10 12:46:59.458778: I tensorflow/core/common_runtime/executor.cc:1197] [/device:CPU:0] (DEBUG INFO) Executor start aborting (this does not indicate an error and you can ignore this message): INVALID_ARGUMENT: You must feed a value for placeholder tensor 'Placeholder/_2' with dtype float and shape [75,1]\n",
            "\t [[{{node Placeholder/_2}}]]\n",
            "2025-04-10 12:46:59.479349: I tensorflow/core/common_runtime/executor.cc:1197] [/device:CPU:0] (DEBUG INFO) Executor start aborting (this does not indicate an error and you can ignore this message): INVALID_ARGUMENT: You must feed a value for placeholder tensor 'Placeholder/_2' with dtype float and shape [75,1]\n",
            "\t [[{{node Placeholder/_2}}]]\n",
            "2025-04-10 12:46:59.488432: I tensorflow/core/common_runtime/executor.cc:1197] [/device:CPU:0] (DEBUG INFO) Executor start aborting (this does not indicate an error and you can ignore this message): INVALID_ARGUMENT: You must feed a value for placeholder tensor 'Placeholder/_2' with dtype float and shape [75,1]\n",
            "\t [[{{node Placeholder/_2}}]]\n"
          ]
        },
        {
          "name": "stdout",
          "output_type": "stream",
          "text": [
            "32/32 [==============================] - 0s 5ms/step\n",
            "3/3 [==============================] - 0s 3ms/step\n",
            "3/3 [==============================] - 0s 3ms/step\n"
          ]
        },
        {
          "name": "stderr",
          "output_type": "stream",
          "text": [
            "2025-04-10 12:47:00.247906: I tensorflow/core/common_runtime/executor.cc:1197] [/device:CPU:0] (DEBUG INFO) Executor start aborting (this does not indicate an error and you can ignore this message): INVALID_ARGUMENT: You must feed a value for placeholder tensor 'Placeholder/_2' with dtype float and shape [75,1]\n",
            "\t [[{{node Placeholder/_2}}]]\n",
            "2025-04-10 12:47:00.258416: I tensorflow/core/common_runtime/executor.cc:1197] [/device:CPU:0] (DEBUG INFO) Executor start aborting (this does not indicate an error and you can ignore this message): INVALID_ARGUMENT: You must feed a value for placeholder tensor 'Placeholder/_2' with dtype float and shape [75,1]\n",
            "\t [[{{node Placeholder/_2}}]]\n",
            "2025-04-10 12:47:00.468367: I tensorflow/core/common_runtime/executor.cc:1197] [/device:CPU:0] (DEBUG INFO) Executor start aborting (this does not indicate an error and you can ignore this message): INVALID_ARGUMENT: You must feed a value for placeholder tensor 'Placeholder/_2' with dtype float and shape [75,1]\n",
            "\t [[{{node Placeholder/_2}}]]\n",
            "2025-04-10 12:47:00.482410: I tensorflow/core/common_runtime/executor.cc:1197] [/device:CPU:0] (DEBUG INFO) Executor start aborting (this does not indicate an error and you can ignore this message): INVALID_ARGUMENT: You must feed a value for placeholder tensor 'Placeholder/_2' with dtype float and shape [75,1]\n",
            "\t [[{{node Placeholder/_2}}]]\n",
            "2025-04-10 12:47:00.546881: I tensorflow/core/common_runtime/executor.cc:1197] [/device:CPU:0] (DEBUG INFO) Executor start aborting (this does not indicate an error and you can ignore this message): INVALID_ARGUMENT: You must feed a value for placeholder tensor 'Placeholder/_2' with dtype float and shape [75,1]\n",
            "\t [[{{node Placeholder/_2}}]]\n"
          ]
        },
        {
          "name": "stdout",
          "output_type": "stream",
          "text": [
            "32/32 [==============================] - 0s 4ms/step\n",
            "3/3 [==============================] - 0s 3ms/step\n",
            "3/3 [==============================] - 0s 4ms/step\n"
          ]
        },
        {
          "name": "stderr",
          "output_type": "stream",
          "text": [
            "2025-04-10 12:47:01.165419: I tensorflow/core/common_runtime/executor.cc:1197] [/device:CPU:0] (DEBUG INFO) Executor start aborting (this does not indicate an error and you can ignore this message): INVALID_ARGUMENT: You must feed a value for placeholder tensor 'Placeholder/_2' with dtype float and shape [75,1]\n",
            "\t [[{{node Placeholder/_2}}]]\n",
            "2025-04-10 12:47:01.172742: I tensorflow/core/common_runtime/executor.cc:1197] [/device:CPU:0] (DEBUG INFO) Executor start aborting (this does not indicate an error and you can ignore this message): INVALID_ARGUMENT: You must feed a value for placeholder tensor 'Placeholder/_2' with dtype float and shape [75,1]\n",
            "\t [[{{node Placeholder/_2}}]]\n",
            "2025-04-10 12:47:01.321794: I tensorflow/core/common_runtime/executor.cc:1197] [/device:CPU:0] (DEBUG INFO) Executor start aborting (this does not indicate an error and you can ignore this message): INVALID_ARGUMENT: You must feed a value for placeholder tensor 'Placeholder/_2' with dtype float and shape [75,1]\n",
            "\t [[{{node Placeholder/_2}}]]\n",
            "2025-04-10 12:47:01.356748: I tensorflow/core/common_runtime/executor.cc:1197] [/device:CPU:0] (DEBUG INFO) Executor start aborting (this does not indicate an error and you can ignore this message): INVALID_ARGUMENT: You must feed a value for placeholder tensor 'Placeholder/_2' with dtype float and shape [75,1]\n",
            "\t [[{{node Placeholder/_2}}]]\n"
          ]
        },
        {
          "name": "stdout",
          "output_type": "stream",
          "text": [
            " 1/32 [..............................] - ETA: 1s"
          ]
        },
        {
          "name": "stderr",
          "output_type": "stream",
          "text": [
            "2025-04-10 12:47:01.392457: I tensorflow/core/common_runtime/executor.cc:1197] [/device:CPU:0] (DEBUG INFO) Executor start aborting (this does not indicate an error and you can ignore this message): INVALID_ARGUMENT: You must feed a value for placeholder tensor 'Placeholder/_2' with dtype float and shape [75,1]\n",
            "\t [[{{node Placeholder/_2}}]]\n"
          ]
        },
        {
          "name": "stdout",
          "output_type": "stream",
          "text": [
            "32/32 [==============================] - 0s 4ms/step\n",
            "3/3 [==============================] - 0s 4ms/step\n",
            "3/3 [==============================] - 0s 6ms/step\n"
          ]
        },
        {
          "name": "stderr",
          "output_type": "stream",
          "text": [
            "2025-04-10 12:47:01.875195: I tensorflow/core/common_runtime/executor.cc:1197] [/device:CPU:0] (DEBUG INFO) Executor start aborting (this does not indicate an error and you can ignore this message): INVALID_ARGUMENT: You must feed a value for placeholder tensor 'Placeholder/_2' with dtype float and shape [75,1]\n",
            "\t [[{{node Placeholder/_2}}]]\n",
            "2025-04-10 12:47:01.886849: I tensorflow/core/common_runtime/executor.cc:1197] [/device:CPU:0] (DEBUG INFO) Executor start aborting (this does not indicate an error and you can ignore this message): INVALID_ARGUMENT: You must feed a value for placeholder tensor 'Placeholder/_2' with dtype float and shape [75,1]\n",
            "\t [[{{node Placeholder/_2}}]]\n"
          ]
        },
        {
          "name": "stdout",
          "output_type": "stream",
          "text": [
            " 1/32 [..............................] - ETA: 1s"
          ]
        },
        {
          "name": "stderr",
          "output_type": "stream",
          "text": [
            "2025-04-10 12:47:02.174383: I tensorflow/core/common_runtime/executor.cc:1197] [/device:CPU:0] (DEBUG INFO) Executor start aborting (this does not indicate an error and you can ignore this message): INVALID_ARGUMENT: You must feed a value for placeholder tensor 'Placeholder/_2' with dtype float and shape [75,1]\n",
            "\t [[{{node Placeholder/_2}}]]\n",
            "2025-04-10 12:47:02.190208: I tensorflow/core/common_runtime/executor.cc:1197] [/device:CPU:0] (DEBUG INFO) Executor start aborting (this does not indicate an error and you can ignore this message): INVALID_ARGUMENT: You must feed a value for placeholder tensor 'Placeholder/_2' with dtype float and shape [75,1]\n",
            "\t [[{{node Placeholder/_2}}]]\n",
            "2025-04-10 12:47:02.204666: I tensorflow/core/common_runtime/executor.cc:1197] [/device:CPU:0] (DEBUG INFO) Executor start aborting (this does not indicate an error and you can ignore this message): INVALID_ARGUMENT: You must feed a value for placeholder tensor 'Placeholder/_2' with dtype float and shape [75,1]\n",
            "\t [[{{node Placeholder/_2}}]]\n"
          ]
        },
        {
          "name": "stdout",
          "output_type": "stream",
          "text": [
            "32/32 [==============================] - 0s 4ms/step\n",
            "3/3 [==============================] - 0s 7ms/step\n"
          ]
        },
        {
          "name": "stderr",
          "output_type": "stream",
          "text": [
            "2025-04-10 12:47:03.056337: I tensorflow/core/common_runtime/executor.cc:1197] [/device:CPU:0] (DEBUG INFO) Executor start aborting (this does not indicate an error and you can ignore this message): INVALID_ARGUMENT: You must feed a value for placeholder tensor 'Placeholder/_2' with dtype float and shape [75,1]\n",
            "\t [[{{node Placeholder/_2}}]]\n",
            "2025-04-10 12:47:03.085950: I tensorflow/core/common_runtime/executor.cc:1197] [/device:CPU:0] (DEBUG INFO) Executor start aborting (this does not indicate an error and you can ignore this message): INVALID_ARGUMENT: You must feed a value for placeholder tensor 'Placeholder/_2' with dtype float and shape [75,1]\n",
            "\t [[{{node Placeholder/_2}}]]\n"
          ]
        },
        {
          "name": "stdout",
          "output_type": "stream",
          "text": [
            "3/3 [==============================] - 0s 4ms/step\n"
          ]
        },
        {
          "name": "stderr",
          "output_type": "stream",
          "text": [
            "2025-04-10 12:47:03.319941: I tensorflow/core/common_runtime/executor.cc:1197] [/device:CPU:0] (DEBUG INFO) Executor start aborting (this does not indicate an error and you can ignore this message): INVALID_ARGUMENT: You must feed a value for placeholder tensor 'Placeholder/_2' with dtype float and shape [75,1]\n",
            "\t [[{{node Placeholder/_2}}]]\n",
            "2025-04-10 12:47:03.334367: I tensorflow/core/common_runtime/executor.cc:1197] [/device:CPU:0] (DEBUG INFO) Executor start aborting (this does not indicate an error and you can ignore this message): INVALID_ARGUMENT: You must feed a value for placeholder tensor 'Placeholder/_2' with dtype float and shape [75,1]\n",
            "\t [[{{node Placeholder/_2}}]]\n"
          ]
        },
        {
          "name": "stdout",
          "output_type": "stream",
          "text": [
            " 1/32 [..............................] - ETA: 1s"
          ]
        },
        {
          "name": "stderr",
          "output_type": "stream",
          "text": [
            "2025-04-10 12:47:03.535932: I tensorflow/core/common_runtime/executor.cc:1197] [/device:CPU:0] (DEBUG INFO) Executor start aborting (this does not indicate an error and you can ignore this message): INVALID_ARGUMENT: You must feed a value for placeholder tensor 'Placeholder/_2' with dtype float and shape [75,1]\n",
            "\t [[{{node Placeholder/_2}}]]\n"
          ]
        },
        {
          "name": "stdout",
          "output_type": "stream",
          "text": [
            "32/32 [==============================] - 0s 3ms/step\n",
            "3/3 [==============================] - 0s 3ms/step\n",
            "3/3 [==============================] - 0s 4ms/step\n"
          ]
        },
        {
          "name": "stderr",
          "output_type": "stream",
          "text": [
            "2025-04-10 12:47:03.958733: I tensorflow/core/common_runtime/executor.cc:1197] [/device:CPU:0] (DEBUG INFO) Executor start aborting (this does not indicate an error and you can ignore this message): INVALID_ARGUMENT: You must feed a value for placeholder tensor 'Placeholder/_2' with dtype float and shape [75,1]\n",
            "\t [[{{node Placeholder/_2}}]]\n",
            "2025-04-10 12:47:03.973288: I tensorflow/core/common_runtime/executor.cc:1197] [/device:CPU:0] (DEBUG INFO) Executor start aborting (this does not indicate an error and you can ignore this message): INVALID_ARGUMENT: You must feed a value for placeholder tensor 'Placeholder/_2' with dtype float and shape [75,1]\n",
            "\t [[{{node Placeholder/_2}}]]\n",
            "2025-04-10 12:47:04.095056: I tensorflow/core/common_runtime/executor.cc:1197] [/device:CPU:0] (DEBUG INFO) Executor start aborting (this does not indicate an error and you can ignore this message): INVALID_ARGUMENT: You must feed a value for placeholder tensor 'Placeholder/_2' with dtype float and shape [75,1]\n",
            "\t [[{{node Placeholder/_2}}]]\n",
            "2025-04-10 12:47:04.104822: I tensorflow/core/common_runtime/executor.cc:1197] [/device:CPU:0] (DEBUG INFO) Executor start aborting (this does not indicate an error and you can ignore this message): INVALID_ARGUMENT: You must feed a value for placeholder tensor 'Placeholder/_2' with dtype float and shape [75,1]\n",
            "\t [[{{node Placeholder/_2}}]]\n",
            "2025-04-10 12:47:04.112673: I tensorflow/core/common_runtime/executor.cc:1197] [/device:CPU:0] (DEBUG INFO) Executor start aborting (this does not indicate an error and you can ignore this message): INVALID_ARGUMENT: You must feed a value for placeholder tensor 'Placeholder/_2' with dtype float and shape [75,1]\n",
            "\t [[{{node Placeholder/_2}}]]\n"
          ]
        },
        {
          "name": "stdout",
          "output_type": "stream",
          "text": [
            "32/32 [==============================] - 0s 11ms/step\n",
            "3/3 [==============================] - 0s 3ms/step\n"
          ]
        },
        {
          "name": "stderr",
          "output_type": "stream",
          "text": [
            "2025-04-10 12:47:05.257466: I tensorflow/core/common_runtime/executor.cc:1197] [/device:CPU:0] (DEBUG INFO) Executor start aborting (this does not indicate an error and you can ignore this message): INVALID_ARGUMENT: You must feed a value for placeholder tensor 'Placeholder/_2' with dtype float and shape [75,1]\n",
            "\t [[{{node Placeholder/_2}}]]\n",
            "2025-04-10 12:47:05.317404: I tensorflow/core/common_runtime/executor.cc:1197] [/device:CPU:0] (DEBUG INFO) Executor start aborting (this does not indicate an error and you can ignore this message): INVALID_ARGUMENT: You must feed a value for placeholder tensor 'Placeholder/_2' with dtype float and shape [75,1]\n",
            "\t [[{{node Placeholder/_2}}]]\n"
          ]
        },
        {
          "name": "stdout",
          "output_type": "stream",
          "text": [
            "3/3 [==============================] - 0s 6ms/step\n",
            " 1/32 [..............................] - ETA: 2s"
          ]
        },
        {
          "name": "stderr",
          "output_type": "stream",
          "text": [
            "2025-04-10 12:47:05.715896: I tensorflow/core/common_runtime/executor.cc:1197] [/device:CPU:0] (DEBUG INFO) Executor start aborting (this does not indicate an error and you can ignore this message): INVALID_ARGUMENT: You must feed a value for placeholder tensor 'Placeholder/_2' with dtype float and shape [75,1]\n",
            "\t [[{{node Placeholder/_2}}]]\n",
            "2025-04-10 12:47:05.727337: I tensorflow/core/common_runtime/executor.cc:1197] [/device:CPU:0] (DEBUG INFO) Executor start aborting (this does not indicate an error and you can ignore this message): INVALID_ARGUMENT: You must feed a value for placeholder tensor 'Placeholder/_2' with dtype float and shape [75,1]\n",
            "\t [[{{node Placeholder/_2}}]]\n",
            "2025-04-10 12:47:05.744726: I tensorflow/core/common_runtime/executor.cc:1197] [/device:CPU:0] (DEBUG INFO) Executor start aborting (this does not indicate an error and you can ignore this message): INVALID_ARGUMENT: You must feed a value for placeholder tensor 'Placeholder/_2' with dtype float and shape [75,1]\n",
            "\t [[{{node Placeholder/_2}}]]\n"
          ]
        },
        {
          "name": "stdout",
          "output_type": "stream",
          "text": [
            "32/32 [==============================] - 0s 5ms/step\n",
            "3/3 [==============================] - 0s 6ms/step\n",
            "3/3 [==============================] - 0s 3ms/step\n"
          ]
        },
        {
          "name": "stderr",
          "output_type": "stream",
          "text": [
            "2025-04-10 12:47:06.430567: I tensorflow/core/common_runtime/executor.cc:1197] [/device:CPU:0] (DEBUG INFO) Executor start aborting (this does not indicate an error and you can ignore this message): INVALID_ARGUMENT: You must feed a value for placeholder tensor 'Placeholder/_2' with dtype float and shape [75,1]\n",
            "\t [[{{node Placeholder/_2}}]]\n",
            "2025-04-10 12:47:06.440190: I tensorflow/core/common_runtime/executor.cc:1197] [/device:CPU:0] (DEBUG INFO) Executor start aborting (this does not indicate an error and you can ignore this message): INVALID_ARGUMENT: You must feed a value for placeholder tensor 'Placeholder/_2' with dtype float and shape [75,1]\n",
            "\t [[{{node Placeholder/_2}}]]\n",
            "2025-04-10 12:47:06.575570: I tensorflow/core/common_runtime/executor.cc:1197] [/device:CPU:0] (DEBUG INFO) Executor start aborting (this does not indicate an error and you can ignore this message): INVALID_ARGUMENT: You must feed a value for placeholder tensor 'Placeholder/_2' with dtype float and shape [75,1]\n",
            "\t [[{{node Placeholder/_2}}]]\n",
            "2025-04-10 12:47:06.582618: I tensorflow/core/common_runtime/executor.cc:1197] [/device:CPU:0] (DEBUG INFO) Executor start aborting (this does not indicate an error and you can ignore this message): INVALID_ARGUMENT: You must feed a value for placeholder tensor 'Placeholder/_2' with dtype float and shape [75,1]\n",
            "\t [[{{node Placeholder/_2}}]]\n",
            "2025-04-10 12:47:06.592068: I tensorflow/core/common_runtime/executor.cc:1197] [/device:CPU:0] (DEBUG INFO) Executor start aborting (this does not indicate an error and you can ignore this message): INVALID_ARGUMENT: You must feed a value for placeholder tensor 'Placeholder/_2' with dtype float and shape [75,1]\n",
            "\t [[{{node Placeholder/_2}}]]\n"
          ]
        },
        {
          "name": "stdout",
          "output_type": "stream",
          "text": [
            "32/32 [==============================] - 0s 4ms/step\n",
            "3/3 [==============================] - 0s 3ms/step\n",
            "3/3 [==============================] - 0s 4ms/step\n"
          ]
        },
        {
          "name": "stderr",
          "output_type": "stream",
          "text": [
            "2025-04-10 12:47:06.966157: I tensorflow/core/common_runtime/executor.cc:1197] [/device:CPU:0] (DEBUG INFO) Executor start aborting (this does not indicate an error and you can ignore this message): INVALID_ARGUMENT: You must feed a value for placeholder tensor 'Placeholder/_2' with dtype float and shape [75,1]\n",
            "\t [[{{node Placeholder/_2}}]]\n",
            "2025-04-10 12:47:06.976717: I tensorflow/core/common_runtime/executor.cc:1197] [/device:CPU:0] (DEBUG INFO) Executor start aborting (this does not indicate an error and you can ignore this message): INVALID_ARGUMENT: You must feed a value for placeholder tensor 'Placeholder/_2' with dtype float and shape [75,1]\n",
            "\t [[{{node Placeholder/_2}}]]\n",
            "2025-04-10 12:47:07.092502: I tensorflow/core/common_runtime/executor.cc:1197] [/device:CPU:0] (DEBUG INFO) Executor start aborting (this does not indicate an error and you can ignore this message): INVALID_ARGUMENT: You must feed a value for placeholder tensor 'Placeholder/_2' with dtype float and shape [75,1]\n",
            "\t [[{{node Placeholder/_2}}]]\n",
            "2025-04-10 12:47:07.103173: I tensorflow/core/common_runtime/executor.cc:1197] [/device:CPU:0] (DEBUG INFO) Executor start aborting (this does not indicate an error and you can ignore this message): INVALID_ARGUMENT: You must feed a value for placeholder tensor 'Placeholder/_2' with dtype float and shape [75,1]\n",
            "\t [[{{node Placeholder/_2}}]]\n",
            "2025-04-10 12:47:07.112811: I tensorflow/core/common_runtime/executor.cc:1197] [/device:CPU:0] (DEBUG INFO) Executor start aborting (this does not indicate an error and you can ignore this message): INVALID_ARGUMENT: You must feed a value for placeholder tensor 'Placeholder/_2' with dtype float and shape [75,1]\n",
            "\t [[{{node Placeholder/_2}}]]\n"
          ]
        },
        {
          "name": "stdout",
          "output_type": "stream",
          "text": [
            "32/32 [==============================] - 0s 2ms/step\n",
            "3/3 [==============================] - 0s 3ms/step\n",
            "3/3 [==============================] - 0s 3ms/step\n"
          ]
        },
        {
          "name": "stderr",
          "output_type": "stream",
          "text": [
            "2025-04-10 12:47:07.416734: I tensorflow/core/common_runtime/executor.cc:1197] [/device:CPU:0] (DEBUG INFO) Executor start aborting (this does not indicate an error and you can ignore this message): INVALID_ARGUMENT: You must feed a value for placeholder tensor 'Placeholder/_2' with dtype float and shape [75,1]\n",
            "\t [[{{node Placeholder/_2}}]]\n",
            "2025-04-10 12:47:07.424920: I tensorflow/core/common_runtime/executor.cc:1197] [/device:CPU:0] (DEBUG INFO) Executor start aborting (this does not indicate an error and you can ignore this message): INVALID_ARGUMENT: You must feed a value for placeholder tensor 'Placeholder/_2' with dtype float and shape [75,1]\n",
            "\t [[{{node Placeholder/_2}}]]\n",
            "2025-04-10 12:47:07.539375: I tensorflow/core/common_runtime/executor.cc:1197] [/device:CPU:0] (DEBUG INFO) Executor start aborting (this does not indicate an error and you can ignore this message): INVALID_ARGUMENT: You must feed a value for placeholder tensor 'Placeholder/_2' with dtype float and shape [75,1]\n",
            "\t [[{{node Placeholder/_2}}]]\n",
            "2025-04-10 12:47:07.548044: I tensorflow/core/common_runtime/executor.cc:1197] [/device:CPU:0] (DEBUG INFO) Executor start aborting (this does not indicate an error and you can ignore this message): INVALID_ARGUMENT: You must feed a value for placeholder tensor 'Placeholder/_2' with dtype float and shape [75,1]\n",
            "\t [[{{node Placeholder/_2}}]]\n",
            "2025-04-10 12:47:07.555455: I tensorflow/core/common_runtime/executor.cc:1197] [/device:CPU:0] (DEBUG INFO) Executor start aborting (this does not indicate an error and you can ignore this message): INVALID_ARGUMENT: You must feed a value for placeholder tensor 'Placeholder/_2' with dtype float and shape [75,1]\n",
            "\t [[{{node Placeholder/_2}}]]\n"
          ]
        },
        {
          "name": "stdout",
          "output_type": "stream",
          "text": [
            "32/32 [==============================] - 0s 3ms/step\n",
            "3/3 [==============================] - 0s 4ms/step\n",
            "3/3 [==============================] - 0s 4ms/step\n"
          ]
        },
        {
          "name": "stderr",
          "output_type": "stream",
          "text": [
            "2025-04-10 12:47:08.402061: I tensorflow/core/common_runtime/executor.cc:1197] [/device:CPU:0] (DEBUG INFO) Executor start aborting (this does not indicate an error and you can ignore this message): INVALID_ARGUMENT: You must feed a value for placeholder tensor 'Placeholder/_2' with dtype float and shape [75,1]\n",
            "\t [[{{node Placeholder/_2}}]]\n",
            "2025-04-10 12:47:08.416220: I tensorflow/core/common_runtime/executor.cc:1197] [/device:CPU:0] (DEBUG INFO) Executor start aborting (this does not indicate an error and you can ignore this message): INVALID_ARGUMENT: You must feed a value for placeholder tensor 'Placeholder/_2' with dtype float and shape [75,1]\n",
            "\t [[{{node Placeholder/_2}}]]\n"
          ]
        },
        {
          "name": "stdout",
          "output_type": "stream",
          "text": [
            "17/32 [==============>...............] - ETA: 0s"
          ]
        },
        {
          "name": "stderr",
          "output_type": "stream",
          "text": [
            "2025-04-10 12:47:08.621095: I tensorflow/core/common_runtime/executor.cc:1197] [/device:CPU:0] (DEBUG INFO) Executor start aborting (this does not indicate an error and you can ignore this message): INVALID_ARGUMENT: You must feed a value for placeholder tensor 'Placeholder/_2' with dtype float and shape [75,1]\n",
            "\t [[{{node Placeholder/_2}}]]\n",
            "2025-04-10 12:47:08.634338: I tensorflow/core/common_runtime/executor.cc:1197] [/device:CPU:0] (DEBUG INFO) Executor start aborting (this does not indicate an error and you can ignore this message): INVALID_ARGUMENT: You must feed a value for placeholder tensor 'Placeholder/_2' with dtype float and shape [75,1]\n",
            "\t [[{{node Placeholder/_2}}]]\n",
            "2025-04-10 12:47:08.646779: I tensorflow/core/common_runtime/executor.cc:1197] [/device:CPU:0] (DEBUG INFO) Executor start aborting (this does not indicate an error and you can ignore this message): INVALID_ARGUMENT: You must feed a value for placeholder tensor 'Placeholder/_2' with dtype float and shape [75,1]\n",
            "\t [[{{node Placeholder/_2}}]]\n"
          ]
        },
        {
          "name": "stdout",
          "output_type": "stream",
          "text": [
            "32/32 [==============================] - 0s 4ms/step\n",
            "3/3 [==============================] - 0s 9ms/step\n"
          ]
        },
        {
          "name": "stderr",
          "output_type": "stream",
          "text": [
            "2025-04-10 12:47:09.325430: I tensorflow/core/common_runtime/executor.cc:1197] [/device:CPU:0] (DEBUG INFO) Executor start aborting (this does not indicate an error and you can ignore this message): INVALID_ARGUMENT: You must feed a value for placeholder tensor 'Placeholder/_2' with dtype float and shape [75,1]\n",
            "\t [[{{node Placeholder/_2}}]]\n",
            "2025-04-10 12:47:09.365809: I tensorflow/core/common_runtime/executor.cc:1197] [/device:CPU:0] (DEBUG INFO) Executor start aborting (this does not indicate an error and you can ignore this message): INVALID_ARGUMENT: You must feed a value for placeholder tensor 'Placeholder/_2' with dtype float and shape [75,1]\n",
            "\t [[{{node Placeholder/_2}}]]\n"
          ]
        },
        {
          "name": "stdout",
          "output_type": "stream",
          "text": [
            "3/3 [==============================] - 0s 6ms/step\n",
            " 1/32 [..............................] - ETA: 0s"
          ]
        },
        {
          "name": "stderr",
          "output_type": "stream",
          "text": [
            "2025-04-10 12:47:09.587938: I tensorflow/core/common_runtime/executor.cc:1197] [/device:CPU:0] (DEBUG INFO) Executor start aborting (this does not indicate an error and you can ignore this message): INVALID_ARGUMENT: You must feed a value for placeholder tensor 'Placeholder/_2' with dtype float and shape [75,1]\n",
            "\t [[{{node Placeholder/_2}}]]\n",
            "2025-04-10 12:47:09.623507: I tensorflow/core/common_runtime/executor.cc:1197] [/device:CPU:0] (DEBUG INFO) Executor start aborting (this does not indicate an error and you can ignore this message): INVALID_ARGUMENT: You must feed a value for placeholder tensor 'Placeholder/_2' with dtype float and shape [75,1]\n",
            "\t [[{{node Placeholder/_2}}]]\n",
            "2025-04-10 12:47:09.633410: I tensorflow/core/common_runtime/executor.cc:1197] [/device:CPU:0] (DEBUG INFO) Executor start aborting (this does not indicate an error and you can ignore this message): INVALID_ARGUMENT: You must feed a value for placeholder tensor 'Placeholder/_2' with dtype float and shape [75,1]\n",
            "\t [[{{node Placeholder/_2}}]]\n"
          ]
        },
        {
          "name": "stdout",
          "output_type": "stream",
          "text": [
            "32/32 [==============================] - 0s 4ms/step\n",
            "3/3 [==============================] - 0s 4ms/step\n",
            "3/3 [==============================] - 0s 4ms/step\n"
          ]
        },
        {
          "name": "stderr",
          "output_type": "stream",
          "text": [
            "2025-04-10 12:47:10.094711: I tensorflow/core/common_runtime/executor.cc:1197] [/device:CPU:0] (DEBUG INFO) Executor start aborting (this does not indicate an error and you can ignore this message): INVALID_ARGUMENT: You must feed a value for placeholder tensor 'Placeholder/_2' with dtype float and shape [75,1]\n",
            "\t [[{{node Placeholder/_2}}]]\n",
            "2025-04-10 12:47:10.103704: I tensorflow/core/common_runtime/executor.cc:1197] [/device:CPU:0] (DEBUG INFO) Executor start aborting (this does not indicate an error and you can ignore this message): INVALID_ARGUMENT: You must feed a value for placeholder tensor 'Placeholder/_2' with dtype float and shape [75,1]\n",
            "\t [[{{node Placeholder/_2}}]]\n",
            "2025-04-10 12:47:10.368976: I tensorflow/core/common_runtime/executor.cc:1197] [/device:CPU:0] (DEBUG INFO) Executor start aborting (this does not indicate an error and you can ignore this message): INVALID_ARGUMENT: You must feed a value for placeholder tensor 'Placeholder/_2' with dtype float and shape [75,1]\n",
            "\t [[{{node Placeholder/_2}}]]\n",
            "2025-04-10 12:47:10.400285: I tensorflow/core/common_runtime/executor.cc:1197] [/device:CPU:0] (DEBUG INFO) Executor start aborting (this does not indicate an error and you can ignore this message): INVALID_ARGUMENT: You must feed a value for placeholder tensor 'Placeholder/_2' with dtype float and shape [75,1]\n",
            "\t [[{{node Placeholder/_2}}]]\n",
            "2025-04-10 12:47:10.440349: I tensorflow/core/common_runtime/executor.cc:1197] [/device:CPU:0] (DEBUG INFO) Executor start aborting (this does not indicate an error and you can ignore this message): INVALID_ARGUMENT: You must feed a value for placeholder tensor 'Placeholder/_2' with dtype float and shape [75,1]\n",
            "\t [[{{node Placeholder/_2}}]]\n"
          ]
        },
        {
          "name": "stdout",
          "output_type": "stream",
          "text": [
            "32/32 [==============================] - 0s 4ms/step\n",
            "3/3 [==============================] - 0s 4ms/step\n"
          ]
        },
        {
          "name": "stderr",
          "output_type": "stream",
          "text": [
            "2025-04-10 12:47:11.283528: I tensorflow/core/common_runtime/executor.cc:1197] [/device:CPU:0] (DEBUG INFO) Executor start aborting (this does not indicate an error and you can ignore this message): INVALID_ARGUMENT: You must feed a value for placeholder tensor 'Placeholder/_2' with dtype float and shape [75,1]\n",
            "\t [[{{node Placeholder/_2}}]]\n",
            "2025-04-10 12:47:11.336251: I tensorflow/core/common_runtime/executor.cc:1197] [/device:CPU:0] (DEBUG INFO) Executor start aborting (this does not indicate an error and you can ignore this message): INVALID_ARGUMENT: You must feed a value for placeholder tensor 'Placeholder/_2' with dtype float and shape [75,1]\n",
            "\t [[{{node Placeholder/_2}}]]\n"
          ]
        },
        {
          "name": "stdout",
          "output_type": "stream",
          "text": [
            "3/3 [==============================] - 0s 7ms/step\n"
          ]
        },
        {
          "name": "stderr",
          "output_type": "stream",
          "text": [
            "2025-04-10 12:47:11.567127: I tensorflow/core/common_runtime/executor.cc:1197] [/device:CPU:0] (DEBUG INFO) Executor start aborting (this does not indicate an error and you can ignore this message): INVALID_ARGUMENT: You must feed a value for placeholder tensor 'Placeholder/_2' with dtype float and shape [75,1]\n",
            "\t [[{{node Placeholder/_2}}]]\n",
            "2025-04-10 12:47:11.586221: I tensorflow/core/common_runtime/executor.cc:1197] [/device:CPU:0] (DEBUG INFO) Executor start aborting (this does not indicate an error and you can ignore this message): INVALID_ARGUMENT: You must feed a value for placeholder tensor 'Placeholder/_2' with dtype float and shape [75,1]\n",
            "\t [[{{node Placeholder/_2}}]]\n",
            "2025-04-10 12:47:11.820462: I tensorflow/core/common_runtime/executor.cc:1197] [/device:CPU:0] (DEBUG INFO) Executor start aborting (this does not indicate an error and you can ignore this message): INVALID_ARGUMENT: You must feed a value for placeholder tensor 'Placeholder/_2' with dtype float and shape [75,1]\n",
            "\t [[{{node Placeholder/_2}}]]\n"
          ]
        },
        {
          "name": "stdout",
          "output_type": "stream",
          "text": [
            "32/32 [==============================] - 0s 7ms/step\n",
            "3/3 [==============================] - 0s 6ms/step\n"
          ]
        },
        {
          "name": "stderr",
          "output_type": "stream",
          "text": [
            "2025-04-10 12:47:12.912557: I tensorflow/core/common_runtime/executor.cc:1197] [/device:CPU:0] (DEBUG INFO) Executor start aborting (this does not indicate an error and you can ignore this message): INVALID_ARGUMENT: You must feed a value for placeholder tensor 'Placeholder/_2' with dtype float and shape [75,1]\n",
            "\t [[{{node Placeholder/_2}}]]\n",
            "2025-04-10 12:47:12.927648: I tensorflow/core/common_runtime/executor.cc:1197] [/device:CPU:0] (DEBUG INFO) Executor start aborting (this does not indicate an error and you can ignore this message): INVALID_ARGUMENT: You must feed a value for placeholder tensor 'Placeholder/_2' with dtype float and shape [75,1]\n",
            "\t [[{{node Placeholder/_2}}]]\n"
          ]
        },
        {
          "name": "stdout",
          "output_type": "stream",
          "text": [
            "3/3 [==============================] - 0s 5ms/step\n"
          ]
        },
        {
          "name": "stderr",
          "output_type": "stream",
          "text": [
            "2025-04-10 12:47:13.207860: I tensorflow/core/common_runtime/executor.cc:1197] [/device:CPU:0] (DEBUG INFO) Executor start aborting (this does not indicate an error and you can ignore this message): INVALID_ARGUMENT: You must feed a value for placeholder tensor 'Placeholder/_2' with dtype float and shape [75,1]\n",
            "\t [[{{node Placeholder/_2}}]]\n",
            "2025-04-10 12:47:13.250165: I tensorflow/core/common_runtime/executor.cc:1197] [/device:CPU:0] (DEBUG INFO) Executor start aborting (this does not indicate an error and you can ignore this message): INVALID_ARGUMENT: You must feed a value for placeholder tensor 'Placeholder/_2' with dtype float and shape [75,1]\n",
            "\t [[{{node Placeholder/_2}}]]\n",
            "2025-04-10 12:47:13.285616: I tensorflow/core/common_runtime/executor.cc:1197] [/device:CPU:0] (DEBUG INFO) Executor start aborting (this does not indicate an error and you can ignore this message): INVALID_ARGUMENT: You must feed a value for placeholder tensor 'Placeholder/_2' with dtype float and shape [75,1]\n",
            "\t [[{{node Placeholder/_2}}]]\n"
          ]
        },
        {
          "name": "stdout",
          "output_type": "stream",
          "text": [
            "32/32 [==============================] - 0s 3ms/step\n",
            "32/32 [==============================] - 0s 3ms/step\n",
            "Synthetic data saved to 'synthetic_data.csv'\n",
            "Statistics of Original Data:\n"
          ]
        },
        {
          "name": "stderr",
          "output_type": "stream",
          "text": [
            "[I 2025-04-10 12:47:16,476] Trial 1 finished with value: -267.3041466773916 and parameters: {'latent_dim': 40, 'learning_rate': 0.0002647471416454999, 'n_critic': 2, 'batch_size': 75}. Best is trial 0 with value: -252.352051957829.\n"
          ]
        },
        {
          "name": "stdout",
          "output_type": "stream",
          "text": [
            "                Time             V1             V2             V3  \\\n",
            "count  568630.000000  568630.000000  568630.000000  568630.000000   \n",
            "mean        0.027112      -1.181391       1.113660      -2.291542   \n",
            "std         0.546143       2.791460       2.203515       4.082332   \n",
            "min        -0.994983     -28.798555     -44.035292     -31.871733   \n",
            "25%        -0.431583      -1.400971      -0.072026      -3.275703   \n",
            "50%        -0.067576      -0.374564       0.596930      -0.910161   \n",
            "75%         0.546071       0.526565       1.686882       0.218950   \n",
            "max         1.035022       1.253351      13.357750       6.187993   \n",
            "\n",
            "                  V4             V5             V6             V7  \\\n",
            "count  568630.000000  568630.000000  568630.000000  568630.000000   \n",
            "mean        1.585906      -1.156120      -0.531172      -2.221379   \n",
            "std         2.233341       3.000064       1.269914       4.657694   \n",
            "min        -4.013919     -82.408097     -19.636058     -35.209396   \n",
            "25%        -0.056473      -1.290312      -1.143013      -2.411842   \n",
            "50%         0.956868      -0.321889      -0.511228      -0.514509   \n",
            "75%         2.924451       0.334255       0.023880       0.226423   \n",
            "max        11.918743      25.214135      55.020149      97.478239   \n",
            "\n",
            "                  V8             V9  ...            V20            V21  \\\n",
            "count  568630.000000  568630.000000  ...  568630.000000  568630.000000   \n",
            "mean        0.297912      -1.190130  ...       0.246867       0.519185   \n",
            "std         3.948145       2.082339  ...       1.321770       3.713461   \n",
            "min       -61.302524     -12.228015  ...     -70.691461     -47.419067   \n",
            "25%        -0.150546      -2.070520  ...      -0.234846      -0.217238   \n",
            "50%         0.137355      -0.665258  ...       0.058654       0.209970   \n",
            "75%         0.729184       0.116146  ...       0.544831       0.883747   \n",
            "max        16.751534      14.194945  ...      51.134640      37.034714   \n",
            "\n",
            "                 V22            V23            V24            V25  \\\n",
            "count  568630.000000  568630.000000  568630.000000  568630.000000   \n",
            "mean       -0.008327      -0.002315      -0.086396       0.085679   \n",
            "std         1.557007       1.537906       0.895971       1.166557   \n",
            "min       -15.065646     -71.754464      -4.683638     -19.750332   \n",
            "25%        -0.710430      -0.349284      -0.632529      -0.555259   \n",
            "50%         0.036764      -0.058586      -0.004765       0.114305   \n",
            "75%         0.743665       0.276708       0.575528       0.746439   \n",
            "max        14.473041      36.076675       7.569684      14.425318   \n",
            "\n",
            "                 V26            V27            V28         Amount  \n",
            "count  568630.000000  568630.000000  568630.000000  568630.000000  \n",
            "mean        0.051072       0.229447       0.134347       1.081782  \n",
            "std         0.929171       2.427363       1.292273       3.366401  \n",
            "min        -5.401098     -55.906596     -46.746117      -0.307413  \n",
            "25%        -0.567960      -0.144893      -0.157134      -0.275833  \n",
            "50%        -0.030109       0.131926       0.110808      -0.027947  \n",
            "75%         0.634003       1.132417       0.655216       1.088313  \n",
            "max         7.293975      78.319397     102.543421     358.683155  \n",
            "\n",
            "[8 rows x 30 columns]\n",
            "\n",
            "Statistics of Synthetic Data:\n",
            "              Time           V1           V2           V3           V4  \\\n",
            "count  1000.000000  1000.000000  1000.000000  1000.000000  1000.000000   \n",
            "mean     -0.022963    -0.050829     0.172580     0.043152    -0.137870   \n",
            "std       0.426542     0.439075     0.437431     0.437338     0.401567   \n",
            "min      -0.956972    -0.916622    -0.927924    -0.910873    -0.953459   \n",
            "25%      -0.372841    -0.389112    -0.137465    -0.295982    -0.445550   \n",
            "50%      -0.024655    -0.058541     0.184612     0.041653    -0.176257   \n",
            "75%       0.295140     0.283290     0.547667     0.395421     0.175062   \n",
            "max       0.967276     0.960706     0.966596     0.947963     0.874295   \n",
            "\n",
            "                V5           V6           V7           V8           V9  ...  \\\n",
            "count  1000.000000  1000.000000  1000.000000  1000.000000  1000.000000  ...   \n",
            "mean      0.057613     0.020938    -0.073329     0.129627    -0.417801  ...   \n",
            "std       0.412529     0.326258     0.433015     0.472416     0.373982  ...   \n",
            "min      -0.909427    -0.805876    -0.939600    -0.955631    -0.981134  ...   \n",
            "25%      -0.260160    -0.215520    -0.439307    -0.236393    -0.727166  ...   \n",
            "50%       0.057241     0.026723    -0.092588     0.158430    -0.495241  ...   \n",
            "75%       0.392783     0.255780     0.276999     0.515276    -0.179339  ...   \n",
            "max       0.944665     0.888150     0.934787     0.965159     0.821094  ...   \n",
            "\n",
            "               V20          V21          V22          V23          V24  \\\n",
            "count  1000.000000  1000.000000  1000.000000  1000.000000  1000.000000   \n",
            "mean      0.215993    -0.013709    -0.002469     0.116083    -0.273524   \n",
            "std       0.399771     0.423742     0.440688     0.431793     0.373000   \n",
            "min      -0.939646    -0.932593    -0.912758    -0.900565    -0.947450   \n",
            "25%      -0.061562    -0.356938    -0.352135    -0.215506    -0.573915   \n",
            "50%       0.264402    -0.017166     0.015408     0.163903    -0.307201   \n",
            "75%       0.522823     0.332403     0.356239     0.466715    -0.015343   \n",
            "max       0.949777     0.923669     0.959360     0.968318     0.819935   \n",
            "\n",
            "               V25          V26          V27          V28       Amount  \n",
            "count  1000.000000  1000.000000  1000.000000  1000.000000  1000.000000  \n",
            "mean     -0.063546     0.168992     0.081710    -0.291978    -0.092742  \n",
            "std       0.386801     0.380891     0.401965     0.401408     0.431692  \n",
            "min      -0.926488    -0.854702    -0.901596    -0.978860    -0.938072  \n",
            "25%      -0.351574    -0.104920    -0.231530    -0.600023    -0.437734  \n",
            "50%      -0.072024     0.199310     0.099619    -0.348999    -0.109178  \n",
            "75%       0.243224     0.471272     0.391571    -0.031948     0.226731  \n",
            "max       0.839636     0.915372     0.958841     0.877701     0.906208  \n",
            "\n",
            "[8 rows x 30 columns]\n",
            "{'latent_dim': 41, 'learning_rate': 0.014461859732358131, 'n_critic': 1, 'batch_size': 66}\n"
          ]
        }
      ],
      "source": [
        "import optuna\n",
        "\n",
        "\n",
        "X_resampled, _ = load_and_preprocess_data()\n",
        "study = optuna.create_study(direction='maximize')\n",
        "\n",
        "# Modify the lambda function to only pass 'trial' to objective\n",
        "# and access X_resampled from the global scope within objective.\n",
        "study.optimize(lambda trial: objective(trial), n_trials=2)\n",
        "print(study.best_params)"
      ]
    },
    {
      "cell_type": "code",
      "execution_count": 33,
      "metadata": {
        "id": "d848XcqmcPOx"
      },
      "outputs": [],
      "source": [
        "import pandas as pd\n",
        "\n",
        "# Load the synthetic data\n",
        "synthetic_data = pd.read_csv('synthetic_data.csv')  # Save synthetic_df to a CSV earlier\n",
        "original_data = pd.read_csv('/Users/riyamathur/Downloads/creditcard.csv')\n",
        "\n",
        "# Combine synthetic data with original\n",
        "combined_data = pd.concat([original_data, synthetic_data], axis=0)\n",
        "\n",
        "# Shuffle the combined data\n",
        "combined_data = combined_data.sample(frac=1, random_state=42).reset_index(drop=True)\n",
        "\n",
        "# Drop rows with NaN values in 'Class' column before splitting\n",
        "combined_data.dropna(inplace=True)\n",
        "combined_data.to_csv('combined_creditcard_data.csv', index=False)\n"
      ]
    },
    {
      "cell_type": "code",
      "execution_count": 38,
      "metadata": {
        "id": "Y6PszsO1mLWj"
      },
      "outputs": [
        {
          "name": "stdout",
          "output_type": "stream",
          "text": [
            "Total fraud cases in test set: 98\n",
            "Total non-fraud cases in test set: 56864\n",
            "Sample fraud indices in X_test: [840, 1146, 3287, 4276, 5077]\n",
            "Sample non-fraud indices in X_test: [0, 1, 2, 3, 4]\n"
          ]
        }
      ],
      "source": [
        "# from sklearn.model_selection import train_test_split\n",
        "# from sklearn.preprocessing import MinMaxScaler\n",
        "# import numpy as np\n",
        "\n",
        "# # Extract features and labels\n",
        "# X = combined_data.drop(columns=['Class'])\n",
        "# y = combined_data['Class']\n",
        "\n",
        "# # Normalize features\n",
        "# scaler = MinMaxScaler()\n",
        "# X_scaled = scaler.fit_transform(X)\n",
        "\n",
        "# # Reshape for LSTM (samples, timesteps, features)\n",
        "# X_scaled = X_scaled.reshape((X_scaled.shape[0], 1, X_scaled.shape[1]))\n",
        "\n",
        "# # Split into train and test sets\n",
        "# X_train, X_test, y_train, y_test = train_test_split(X_scaled, y, test_size=0.2, random_state=42)\n",
        "\n",
        "from sklearn.model_selection import train_test_split\n",
        "from sklearn.preprocessing import MinMaxScaler\n",
        "import numpy as np\n",
        "\n",
        "# Extract features and labels\n",
        "X = combined_data.drop(columns=['Class'])\n",
        "y = combined_data['Class']\n",
        "\n",
        "# Normalize features\n",
        "scaler = MinMaxScaler()\n",
        "X_scaled = scaler.fit_transform(X)\n",
        "\n",
        "# Reshape for LSTM (samples, timesteps, features)\n",
        "X_scaled = X_scaled.reshape((X_scaled.shape[0], 1, X_scaled.shape[1]))\n",
        "\n",
        "# Keep track of original indices\n",
        "indices = np.arange(X_scaled.shape[0])\n",
        "\n",
        "# Split data and retain index mapping\n",
        "X_train, X_test, y_train, y_test, idx_train, idx_test = train_test_split(\n",
        "    X_scaled, y, indices, test_size=0.2, random_state=42, stratify=y)\n",
        "\n",
        "# Identify fraud and non-fraud indices in the test set\n",
        "fraud_indices_test = [i for i, idx in enumerate(idx_test) if y.iloc[idx] == 1]\n",
        "nonfraud_indices_test = [i for i, idx in enumerate(idx_test) if y.iloc[idx] == 0]\n",
        "\n",
        "print(\"Total fraud cases in test set:\", len(fraud_indices_test))\n",
        "print(\"Total non-fraud cases in test set:\", len(nonfraud_indices_test))\n",
        "print(\"Sample fraud indices in X_test:\", fraud_indices_test[:5])\n",
        "print(\"Sample non-fraud indices in X_test:\", nonfraud_indices_test[:5])\n"
      ]
    },
    {
      "cell_type": "code",
      "execution_count": 15,
      "metadata": {
        "colab": {
          "base_uri": "https://localhost:8080/"
        },
        "id": "8Y3aFQv_mPUK",
        "outputId": "88a5b85e-45fb-4462-c900-6257f8c2a242"
      },
      "outputs": [
        {
          "name": "stderr",
          "output_type": "stream",
          "text": [
            "2025-04-10 12:48:12.228971: I tensorflow/core/common_runtime/executor.cc:1197] [/device:CPU:0] (DEBUG INFO) Executor start aborting (this does not indicate an error and you can ignore this message): INVALID_ARGUMENT: You must feed a value for placeholder tensor 'gradients/split_2_grad/concat/split_2/split_dim' with dtype int32\n",
            "\t [[{{node gradients/split_2_grad/concat/split_2/split_dim}}]]\n",
            "2025-04-10 12:48:12.233832: I tensorflow/core/common_runtime/executor.cc:1197] [/device:CPU:0] (DEBUG INFO) Executor start aborting (this does not indicate an error and you can ignore this message): INVALID_ARGUMENT: You must feed a value for placeholder tensor 'gradients/split_grad/concat/split/split_dim' with dtype int32\n",
            "\t [[{{node gradients/split_grad/concat/split/split_dim}}]]\n",
            "2025-04-10 12:48:12.241085: I tensorflow/core/common_runtime/executor.cc:1197] [/device:CPU:0] (DEBUG INFO) Executor start aborting (this does not indicate an error and you can ignore this message): INVALID_ARGUMENT: You must feed a value for placeholder tensor 'gradients/split_1_grad/concat/split_1/split_dim' with dtype int32\n",
            "\t [[{{node gradients/split_1_grad/concat/split_1/split_dim}}]]\n",
            "2025-04-10 12:48:12.854519: I tensorflow/core/common_runtime/executor.cc:1197] [/device:CPU:0] (DEBUG INFO) Executor start aborting (this does not indicate an error and you can ignore this message): INVALID_ARGUMENT: You must feed a value for placeholder tensor 'gradients/split_2_grad/concat/split_2/split_dim' with dtype int32\n",
            "\t [[{{node gradients/split_2_grad/concat/split_2/split_dim}}]]\n",
            "2025-04-10 12:48:12.857798: I tensorflow/core/common_runtime/executor.cc:1197] [/device:CPU:0] (DEBUG INFO) Executor start aborting (this does not indicate an error and you can ignore this message): INVALID_ARGUMENT: You must feed a value for placeholder tensor 'gradients/split_grad/concat/split/split_dim' with dtype int32\n",
            "\t [[{{node gradients/split_grad/concat/split/split_dim}}]]\n",
            "2025-04-10 12:48:12.860110: I tensorflow/core/common_runtime/executor.cc:1197] [/device:CPU:0] (DEBUG INFO) Executor start aborting (this does not indicate an error and you can ignore this message): INVALID_ARGUMENT: You must feed a value for placeholder tensor 'gradients/split_1_grad/concat/split_1/split_dim' with dtype int32\n",
            "\t [[{{node gradients/split_1_grad/concat/split_1/split_dim}}]]\n"
          ]
        }
      ],
      "source": [
        "import tensorflow as tf\n",
        "from tensorflow.keras.models import Sequential\n",
        "from tensorflow.keras.layers import LSTM, Dense, Dropout\n",
        "\n",
        "def build_lstm(input_shape):\n",
        "    model = Sequential([\n",
        "        LSTM(64, input_shape=input_shape, return_sequences=True),\n",
        "        Dropout(0.2),\n",
        "        LSTM(32, return_sequences=False),\n",
        "        Dropout(0.2),\n",
        "        Dense(1, activation='sigmoid')  # Sigmoid for binary classification\n",
        "    ])\n",
        "    # The model needs to be compiled within the function\n",
        "    model.compile(\n",
        "        loss='binary_crossentropy',\n",
        "        optimizer='adam',\n",
        "        metrics=[\n",
        "            'accuracy',\n",
        "            tf.keras.metrics.Recall(name='recall'),\n",
        "            tf.keras.metrics.AUC(name='auc', curve='ROC'),\n",
        "            tf.keras.metrics.AUC(name='prc', curve='PR'), \n",
        "        ]\n",
        "    )\n",
        "    return model\n",
        "\n",
        "input_shape = (X_train.shape[1], X_train.shape[2])\n",
        "lstm_model = build_lstm(input_shape)"
      ]
    },
    {
      "cell_type": "code",
      "execution_count": 16,
      "metadata": {
        "colab": {
          "background_save": true,
          "base_uri": "https://localhost:8080/"
        },
        "id": "UYFHSdKbmVLL",
        "outputId": "a58e15f7-e4e3-430c-964b-aeac7968b85e"
      },
      "outputs": [
        {
          "name": "stdout",
          "output_type": "stream",
          "text": [
            "Epoch 1/50\n"
          ]
        },
        {
          "name": "stderr",
          "output_type": "stream",
          "text": [
            "2025-04-10 12:48:30.169858: I tensorflow/core/common_runtime/executor.cc:1197] [/device:CPU:0] (DEBUG INFO) Executor start aborting (this does not indicate an error and you can ignore this message): INVALID_ARGUMENT: You must feed a value for placeholder tensor 'gradients/split_2_grad/concat/split_2/split_dim' with dtype int32\n",
            "\t [[{{node gradients/split_2_grad/concat/split_2/split_dim}}]]\n",
            "2025-04-10 12:48:30.173331: I tensorflow/core/common_runtime/executor.cc:1197] [/device:CPU:0] (DEBUG INFO) Executor start aborting (this does not indicate an error and you can ignore this message): INVALID_ARGUMENT: You must feed a value for placeholder tensor 'gradients/split_grad/concat/split/split_dim' with dtype int32\n",
            "\t [[{{node gradients/split_grad/concat/split/split_dim}}]]\n",
            "2025-04-10 12:48:30.175676: I tensorflow/core/common_runtime/executor.cc:1197] [/device:CPU:0] (DEBUG INFO) Executor start aborting (this does not indicate an error and you can ignore this message): INVALID_ARGUMENT: You must feed a value for placeholder tensor 'gradients/split_1_grad/concat/split_1/split_dim' with dtype int32\n",
            "\t [[{{node gradients/split_1_grad/concat/split_1/split_dim}}]]\n",
            "2025-04-10 12:48:31.088623: I tensorflow/core/common_runtime/executor.cc:1197] [/device:CPU:0] (DEBUG INFO) Executor start aborting (this does not indicate an error and you can ignore this message): INVALID_ARGUMENT: You must feed a value for placeholder tensor 'gradients/split_2_grad/concat/split_2/split_dim' with dtype int32\n",
            "\t [[{{node gradients/split_2_grad/concat/split_2/split_dim}}]]\n",
            "2025-04-10 12:48:31.091938: I tensorflow/core/common_runtime/executor.cc:1197] [/device:CPU:0] (DEBUG INFO) Executor start aborting (this does not indicate an error and you can ignore this message): INVALID_ARGUMENT: You must feed a value for placeholder tensor 'gradients/split_grad/concat/split/split_dim' with dtype int32\n",
            "\t [[{{node gradients/split_grad/concat/split/split_dim}}]]\n",
            "2025-04-10 12:48:31.094437: I tensorflow/core/common_runtime/executor.cc:1197] [/device:CPU:0] (DEBUG INFO) Executor start aborting (this does not indicate an error and you can ignore this message): INVALID_ARGUMENT: You must feed a value for placeholder tensor 'gradients/split_1_grad/concat/split_1/split_dim' with dtype int32\n",
            "\t [[{{node gradients/split_1_grad/concat/split_1/split_dim}}]]\n",
            "2025-04-10 12:48:33.206639: I tensorflow/core/common_runtime/executor.cc:1197] [/device:CPU:0] (DEBUG INFO) Executor start aborting (this does not indicate an error and you can ignore this message): INVALID_ARGUMENT: You must feed a value for placeholder tensor 'gradients/split_2_grad/concat/split_2/split_dim' with dtype int32\n",
            "\t [[{{node gradients/split_2_grad/concat/split_2/split_dim}}]]\n",
            "2025-04-10 12:48:33.213082: I tensorflow/core/common_runtime/executor.cc:1197] [/device:CPU:0] (DEBUG INFO) Executor start aborting (this does not indicate an error and you can ignore this message): INVALID_ARGUMENT: You must feed a value for placeholder tensor 'gradients/split_grad/concat/split/split_dim' with dtype int32\n",
            "\t [[{{node gradients/split_grad/concat/split/split_dim}}]]\n",
            "2025-04-10 12:48:33.216885: I tensorflow/core/common_runtime/executor.cc:1197] [/device:CPU:0] (DEBUG INFO) Executor start aborting (this does not indicate an error and you can ignore this message): INVALID_ARGUMENT: You must feed a value for placeholder tensor 'gradients/split_1_grad/concat/split_1/split_dim' with dtype int32\n",
            "\t [[{{node gradients/split_1_grad/concat/split_1/split_dim}}]]\n",
            "2025-04-10 12:48:33.725830: I tensorflow/core/common_runtime/executor.cc:1197] [/device:CPU:0] (DEBUG INFO) Executor start aborting (this does not indicate an error and you can ignore this message): INVALID_ARGUMENT: You must feed a value for placeholder tensor 'gradients/split_2_grad/concat/split_2/split_dim' with dtype int32\n",
            "\t [[{{node gradients/split_2_grad/concat/split_2/split_dim}}]]\n",
            "2025-04-10 12:48:33.729027: I tensorflow/core/common_runtime/executor.cc:1197] [/device:CPU:0] (DEBUG INFO) Executor start aborting (this does not indicate an error and you can ignore this message): INVALID_ARGUMENT: You must feed a value for placeholder tensor 'gradients/split_grad/concat/split/split_dim' with dtype int32\n",
            "\t [[{{node gradients/split_grad/concat/split/split_dim}}]]\n",
            "2025-04-10 12:48:33.731271: I tensorflow/core/common_runtime/executor.cc:1197] [/device:CPU:0] (DEBUG INFO) Executor start aborting (this does not indicate an error and you can ignore this message): INVALID_ARGUMENT: You must feed a value for placeholder tensor 'gradients/split_1_grad/concat/split_1/split_dim' with dtype int32\n",
            "\t [[{{node gradients/split_1_grad/concat/split_1/split_dim}}]]\n"
          ]
        },
        {
          "name": "stdout",
          "output_type": "stream",
          "text": [
            "3558/3561 [============================>.] - ETA: 0s - loss: 0.0143 - accuracy: 0.9986 - recall: 0.2417 - auc: 0.7429 - prc: 0.2183"
          ]
        },
        {
          "name": "stderr",
          "output_type": "stream",
          "text": [
            "2025-04-10 12:49:02.870339: I tensorflow/core/common_runtime/executor.cc:1197] [/device:CPU:0] (DEBUG INFO) Executor start aborting (this does not indicate an error and you can ignore this message): INVALID_ARGUMENT: You must feed a value for placeholder tensor 'gradients/split_2_grad/concat/split_2/split_dim' with dtype int32\n",
            "\t [[{{node gradients/split_2_grad/concat/split_2/split_dim}}]]\n",
            "2025-04-10 12:49:02.873146: I tensorflow/core/common_runtime/executor.cc:1197] [/device:CPU:0] (DEBUG INFO) Executor start aborting (this does not indicate an error and you can ignore this message): INVALID_ARGUMENT: You must feed a value for placeholder tensor 'gradients/split_grad/concat/split/split_dim' with dtype int32\n",
            "\t [[{{node gradients/split_grad/concat/split/split_dim}}]]\n",
            "2025-04-10 12:49:02.875534: I tensorflow/core/common_runtime/executor.cc:1197] [/device:CPU:0] (DEBUG INFO) Executor start aborting (this does not indicate an error and you can ignore this message): INVALID_ARGUMENT: You must feed a value for placeholder tensor 'gradients/split_1_grad/concat/split_1/split_dim' with dtype int32\n",
            "\t [[{{node gradients/split_1_grad/concat/split_1/split_dim}}]]\n",
            "2025-04-10 12:49:03.240167: I tensorflow/core/common_runtime/executor.cc:1197] [/device:CPU:0] (DEBUG INFO) Executor start aborting (this does not indicate an error and you can ignore this message): INVALID_ARGUMENT: You must feed a value for placeholder tensor 'gradients/split_2_grad/concat/split_2/split_dim' with dtype int32\n",
            "\t [[{{node gradients/split_2_grad/concat/split_2/split_dim}}]]\n",
            "2025-04-10 12:49:03.243422: I tensorflow/core/common_runtime/executor.cc:1197] [/device:CPU:0] (DEBUG INFO) Executor start aborting (this does not indicate an error and you can ignore this message): INVALID_ARGUMENT: You must feed a value for placeholder tensor 'gradients/split_grad/concat/split/split_dim' with dtype int32\n",
            "\t [[{{node gradients/split_grad/concat/split/split_dim}}]]\n",
            "2025-04-10 12:49:03.245642: I tensorflow/core/common_runtime/executor.cc:1197] [/device:CPU:0] (DEBUG INFO) Executor start aborting (this does not indicate an error and you can ignore this message): INVALID_ARGUMENT: You must feed a value for placeholder tensor 'gradients/split_1_grad/concat/split_1/split_dim' with dtype int32\n",
            "\t [[{{node gradients/split_1_grad/concat/split_1/split_dim}}]]\n"
          ]
        },
        {
          "name": "stdout",
          "output_type": "stream",
          "text": [
            "3561/3561 [==============================] - 37s 8ms/step - loss: 0.0143 - accuracy: 0.9986 - recall: 0.2411 - auc: 0.7422 - prc: 0.2178 - val_loss: 0.0028 - val_accuracy: 0.9995 - val_recall: 0.8673 - val_auc: 0.9486 - val_prc: 0.7943\n",
            "Epoch 2/50\n",
            "3561/3561 [==============================] - 28s 8ms/step - loss: 0.0043 - accuracy: 0.9992 - recall: 0.6777 - auc: 0.9035 - prc: 0.6695 - val_loss: 0.0026 - val_accuracy: 0.9995 - val_recall: 0.8571 - val_auc: 0.9488 - val_prc: 0.8008\n",
            "Epoch 3/50\n",
            "3561/3561 [==============================] - 30s 8ms/step - loss: 0.0041 - accuracy: 0.9993 - recall: 0.7056 - auc: 0.9087 - prc: 0.6869 - val_loss: 0.0025 - val_accuracy: 0.9995 - val_recall: 0.8571 - val_auc: 0.9488 - val_prc: 0.7972\n",
            "Epoch 4/50\n",
            "3561/3561 [==============================] - 27s 8ms/step - loss: 0.0040 - accuracy: 0.9993 - recall: 0.7132 - auc: 0.9152 - prc: 0.6902 - val_loss: 0.0033 - val_accuracy: 0.9993 - val_recall: 0.7143 - val_auc: 0.9336 - val_prc: 0.7621\n",
            "Epoch 5/50\n",
            "3561/3561 [==============================] - 28s 8ms/step - loss: 0.0040 - accuracy: 0.9993 - recall: 0.7310 - auc: 0.9052 - prc: 0.6822 - val_loss: 0.0028 - val_accuracy: 0.9994 - val_recall: 0.8980 - val_auc: 0.9486 - val_prc: 0.7786\n",
            "Epoch 6/50\n",
            "3561/3561 [==============================] - 30s 8ms/step - loss: 0.0040 - accuracy: 0.9993 - recall: 0.7284 - auc: 0.9091 - prc: 0.6847 - val_loss: 0.0027 - val_accuracy: 0.9995 - val_recall: 0.8878 - val_auc: 0.9486 - val_prc: 0.7835\n",
            "Epoch 7/50\n",
            "3561/3561 [==============================] - 29s 8ms/step - loss: 0.0038 - accuracy: 0.9993 - recall: 0.7310 - auc: 0.9192 - prc: 0.6892 - val_loss: 0.0025 - val_accuracy: 0.9995 - val_recall: 0.8571 - val_auc: 0.9488 - val_prc: 0.8151\n",
            "Epoch 8/50\n",
            "3561/3561 [==============================] - 30s 8ms/step - loss: 0.0038 - accuracy: 0.9992 - recall: 0.7208 - auc: 0.9204 - prc: 0.7068 - val_loss: 0.0039 - val_accuracy: 0.9993 - val_recall: 0.8980 - val_auc: 0.9476 - val_prc: 0.7185\n",
            "Epoch 9/50\n",
            "3561/3561 [==============================] - 30s 9ms/step - loss: 0.0038 - accuracy: 0.9993 - recall: 0.7360 - auc: 0.9192 - prc: 0.7166 - val_loss: 0.0026 - val_accuracy: 0.9995 - val_recall: 0.8878 - val_auc: 0.9487 - val_prc: 0.7880\n",
            "Epoch 10/50\n",
            "3561/3561 [==============================] - 33s 9ms/step - loss: 0.0038 - accuracy: 0.9993 - recall: 0.7437 - auc: 0.9179 - prc: 0.7137 - val_loss: 0.0025 - val_accuracy: 0.9995 - val_recall: 0.8776 - val_auc: 0.9488 - val_prc: 0.7960\n",
            "Epoch 11/50\n",
            "3561/3561 [==============================] - 31s 9ms/step - loss: 0.0039 - accuracy: 0.9993 - recall: 0.7259 - auc: 0.9154 - prc: 0.6992 - val_loss: 0.0025 - val_accuracy: 0.9995 - val_recall: 0.8673 - val_auc: 0.9488 - val_prc: 0.8117\n",
            "Epoch 12/50\n",
            "3561/3561 [==============================] - 22s 6ms/step - loss: 0.0037 - accuracy: 0.9993 - recall: 0.7411 - auc: 0.9205 - prc: 0.7086 - val_loss: 0.0026 - val_accuracy: 0.9995 - val_recall: 0.8980 - val_auc: 0.9487 - val_prc: 0.7888\n",
            "Epoch 13/50\n",
            "3561/3561 [==============================] - 22s 6ms/step - loss: 0.0037 - accuracy: 0.9993 - recall: 0.7386 - auc: 0.9217 - prc: 0.7005 - val_loss: 0.0025 - val_accuracy: 0.9995 - val_recall: 0.8673 - val_auc: 0.9488 - val_prc: 0.8112\n",
            "Epoch 14/50\n",
            "3561/3561 [==============================] - 21s 6ms/step - loss: 0.0036 - accuracy: 0.9993 - recall: 0.7437 - auc: 0.9255 - prc: 0.6997 - val_loss: 0.0029 - val_accuracy: 0.9995 - val_recall: 0.8980 - val_auc: 0.9482 - val_prc: 0.8035\n",
            "Epoch 15/50\n",
            "3561/3561 [==============================] - 22s 6ms/step - loss: 0.0036 - accuracy: 0.9993 - recall: 0.7411 - auc: 0.9141 - prc: 0.7186 - val_loss: 0.0026 - val_accuracy: 0.9995 - val_recall: 0.8571 - val_auc: 0.9489 - val_prc: 0.8296\n",
            "Epoch 16/50\n",
            "3561/3561 [==============================] - 27s 8ms/step - loss: 0.0037 - accuracy: 0.9993 - recall: 0.7411 - auc: 0.9229 - prc: 0.7030 - val_loss: 0.0025 - val_accuracy: 0.9996 - val_recall: 0.8980 - val_auc: 0.9486 - val_prc: 0.7999\n",
            "Epoch 17/50\n",
            "3561/3561 [==============================] - 27s 8ms/step - loss: 0.0036 - accuracy: 0.9993 - recall: 0.7462 - auc: 0.9268 - prc: 0.7166 - val_loss: 0.0025 - val_accuracy: 0.9996 - val_recall: 0.8776 - val_auc: 0.9488 - val_prc: 0.8224\n",
            "Epoch 18/50\n",
            "3561/3561 [==============================] - 22s 6ms/step - loss: 0.0036 - accuracy: 0.9994 - recall: 0.7563 - auc: 0.9217 - prc: 0.7318 - val_loss: 0.0025 - val_accuracy: 0.9996 - val_recall: 0.8776 - val_auc: 0.9488 - val_prc: 0.8090\n",
            "Epoch 19/50\n",
            "3561/3561 [==============================] - 30s 9ms/step - loss: 0.0036 - accuracy: 0.9993 - recall: 0.7462 - auc: 0.9242 - prc: 0.7368 - val_loss: 0.0028 - val_accuracy: 0.9995 - val_recall: 0.8571 - val_auc: 0.9534 - val_prc: 0.8381\n",
            "Epoch 20/50\n",
            "3561/3561 [==============================] - 34s 10ms/step - loss: 0.0035 - accuracy: 0.9993 - recall: 0.7487 - auc: 0.9254 - prc: 0.7413 - val_loss: 0.0025 - val_accuracy: 0.9996 - val_recall: 0.8878 - val_auc: 0.9488 - val_prc: 0.8072\n",
            "Epoch 21/50\n",
            "3561/3561 [==============================] - 31s 9ms/step - loss: 0.0036 - accuracy: 0.9993 - recall: 0.7462 - auc: 0.9280 - prc: 0.7533 - val_loss: 0.0025 - val_accuracy: 0.9996 - val_recall: 0.8878 - val_auc: 0.9486 - val_prc: 0.8077\n",
            "Epoch 22/50\n",
            "3561/3561 [==============================] - 29s 8ms/step - loss: 0.0036 - accuracy: 0.9993 - recall: 0.7360 - auc: 0.9230 - prc: 0.7388 - val_loss: 0.0025 - val_accuracy: 0.9995 - val_recall: 0.8980 - val_auc: 0.9488 - val_prc: 0.7898\n",
            "Epoch 23/50\n",
            "3561/3561 [==============================] - 29s 8ms/step - loss: 0.0035 - accuracy: 0.9994 - recall: 0.7589 - auc: 0.9255 - prc: 0.7475 - val_loss: 0.0024 - val_accuracy: 0.9995 - val_recall: 0.8571 - val_auc: 0.9488 - val_prc: 0.8201\n",
            "Epoch 24/50\n",
            "3561/3561 [==============================] - 31s 9ms/step - loss: 0.0036 - accuracy: 0.9993 - recall: 0.7360 - auc: 0.9241 - prc: 0.7582 - val_loss: 0.0025 - val_accuracy: 0.9996 - val_recall: 0.8980 - val_auc: 0.9487 - val_prc: 0.8001\n",
            "Epoch 25/50\n",
            "3561/3561 [==============================] - 29s 8ms/step - loss: 0.0034 - accuracy: 0.9994 - recall: 0.7487 - auc: 0.9306 - prc: 0.7478 - val_loss: 0.0032 - val_accuracy: 0.9995 - val_recall: 0.8673 - val_auc: 0.9566 - val_prc: 0.8446\n",
            "Epoch 26/50\n",
            "3561/3561 [==============================] - 28s 8ms/step - loss: 0.0035 - accuracy: 0.9994 - recall: 0.7614 - auc: 0.9291 - prc: 0.7609 - val_loss: 0.0026 - val_accuracy: 0.9995 - val_recall: 0.8469 - val_auc: 0.9489 - val_prc: 0.8382\n",
            "Epoch 27/50\n",
            "3561/3561 [==============================] - 38s 11ms/step - loss: 0.0036 - accuracy: 0.9994 - recall: 0.7487 - auc: 0.9217 - prc: 0.7639 - val_loss: 0.0026 - val_accuracy: 0.9995 - val_recall: 0.8571 - val_auc: 0.9534 - val_prc: 0.8563\n",
            "Epoch 28/50\n",
            "3561/3561 [==============================] - 41s 12ms/step - loss: 0.0035 - accuracy: 0.9994 - recall: 0.7538 - auc: 0.9267 - prc: 0.7671 - val_loss: 0.0026 - val_accuracy: 0.9995 - val_recall: 0.8980 - val_auc: 0.9487 - val_prc: 0.8071\n",
            "Epoch 29/50\n",
            "3561/3561 [==============================] - 32s 9ms/step - loss: 0.0035 - accuracy: 0.9993 - recall: 0.7538 - auc: 0.9256 - prc: 0.7608 - val_loss: 0.0024 - val_accuracy: 0.9996 - val_recall: 0.8878 - val_auc: 0.9488 - val_prc: 0.8345\n",
            "Epoch 30/50\n",
            "3561/3561 [==============================] - 29s 8ms/step - loss: 0.0035 - accuracy: 0.9994 - recall: 0.7589 - auc: 0.9218 - prc: 0.7692 - val_loss: 0.0024 - val_accuracy: 0.9996 - val_recall: 0.8878 - val_auc: 0.9488 - val_prc: 0.8381\n",
            "Epoch 31/50\n",
            "3561/3561 [==============================] - 28s 8ms/step - loss: 0.0035 - accuracy: 0.9993 - recall: 0.7386 - auc: 0.9280 - prc: 0.7574 - val_loss: 0.0024 - val_accuracy: 0.9996 - val_recall: 0.8980 - val_auc: 0.9486 - val_prc: 0.8359\n",
            "Epoch 32/50\n",
            "3561/3561 [==============================] - 29s 8ms/step - loss: 0.0034 - accuracy: 0.9993 - recall: 0.7360 - auc: 0.9368 - prc: 0.7746 - val_loss: 0.0025 - val_accuracy: 0.9995 - val_recall: 0.8980 - val_auc: 0.9488 - val_prc: 0.8227\n",
            "Epoch 33/50\n",
            "3561/3561 [==============================] - 29s 8ms/step - loss: 0.0034 - accuracy: 0.9993 - recall: 0.7513 - auc: 0.9281 - prc: 0.7700 - val_loss: 0.0026 - val_accuracy: 0.9996 - val_recall: 0.8980 - val_auc: 0.9484 - val_prc: 0.8296\n",
            "Epoch 34/50\n",
            "3561/3561 [==============================] - 39s 11ms/step - loss: 0.0033 - accuracy: 0.9994 - recall: 0.7487 - auc: 0.9294 - prc: 0.7794 - val_loss: 0.0025 - val_accuracy: 0.9995 - val_recall: 0.8571 - val_auc: 0.9489 - val_prc: 0.8487\n",
            "Epoch 35/50\n",
            "3561/3561 [==============================] - 33s 9ms/step - loss: 0.0034 - accuracy: 0.9994 - recall: 0.7589 - auc: 0.9243 - prc: 0.7755 - val_loss: 0.0025 - val_accuracy: 0.9996 - val_recall: 0.8367 - val_auc: 0.9488 - val_prc: 0.8367\n",
            "Epoch 36/50\n",
            "3561/3561 [==============================] - 30s 8ms/step - loss: 0.0034 - accuracy: 0.9994 - recall: 0.7538 - auc: 0.9267 - prc: 0.7733 - val_loss: 0.0026 - val_accuracy: 0.9994 - val_recall: 0.7857 - val_auc: 0.9485 - val_prc: 0.8546\n",
            "Epoch 37/50\n",
            "3561/3561 [==============================] - 33s 9ms/step - loss: 0.0034 - accuracy: 0.9993 - recall: 0.7386 - auc: 0.9293 - prc: 0.7757 - val_loss: 0.0025 - val_accuracy: 0.9996 - val_recall: 0.8980 - val_auc: 0.9485 - val_prc: 0.8547\n",
            "Epoch 38/50\n",
            "3561/3561 [==============================] - 28s 8ms/step - loss: 0.0034 - accuracy: 0.9994 - recall: 0.7513 - auc: 0.9229 - prc: 0.7576 - val_loss: 0.0029 - val_accuracy: 0.9994 - val_recall: 0.7143 - val_auc: 0.9336 - val_prc: 0.8335\n",
            "Epoch 39/50\n",
            "3561/3561 [==============================] - 34s 10ms/step - loss: 0.0034 - accuracy: 0.9993 - recall: 0.7360 - auc: 0.9318 - prc: 0.7741 - val_loss: 0.0026 - val_accuracy: 0.9995 - val_recall: 0.8061 - val_auc: 0.9486 - val_prc: 0.8562\n",
            "Epoch 40/50\n",
            "3561/3561 [==============================] - 31s 9ms/step - loss: 0.0034 - accuracy: 0.9994 - recall: 0.7386 - auc: 0.9281 - prc: 0.7809 - val_loss: 0.0025 - val_accuracy: 0.9994 - val_recall: 0.8265 - val_auc: 0.9487 - val_prc: 0.8418\n",
            "Epoch 41/50\n",
            "3561/3561 [==============================] - 28s 8ms/step - loss: 0.0034 - accuracy: 0.9993 - recall: 0.7310 - auc: 0.9331 - prc: 0.7798 - val_loss: 0.0024 - val_accuracy: 0.9996 - val_recall: 0.8980 - val_auc: 0.9488 - val_prc: 0.8509\n",
            "Epoch 42/50\n",
            "3561/3561 [==============================] - 26s 7ms/step - loss: 0.0034 - accuracy: 0.9994 - recall: 0.7462 - auc: 0.9281 - prc: 0.7736 - val_loss: 0.0024 - val_accuracy: 0.9996 - val_recall: 0.8980 - val_auc: 0.9488 - val_prc: 0.8550\n",
            "Epoch 43/50\n",
            "3561/3561 [==============================] - 28s 8ms/step - loss: 0.0033 - accuracy: 0.9994 - recall: 0.7538 - auc: 0.9344 - prc: 0.7954 - val_loss: 0.0026 - val_accuracy: 0.9995 - val_recall: 0.7959 - val_auc: 0.9488 - val_prc: 0.8361\n",
            "Epoch 44/50\n",
            "3561/3561 [==============================] - 30s 8ms/step - loss: 0.0033 - accuracy: 0.9994 - recall: 0.7437 - auc: 0.9255 - prc: 0.7855 - val_loss: 0.0024 - val_accuracy: 0.9996 - val_recall: 0.8878 - val_auc: 0.9488 - val_prc: 0.8547\n",
            "Epoch 45/50\n",
            "3561/3561 [==============================] - 28s 8ms/step - loss: 0.0033 - accuracy: 0.9994 - recall: 0.7563 - auc: 0.9305 - prc: 0.7870 - val_loss: 0.0024 - val_accuracy: 0.9996 - val_recall: 0.8878 - val_auc: 0.9488 - val_prc: 0.8654\n",
            "Epoch 46/50\n",
            "3561/3561 [==============================] - 28s 8ms/step - loss: 0.0034 - accuracy: 0.9994 - recall: 0.7462 - auc: 0.9294 - prc: 0.7813 - val_loss: 0.0027 - val_accuracy: 0.9995 - val_recall: 0.8980 - val_auc: 0.9532 - val_prc: 0.8584\n",
            "Epoch 47/50\n",
            "3561/3561 [==============================] - 29s 8ms/step - loss: 0.0033 - accuracy: 0.9994 - recall: 0.7538 - auc: 0.9344 - prc: 0.7845 - val_loss: 0.0026 - val_accuracy: 0.9995 - val_recall: 0.8163 - val_auc: 0.9484 - val_prc: 0.8451\n",
            "Epoch 48/50\n",
            "3561/3561 [==============================] - 28s 8ms/step - loss: 0.0034 - accuracy: 0.9994 - recall: 0.7411 - auc: 0.9255 - prc: 0.7788 - val_loss: 0.0023 - val_accuracy: 0.9996 - val_recall: 0.8878 - val_auc: 0.9488 - val_prc: 0.8665\n",
            "Epoch 49/50\n",
            "3561/3561 [==============================] - 28s 8ms/step - loss: 0.0033 - accuracy: 0.9994 - recall: 0.7563 - auc: 0.9280 - prc: 0.7879 - val_loss: 0.0024 - val_accuracy: 0.9996 - val_recall: 0.8878 - val_auc: 0.9488 - val_prc: 0.8662\n",
            "Epoch 50/50\n",
            "3561/3561 [==============================] - 28s 8ms/step - loss: 0.0033 - accuracy: 0.9994 - recall: 0.7487 - auc: 0.9319 - prc: 0.7823 - val_loss: 0.0026 - val_accuracy: 0.9995 - val_recall: 0.8163 - val_auc: 0.9485 - val_prc: 0.8491\n"
          ]
        }
      ],
      "source": [
        "# Train the model\n",
        "history = lstm_model.fit(X_train, y_train,\n",
        "                         epochs=50,\n",
        "                         batch_size=64,\n",
        "                         validation_data=(X_test, y_test))\n",
        "\n",
        "# Save the trained LSTM model\n",
        "lstm_model.save('lstm_fraud_detection.h5')\n"
      ]
    },
    {
      "cell_type": "code",
      "execution_count": 17,
      "metadata": {
        "colab": {
          "base_uri": "https://localhost:8080/"
        },
        "id": "ksqbTgAnohRW",
        "outputId": "f0a0a31a-ae2b-4b23-b275-876556d37cad"
      },
      "outputs": [
        {
          "name": "stderr",
          "output_type": "stream",
          "text": [
            "2025-04-10 13:13:20.969009: I tensorflow/core/common_runtime/executor.cc:1197] [/device:CPU:0] (DEBUG INFO) Executor start aborting (this does not indicate an error and you can ignore this message): INVALID_ARGUMENT: You must feed a value for placeholder tensor 'gradients/split_2_grad/concat/split_2/split_dim' with dtype int32\n",
            "\t [[{{node gradients/split_2_grad/concat/split_2/split_dim}}]]\n",
            "2025-04-10 13:13:20.972905: I tensorflow/core/common_runtime/executor.cc:1197] [/device:CPU:0] (DEBUG INFO) Executor start aborting (this does not indicate an error and you can ignore this message): INVALID_ARGUMENT: You must feed a value for placeholder tensor 'gradients/split_grad/concat/split/split_dim' with dtype int32\n",
            "\t [[{{node gradients/split_grad/concat/split/split_dim}}]]\n",
            "2025-04-10 13:13:20.979785: I tensorflow/core/common_runtime/executor.cc:1197] [/device:CPU:0] (DEBUG INFO) Executor start aborting (this does not indicate an error and you can ignore this message): INVALID_ARGUMENT: You must feed a value for placeholder tensor 'gradients/split_1_grad/concat/split_1/split_dim' with dtype int32\n",
            "\t [[{{node gradients/split_1_grad/concat/split_1/split_dim}}]]\n",
            "2025-04-10 13:13:21.850861: I tensorflow/core/common_runtime/executor.cc:1197] [/device:CPU:0] (DEBUG INFO) Executor start aborting (this does not indicate an error and you can ignore this message): INVALID_ARGUMENT: You must feed a value for placeholder tensor 'gradients/split_2_grad/concat/split_2/split_dim' with dtype int32\n",
            "\t [[{{node gradients/split_2_grad/concat/split_2/split_dim}}]]\n",
            "2025-04-10 13:13:21.854321: I tensorflow/core/common_runtime/executor.cc:1197] [/device:CPU:0] (DEBUG INFO) Executor start aborting (this does not indicate an error and you can ignore this message): INVALID_ARGUMENT: You must feed a value for placeholder tensor 'gradients/split_grad/concat/split/split_dim' with dtype int32\n",
            "\t [[{{node gradients/split_grad/concat/split/split_dim}}]]\n",
            "2025-04-10 13:13:21.856351: I tensorflow/core/common_runtime/executor.cc:1197] [/device:CPU:0] (DEBUG INFO) Executor start aborting (this does not indicate an error and you can ignore this message): INVALID_ARGUMENT: You must feed a value for placeholder tensor 'gradients/split_1_grad/concat/split_1/split_dim' with dtype int32\n",
            "\t [[{{node gradients/split_1_grad/concat/split_1/split_dim}}]]\n"
          ]
        },
        {
          "name": "stdout",
          "output_type": "stream",
          "text": [
            "1781/1781 [==============================] - 8s 3ms/step\n",
            "Classification Report:\n",
            "              precision    recall  f1-score   support\n",
            "\n",
            "         0.0       1.00      1.00      1.00     56864\n",
            "         1.0       0.87      0.82      0.84        98\n",
            "\n",
            "    accuracy                           1.00     56962\n",
            "   macro avg       0.93      0.91      0.92     56962\n",
            "weighted avg       1.00      1.00      1.00     56962\n",
            "\n",
            "Accuracy: 0.999473\n",
            "1781/1781 [==============================] - 5s 3ms/step\n",
            "AUC: 0.964573\n",
            "MCC: 0.842263\n",
            "Confusion Matrix: TN=56852, FP=12, FN=18, TP=80\n",
            "Recall: 0.816327\n",
            "Type 2 Error (False Negatives): 18\n",
            "Precision: 0.869565\n",
            "Frequency of Positive Class: 0.001720\n"
          ]
        }
      ],
      "source": [
        "from sklearn.metrics import classification_report, roc_auc_score, matthews_corrcoef, confusion_matrix, accuracy_score\n",
        "\n",
        "# Predict on the test set\n",
        "y_pred = (lstm_model.predict(X_test) > 0.5).astype(int)\n",
        "\n",
        "# Classification report for precision, recall, F1-score\n",
        "print(\"Classification Report:\")\n",
        "print(classification_report(y_test, y_pred))\n",
        "\n",
        "# Accuracy\n",
        "accuracy = accuracy_score(y_test, y_pred)\n",
        "print(f\"Accuracy: {accuracy:.6f}\")\n",
        "\n",
        "# AUC (use predicted probabilities)\n",
        "y_probs = lstm_model.predict(X_test)  # Predicted probabilities\n",
        "auc = roc_auc_score(y_test, y_probs)\n",
        "print(f\"AUC: {auc:.6f}\")\n",
        "\n",
        "# MCC (Matthews Correlation Coefficient)\n",
        "mcc = matthews_corrcoef(y_test, y_pred)\n",
        "print(f\"MCC: {mcc:.6f}\")\n",
        "\n",
        "# Confusion matrix to derive Type 2 error and other metrics\n",
        "tn, fp, fn, tp = confusion_matrix(y_test, y_pred).ravel()\n",
        "print(f\"Confusion Matrix: TN={tn}, FP={fp}, FN={fn}, TP={tp}\")\n",
        "\n",
        "# Recall (already in classification report, but recalculated for clarity)\n",
        "recall = tp / (tp + fn)  # Recall = TP / (TP + FN)\n",
        "print(f\"Recall: {recall:.6f}\")\n",
        "\n",
        "# Type 2 Error (False Negatives)\n",
        "type_2_error = fn\n",
        "print(f\"Type 2 Error (False Negatives): {type_2_error}\")\n",
        "\n",
        "# Precision (already in classification report, but recalculated for clarity)\n",
        "precision = tp / (tp + fp)  # Precision = TP / (TP + FP)\n",
        "print(f\"Precision: {precision:.6f}\")\n",
        "\n",
        "# Frequency (percentage of positive cases in the dataset)\n",
        "frequency = sum(y_test) / len(y_test)  # Assuming y_test is binary\n",
        "print(f\"Frequency of Positive Class: {frequency:.6f}\")\n"
      ]
    },
    {
      "cell_type": "code",
      "execution_count": null,
      "metadata": {
        "colab": {
          "base_uri": "https://localhost:8080/"
        },
        "id": "8gzxeFz4rN4R",
        "outputId": "2d913894-8e8f-46c1-91b8-432209543047"
      },
      "outputs": [
        {
          "name": "stdout",
          "output_type": "stream",
          "text": [
            "      Model  Accuracy  Precision    Recall       AUC       MCC  \\\n",
            "0      LSTM  0.941783   0.999203  0.884282  0.988916  0.889470   \n",
            "1  GAN+LSTM  0.997739   0.750000  0.857143  0.995465  0.800669   \n",
            "\n",
            "                     Confusion Matrix  Type 2 Error (False Negatives)  \n",
            "0  TN=25496, FP=18, FN=2953, TP=22566                            2953  \n",
            "1          TN=3953, FP=6, FN=3, TP=18                               3  \n"
          ]
        }
      ],
      "source": [
        "import pandas as pd\n",
        "\n",
        "# Metrics for LSTM model (replace with your actual values)\n",
        "lstm_metrics = {\n",
        "    \"Model\": \"LSTM\",\n",
        "    \"Accuracy\": 0.941783,\n",
        "    \"Precision\": 0.999203,\n",
        "    \"Recall\": 0.884282,\n",
        "    \"AUC\": 0.988916,\n",
        "    \"MCC\": 0.889470,\n",
        "    \"Confusion Matrix\": \"TN=25496, FP=18, FN=2953, TP=22566\",\n",
        "    \"Type 2 Error (False Negatives)\": 2953\n",
        "}\n",
        "\n",
        "# Metrics for GAN+LSTM model (replace with your actual values)\n",
        "gan_lstm_metrics = {\n",
        "    \"Model\": \"GAN+LSTM\",\n",
        "    \"Accuracy\": 0.997739,\n",
        "    \"Precision\": 0.750000,\n",
        "    \"Recall\": 0.857143,\n",
        "    \"AUC\": 0.995465,\n",
        "    \"MCC\": 0.800669,\n",
        "    \"Confusion Matrix\": \"TN=3953, FP=6, FN=3, TP=18\",\n",
        "    \"Type 2 Error (False Negatives)\": 3\n",
        "}\n",
        "\n",
        "# Combine the metrics into a DataFrame for easy comparison\n",
        "metrics_comparison = pd.DataFrame([lstm_metrics, gan_lstm_metrics])\n",
        "\n",
        "# Display the comparison\n",
        "print(metrics_comparison)\n",
        "\n",
        "# Save to CSV for further analysis\n",
        "metrics_comparison.to_csv(\"model_metrics_comparison.csv\", index=False)\n"
      ]
    },
    {
      "cell_type": "code",
      "execution_count": null,
      "metadata": {
        "colab": {
          "base_uri": "https://localhost:8080/",
          "height": 808
        },
        "id": "lEBOQnsxtdR2",
        "outputId": "db42fa74-4703-4e71-9adb-2cb89acdf1c1"
      },
      "outputs": [
        {
          "data": {
            "image/png": "[encoded data removed]",
            "text/plain": [
              "<Figure size 1200x800 with 1 Axes>"
            ]
          },
          "metadata": {},
          "output_type": "display_data"
        }
      ],
      "source": [
        "import pandas as pd\n",
        "import matplotlib.pyplot as plt\n",
        "import seaborn as sns\n",
        "\n",
        "# Metrics for LSTM model\n",
        "lstm_metrics = {\n",
        "    \"Model\": \"LSTM\",\n",
        "    \"Accuracy\": 0.941783,\n",
        "    \"Precision\": 0.999203,\n",
        "    \"Recall\": 0.884282,\n",
        "    \"AUC\": 0.988916,\n",
        "    \"MCC\": 0.889470\n",
        "}\n",
        "\n",
        "# Metrics for GAN+LSTM model\n",
        "gan_lstm_metrics = {\n",
        "    \"Model\": \"GAN+LSTM\",\n",
        "    \"Accuracy\": 0.997739,\n",
        "    \"Precision\": 0.750000,\n",
        "    \"Recall\": 0.857143,\n",
        "    \"AUC\": 0.995465,\n",
        "    \"MCC\": 0.800669\n",
        "}\n",
        "\n",
        "# Combine the metrics into a DataFrame\n",
        "metrics_comparison = pd.DataFrame([lstm_metrics, gan_lstm_metrics])\n",
        "\n",
        "# Reshape the data for easier plotting\n",
        "melted_metrics = metrics_comparison.melt(id_vars=[\"Model\"], var_name=\"Metric\", value_name=\"Value\")\n",
        "\n",
        "# Plot main metrics with value labels\n",
        "plt.figure(figsize=(12, 8))\n",
        "ax = sns.barplot(data=melted_metrics, x=\"Metric\", y=\"Value\", hue=\"Model\", palette=\"viridis\")\n",
        "\n",
        "# Add value labels on each bar\n",
        "for p in ax.patches:\n",
        "    ax.annotate(f'{p.get_height():.6f}',  # Format values to 6 decimal places\n",
        "                (p.get_x() + p.get_width() / 2, p.get_height()),\n",
        "                ha='center', va='bottom', fontsize=10, fontweight='bold')\n",
        "\n",
        "plt.title(\"Comparison of Main Metrics\", fontsize=16)\n",
        "plt.xlabel(\"Evaluation Metrics\", fontsize=14)\n",
        "plt.ylabel(\"Values\", fontsize=14)\n",
        "plt.xticks(rotation=45, fontsize=12)\n",
        "plt.legend(title=\"Model\", fontsize=12)\n",
        "plt.tight_layout()\n",
        "\n",
        "# Show the plot\n",
        "plt.show()\n"
      ]
    },
    {
      "cell_type": "code",
      "execution_count": 21,
      "metadata": {
        "colab": {
          "base_uri": "https://localhost:8080/",
          "height": 210
        },
        "id": "alhqjt5nfkJL",
        "outputId": "29b566d6-3284-4d72-d6e4-9fecf9e5ebf9"
      },
      "outputs": [],
      "source": [
        "import numpy as np\n",
        "import pandas as pd\n",
        "\n",
        "# Save y_test and y_pred as CSV files\n",
        "np.savetxt(\"y_test_lstm_gan.csv\", y_test, delimiter=\",\")\n",
        "np.savetxt(\"y_pred_lstm_gan.csv\", y_pred, delimiter=\",\")\n"
      ]
    },
    {
      "cell_type": "code",
      "execution_count": 31,
      "metadata": {},
      "outputs": [
        {
          "data": {
            "image/png": "[encoded data removed]",
            "text/plain": [
              "<Figure size 640x480 with 1 Axes>"
            ]
          },
          "metadata": {},
          "output_type": "display_data"
        }
      ],
      "source": [
        "import matplotlib.pyplot as plt\n",
        "import numpy as np\n",
        "\n",
        "x = np.linspace(0, 10, 100)\n",
        "y = np.sin(x)\n",
        "\n",
        "plt.plot(x, y)\n",
        "plt.xlabel(\"X-axis\")\n",
        "plt.ylabel(\"Y-axis\")\n",
        "plt.title(\"Test Plot\")\n",
        "plt.show()\n"
      ]
    },
    {
      "cell_type": "code",
      "execution_count": 6,
      "metadata": {},
      "outputs": [
        {
          "data": {
            "image/png": "[encoded data removed]",
            "text/plain": [
              "<Figure size 800x600 with 1 Axes>"
            ]
          },
          "metadata": {},
          "output_type": "display_data"
        }
      ],
      "source": [
        "import numpy as np\n",
        "import pandas as pd\n",
        "import matplotlib.pyplot as plt\n",
        "from sklearn.metrics import roc_curve, auc\n",
        "\n",
        "# Load predictions and true labels\n",
        "y_test_lstm = np.loadtxt(\"y_test_lstm.csv\", delimiter=\",\")\n",
        "y_pred_lstm = np.loadtxt(\"y_pred_lstm.csv\", delimiter=\",\")\n",
        "y_test_lstm_gan = np.loadtxt(\"y_test_lstm_gan.csv\", delimiter=\",\")\n",
        "y_pred_lstm_gan = np.loadtxt(\"y_pred_lstm_gan.csv\", delimiter=\",\")\n",
        "\n",
        "# Compute ROC curve and AUC for LSTM model\n",
        "fpr_lstm, tpr_lstm, _ = roc_curve(y_test_lstm, y_pred_lstm)\n",
        "roc_auc_lstm = auc(fpr_lstm, tpr_lstm)\n",
        "\n",
        "# Compute ROC curve and AUC for LSTM + GAN model\n",
        "fpr_lstm_gan, tpr_lstm_gan, _ = roc_curve(y_test_lstm_gan, y_pred_lstm_gan)\n",
        "roc_auc_lstm_gan = auc(fpr_lstm_gan, tpr_lstm_gan)\n",
        "\n",
        "# Plot ROC curves\n",
        "plt.figure(figsize=(8, 6))\n",
        "plt.plot(fpr_lstm, tpr_lstm, color=\"blue\", lw=2, label=f\"LSTM + GAN (AUC = 0.995465)\")\n",
        "plt.plot(fpr_lstm_gan, tpr_lstm_gan, color=\"red\", lw=2, linestyle=\"--\", label=f\"LSTM (AUC = 0.988916)\")\n",
        "\n",
        "# Random classifier line\n",
        "plt.plot([0, 1], [0, 1], color=\"gray\", linestyle=\"--\")\n",
        "\n",
        "# Labels and title\n",
        "plt.xlabel(\"False Positive Rate\")\n",
        "plt.ylabel(\"True Positive Rate\")\n",
        "plt.title(\"ROC Curve Comparison: LSTM vs LSTM + GAN\")\n",
        "plt.legend(loc=\"lower right\")\n",
        "plt.show()\n"
      ]
    },
    {
      "cell_type": "code",
      "execution_count": null,
      "metadata": {},
      "outputs": [],
      "source": []
    },
    {
      "cell_type": "code",
      "execution_count": 4,
      "metadata": {},
      "outputs": [
        {
          "data": {
            "image/png": "[encoded data removed]",
            "text/plain": [
              "<Figure size 1200x500 with 4 Axes>"
            ]
          },
          "metadata": {},
          "output_type": "display_data"
        }
      ],
      "source": [
        "import numpy as np\n",
        "import matplotlib.pyplot as plt\n",
        "import seaborn as sns\n",
        "from sklearn.metrics import confusion_matrix\n",
        "\n",
        "# Load data from CSV files\n",
        "y_test_lstm = np.loadtxt(\"y_test_lstm.csv\", delimiter=\",\")\n",
        "y_pred_lstm = np.loadtxt(\"y_pred_lstm.csv\", delimiter=\",\")\n",
        "y_test_lstm_gan = np.loadtxt(\"y_test_lstm_gan.csv\", delimiter=\",\")\n",
        "y_pred_lstm_gan = np.loadtxt(\"y_pred_lstm_gan.csv\", delimiter=\",\")\n",
        "\n",
        "# Convert continuous predictions to class labels\n",
        "if len(y_pred_lstm.shape) > 1 and y_pred_lstm.shape[1] > 1:  # Multi-class case\n",
        "    y_pred_lstm = np.argmax(y_pred_lstm, axis=1)\n",
        "    y_pred_lstm_gan = np.argmax(y_pred_lstm_gan, axis=1)\n",
        "    y_test_lstm = np.argmax(y_test_lstm, axis=1)\n",
        "    y_test_lstm_gan = np.argmax(y_test_lstm_gan, axis=1)\n",
        "else:  # Binary classification\n",
        "    y_pred_lstm = np.round(y_pred_lstm)\n",
        "    y_pred_lstm_gan = np.round(y_pred_lstm_gan)\n",
        "    y_test_lstm = np.round(y_test_lstm)\n",
        "    y_test_lstm_gan = np.round(y_test_lstm_gan)\n",
        "\n",
        "# Compute confusion matrices\n",
        "cm_lstm = confusion_matrix(y_test_lstm, y_pred_lstm)\n",
        "cm_gan_lstm = confusion_matrix(y_test_lstm_gan, y_pred_lstm_gan)\n",
        "\n",
        "# Plot side-by-side confusion matrices\n",
        "fig, axes = plt.subplots(1, 2, figsize=(12, 5))\n",
        "\n",
        "# LSTM Model Confusion Matrix\n",
        "sns.heatmap(cm_lstm, annot=True, fmt=\"d\", cmap=\"Blues\", xticklabels=np.unique(y_test_lstm), yticklabels=np.unique(y_test_lstm), ax=axes[0])\n",
        "axes[0].set_title(\"LSTM Model Confusion Matrix\")\n",
        "axes[0].set_xlabel(\"Predicted\")\n",
        "axes[0].set_ylabel(\"Actual\")\n",
        "\n",
        "# GAN+LSTM Model Confusion Matrix\n",
        "sns.heatmap(cm_gan_lstm, annot=True, fmt=\"d\", cmap=\"Blues\", xticklabels=np.unique(y_test_lstm_gan), yticklabels=np.unique(y_test_lstm_gan), ax=axes[1])\n",
        "axes[1].set_title(\"GAN+LSTM Model Confusion Matrix\")\n",
        "axes[1].set_xlabel(\"Predicted\")\n",
        "axes[1].set_ylabel(\"Actual\")\n",
        "\n",
        "# Show plot\n",
        "plt.tight_layout()\n",
        "plt.show()\n"
      ]
    },
    {
      "cell_type": "code",
      "execution_count": 42,
      "metadata": {},
      "outputs": [
        {
          "name": "stderr",
          "output_type": "stream",
          "text": [
            "2025-04-10 15:09:19.745621: I tensorflow/core/common_runtime/executor.cc:1197] [/device:CPU:0] (DEBUG INFO) Executor start aborting (this does not indicate an error and you can ignore this message): INVALID_ARGUMENT: You must feed a value for placeholder tensor 'gradients/split_2_grad/concat/split_2/split_dim' with dtype int32\n",
            "\t [[{{node gradients/split_2_grad/concat/split_2/split_dim}}]]\n",
            "2025-04-10 15:09:19.748627: I tensorflow/core/common_runtime/executor.cc:1197] [/device:CPU:0] (DEBUG INFO) Executor start aborting (this does not indicate an error and you can ignore this message): INVALID_ARGUMENT: You must feed a value for placeholder tensor 'gradients/split_grad/concat/split/split_dim' with dtype int32\n",
            "\t [[{{node gradients/split_grad/concat/split/split_dim}}]]\n",
            "2025-04-10 15:09:19.751681: I tensorflow/core/common_runtime/executor.cc:1197] [/device:CPU:0] (DEBUG INFO) Executor start aborting (this does not indicate an error and you can ignore this message): INVALID_ARGUMENT: You must feed a value for placeholder tensor 'gradients/split_1_grad/concat/split_1/split_dim' with dtype int32\n",
            "\t [[{{node gradients/split_1_grad/concat/split_1/split_dim}}]]\n",
            "2025-04-10 15:09:20.565325: I tensorflow/core/common_runtime/executor.cc:1197] [/device:CPU:0] (DEBUG INFO) Executor start aborting (this does not indicate an error and you can ignore this message): INVALID_ARGUMENT: You must feed a value for placeholder tensor 'gradients/split_2_grad/concat/split_2/split_dim' with dtype int32\n",
            "\t [[{{node gradients/split_2_grad/concat/split_2/split_dim}}]]\n",
            "2025-04-10 15:09:20.577737: I tensorflow/core/common_runtime/executor.cc:1197] [/device:CPU:0] (DEBUG INFO) Executor start aborting (this does not indicate an error and you can ignore this message): INVALID_ARGUMENT: You must feed a value for placeholder tensor 'gradients/split_grad/concat/split/split_dim' with dtype int32\n",
            "\t [[{{node gradients/split_grad/concat/split/split_dim}}]]\n",
            "2025-04-10 15:09:20.584879: I tensorflow/core/common_runtime/executor.cc:1197] [/device:CPU:0] (DEBUG INFO) Executor start aborting (this does not indicate an error and you can ignore this message): INVALID_ARGUMENT: You must feed a value for placeholder tensor 'gradients/split_1_grad/concat/split_1/split_dim' with dtype int32\n",
            "\t [[{{node gradients/split_1_grad/concat/split_1/split_dim}}]]\n",
            "2025-04-10 15:09:21.227565: I tensorflow/core/common_runtime/executor.cc:1197] [/device:CPU:0] (DEBUG INFO) Executor start aborting (this does not indicate an error and you can ignore this message): INVALID_ARGUMENT: You must feed a value for placeholder tensor 'gradients/split_2_grad/concat/split_2/split_dim' with dtype int32\n",
            "\t [[{{node gradients/split_2_grad/concat/split_2/split_dim}}]]\n",
            "2025-04-10 15:09:21.231232: I tensorflow/core/common_runtime/executor.cc:1197] [/device:CPU:0] (DEBUG INFO) Executor start aborting (this does not indicate an error and you can ignore this message): INVALID_ARGUMENT: You must feed a value for placeholder tensor 'gradients/split_grad/concat/split/split_dim' with dtype int32\n",
            "\t [[{{node gradients/split_grad/concat/split/split_dim}}]]\n",
            "2025-04-10 15:09:21.233338: I tensorflow/core/common_runtime/executor.cc:1197] [/device:CPU:0] (DEBUG INFO) Executor start aborting (this does not indicate an error and you can ignore this message): INVALID_ARGUMENT: You must feed a value for placeholder tensor 'gradients/split_1_grad/concat/split_1/split_dim' with dtype int32\n",
            "\t [[{{node gradients/split_1_grad/concat/split_1/split_dim}}]]\n",
            "2025-04-10 15:09:21.791826: I tensorflow/core/common_runtime/executor.cc:1197] [/device:CPU:0] (DEBUG INFO) Executor start aborting (this does not indicate an error and you can ignore this message): INVALID_ARGUMENT: You must feed a value for placeholder tensor 'gradients/split_2_grad/concat/split_2/split_dim' with dtype int32\n",
            "\t [[{{node gradients/split_2_grad/concat/split_2/split_dim}}]]\n",
            "2025-04-10 15:09:21.794701: I tensorflow/core/common_runtime/executor.cc:1197] [/device:CPU:0] (DEBUG INFO) Executor start aborting (this does not indicate an error and you can ignore this message): INVALID_ARGUMENT: You must feed a value for placeholder tensor 'gradients/split_grad/concat/split/split_dim' with dtype int32\n",
            "\t [[{{node gradients/split_grad/concat/split/split_dim}}]]\n",
            "2025-04-10 15:09:21.797063: I tensorflow/core/common_runtime/executor.cc:1197] [/device:CPU:0] (DEBUG INFO) Executor start aborting (this does not indicate an error and you can ignore this message): INVALID_ARGUMENT: You must feed a value for placeholder tensor 'gradients/split_1_grad/concat/split_1/split_dim' with dtype int32\n",
            "\t [[{{node gradients/split_1_grad/concat/split_1/split_dim}}]]\n"
          ]
        },
        {
          "name": "stdout",
          "output_type": "stream",
          "text": [
            "1/1 [==============================] - 1s 1s/step\n",
            "Input Transaction:\n",
            " [[[0.9930263  0.98992699 0.76269124 0.80762648 0.2493928  0.77307101\n",
            "   0.27716592 0.26458401 0.78912931 0.47419338 0.51003331 0.33761971\n",
            "   0.74783376 0.45540673 0.66155064 0.33115594 0.42687095 0.73431425\n",
            "   0.55134946 0.53875444 0.57854055 0.55922827 0.496319   0.66936321\n",
            "   0.25737155 0.55873386 0.48303516 0.41574951 0.31158208 0.00189559]]]\n",
            "Actual Label: 0.0\n",
            "Predicted Output (Raw): [[4.8755064e-05]]\n",
            "Predicted Class: 0\n"
          ]
        }
      ],
      "source": [
        "from tensorflow.keras.models import load_model\n",
        "\n",
        "# Load model\n",
        "lstm_model = load_model(\"lstm_fraud_detection.h5\")\n",
        "\n",
        "# Test a specific transaction\n",
        "sample_index = 1\n",
        "sample_transaction = X_test[sample_index].reshape(1, 1, X_test.shape[2])\n",
        "sample_label = y_test.iloc[sample_index]\n",
        "\n",
        "prediction = lstm_model.predict(sample_transaction)\n",
        "\n",
        "print(\"Input Transaction:\\n\", sample_transaction)\n",
        "print(\"Actual Label:\", sample_label)\n",
        "print(\"Predicted Output (Raw):\", prediction)\n",
        "print(\"Predicted Class:\", int(prediction[0][0] > 0.5))  # Threshold at 0.5\n"
      ]
    },
    {
      "cell_type": "code",
      "execution_count": 36,
      "metadata": {},
      "outputs": [
        {
          "name": "stdout",
          "output_type": "stream",
          "text": [
            "Total fraud cases in test set: 98\n",
            "Fraud case indices: [202284, 124593, 91810, 57695, 22261, 31968, 64026, 192034, 172491, 200386]\n"
          ]
        }
      ],
      "source": [
        "# Get indices of fraud transactions in the test set\n",
        "fraud_indices = y_test[y_test == 1].index.tolist()\n",
        "\n",
        "print(f\"Total fraud cases in test set: {len(fraud_indices)}\")\n",
        "print(\"Fraud case indices:\", fraud_indices[:10])  # print first 10 for quick look\n"
      ]
    }
  ],
  "metadata": {
    "colab": {
      "provenance": []
    },
    "kernelspec": {
      "display_name": "Python 3",
      "name": "python3"
    },
    "language_info": {
      "codemirror_mode": {
        "name": "ipython",
        "version": 3
      },
      "file_extension": ".py",
      "mimetype": "text/x-python",
      "name": "python",
      "nbconvert_exporter": "python",
      "pygments_lexer": "ipython3",
      "version": "3.9.6"
    }
  },
  "nbformat": 4,
  "nbformat_minor": 0
}
